{
 "cells": [
  {
   "cell_type": "markdown",
   "metadata": {},
   "source": [
    "# 2. Edges\n",
    "#### By Kwan Yin Andrew Chau"
   ]
  },
  {
   "cell_type": "code",
   "execution_count": 1,
   "metadata": {},
   "outputs": [],
   "source": [
    "import nbfinder\n",
    "from loader import g\n",
    "from loader import sydneyVertexId"
   ]
  },
  {
   "cell_type": "markdown",
   "metadata": {},
   "source": [
    "__Count of edges with the label \"route\"__"
   ]
  },
  {
   "cell_type": "code",
   "execution_count": 2,
   "metadata": {},
   "outputs": [
    {
     "data": {
      "text/plain": [
       "43400"
      ]
     },
     "execution_count": 2,
     "metadata": {},
     "output_type": "execute_result"
    }
   ],
   "source": [
    "g.E().hasLabel('route').count().next()"
   ]
  },
  {
   "cell_type": "markdown",
   "metadata": {},
   "source": [
    "__Count of edges that is coming out of vertices with the label \"airport\"__"
   ]
  },
  {
   "cell_type": "code",
   "execution_count": 3,
   "metadata": {},
   "outputs": [
    {
     "data": {
      "text/plain": [
       "43400"
      ]
     },
     "execution_count": 3,
     "metadata": {},
     "output_type": "execute_result"
    }
   ],
   "source": [
    "g.V().hasLabel('airport').outE().count().next()"
   ]
  },
  {
   "cell_type": "markdown",
   "metadata": {},
   "source": [
    "## outE(), inV(), out()\n",
    "\n",
    "__Count of edges with the label \"route\" that is coming out of a vertex__"
   ]
  },
  {
   "cell_type": "code",
   "execution_count": 4,
   "metadata": {},
   "outputs": [
    {
     "data": {
      "text/plain": [
       "43400"
      ]
     },
     "execution_count": 4,
     "metadata": {},
     "output_type": "execute_result"
    }
   ],
   "source": [
    "g.V().outE('route').valueMap().count().next()"
   ]
  },
  {
   "cell_type": "markdown",
   "metadata": {},
   "source": [
    "__Get destinations where there is a route from Sydney__"
   ]
  },
  {
   "cell_type": "code",
   "execution_count": 5,
   "metadata": {
    "scrolled": true
   },
   "outputs": [
    {
     "name": "stdout",
     "output_type": "stream",
     "text": [
      "San Francisco International Airport\n",
      "Honolulu International Airport\n"
     ]
    }
   ],
   "source": [
    "r = g.V(sydneyVertexId).outE('route').inV().values('desc')\n",
    "x1 = g.V(sydneyVertexId).outE('route').inV().count().next()\n",
    "for d in range(2):\n",
    "    print(r.next())"
   ]
  },
  {
   "cell_type": "markdown",
   "metadata": {},
   "source": [
    "__\"out()\" is the same as calling \"outE()\" and then \"inV()\"__"
   ]
  },
  {
   "cell_type": "code",
   "execution_count": 6,
   "metadata": {},
   "outputs": [],
   "source": [
    "x2 = g.V(sydneyVertexId).out('route').count().next()\n",
    "assert x1 == x2"
   ]
  },
  {
   "cell_type": "markdown",
   "metadata": {},
   "source": [
    "__Get routes from airports that have the region \"AU-NSW\"__"
   ]
  },
  {
   "cell_type": "code",
   "execution_count": 7,
   "metadata": {},
   "outputs": [
    {
     "data": {
      "text/plain": [
       "[e[{'@type': 'janusgraph:RelationIdentifier', '@value': {'value': '7h6vl-p0ug-dg5-cr4', '@class': 'java.util.HashMap'}}][1167496-route->16528],\n",
       " e[{'@type': 'janusgraph:RelationIdentifier', '@value': {'value': '7h6hd-p0ug-dg5-20so', '@class': 'java.util.HashMap'}}][1167496-route->94344],\n",
       " e[{'@type': 'janusgraph:RelationIdentifier', '@value': {'value': '2erdn-8lw8-dg5-cr4', '@class': 'java.util.HashMap'}}][401624-route->16528],\n",
       " e[{'@type': 'janusgraph:RelationIdentifier', '@value': {'value': '2eqzf-8lw8-dg5-20so', '@class': 'java.util.HashMap'}}][401624-route->94344],\n",
       " e[{'@type': 'janusgraph:RelationIdentifier', '@value': {'value': '2errv-8lw8-dg5-8fi8', '@class': 'java.util.HashMap'}}][401624-route->393344],\n",
       " e[{'@type': 'janusgraph:RelationIdentifier', '@value': {'value': '2es63-8lw8-dg5-voy0', '@class': 'java.util.HashMap'}}][401624-route->1478664],\n",
       " e[{'@type': 'janusgraph:RelationIdentifier', '@value': {'value': '281le-9kls-dg5-20so', '@class': 'java.util.HashMap'}}][446608-route->94344],\n",
       " e[{'@type': 'janusgraph:RelationIdentifier', '@value': {'value': '28qhc-8io0-dg5-fu8', '@class': 'java.util.HashMap'}}][397440-route->20528],\n",
       " e[{'@type': 'janusgraph:RelationIdentifier', '@value': {'value': '28qvk-8io0-dg5-1894', '@class': 'java.util.HashMap'}}][397440-route->57352],\n",
       " e[{'@type': 'janusgraph:RelationIdentifier', '@value': {'value': '28q34-8io0-dg5-20so', '@class': 'java.util.HashMap'}}][397440-route->94344],\n",
       " e[{'@type': 'janusgraph:RelationIdentifier', '@value': {'value': '2gjd0-85y8-dg5-20so', '@class': 'java.util.HashMap'}}][380960-route->94344],\n",
       " e[{'@type': 'janusgraph:RelationIdentifier', '@value': {'value': '2gjr8-85y8-dg5-a9tk', '@class': 'java.util.HashMap'}}][380960-route->479288],\n",
       " e[{'@type': 'janusgraph:RelationIdentifier', '@value': {'value': '7h1qp-oo7c-dg5-cr4', '@class': 'java.util.HashMap'}}][1151112-route->16528],\n",
       " e[{'@type': 'janusgraph:RelationIdentifier', '@value': {'value': '7h1ch-oo7c-dg5-fu8', '@class': 'java.util.HashMap'}}][1151112-route->20528],\n",
       " e[{'@type': 'janusgraph:RelationIdentifier', '@value': {'value': '7h0y9-oo7c-dg5-20so', '@class': 'java.util.HashMap'}}][1151112-route->94344],\n",
       " e[{'@type': 'janusgraph:RelationIdentifier', '@value': {'value': '28r9s-8lts-dg5-20so', '@class': 'java.util.HashMap'}}][401536-route->94344],\n",
       " e[{'@type': 'janusgraph:RelationIdentifier', '@value': {'value': '28ro0-8lts-dg5-s3d4', '@class': 'java.util.HashMap'}}][401536-route->1310728],\n",
       " e[{'@type': 'janusgraph:RelationIdentifier', '@value': {'value': '32qkn-a9tk-dg5-fu8', '@class': 'java.util.HashMap'}}][479288-route->20528],\n",
       " e[{'@type': 'janusgraph:RelationIdentifier', '@value': {'value': '32q6f-a9tk-dg5-20so', '@class': 'java.util.HashMap'}}][479288-route->94344],\n",
       " e[{'@type': 'janusgraph:RelationIdentifier', '@value': {'value': '32qyv-a9tk-dg5-85y8', '@class': 'java.util.HashMap'}}][479288-route->380960],\n",
       " e[{'@type': 'janusgraph:RelationIdentifier', '@value': {'value': '2r286-9u0g-dg5-20so', '@class': 'java.util.HashMap'}}][458800-route->94344],\n",
       " e[{'@type': 'janusgraph:RelationIdentifier', '@value': {'value': '2r2me-9u0g-dg5-8ccg', '@class': 'java.util.HashMap'}}][458800-route->389248],\n",
       " e[{'@type': 'janusgraph:RelationIdentifier', '@value': {'value': '32s5j-aczc-dg5-cr4', '@class': 'java.util.HashMap'}}][483384-route->16528],\n",
       " e[{'@type': 'janusgraph:RelationIdentifier', '@value': {'value': '32rrb-aczc-dg5-fu8', '@class': 'java.util.HashMap'}}][483384-route->20528],\n",
       " e[{'@type': 'janusgraph:RelationIdentifier', '@value': {'value': '32rd3-aczc-dg5-20so', '@class': 'java.util.HashMap'}}][483384-route->94344],\n",
       " e[{'@type': 'janusgraph:RelationIdentifier', '@value': {'value': '32sjr-aczc-dg5-9nrk', '@class': 'java.util.HashMap'}}][483384-route->450704],\n",
       " e[{'@type': 'janusgraph:RelationIdentifier', '@value': {'value': '2gk5g-8940-dg5-20so', '@class': 'java.util.HashMap'}}][385056-route->94344],\n",
       " e[{'@type': 'janusgraph:RelationIdentifier', '@value': {'value': '2gkjo-8940-dg5-8fko', '@class': 'java.util.HashMap'}}][385056-route->393432],\n",
       " e[{'@type': 'janusgraph:RelationIdentifier', '@value': {'value': '2epej-8fko-dg5-20so', '@class': 'java.util.HashMap'}}][393432-route->94344],\n",
       " e[{'@type': 'janusgraph:RelationIdentifier', '@value': {'value': '2epsr-8fko-dg5-8940', '@class': 'java.util.HashMap'}}][393432-route->385056],\n",
       " e[{'@type': 'janusgraph:RelationIdentifier', '@value': {'value': '56pzl-20so-dg5-39s', '@class': 'java.util.HashMap'}}][94344-route->4240],\n",
       " e[{'@type': 'janusgraph:RelationIdentifier', '@value': {'value': '56qdt-20so-dg5-9lc', '@class': 'java.util.HashMap'}}][94344-route->12432],\n",
       " e[{'@type': 'janusgraph:RelationIdentifier', '@value': {'value': '56pld-20so-dg5-9nc', '@class': 'java.util.HashMap'}}][94344-route->12504],\n",
       " e[{'@type': 'janusgraph:RelationIdentifier', '@value': {'value': '56p75-20so-dg5-cqw', '@class': 'java.util.HashMap'}}][94344-route->16520],\n",
       " e[{'@type': 'janusgraph:RelationIdentifier', '@value': {'value': '56v4h-20so-dg5-cr4', '@class': 'java.util.HashMap'}}][94344-route->16528],\n",
       " e[{'@type': 'janusgraph:RelationIdentifier', '@value': {'value': '56uc1-20so-dg5-fts', '@class': 'java.util.HashMap'}}][94344-route->20512],\n",
       " e[{'@type': 'janusgraph:RelationIdentifier', '@value': {'value': '56ryp-20so-dg5-fu8', '@class': 'java.util.HashMap'}}][94344-route->20528],\n",
       " e[{'@type': 'janusgraph:RelationIdentifier', '@value': {'value': '56ya9-20so-dg5-iyw', '@class': 'java.util.HashMap'}}][94344-route->24584],\n",
       " e[{'@type': 'janusgraph:RelationIdentifier', '@value': {'value': '56t5d-20so-dg5-j00', '@class': 'java.util.HashMap'}}][94344-route->24624],\n",
       " e[{'@type': 'janusgraph:RelationIdentifier', '@value': {'value': '56txt-20so-dg5-j4o', '@class': 'java.util.HashMap'}}][94344-route->24792],\n",
       " e[{'@type': 'janusgraph:RelationIdentifier', '@value': {'value': '56xht-20so-dg5-m80', '@class': 'java.util.HashMap'}}][94344-route->28800],\n",
       " e[{'@type': 'janusgraph:RelationIdentifier', '@value': {'value': '56vip-20so-dg5-mag', '@class': 'java.util.HashMap'}}][94344-route->28888],\n",
       " e[{'@type': 'janusgraph:RelationIdentifier', '@value': {'value': '56vwx-20so-dg5-pg8', '@class': 'java.util.HashMap'}}][94344-route->32984],\n",
       " e[{'@type': 'janusgraph:RelationIdentifier', '@value': {'value': '56r69-20so-dg5-shk', '@class': 'java.util.HashMap'}}][94344-route->36920],\n",
       " e[{'@type': 'janusgraph:RelationIdentifier', '@value': {'value': '5709d-20so-dg5-sjk', '@class': 'java.util.HashMap'}}][94344-route->36992],\n",
       " e[{'@type': 'janusgraph:RelationIdentifier', '@value': {'value': '56wb5-20so-dg5-sm0', '@class': 'java.util.HashMap'}}][94344-route->37080],\n",
       " e[{'@type': 'janusgraph:RelationIdentifier', '@value': {'value': '571u9-20so-dg5-vpc', '@class': 'java.util.HashMap'}}][94344-route->41088],\n",
       " e[{'@type': 'janusgraph:RelationIdentifier', '@value': {'value': '573f5-20so-dg5-121c', '@class': 'java.util.HashMap'}}][94344-route->49296],\n",
       " e[{'@type': 'janusgraph:RelationIdentifier', '@value': {'value': '56zgx-20so-dg5-123c', '@class': 'java.util.HashMap'}}][94344-route->49368],\n",
       " e[{'@type': 'janusgraph:RelationIdentifier', '@value': {'value': '573td-20so-dg5-1574', '@class': 'java.util.HashMap'}}][94344-route->53392],\n",
       " e[{'@type': 'janusgraph:RelationIdentifier', '@value': {'value': '570nl-20so-dg5-1894', '@class': 'java.util.HashMap'}}][94344-route->57352],\n",
       " e[{'@type': 'janusgraph:RelationIdentifier', '@value': {'value': '56wpd-20so-dg5-1bg8', '@class': 'java.util.HashMap'}}][94344-route->61496],\n",
       " e[{'@type': 'janusgraph:RelationIdentifier', '@value': {'value': '56yoh-20so-dg5-1kxc', '@class': 'java.util.HashMap'}}][94344-route->73776],\n",
       " e[{'@type': 'janusgraph:RelationIdentifier', '@value': {'value': '56z2p-20so-dg5-1o34', '@class': 'java.util.HashMap'}}][94344-route->77872],\n",
       " e[{'@type': 'janusgraph:RelationIdentifier', '@value': {'value': '56xw1-20so-dg5-1o3c', '@class': 'java.util.HashMap'}}][94344-route->77880],\n",
       " e[{'@type': 'janusgraph:RelationIdentifier', '@value': {'value': '5747l-20so-dg5-1o7s', '@class': 'java.util.HashMap'}}][94344-route->78040],\n",
       " e[{'@type': 'janusgraph:RelationIdentifier', '@value': {'value': '575sh-20so-dg5-1rbk', '@class': 'java.util.HashMap'}}][94344-route->82064],\n",
       " e[{'@type': 'janusgraph:RelationIdentifier', '@value': {'value': '574lt-20so-dg5-1ujc', '@class': 'java.util.HashMap'}}][94344-route->86232],\n",
       " e[{'@type': 'janusgraph:RelationIdentifier', '@value': {'value': '5711t-20so-dg5-1xkg', '@class': 'java.util.HashMap'}}][94344-route->90160],\n",
       " e[{'@type': 'janusgraph:RelationIdentifier', '@value': {'value': '56qs1-20so-dg5-1xmw', '@class': 'java.util.HashMap'}}][94344-route->90248],\n",
       " e[{'@type': 'janusgraph:RelationIdentifier', '@value': {'value': '571g1-20so-dg5-23w0', '@class': 'java.util.HashMap'}}][94344-route->98352],\n",
       " e[{'@type': 'janusgraph:RelationIdentifier', '@value': {'value': '56rkh-20so-dg5-23yg', '@class': 'java.util.HashMap'}}][94344-route->98440],\n",
       " e[{'@type': 'janusgraph:RelationIdentifier', '@value': {'value': '56scx-20so-dg5-2748', '@class': 'java.util.HashMap'}}][94344-route->102536],\n",
       " e[{'@type': 'janusgraph:RelationIdentifier', '@value': {'value': '56sr5-20so-dg5-2aa0', '@class': 'java.util.HashMap'}}][94344-route->106632],\n",
       " e[{'@type': 'janusgraph:RelationIdentifier', '@value': {'value': '56tjl-20so-dg5-2dfs', '@class': 'java.util.HashMap'}}][94344-route->110728],\n",
       " e[{'@type': 'janusgraph:RelationIdentifier', '@value': {'value': '56uq9-20so-dg5-2glk', '@class': 'java.util.HashMap'}}][94344-route->114824],\n",
       " e[{'@type': 'janusgraph:RelationIdentifier', '@value': {'value': '5728h-20so-dg5-2t6g', '@class': 'java.util.HashMap'}}][94344-route->131128],\n",
       " e[{'@type': 'janusgraph:RelationIdentifier', '@value': {'value': '5730x-20so-dg5-2zhs', '@class': 'java.util.HashMap'}}][94344-route->139312],\n",
       " e[{'@type': 'janusgraph:RelationIdentifier', '@value': {'value': '56x3l-20so-dg5-32q0', '@class': 'java.util.HashMap'}}][94344-route->143496],\n",
       " e[{'@type': 'janusgraph:RelationIdentifier', '@value': {'value': '576kx-20so-dg5-3c9k', '@class': 'java.util.HashMap'}}][94344-route->155864],\n",
       " e[{'@type': 'janusgraph:RelationIdentifier', '@value': {'value': '57501-20so-dg5-3ry0', '@class': 'java.util.HashMap'}}][94344-route->176184],\n",
       " e[{'@type': 'janusgraph:RelationIdentifier', '@value': {'value': '576z5-20so-dg5-3s0g', '@class': 'java.util.HashMap'}}][94344-route->176272],\n",
       " e[{'@type': 'janusgraph:RelationIdentifier', '@value': {'value': '575e9-20so-dg5-3y9k', '@class': 'java.util.HashMap'}}][94344-route->184376],\n",
       " e[{'@type': 'janusgraph:RelationIdentifier', '@value': {'value': '5766p-20so-dg5-41f4', '@class': 'java.util.HashMap'}}][94344-route->188464],\n",
       " e[{'@type': 'janusgraph:RelationIdentifier', '@value': {'value': '56zv5-20so-dg5-4txk', '@class': 'java.util.HashMap'}}][94344-route->225416],\n",
       " e[{'@type': 'janusgraph:RelationIdentifier', '@value': {'value': '572mp-20so-dg5-65c8', '@class': 'java.util.HashMap'}}][94344-route->286856],\n",
       " e[{'@type': 'janusgraph:RelationIdentifier', '@value': {'value': '5785t-20so-dg5-70vs', '@class': 'java.util.HashMap'}}][94344-route->327736],\n",
       " e[{'@type': 'janusgraph:RelationIdentifier', '@value': {'value': '579qp-20so-dg5-7acg', '@class': 'java.util.HashMap'}}][94344-route->340000],\n",
       " e[{'@type': 'janusgraph:RelationIdentifier', '@value': {'value': '57a4x-20so-dg5-7ahk', '@class': 'java.util.HashMap'}}][94344-route->340184],\n",
       " e[{'@type': 'janusgraph:RelationIdentifier', '@value': {'value': '579ch-20so-dg5-7tbk', '@class': 'java.util.HashMap'}}][94344-route->364592],\n",
       " e[{'@type': 'janusgraph:RelationIdentifier', '@value': {'value': '57f9t-20so-dg5-7wgw', '@class': 'java.util.HashMap'}}][94344-route->368672],\n",
       " e[{'@type': 'janusgraph:RelationIdentifier', '@value': {'value': '57ggh-20so-dg5-7zmo', '@class': 'java.util.HashMap'}}][94344-route->372768],\n",
       " e[{'@type': 'janusgraph:RelationIdentifier', '@value': {'value': '57axd-20so-dg5-7zrs', '@class': 'java.util.HashMap'}}][94344-route->372952],\n",
       " e[{'@type': 'janusgraph:RelationIdentifier', '@value': {'value': '57fo1-20so-dg5-82rs', '@class': 'java.util.HashMap'}}][94344-route->376840],\n",
       " e[{'@type': 'janusgraph:RelationIdentifier', '@value': {'value': '57hn5-20so-dg5-82sg', '@class': 'java.util.HashMap'}}][94344-route->376864],\n",
       " e[{'@type': 'janusgraph:RelationIdentifier', '@value': {'value': '57bbl-20so-dg5-82xk', '@class': 'java.util.HashMap'}}][94344-route->377048],\n",
       " e[{'@type': 'janusgraph:RelationIdentifier', '@value': {'value': '57lld-20so-dg5-85xk', '@class': 'java.util.HashMap'}}][94344-route->380936],\n",
       " e[{'@type': 'janusgraph:RelationIdentifier', '@value': {'value': '57kep-20so-dg5-85y8', '@class': 'java.util.HashMap'}}][94344-route->380960],\n",
       " e[{'@type': 'janusgraph:RelationIdentifier', '@value': {'value': '57ci9-20so-dg5-863c', '@class': 'java.util.HashMap'}}][94344-route->381144],\n",
       " e[{'@type': 'janusgraph:RelationIdentifier', '@value': {'value': '57ksx-20so-dg5-8940', '@class': 'java.util.HashMap'}}][94344-route->385056],\n",
       " e[{'@type': 'janusgraph:RelationIdentifier', '@value': {'value': '57bpt-20so-dg5-896o', '@class': 'java.util.HashMap'}}][94344-route->385152],\n",
       " e[{'@type': 'janusgraph:RelationIdentifier', '@value': {'value': '57dap-20so-dg5-8994', '@class': 'java.util.HashMap'}}][94344-route->385240],\n",
       " e[{'@type': 'janusgraph:RelationIdentifier', '@value': {'value': '57l75-20so-dg5-8c9s', '@class': 'java.util.HashMap'}}][94344-route->389152],\n",
       " e[{'@type': 'janusgraph:RelationIdentifier', '@value': {'value': '57evl-20so-dg5-8ccg', '@class': 'java.util.HashMap'}}][94344-route->389248],\n",
       " e[{'@type': 'janusgraph:RelationIdentifier', '@value': {'value': '57ehd-20so-dg5-8cew', '@class': 'java.util.HashMap'}}][94344-route->389336],\n",
       " e[{'@type': 'janusgraph:RelationIdentifier', '@value': {'value': '57gup-20so-dg5-8fi8', '@class': 'java.util.HashMap'}}][94344-route->393344],\n",
       " e[{'@type': 'janusgraph:RelationIdentifier', '@value': {'value': '57g29-20so-dg5-8fko', '@class': 'java.util.HashMap'}}][94344-route->393432],\n",
       " e[{'@type': 'janusgraph:RelationIdentifier', '@value': {'value': '57ocx-20so-dg5-8io0', '@class': 'java.util.HashMap'}}][94344-route->397440],\n",
       " e[{'@type': 'janusgraph:RelationIdentifier', '@value': {'value': '57k0h-20so-dg5-8iqg', '@class': 'java.util.HashMap'}}][94344-route->397528],\n",
       " e[{'@type': 'janusgraph:RelationIdentifier', '@value': {'value': '57or5-20so-dg5-8lts', '@class': 'java.util.HashMap'}}][94344-route->401536],\n",
       " e[{'@type': 'janusgraph:RelationIdentifier', '@value': {'value': '57mdt-20so-dg5-8lw8', '@class': 'java.util.HashMap'}}][94344-route->401624],\n",
       " e[{'@type': 'janusgraph:RelationIdentifier', '@value': {'value': '57aj5-20so-dg5-9hg0', '@class': 'java.util.HashMap'}}][94344-route->442512],\n",
       " e[{'@type': 'janusgraph:RelationIdentifier', '@value': {'value': '57h8x-20so-dg5-9kls', '@class': 'java.util.HashMap'}}][94344-route->446608],\n",
       " e[{'@type': 'janusgraph:RelationIdentifier', '@value': {'value': '57j81-20so-dg5-9now', '@class': 'java.util.HashMap'}}][94344-route->450608],\n",
       " e[{'@type': 'janusgraph:RelationIdentifier', '@value': {'value': '57p5d-20so-dg5-9nrk', '@class': 'java.util.HashMap'}}][94344-route->450704],\n",
       " e[{'@type': 'janusgraph:RelationIdentifier', '@value': {'value': '57jm9-20so-dg5-9quo', '@class': 'java.util.HashMap'}}][94344-route->454704],\n",
       " e[{'@type': 'janusgraph:RelationIdentifier', '@value': {'value': '57lzl-20so-dg5-9u0g', '@class': 'java.util.HashMap'}}][94344-route->458800],\n",
       " e[{'@type': 'janusgraph:RelationIdentifier', '@value': {'value': '57e35-20so-dg5-a6ns', '@class': 'java.util.HashMap'}}][94344-route->475192],\n",
       " e[{'@type': 'janusgraph:RelationIdentifier', '@value': {'value': '57ifl-20so-dg5-a9tk', '@class': 'java.util.HashMap'}}][94344-route->479288],\n",
       " e[{'@type': 'janusgraph:RelationIdentifier', '@value': {'value': '57ms1-20so-dg5-aczc', '@class': 'java.util.HashMap'}}][94344-route->483384],\n",
       " e[{'@type': 'janusgraph:RelationIdentifier', '@value': {'value': '577dd-20so-dg5-eb9k', '@class': 'java.util.HashMap'}}][94344-route->667784],\n",
       " e[{'@type': 'janusgraph:RelationIdentifier', '@value': {'value': '577rl-20so-dg5-h4eg', '@class': 'java.util.HashMap'}}][94344-route->798856],\n",
       " e[{'@type': 'janusgraph:RelationIdentifier', '@value': {'value': '578k1-20so-dg5-h7k8', '@class': 'java.util.HashMap'}}][94344-route->802952],\n",
       " e[{'@type': 'janusgraph:RelationIdentifier', '@value': {'value': '578y9-20so-dg5-hdvs', '@class': 'java.util.HashMap'}}][94344-route->811144],\n",
       " e[{'@type': 'janusgraph:RelationIdentifier', '@value': {'value': '57c41-20so-dg5-oeq0', '@class': 'java.util.HashMap'}}][94344-route->1138824],\n",
       " e[{'@type': 'janusgraph:RelationIdentifier', '@value': {'value': '57cwh-20so-dg5-ohvs', '@class': 'java.util.HashMap'}}][94344-route->1142920],\n",
       " e[{'@type': 'janusgraph:RelationIdentifier', '@value': {'value': '57dox-20so-dg5-ol1k', '@class': 'java.util.HashMap'}}][94344-route->1147016],\n",
       " e[{'@type': 'janusgraph:RelationIdentifier', '@value': {'value': '57i1d-20so-dg5-oo7c', '@class': 'java.util.HashMap'}}][94344-route->1151112],\n",
       " e[{'@type': 'janusgraph:RelationIdentifier', '@value': {'value': '57itt-20so-dg5-ord4', '@class': 'java.util.HashMap'}}][94344-route->1155208],\n",
       " e[{'@type': 'janusgraph:RelationIdentifier', '@value': {'value': '57n69-20so-dg5-ouiw', '@class': 'java.util.HashMap'}}][94344-route->1159304],\n",
       " e[{'@type': 'janusgraph:RelationIdentifier', '@value': {'value': '57nkh-20so-dg5-oxoo', '@class': 'java.util.HashMap'}}][94344-route->1163400],\n",
       " e[{'@type': 'janusgraph:RelationIdentifier', '@value': {'value': '57nyp-20so-dg5-p0ug', '@class': 'java.util.HashMap'}}][94344-route->1167496],\n",
       " e[{'@type': 'janusgraph:RelationIdentifier', '@value': {'value': '57pxt-20so-dg5-trg0', '@class': 'java.util.HashMap'}}][94344-route->1388592],\n",
       " e[{'@type': 'janusgraph:RelationIdentifier', '@value': {'value': '57pjl-20so-dg5-v5zc', '@class': 'java.util.HashMap'}}][94344-route->1454088],\n",
       " e[{'@type': 'janusgraph:RelationIdentifier', '@value': {'value': '2rl6p-v5zc-dg5-cr4', '@class': 'java.util.HashMap'}}][1454088-route->16528],\n",
       " e[{'@type': 'janusgraph:RelationIdentifier', '@value': {'value': '2rksh-v5zc-dg5-20so', '@class': 'java.util.HashMap'}}][1454088-route->94344],\n",
       " e[{'@type': 'janusgraph:RelationIdentifier', '@value': {'value': '2rlkx-v5zc-dg5-8iqg', '@class': 'java.util.HashMap'}}][1454088-route->397528],\n",
       " e[{'@type': 'janusgraph:RelationIdentifier', '@value': {'value': '28pao-8fi8-dg5-cr4', '@class': 'java.util.HashMap'}}][393344-route->16528],\n",
       " e[{'@type': 'janusgraph:RelationIdentifier', '@value': {'value': '28owg-8fi8-dg5-20so', '@class': 'java.util.HashMap'}}][393344-route->94344],\n",
       " e[{'@type': 'janusgraph:RelationIdentifier', '@value': {'value': '28pow-8fi8-dg5-8lw8', '@class': 'java.util.HashMap'}}][393344-route->401624],\n",
       " e[{'@type': 'janusgraph:RelationIdentifier', '@value': {'value': '28o40-8ccg-dg5-20so', '@class': 'java.util.HashMap'}}][389248-route->94344],\n",
       " e[{'@type': 'janusgraph:RelationIdentifier', '@value': {'value': '28oi8-8ccg-dg5-9u0g', '@class': 'java.util.HashMap'}}][389248-route->458800],\n",
       " e[{'@type': 'janusgraph:RelationIdentifier', '@value': {'value': '2glc4-8c9s-dg5-cr4', '@class': 'java.util.HashMap'}}][389152-route->16528],\n",
       " e[{'@type': 'janusgraph:RelationIdentifier', '@value': {'value': '2gkxw-8c9s-dg5-20so', '@class': 'java.util.HashMap'}}][389152-route->94344],\n",
       " e[{'@type': 'janusgraph:RelationIdentifier', '@value': {'value': '1wvsx-1894-dg5-fu8', '@class': 'java.util.HashMap'}}][57352-route->20528],\n",
       " e[{'@type': 'janusgraph:RelationIdentifier', '@value': {'value': '1ww75-1894-dg5-j4o', '@class': 'java.util.HashMap'}}][57352-route->24792],\n",
       " e[{'@type': 'janusgraph:RelationIdentifier', '@value': {'value': '1wwld-1894-dg5-pg8', '@class': 'java.util.HashMap'}}][57352-route->32984],\n",
       " e[{'@type': 'janusgraph:RelationIdentifier', '@value': {'value': '1wum9-1894-dg5-shk', '@class': 'java.util.HashMap'}}][57352-route->36920],\n",
       " e[{'@type': 'janusgraph:RelationIdentifier', '@value': {'value': '1wwzl-1894-dg5-sm0', '@class': 'java.util.HashMap'}}][57352-route->37080],\n",
       " e[{'@type': 'janusgraph:RelationIdentifier', '@value': {'value': '1wxdt-1894-dg5-1bg8', '@class': 'java.util.HashMap'}}][57352-route->61496],\n",
       " e[{'@type': 'janusgraph:RelationIdentifier', '@value': {'value': '1wxs1-1894-dg5-1xkg', '@class': 'java.util.HashMap'}}][57352-route->90160],\n",
       " e[{'@type': 'janusgraph:RelationIdentifier', '@value': {'value': '1wv0h-1894-dg5-20so', '@class': 'java.util.HashMap'}}][57352-route->94344],\n",
       " e[{'@type': 'janusgraph:RelationIdentifier', '@value': {'value': '1wvep-1894-dg5-23yg', '@class': 'java.util.HashMap'}}][57352-route->98440],\n",
       " e[{'@type': 'janusgraph:RelationIdentifier', '@value': {'value': '1wykh-1894-dg5-2zhs', '@class': 'java.util.HashMap'}}][57352-route->139312],\n",
       " e[{'@type': 'janusgraph:RelationIdentifier', '@value': {'value': '1wy69-1894-dg5-6l54', '@class': 'java.util.HashMap'}}][57352-route->307336],\n",
       " e[{'@type': 'janusgraph:RelationIdentifier', '@value': {'value': '1wyyp-1894-dg5-70vs', '@class': 'java.util.HashMap'}}][57352-route->327736],\n",
       " e[{'@type': 'janusgraph:RelationIdentifier', '@value': {'value': '1wzcx-1894-dg5-8io0', '@class': 'java.util.HashMap'}}][57352-route->397440],\n",
       " e[{'@type': 'janusgraph:RelationIdentifier', '@value': {'value': '1wzr5-1894-dg5-9nrk', '@class': 'java.util.HashMap'}}][57352-route->450704],\n",
       " e[{'@type': 'janusgraph:RelationIdentifier', '@value': {'value': '1x05d-1894-dg5-ck1s', '@class': 'java.util.HashMap'}}][57352-route->585856],\n",
       " e[{'@type': 'janusgraph:RelationIdentifier', '@value': {'value': '2qqrl-s3d4-dg5-8lts', '@class': 'java.util.HashMap'}}][1310728-route->401536],\n",
       " e[{'@type': 'janusgraph:RelationIdentifier', '@value': {'value': '7h05t-ol1k-dg5-fu8', '@class': 'java.util.HashMap'}}][1147016-route->20528],\n",
       " e[{'@type': 'janusgraph:RelationIdentifier', '@value': {'value': '7gzrl-ol1k-dg5-20so', '@class': 'java.util.HashMap'}}][1147016-route->94344],\n",
       " e[{'@type': 'janusgraph:RelationIdentifier', '@value': {'value': '7h0k1-ol1k-dg5-9nrk', '@class': 'java.util.HashMap'}}][1147016-route->450704],\n",
       " e[{'@type': 'janusgraph:RelationIdentifier', '@value': {'value': '282s2-9nrk-dg5-cr4', '@class': 'java.util.HashMap'}}][450704-route->16528],\n",
       " e[{'@type': 'janusgraph:RelationIdentifier', '@value': {'value': '282du-9nrk-dg5-fu8', '@class': 'java.util.HashMap'}}][450704-route->20528],\n",
       " e[{'@type': 'janusgraph:RelationIdentifier', '@value': {'value': '2836a-9nrk-dg5-1894', '@class': 'java.util.HashMap'}}][450704-route->57352],\n",
       " e[{'@type': 'janusgraph:RelationIdentifier', '@value': {'value': '281zm-9nrk-dg5-20so', '@class': 'java.util.HashMap'}}][450704-route->94344],\n",
       " e[{'@type': 'janusgraph:RelationIdentifier', '@value': {'value': '283yq-9nrk-dg5-aczc', '@class': 'java.util.HashMap'}}][450704-route->483384],\n",
       " e[{'@type': 'janusgraph:RelationIdentifier', '@value': {'value': '283ki-9nrk-dg5-ol1k', '@class': 'java.util.HashMap'}}][450704-route->1147016],\n",
       " e[{'@type': 'janusgraph:RelationIdentifier', '@value': {'value': '2eql7-8iqg-dg5-cr4', '@class': 'java.util.HashMap'}}][397528-route->16528],\n",
       " e[{'@type': 'janusgraph:RelationIdentifier', '@value': {'value': '2eq6z-8iqg-dg5-20so', '@class': 'java.util.HashMap'}}][397528-route->94344],\n",
       " e[{'@type': 'janusgraph:RelationIdentifier', '@value': {'value': '2eior-863c-dg5-20so', '@class': 'java.util.HashMap'}}][381144-route->94344],\n",
       " e[{'@type': 'janusgraph:RelationIdentifier', '@value': {'value': '2ej2z-863c-dg5-2zhs', '@class': 'java.util.HashMap'}}][381144-route->139312],\n",
       " e[{'@type': 'janusgraph:RelationIdentifier', '@value': {'value': '2ejh7-863c-dg5-9now', '@class': 'java.util.HashMap'}}][381144-route->450608],\n",
       " e[{'@type': 'janusgraph:RelationIdentifier', '@value': {'value': '2ejvf-863c-dg5-ouiw', '@class': 'java.util.HashMap'}}][381144-route->1159304],\n",
       " e[{'@type': 'janusgraph:RelationIdentifier', '@value': {'value': '7h441-ouiw-dg5-cr4', '@class': 'java.util.HashMap'}}][1159304-route->16528],\n",
       " e[{'@type': 'janusgraph:RelationIdentifier', '@value': {'value': '7h3pt-ouiw-dg5-20so', '@class': 'java.util.HashMap'}}][1159304-route->94344],\n",
       " e[{'@type': 'janusgraph:RelationIdentifier', '@value': {'value': '7h4i9-ouiw-dg5-863c', '@class': 'java.util.HashMap'}}][1159304-route->381144],\n",
       " e[{'@type': 'janusgraph:RelationIdentifier', '@value': {'value': '7h4wh-ouiw-dg5-voy0', '@class': 'java.util.HashMap'}}][1159304-route->1478664],\n",
       " e[{'@type': 'janusgraph:RelationIdentifier', '@value': {'value': '7gxsh-oeq0-dg5-cr4', '@class': 'java.util.HashMap'}}][1138824-route->16528],\n",
       " e[{'@type': 'janusgraph:RelationIdentifier', '@value': {'value': '7gxe9-oeq0-dg5-20so', '@class': 'java.util.HashMap'}}][1138824-route->94344]]"
      ]
     },
     "execution_count": 7,
     "metadata": {},
     "output_type": "execute_result"
    }
   ],
   "source": [
    "g.V().has('region', 'AU-NSW').outE('route').fold().next()"
   ]
  },
  {
   "cell_type": "markdown",
   "metadata": {},
   "source": [
    "## inE(), outV(), in()\n",
    "\n",
    "__Get places where there is a route to Sydney__"
   ]
  },
  {
   "cell_type": "code",
   "execution_count": 8,
   "metadata": {
    "scrolled": true
   },
   "outputs": [
    {
     "name": "stdout",
     "output_type": "stream",
     "text": [
      "San Francisco International Airport\n",
      "Honolulu International Airport\n",
      "Los Angeles International Airport\n",
      "Dallas/Fort Worth International Airport\n",
      "Brisbane International Airport\n",
      "Beijing Capital International Airport\n",
      "Melbourne International Airport\n",
      "Doha, Hamad International Airport\n",
      "Hong Kong - Chek Lap Kok International Airport\n",
      "Auckland International Airport\n",
      "Suvarnabhumi Bangkok International Airport\n",
      "Shanghai - Pudong International Airport\n",
      "Kuala Lumpur International Airport\n",
      "Tokyo Narita\n",
      "Alice Springs Airport\n",
      "Christchurch International Airport\n",
      "Ho Chi Minh City, Tan Son Nhat International Airport\n",
      "Darwin International Airport\n",
      "Santiago, Comodoro Arturo Merino Benitez International Airport\n",
      "Bali - Ngurah Rai International Airport\n",
      "Gold Coast Airport\n",
      "Canberra International Airport\n",
      "Seoul, Incheon International Airport\n",
      "Johannesburg, OR Tambo International Airport\n",
      "Tokyo Haneda International Airport\n",
      "Soekarno-Hatta International Airport\n",
      "Nanjing Lukou Airport\n",
      "Guangzhou Baiyun International Airport\n",
      "Cairns International Airport\n",
      "Vancouver\n",
      "Abu Dhabi International Airport\n",
      "Singapore, Changi International Airport\n",
      "Dubai International Airport\n",
      "Indira Gandhi International Airport\n",
      "Perth International Airport\n",
      "Wellington International Airport\n",
      "Sunshine Coast Airport\n",
      "Adelaide International Airport\n",
      "Manila, Ninoy Aquino International Airport\n",
      "Port Moresby Jacksons International Airport\n",
      "Phuket International Airport\n",
      "Noi Bai International Airport\n",
      "Fiji, Nadi International Airport\n",
      "Chengdu Shuangliu International Airport\n",
      "Ayers Rock Connellan Airport\n",
      "Taiwan Taoyuan International Airport\n",
      "Wuhan Tianhe International Airport\n",
      "Rarotonga International Airport\n",
      "Xi'an Xianyang International Airport\n",
      "La Tontouta International Airport\n",
      "Townsville Airport\n",
      "Hervey Bay Airport\n",
      "Fua'amotu International Airport\n",
      "Gladstone Airport\n",
      "Avalon Airport\n",
      "Port Vila Bauerfield Airport\n",
      "Karratha Airport\n",
      "Moruya Airport\n",
      "Broken Hill Airport\n",
      "Narrandera Airport\n",
      "Queenstown International Airport\n",
      "Mackay Airport\n",
      "Orange Airport\n",
      "Bathurst Airport\n",
      "Broome International Airport\n",
      "Lord Howe Island Airport\n",
      "Griffith Airport\n",
      "Wagga Wagga City Airport\n",
      "Moree Airport\n",
      "Taree Airport\n",
      "Port Macquarie Airport\n",
      "Nausori International Airport\n",
      "Lismore Airport\n",
      "Mildura Airport\n",
      "Newcastle Airport\n",
      "Launceston Airport\n",
      "Parkes Airport\n",
      "Proserpine Whitsunday Coast Airport\n",
      "Merimbula Airport\n",
      "Coffs Harbour Airport\n",
      "Hangzhou Xiaoshan International Airport\n",
      "Changsha Huanghua International Airport\n",
      "Kunming Wujiaba International Airport\n",
      "Chongqing Jiangbei International Airport\n",
      "Armidale Airport\n",
      "Hamilton Island Airport\n",
      "Ballina Byron Gateway Airport\n",
      "Albury Airport\n",
      "Hobart International Airport\n",
      "Dubbo City Regional Airport\n",
      "Norfolk Island International Airport\n",
      "Tamworth Airport\n",
      "Brisbane West Wellcamp Airport\n",
      "Narrabri Airport\n"
     ]
    }
   ],
   "source": [
    "r = g.V(sydneyVertexId).inE('route').outV().values('desc')\n",
    "x1 = g.V(sydneyVertexId).inE('route').outV().count().next()\n",
    "for u in range(x1):\n",
    "    print(r.next())"
   ]
  },
  {
   "cell_type": "markdown",
   "metadata": {},
   "source": [
    "__\"in()\" is the same as calling \"inE().outV()\"__"
   ]
  },
  {
   "cell_type": "code",
   "execution_count": 9,
   "metadata": {
    "scrolled": true
   },
   "outputs": [],
   "source": [
    "x2 = g.V(sydneyVertexId).in_('route').count().next()\n",
    "assert x1 == x2"
   ]
  },
  {
   "cell_type": "markdown",
   "metadata": {},
   "source": [
    "__Getting the outgoing vertex of the route that comes out of Sydney is Sydney itself__"
   ]
  },
  {
   "cell_type": "code",
   "execution_count": 10,
   "metadata": {},
   "outputs": [
    {
     "data": {
      "text/plain": [
       "'Sydney Kingsford Smith'"
      ]
     },
     "execution_count": 10,
     "metadata": {},
     "output_type": "execute_result"
    }
   ],
   "source": [
    "g.V(sydneyVertexId).outE('route').outV().values('desc').next()"
   ]
  },
  {
   "cell_type": "markdown",
   "metadata": {},
   "source": [
    "## hasNext()\n",
    "True if there is a route from Sydney to Hong Kong"
   ]
  },
  {
   "cell_type": "code",
   "execution_count": 16,
   "metadata": {},
   "outputs": [],
   "source": [
    "#r = g.V(sydneyVertexId).out('route').has('code','HKG')\n",
    "#r.hasNext()"
   ]
  },
  {
   "cell_type": "code",
   "execution_count": null,
   "metadata": {},
   "outputs": [],
   "source": []
  }
 ],
 "metadata": {
  "kernelspec": {
   "display_name": "Python 3",
   "language": "python",
   "name": "python3"
  },
  "language_info": {
   "codemirror_mode": {
    "name": "ipython",
    "version": 3
   },
   "file_extension": ".py",
   "mimetype": "text/x-python",
   "name": "python",
   "nbconvert_exporter": "python",
   "pygments_lexer": "ipython3",
   "version": "3.6.5"
  }
 },
 "nbformat": 4,
 "nbformat_minor": 2
}
