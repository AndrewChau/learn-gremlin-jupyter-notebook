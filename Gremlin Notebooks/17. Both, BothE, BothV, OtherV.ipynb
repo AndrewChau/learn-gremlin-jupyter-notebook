{
 "cells": [
  {
   "cell_type": "markdown",
   "metadata": {},
   "source": [
    "# 17. Both, BothE, BothV, OtherV\n",
    "#### By Kwan Yin Andrew Chau"
   ]
  },
  {
   "cell_type": "code",
   "execution_count": 1,
   "metadata": {},
   "outputs": [],
   "source": [
    "import nbfinder\n",
    "import random\n",
    "from loader import g\n",
    "from loader import __\n",
    "from loader import Barrier\n",
    "from loader import Column\n",
    "from loader import P\n",
    "from loader import Pick\n",
    "from loader import Pop\n",
    "from loader import sydneyVertexId\n",
    "from loader import hkVertexId"
   ]
  },
  {
   "cell_type": "markdown",
   "metadata": {},
   "source": [
    "## both()\n",
    "\n",
    "__Return the unique vertices of what's incoming to HK and what's outgoing from HK__"
   ]
  },
  {
   "cell_type": "code",
   "execution_count": 2,
   "metadata": {},
   "outputs": [
    {
     "data": {
      "text/plain": [
       "153"
      ]
     },
     "execution_count": 2,
     "metadata": {},
     "output_type": "execute_result"
    }
   ],
   "source": [
    "x1 = g.V(hkVertexId).both().dedup().count().next()\n",
    "x1"
   ]
  },
  {
   "cell_type": "markdown",
   "metadata": {},
   "source": [
    "## bothE, bothV()\n",
    "\n",
    "__Return the unique vertices connected to either ends of edges that are connected to HK (both incoming and outgoing)__"
   ]
  },
  {
   "cell_type": "code",
   "execution_count": 3,
   "metadata": {},
   "outputs": [
    {
     "data": {
      "text/plain": [
       "154"
      ]
     },
     "execution_count": 3,
     "metadata": {},
     "output_type": "execute_result"
    }
   ],
   "source": [
    "x2 = g.V(hkVertexId).bothE().bothV().dedup().count().next()\n",
    "x2"
   ]
  },
  {
   "cell_type": "markdown",
   "metadata": {},
   "source": [
    "This is 1 more than both() because rather than just getting the outgoing or incoming vertices, we fetched both ends of the edge which includes HK"
   ]
  },
  {
   "cell_type": "code",
   "execution_count": 4,
   "metadata": {},
   "outputs": [],
   "source": [
    "assert x1 == x2 - 1"
   ]
  },
  {
   "cell_type": "markdown",
   "metadata": {},
   "source": [
    "## otherV()\n",
    "\n",
    "__Only get the vertices at the other end of the edge relative to where we started from__"
   ]
  },
  {
   "cell_type": "code",
   "execution_count": 5,
   "metadata": {},
   "outputs": [
    {
     "data": {
      "text/plain": [
       "153"
      ]
     },
     "execution_count": 5,
     "metadata": {},
     "output_type": "execute_result"
    }
   ],
   "source": [
    "x3 = g.V(hkVertexId).bothE().otherV().dedup().count().next()\n",
    "assert x1 == x3\n",
    "x3"
   ]
  }
 ],
 "metadata": {
  "kernelspec": {
   "display_name": "Python 3",
   "language": "python",
   "name": "python3"
  },
  "language_info": {
   "codemirror_mode": {
    "name": "ipython",
    "version": 3
   },
   "file_extension": ".py",
   "mimetype": "text/x-python",
   "name": "python",
   "nbconvert_exporter": "python",
   "pygments_lexer": "ipython3",
   "version": "3.6.5"
  }
 },
 "nbformat": 4,
 "nbformat_minor": 2
}
