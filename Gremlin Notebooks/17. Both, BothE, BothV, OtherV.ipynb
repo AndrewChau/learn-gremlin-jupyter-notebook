{
 "cells": [
  {
   "cell_type": "markdown",
   "metadata": {},
   "source": [
    "# 17. Both, BothE, BothV, OtherV, WithIndex, Indexed\n",
    "#### By Kwan Yin Andrew Chau"
   ]
  },
  {
   "cell_type": "code",
   "execution_count": 1,
   "metadata": {},
   "outputs": [],
   "source": [
    "import nbfinder\n",
    "import random\n",
    "from loader import g\n",
    "from loader import __\n",
    "from loader import sydneyVertexId\n",
    "from loader import hkVertexId"
   ]
  },
  {
   "cell_type": "markdown",
   "metadata": {},
   "source": [
    "## both()\n",
    "\n",
    "__Return the unique vertices of what's incoming to HK and what's outgoing from HK__"
   ]
  },
  {
   "cell_type": "code",
   "execution_count": 2,
   "metadata": {},
   "outputs": [
    {
     "data": {
      "text/plain": [
       "153"
      ]
     },
     "execution_count": 2,
     "metadata": {},
     "output_type": "execute_result"
    }
   ],
   "source": [
    "a = g.V(hkVertexId).both().dedup().count().next()\n",
    "a"
   ]
  },
  {
   "cell_type": "markdown",
   "metadata": {},
   "source": [
    "## bothE, bothV()\n",
    "\n",
    "__Return the unique vertices connected to either ends of edges that are connected to HK (both incoming and outgoing)__"
   ]
  },
  {
   "cell_type": "code",
   "execution_count": 3,
   "metadata": {},
   "outputs": [
    {
     "data": {
      "text/plain": [
       "154"
      ]
     },
     "execution_count": 3,
     "metadata": {},
     "output_type": "execute_result"
    }
   ],
   "source": [
    "b = g.V(hkVertexId).bothE().bothV().dedup().count().next()\n",
    "b"
   ]
  },
  {
   "cell_type": "markdown",
   "metadata": {},
   "source": [
    "This is 1 more than both() because rather than just getting the outgoing or incoming vertices, we fetched both ends of the edge which includes HK"
   ]
  },
  {
   "cell_type": "code",
   "execution_count": 4,
   "metadata": {},
   "outputs": [],
   "source": [
    "assert a == b - 1"
   ]
  },
  {
   "cell_type": "markdown",
   "metadata": {},
   "source": [
    "## otherV()\n",
    "\n",
    "__Only get the vertices at the other end of the edge relative to where we started from__"
   ]
  },
  {
   "cell_type": "code",
   "execution_count": 5,
   "metadata": {},
   "outputs": [],
   "source": [
    "c = g.V(hkVertexId).bothE().otherV().dedup().count().next()\n",
    "assert a == c"
   ]
  },
  {
   "cell_type": "markdown",
   "metadata": {},
   "source": [
    "## withIndex()\n",
    "\n",
    "__Return the index along with the result__"
   ]
  },
  {
   "cell_type": "code",
   "execution_count": 6,
   "metadata": {},
   "outputs": [],
   "source": [
    "# This is not supported in python gremlin\n",
    "# g.V().hasId([sydneyVertexId, hkVertexId]).values('code').withIndex().fold().next()\n",
    "# Result: [['HKG',0],['SYD',1]]"
   ]
  },
  {
   "cell_type": "markdown",
   "metadata": {},
   "source": [
    "__Start the index at 2 instead of 0__"
   ]
  },
  {
   "cell_type": "code",
   "execution_count": 7,
   "metadata": {},
   "outputs": [],
   "source": [
    "# This is not supported in python gremlin\n",
    "# g.V().hasId([sydneyVertexId, hkVertexId]).values('code').withIndex(2).fold().next()\n",
    "# Result: [['HKG',2],['SYD',3]]"
   ]
  },
  {
   "cell_type": "markdown",
   "metadata": {},
   "source": [
    "## indexed()\n",
    "\n",
    "__Do the same with the index at the start__"
   ]
  },
  {
   "cell_type": "code",
   "execution_count": 8,
   "metadata": {},
   "outputs": [],
   "source": [
    "# This is not supported in python gremlin\n",
    "# g.V().hasId([sydneyVertexId, hkVertexId]).values('code').indexed(2).fold().next()\n",
    "# Result: [[2,'HKG'],[3,'SYD']]"
   ]
  }
 ],
 "metadata": {
  "kernelspec": {
   "display_name": "Python 3",
   "language": "python",
   "name": "python3"
  },
  "language_info": {
   "codemirror_mode": {
    "name": "ipython",
    "version": 3
   },
   "file_extension": ".py",
   "mimetype": "text/x-python",
   "name": "python",
   "nbconvert_exporter": "python",
   "pygments_lexer": "ipython3",
   "version": "3.6.5"
  }
 },
 "nbformat": 4,
 "nbformat_minor": 2
}
