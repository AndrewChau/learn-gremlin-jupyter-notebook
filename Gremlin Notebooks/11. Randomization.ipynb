{
 "cells": [
  {
   "cell_type": "markdown",
   "metadata": {},
   "source": [
    "# 11. Randomization\n",
    "#### By Kwan Yin Andrew Chau"
   ]
  },
  {
   "cell_type": "code",
   "execution_count": 1,
   "metadata": {},
   "outputs": [],
   "source": [
    "import nbfinder\n",
    "import random\n",
    "from loader import g"
   ]
  },
  {
   "cell_type": "markdown",
   "metadata": {},
   "source": [
    "## coin()\n",
    "\n",
    "0 means there is no chance and 1 means something will always be picked\n",
    "\n",
    "__Pick airports at random with an evenly biased coin (50%)__"
   ]
  },
  {
   "cell_type": "code",
   "execution_count": 2,
   "metadata": {},
   "outputs": [
    {
     "data": {
      "text/plain": [
       "1683"
      ]
     },
     "execution_count": 2,
     "metadata": {},
     "output_type": "execute_result"
    }
   ],
   "source": [
    "g.V().hasLabel('airport').coin(0.5).count().next()"
   ]
  },
  {
   "cell_type": "markdown",
   "metadata": {},
   "source": [
    "We can limit the results to pick up to 20 random airports but there is a chance less than 20 are selected"
   ]
  },
  {
   "cell_type": "code",
   "execution_count": 3,
   "metadata": {},
   "outputs": [
    {
     "data": {
      "text/plain": [
       "12"
      ]
     },
     "execution_count": 3,
     "metadata": {},
     "output_type": "execute_result"
    }
   ],
   "source": [
    "g.V().hasLabel('airport').coin(0.005).limit(20).count().next()"
   ]
  },
  {
   "cell_type": "markdown",
   "metadata": {},
   "source": [
    "## sample()\n",
    "__Using sample can randomly pick a number of vertices__"
   ]
  },
  {
   "cell_type": "code",
   "execution_count": 4,
   "metadata": {
    "scrolled": true
   },
   "outputs": [
    {
     "data": {
      "text/plain": [
       "20"
      ]
     },
     "execution_count": 4,
     "metadata": {},
     "output_type": "execute_result"
    }
   ],
   "source": [
    "g.V().hasLabel('airport').sample(20).count().next()"
   ]
  },
  {
   "cell_type": "markdown",
   "metadata": {},
   "source": [
    "Sample tends to be like coin where it is skewd towards the smaller index vertices as that is where it starts from"
   ]
  },
  {
   "cell_type": "code",
   "execution_count": 5,
   "metadata": {},
   "outputs": [
    {
     "name": "stdout",
     "output_type": "stream",
     "text": [
      "327712\n",
      "1052808\n",
      "979088\n",
      "667704\n",
      "3928200\n",
      "1110072\n",
      "446496\n",
      "1237120\n",
      "3326088\n",
      "4133000\n"
     ]
    }
   ],
   "source": [
    "for x in range(10):\n",
    "  print(g.V().hasLabel('airport').sample(1).id().next())"
   ]
  },
  {
   "cell_type": "markdown",
   "metadata": {},
   "source": [
    "__It may be more useful to generate a random number to select the ID__"
   ]
  },
  {
   "cell_type": "code",
   "execution_count": 6,
   "metadata": {},
   "outputs": [],
   "source": [
    "def randomNumber(minValue, maxValue):\n",
    "    return random.randint(minValue, maxValue + 1)"
   ]
  },
  {
   "cell_type": "code",
   "execution_count": 7,
   "metadata": {},
   "outputs": [
    {
     "name": "stdout",
     "output_type": "stream",
     "text": [
      "3174605\n",
      "1230222\n",
      "272665\n",
      "2314892\n",
      "2205683\n",
      "1223135\n",
      "1758047\n",
      "839948\n",
      "131487\n",
      "814294\n"
     ]
    }
   ],
   "source": [
    "minId = g.V().hasLabel('airport').id().min().next()\n",
    "maxId = g.V().hasLabel('airport').id().max().next()\n",
    "\n",
    "for x in range(10):\n",
    "  print(randomNumber(minId, maxId))"
   ]
  },
  {
   "cell_type": "markdown",
   "metadata": {},
   "source": [
    "The above however may not work if the IDs are not contiguous\n",
    "\n",
    "__Instead we generate a list of all the IDs and pick them at random__"
   ]
  },
  {
   "cell_type": "code",
   "execution_count": 8,
   "metadata": {},
   "outputs": [
    {
     "name": "stdout",
     "output_type": "stream",
     "text": [
      "v[1290384]\n",
      "v[2203784]\n",
      "v[3891336]\n",
      "v[315536]\n",
      "v[659584]\n",
      "v[397320]\n",
      "v[749784]\n",
      "v[1089680]\n",
      "v[2625672]\n",
      "v[3911816]\n"
     ]
    }
   ],
   "source": [
    "idsList = g.V().hasLabel('airport').id().toList()\n",
    "for x in range(10):\n",
    "    randomIndex = randomNumber(0, len(idsList) -1)\n",
    "    randomId = idsList[randomIndex]\n",
    "    print(g.V(randomId).next())"
   ]
  },
  {
   "cell_type": "code",
   "execution_count": null,
   "metadata": {},
   "outputs": [],
   "source": []
  }
 ],
 "metadata": {
  "kernelspec": {
   "display_name": "Python 3",
   "language": "python",
   "name": "python3"
  },
  "language_info": {
   "codemirror_mode": {
    "name": "ipython",
    "version": 3
   },
   "file_extension": ".py",
   "mimetype": "text/x-python",
   "name": "python",
   "nbconvert_exporter": "python",
   "pygments_lexer": "ipython3",
   "version": "3.6.5"
  }
 },
 "nbformat": 4,
 "nbformat_minor": 2
}
