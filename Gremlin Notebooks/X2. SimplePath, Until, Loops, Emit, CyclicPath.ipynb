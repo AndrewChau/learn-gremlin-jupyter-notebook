{
 "cells": [
  {
   "cell_type": "markdown",
   "metadata": {},
   "source": [
    "# X2. SimplePath, Until, Emit, CyclicPath\n",
    "#### By Kwan Yin Andrew Chau"
   ]
  },
  {
   "cell_type": "code",
   "execution_count": 1,
   "metadata": {},
   "outputs": [],
   "source": [
    "import nbfinder\n",
    "import random\n",
    "from loader import g\n",
    "from loader import __\n",
    "from loader import Barrier\n",
    "from loader import Column\n",
    "from loader import P\n",
    "from loader import Pick\n",
    "from loader import Pop\n",
    "from loader import sydneyVertexId\n",
    "from loader import hkVertexId"
   ]
  },
  {
   "cell_type": "markdown",
   "metadata": {},
   "source": [
    "## simplePath(), until()\n",
    "\n",
    "__Get all routes from HK to Taipei without travelling the same path multiple times__"
   ]
  },
  {
   "cell_type": "code",
   "execution_count": 3,
   "metadata": {},
   "outputs": [
    {
     "data": {
      "text/plain": [
       "[['HKG', 'TPE'],\n",
       " ['HKG', 'SFO', 'TPE'],\n",
       " ['HKG', 'YYZ', 'TPE'],\n",
       " ['HKG', 'LAX', 'TPE'],\n",
       " ['HKG', 'BNE', 'TPE'],\n",
       " ['HKG', 'PEK', 'TPE'],\n",
       " ['HKG', 'MEL', 'TPE'],\n",
       " ['HKG', 'CDG', 'TPE'],\n",
       " ['HKG', 'BKK', 'TPE'],\n",
       " ['HKG', 'JFK', 'TPE']]"
      ]
     },
     "execution_count": 3,
     "metadata": {},
     "output_type": "execute_result"
    }
   ],
   "source": [
    "g.V(hkVertexId).repeat(\n",
    "    __.out().simplePath()\n",
    ").until(__.has('code', 'TPE')).path().by('code').limit(10).fold().next()"
   ]
  },
  {
   "cell_type": "markdown",
   "metadata": {},
   "source": [
    "The until() can also come before repeat()"
   ]
  },
  {
   "cell_type": "code",
   "execution_count": 4,
   "metadata": {},
   "outputs": [
    {
     "data": {
      "text/plain": [
       "[['HKG', 'TPE'],\n",
       " ['HKG', 'SFO', 'TPE'],\n",
       " ['HKG', 'YYZ', 'TPE'],\n",
       " ['HKG', 'LAX', 'TPE'],\n",
       " ['HKG', 'BNE', 'TPE'],\n",
       " ['HKG', 'PEK', 'TPE'],\n",
       " ['HKG', 'MEL', 'TPE'],\n",
       " ['HKG', 'CDG', 'TPE'],\n",
       " ['HKG', 'BKK', 'TPE'],\n",
       " ['HKG', 'JFK', 'TPE']]"
      ]
     },
     "execution_count": 4,
     "metadata": {},
     "output_type": "execute_result"
    }
   ],
   "source": [
    "g.V(hkVertexId).until(__.has('code', 'TPE')).repeat(\n",
    "    __.out().simplePath()\n",
    ").path().by('code').limit(10).fold().next()"
   ]
  },
  {
   "cell_type": "markdown",
   "metadata": {},
   "source": [
    "## loops()\n",
    "\n",
    "__Repeat up to 2 times__"
   ]
  },
  {
   "cell_type": "code",
   "execution_count": 29,
   "metadata": {},
   "outputs": [
    {
     "data": {
      "text/plain": [
       "[['HKG', 'SFO', 'TPE'],\n",
       " ['HKG', 'YYZ', 'TPE'],\n",
       " ['HKG', 'LAX', 'TPE'],\n",
       " ['HKG', 'BNE', 'TPE'],\n",
       " ['HKG', 'PEK', 'TPE'],\n",
       " ['HKG', 'MEL', 'TPE'],\n",
       " ['HKG', 'CDG', 'TPE'],\n",
       " ['HKG', 'BKK', 'TPE'],\n",
       " ['HKG', 'JFK', 'TPE'],\n",
       " ['HKG', 'PVG', 'TPE']]"
      ]
     },
     "execution_count": 29,
     "metadata": {},
     "output_type": "execute_result"
    }
   ],
   "source": [
    "x1 = g.V(hkVertexId).repeat(\n",
    "    __.out()\n",
    ").until(\n",
    "    __.loops().is_(2)\n",
    ").has('code', 'TPE').count().next()\n",
    "g.V(hkVertexId).repeat(\n",
    "    __.out()\n",
    ").until(\n",
    "    __.loops().is_(2)\n",
    ").has('code', 'TPE').path().by('code').limit(10).fold().next()"
   ]
  },
  {
   "cell_type": "markdown",
   "metadata": {},
   "source": [
    "Equivalent to using times()"
   ]
  },
  {
   "cell_type": "code",
   "execution_count": 30,
   "metadata": {},
   "outputs": [],
   "source": [
    "x2 = g.V(hkVertexId).repeat(\n",
    "    __.out()\n",
    ").times(2).has('code', 'TPE').count().next()\n",
    "assert x1 == x2"
   ]
  },
  {
   "cell_type": "markdown",
   "metadata": {},
   "source": [
    "## emit()\n",
    "\n",
    "__3.25.1__"
   ]
  },
  {
   "cell_type": "code",
   "execution_count": 16,
   "metadata": {},
   "outputs": [
    {
     "data": {
      "text/plain": [
       "153"
      ]
     },
     "execution_count": 16,
     "metadata": {},
     "output_type": "execute_result"
    }
   ],
   "source": [
    "x1 = g.V(hkVertexId).both().dedup().count().next()\n",
    "x1"
   ]
  },
  {
   "cell_type": "markdown",
   "metadata": {},
   "source": [
    "## bothE, bothV()\n",
    "\n",
    "__Return the unique vertices connected to either ends of edges that are connected to HK (both incoming and outgoing)__"
   ]
  },
  {
   "cell_type": "code",
   "execution_count": 18,
   "metadata": {},
   "outputs": [
    {
     "data": {
      "text/plain": [
       "154"
      ]
     },
     "execution_count": 18,
     "metadata": {},
     "output_type": "execute_result"
    }
   ],
   "source": [
    "x2 = g.V(hkVertexId).bothE().bothV().dedup().count().next()\n",
    "x2"
   ]
  },
  {
   "cell_type": "markdown",
   "metadata": {},
   "source": [
    "This is 1 more than both() because rather than just getting the outgoing or incoming vertices, we fetched both ends of the edge which includes HK"
   ]
  },
  {
   "cell_type": "code",
   "execution_count": 21,
   "metadata": {},
   "outputs": [],
   "source": [
    "assert x1 == x2 - 1"
   ]
  },
  {
   "cell_type": "markdown",
   "metadata": {},
   "source": [
    "## otherV()\n",
    "\n",
    "__Only get the vertices at the other end of the edge relative to where we started from__"
   ]
  },
  {
   "cell_type": "code",
   "execution_count": 27,
   "metadata": {},
   "outputs": [
    {
     "data": {
      "text/plain": [
       "153"
      ]
     },
     "execution_count": 27,
     "metadata": {},
     "output_type": "execute_result"
    }
   ],
   "source": [
    "x3 = g.V(hkVertexId).bothE().otherV().dedup().count().next()\n",
    "assert x1 == x3\n",
    "x3"
   ]
  }
 ],
 "metadata": {
  "kernelspec": {
   "display_name": "Python 3",
   "language": "python",
   "name": "python3"
  },
  "language_info": {
   "codemirror_mode": {
    "name": "ipython",
    "version": 3
   },
   "file_extension": ".py",
   "mimetype": "text/x-python",
   "name": "python",
   "nbconvert_exporter": "python",
   "pygments_lexer": "ipython3",
   "version": "3.6.7"
  }
 },
 "nbformat": 4,
 "nbformat_minor": 2
}
