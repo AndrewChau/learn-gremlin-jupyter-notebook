{
 "cells": [
  {
   "cell_type": "markdown",
   "metadata": {},
   "source": [
    "# 2. E, OutE, InV, Out, InE, OuV, In\n",
    "#### By Kwan Yin Andrew Chau"
   ]
  },
  {
   "cell_type": "code",
   "execution_count": 1,
   "metadata": {},
   "outputs": [],
   "source": [
    "import nbfinder\n",
    "from loader import g\n",
    "from loader import sydneyVertexId"
   ]
  },
  {
   "cell_type": "markdown",
   "metadata": {},
   "source": [
    "__Count of edges with the label \"route\"__"
   ]
  },
  {
   "cell_type": "code",
   "execution_count": 2,
   "metadata": {},
   "outputs": [
    {
     "data": {
      "text/plain": [
       "43400"
      ]
     },
     "execution_count": 2,
     "metadata": {},
     "output_type": "execute_result"
    }
   ],
   "source": [
    "g.E().hasLabel('route').count().next()"
   ]
  },
  {
   "cell_type": "markdown",
   "metadata": {},
   "source": [
    "__Count of edges that is coming out of vertices with the label \"airport\"__"
   ]
  },
  {
   "cell_type": "code",
   "execution_count": 3,
   "metadata": {},
   "outputs": [
    {
     "data": {
      "text/plain": [
       "43400"
      ]
     },
     "execution_count": 3,
     "metadata": {},
     "output_type": "execute_result"
    }
   ],
   "source": [
    "g.V().hasLabel('airport').outE().count().next()"
   ]
  },
  {
   "cell_type": "markdown",
   "metadata": {},
   "source": [
    "## outE(), inV(), out()\n",
    "\n",
    "__Count of edges with the label \"route\" that is coming out of a vertex__"
   ]
  },
  {
   "cell_type": "code",
   "execution_count": 4,
   "metadata": {},
   "outputs": [
    {
     "data": {
      "text/plain": [
       "43400"
      ]
     },
     "execution_count": 4,
     "metadata": {},
     "output_type": "execute_result"
    }
   ],
   "source": [
    "g.V().outE('route').valueMap().count().next()"
   ]
  },
  {
   "cell_type": "markdown",
   "metadata": {},
   "source": [
    "__Get destinations where there is a route from Sydney__"
   ]
  },
  {
   "cell_type": "code",
   "execution_count": 5,
   "metadata": {
    "scrolled": true
   },
   "outputs": [
    {
     "name": "stdout",
     "output_type": "stream",
     "text": [
      "Dallas/Fort Worth International Airport\n",
      "San Francisco International Airport\n"
     ]
    }
   ],
   "source": [
    "r = g.V(sydneyVertexId).outE('route').inV().values('desc')\n",
    "x1 = g.V(sydneyVertexId).outE('route').inV().count().next()\n",
    "for d in range(2):\n",
    "    print(r.next())"
   ]
  },
  {
   "cell_type": "markdown",
   "metadata": {},
   "source": [
    "__\"out()\" is the same as calling \"outE()\" and then \"inV()\"__"
   ]
  },
  {
   "cell_type": "code",
   "execution_count": 6,
   "metadata": {},
   "outputs": [],
   "source": [
    "x2 = g.V(sydneyVertexId).out('route').count().next()\n",
    "assert x1 == x2"
   ]
  },
  {
   "cell_type": "markdown",
   "metadata": {},
   "source": [
    "__Get routes from airports that have the region \"AU-NSW\"__"
   ]
  },
  {
   "cell_type": "code",
   "execution_count": 7,
   "metadata": {},
   "outputs": [
    {
     "data": {
      "text/plain": [
       "[e[{'@type': 'janusgraph:RelationIdentifier', '@value': {'value': '4u5nd-fw7c-dg5-vnc', '@class': 'java.util.HashMap'}}][741576-route->41016],\n",
       " e[{'@type': 'janusgraph:RelationIdentifier', '@value': {'value': '4u595-fw7c-dg5-1xk8', '@class': 'java.util.HashMap'}}][741576-route->90152],\n",
       " e[{'@type': 'janusgraph:RelationIdentifier', '@value': {'value': '2fh1t-8lu0-dg5-1xk8', '@class': 'java.util.HashMap'}}][401544-route->90152],\n",
       " e[{'@type': 'janusgraph:RelationIdentifier', '@value': {'value': '2fhg1-8lu0-dg5-omlw8', '@class': 'java.util.HashMap'}}][401544-route->41365592],\n",
       " e[{'@type': 'janusgraph:RelationIdentifier', '@value': {'value': 'qm2vf-omlw8-dg5-1xk8', '@class': 'java.util.HashMap'}}][41365592-route->90152],\n",
       " e[{'@type': 'janusgraph:RelationIdentifier', '@value': {'value': 'qm3nv-omlw8-dg5-8lu0', '@class': 'java.util.HashMap'}}][41365592-route->401544],\n",
       " e[{'@type': 'janusgraph:RelationIdentifier', '@value': {'value': 'qm39n-omlw8-dg5-oe6l4', '@class': 'java.util.HashMap'}}][41365592-route->40972504],\n",
       " e[{'@type': 'janusgraph:RelationIdentifier', '@value': {'value': '4u80p-g2iw-dg5-vnc', '@class': 'java.util.HashMap'}}][749768-route->41016],\n",
       " e[{'@type': 'janusgraph:RelationIdentifier', '@value': {'value': '4u7mh-g2iw-dg5-1xk8', '@class': 'java.util.HashMap'}}][749768-route->90152],\n",
       " e[{'@type': 'janusgraph:RelationIdentifier', '@value': {'value': 'qmmmz-om314-dg5-vnc', '@class': 'java.util.HashMap'}}][41341144-route->41016],\n",
       " e[{'@type': 'janusgraph:RelationIdentifier', '@value': {'value': 'qmm8r-om314-dg5-1xk8', '@class': 'java.util.HashMap'}}][41341144-route->90152],\n",
       " e[{'@type': 'janusgraph:RelationIdentifier', '@value': {'value': '4tt09-fgeg-dg5-1xk8', '@class': 'java.util.HashMap'}}][721096-route->90152],\n",
       " e[{'@type': 'janusgraph:RelationIdentifier', '@value': {'value': '4ttsp-fgeg-dg5-ray0', '@class': 'java.util.HashMap'}}][721096-route->1273896],\n",
       " e[{'@type': 'janusgraph:RelationIdentifier', '@value': {'value': '4tteh-fgeg-dg5-oe6l4', '@class': 'java.util.HashMap'}}][721096-route->40972504],\n",
       " e[{'@type': 'janusgraph:RelationIdentifier', '@value': {'value': '2s2yv-aczc-dg5-1xk8', '@class': 'java.util.HashMap'}}][483384-route->90152],\n",
       " e[{'@type': 'janusgraph:RelationIdentifier', '@value': {'value': '2s3rb-aczc-dg5-2jt4', '@class': 'java.util.HashMap'}}][483384-route->118984],\n",
       " e[{'@type': 'janusgraph:RelationIdentifier', '@value': {'value': '2s3d3-aczc-dg5-oe6l4', '@class': 'java.util.HashMap'}}][483384-route->40972504],\n",
       " e[{'@type': 'janusgraph:RelationIdentifier', '@value': {'value': '5bbwl-1xk8-dg5-6fc', '@class': 'java.util.HashMap'}}][90152-route->8328],\n",
       " e[{'@type': 'janusgraph:RelationIdentifier', '@value': {'value': '5bcp1-1xk8-dg5-coo', '@class': 'java.util.HashMap'}}][90152-route->16440],\n",
       " e[{'@type': 'janusgraph:RelationIdentifier', '@value': {'value': '5bd39-1xk8-dg5-cqw', '@class': 'java.util.HashMap'}}][90152-route->16520],\n",
       " e[{'@type': 'janusgraph:RelationIdentifier', '@value': {'value': '5bdhh-1xk8-dg5-j2g', '@class': 'java.util.HashMap'}}][90152-route->24712],\n",
       " e[{'@type': 'janusgraph:RelationIdentifier', '@value': {'value': '5bdvp-1xk8-dg5-pbs', '@class': 'java.util.HashMap'}}][90152-route->32824],\n",
       " e[{'@type': 'janusgraph:RelationIdentifier', '@value': {'value': '5bhtx-1xk8-dg5-vnc', '@class': 'java.util.HashMap'}}][90152-route->41016],\n",
       " e[{'@type': 'janusgraph:RelationIdentifier', '@value': {'value': '5bh1h-1xk8-dg5-vrc', '@class': 'java.util.HashMap'}}][90152-route->41160],\n",
       " e[{'@type': 'janusgraph:RelationIdentifier', '@value': {'value': '5bhfp-1xk8-dg5-yx4', '@class': 'java.util.HashMap'}}][90152-route->45256],\n",
       " e[{'@type': 'janusgraph:RelationIdentifier', '@value': {'value': '5bimd-1xk8-dg5-11yw', '@class': 'java.util.HashMap'}}][90152-route->49208],\n",
       " e[{'@type': 'janusgraph:RelationIdentifier', '@value': {'value': '5bkzp-1xk8-dg5-1bg8', '@class': 'java.util.HashMap'}}][90152-route->61496],\n",
       " e[{'@type': 'janusgraph:RelationIdentifier', '@value': {'value': '5bmkl-1xk8-dg5-1big', '@class': 'java.util.HashMap'}}][90152-route->61576],\n",
       " e[{'@type': 'janusgraph:RelationIdentifier', '@value': {'value': '5bj0l-1xk8-dg5-1eq0', '@class': 'java.util.HashMap'}}][90152-route->65736],\n",
       " e[{'@type': 'janusgraph:RelationIdentifier', '@value': {'value': '5bjet-1xk8-dg5-1hvs', '@class': 'java.util.HashMap'}}][90152-route->69832],\n",
       " e[{'@type': 'janusgraph:RelationIdentifier', '@value': {'value': '5bls5-1xk8-dg5-1kxk', '@class': 'java.util.HashMap'}}][90152-route->73784],\n",
       " e[{'@type': 'janusgraph:RelationIdentifier', '@value': {'value': '5bjt1-1xk8-dg5-1rd4', '@class': 'java.util.HashMap'}}][90152-route->82120],\n",
       " e[{'@type': 'janusgraph:RelationIdentifier', '@value': {'value': '5bklh-1xk8-dg5-1xoo', '@class': 'java.util.HashMap'}}][90152-route->90312],\n",
       " e[{'@type': 'janusgraph:RelationIdentifier', '@value': {'value': '5bf2d-1xk8-dg5-20q0', '@class': 'java.util.HashMap'}}][90152-route->94248],\n",
       " e[{'@type': 'janusgraph:RelationIdentifier', '@value': {'value': '5bfut-1xk8-dg5-23vs', '@class': 'java.util.HashMap'}}][90152-route->98344],\n",
       " e[{'@type': 'janusgraph:RelationIdentifier', '@value': {'value': '5bgn9-1xk8-dg5-271k', '@class': 'java.util.HashMap'}}][90152-route->102440],\n",
       " e[{'@type': 'janusgraph:RelationIdentifier', '@value': {'value': '5bpc5-1xk8-dg5-2gjc', '@class': 'java.util.HashMap'}}][90152-route->114744],\n",
       " e[{'@type': 'janusgraph:RelationIdentifier', '@value': {'value': '5bnd1-1xk8-dg5-2jt4', '@class': 'java.util.HashMap'}}][90152-route->118984],\n",
       " e[{'@type': 'janusgraph:RelationIdentifier', '@value': {'value': '5bk79-1xk8-dg5-35t4', '@class': 'java.util.HashMap'}}][90152-route->147496],\n",
       " e[{'@type': 'janusgraph:RelationIdentifier', '@value': {'value': '5boxx-1xk8-dg5-3few', '@class': 'java.util.HashMap'}}][90152-route->159944],\n",
       " e[{'@type': 'janusgraph:RelationIdentifier', '@value': {'value': '5bm6d-1xk8-dg5-41ew', '@class': 'java.util.HashMap'}}][90152-route->188456],\n",
       " e[{'@type': 'janusgraph:RelationIdentifier', '@value': {'value': '5bojp-1xk8-dg5-4qp4', '@class': 'java.util.HashMap'}}][90152-route->221224],\n",
       " e[{'@type': 'janusgraph:RelationIdentifier', '@value': {'value': '5bv9h-1xk8-dg5-5j7s', '@class': 'java.util.HashMap'}}][90152-route->258184],\n",
       " e[{'@type': 'janusgraph:RelationIdentifier', '@value': {'value': '5bpqd-1xk8-dg5-6eqw', '@class': 'java.util.HashMap'}}][90152-route->299048],\n",
       " e[{'@type': 'janusgraph:RelationIdentifier', '@value': {'value': '5bq4l-1xk8-dg5-6hwo', '@class': 'java.util.HashMap'}}][90152-route->303144],\n",
       " e[{'@type': 'janusgraph:RelationIdentifier', '@value': {'value': '5brb9-1xk8-dg5-776w', '@class': 'java.util.HashMap'}}][90152-route->335912],\n",
       " e[{'@type': 'janusgraph:RelationIdentifier', '@value': {'value': '5buh1-1xk8-dg5-777c', '@class': 'java.util.HashMap'}}][90152-route->335928],\n",
       " e[{'@type': 'janusgraph:RelationIdentifier', '@value': {'value': '5bw1x-1xk8-dg5-7n08', '@class': 'java.util.HashMap'}}][90152-route->356408],\n",
       " e[{'@type': 'janusgraph:RelationIdentifier', '@value': {'value': '5bwud-1xk8-dg5-82vc', '@class': 'java.util.HashMap'}}][90152-route->376968],\n",
       " e[{'@type': 'janusgraph:RelationIdentifier', '@value': {'value': '5bzlx-1xk8-dg5-8fig', '@class': 'java.util.HashMap'}}][90152-route->393352],\n",
       " e[{'@type': 'janusgraph:RelationIdentifier', '@value': {'value': '5c2rp-1xk8-dg5-8io8', '@class': 'java.util.HashMap'}}][90152-route->397448],\n",
       " e[{'@type': 'janusgraph:RelationIdentifier', '@value': {'value': '5c745-1xk8-dg5-8lu0', '@class': 'java.util.HashMap'}}][90152-route->401544],\n",
       " e[{'@type': 'janusgraph:RelationIdentifier', '@value': {'value': '5c8at-1xk8-dg5-8ozs', '@class': 'java.util.HashMap'}}][90152-route->405640],\n",
       " e[{'@type': 'janusgraph:RelationIdentifier', '@value': {'value': '5cb2d-1xk8-dg5-aczc', '@class': 'java.util.HashMap'}}][90152-route->483384],\n",
       " e[{'@type': 'janusgraph:RelationIdentifier', '@value': {'value': '5byf9-1xk8-dg5-fa2w', '@class': 'java.util.HashMap'}}][90152-route->712904],\n",
       " e[{'@type': 'janusgraph:RelationIdentifier', '@value': {'value': '5byth-1xk8-dg5-fd8o', '@class': 'java.util.HashMap'}}][90152-route->717000],\n",
       " e[{'@type': 'janusgraph:RelationIdentifier', '@value': {'value': '5c0ed-1xk8-dg5-fgeg', '@class': 'java.util.HashMap'}}][90152-route->721096],\n",
       " e[{'@type': 'janusgraph:RelationIdentifier', '@value': {'value': '5c16t-1xk8-dg5-fjk8', '@class': 'java.util.HashMap'}}][90152-route->725192],\n",
       " e[{'@type': 'janusgraph:RelationIdentifier', '@value': {'value': '5c1z9-1xk8-dg5-fmq0', '@class': 'java.util.HashMap'}}][90152-route->729288],\n",
       " e[{'@type': 'janusgraph:RelationIdentifier', '@value': {'value': '5c3k5-1xk8-dg5-fpvs', '@class': 'java.util.HashMap'}}][90152-route->733384],\n",
       " e[{'@type': 'janusgraph:RelationIdentifier', '@value': {'value': '5c5xh-1xk8-dg5-ft1k', '@class': 'java.util.HashMap'}}][90152-route->737480],\n",
       " e[{'@type': 'janusgraph:RelationIdentifier', '@value': {'value': '5c7wl-1xk8-dg5-fw7c', '@class': 'java.util.HashMap'}}][90152-route->741576],\n",
       " e[{'@type': 'janusgraph:RelationIdentifier', '@value': {'value': '5c939-1xk8-dg5-fzd4', '@class': 'java.util.HashMap'}}][90152-route->745672],\n",
       " e[{'@type': 'janusgraph:RelationIdentifier', '@value': {'value': '5cao5-1xk8-dg5-g2iw', '@class': 'java.util.HashMap'}}][90152-route->749768],\n",
       " e[{'@type': 'janusgraph:RelationIdentifier', '@value': {'value': '5buv9-1xk8-dg5-ivjc', '@class': 'java.util.HashMap'}}][90152-route->880680],\n",
       " e[{'@type': 'janusgraph:RelationIdentifier', '@value': {'value': '5bvnp-1xk8-dg5-j50o', '@class': 'java.util.HashMap'}}][90152-route->892968],\n",
       " e[{'@type': 'janusgraph:RelationIdentifier', '@value': {'value': '5bx8l-1xk8-dg5-qfc8', '@class': 'java.util.HashMap'}}][90152-route->1232936],\n",
       " e[{'@type': 'janusgraph:RelationIdentifier', '@value': {'value': '5bxmt-1xk8-dg5-qii0', '@class': 'java.util.HashMap'}}][90152-route->1237032],\n",
       " e[{'@type': 'janusgraph:RelationIdentifier', '@value': {'value': '5c1l1-1xk8-dg5-qlns', '@class': 'java.util.HashMap'}}][90152-route->1241128],\n",
       " e[{'@type': 'janusgraph:RelationIdentifier', '@value': {'value': '5c2dh-1xk8-dg5-qotk', '@class': 'java.util.HashMap'}}][90152-route->1245224],\n",
       " e[{'@type': 'janusgraph:RelationIdentifier', '@value': {'value': '5c35x-1xk8-dg5-qrzc', '@class': 'java.util.HashMap'}}][90152-route->1249320],\n",
       " e[{'@type': 'janusgraph:RelationIdentifier', '@value': {'value': '5c4qt-1xk8-dg5-qv54', '@class': 'java.util.HashMap'}}][90152-route->1253416],\n",
       " e[{'@type': 'janusgraph:RelationIdentifier', '@value': {'value': '5c5j9-1xk8-dg5-qyaw', '@class': 'java.util.HashMap'}}][90152-route->1257512],\n",
       " e[{'@type': 'janusgraph:RelationIdentifier', '@value': {'value': '5c6bp-1xk8-dg5-r1go', '@class': 'java.util.HashMap'}}][90152-route->1261608],\n",
       " e[{'@type': 'janusgraph:RelationIdentifier', '@value': {'value': '5c7id-1xk8-dg5-r4mg', '@class': 'java.util.HashMap'}}][90152-route->1265704],\n",
       " e[{'@type': 'janusgraph:RelationIdentifier', '@value': {'value': '5c9hh-1xk8-dg5-r7s8', '@class': 'java.util.HashMap'}}][90152-route->1269800],\n",
       " e[{'@type': 'janusgraph:RelationIdentifier', '@value': {'value': '5cbut-1xk8-dg5-ray0', '@class': 'java.util.HashMap'}}][90152-route->1273896],\n",
       " e[{'@type': 'janusgraph:RelationIdentifier', '@value': {'value': '5cc91-1xk8-dg5-1lbyg', '@class': 'java.util.HashMap'}}][90152-route->2674888],\n",
       " e[{'@type': 'janusgraph:RelationIdentifier', '@value': {'value': '5ccn9-1xk8-dg5-2gbhk', '@class': 'java.util.HashMap'}}][90152-route->4120616],\n",
       " e[{'@type': 'janusgraph:RelationIdentifier', '@value': {'value': '5bcat-1xk8-dg5-oe09c', '@class': 'java.util.HashMap'}}][90152-route->40964304],\n",
       " e[{'@type': 'janusgraph:RelationIdentifier', '@value': {'value': '5beo5-1xk8-dg5-oe6l4', '@class': 'java.util.HashMap'}}][90152-route->40972504],\n",
       " e[{'@type': 'janusgraph:RelationIdentifier', '@value': {'value': '5bg91-1xk8-dg5-oe9qw', '@class': 'java.util.HashMap'}}][90152-route->40976600],\n",
       " e[{'@type': 'janusgraph:RelationIdentifier', '@value': {'value': '5be9x-1xk8-dg5-oecwg', '@class': 'java.util.HashMap'}}][90152-route->40980688],\n",
       " e[{'@type': 'janusgraph:RelationIdentifier', '@value': {'value': '5bi85-1xk8-dg5-oecwo', '@class': 'java.util.HashMap'}}][90152-route->40980696],\n",
       " e[{'@type': 'janusgraph:RelationIdentifier', '@value': {'value': '5bfgl-1xk8-dg5-oeg28', '@class': 'java.util.HashMap'}}][90152-route->40984784],\n",
       " e[{'@type': 'janusgraph:RelationIdentifier', '@value': {'value': '5bldx-1xk8-dg5-of23c', '@class': 'java.util.HashMap'}}][90152-route->41013336],\n",
       " e[{'@type': 'janusgraph:RelationIdentifier', '@value': {'value': '5bnr9-1xk8-dg5-of26o', '@class': 'java.util.HashMap'}}][90152-route->41013456],\n",
       " e[{'@type': 'janusgraph:RelationIdentifier', '@value': {'value': '5bo5h-1xk8-dg5-of5co', '@class': 'java.util.HashMap'}}][90152-route->41017560],\n",
       " e[{'@type': 'janusgraph:RelationIdentifier', '@value': {'value': '5bmyt-1xk8-dg5-ofeqg', '@class': 'java.util.HashMap'}}][90152-route->41029720],\n",
       " e[{'@type': 'janusgraph:RelationIdentifier', '@value': {'value': '5bqx1-1xk8-dg5-ofob4', '@class': 'java.util.HashMap'}}][90152-route->41042128],\n",
       " e[{'@type': 'janusgraph:RelationIdentifier', '@value': {'value': '5bqit-1xk8-dg5-ofrh4', '@class': 'java.util.HashMap'}}][90152-route->41046232],\n",
       " e[{'@type': 'janusgraph:RelationIdentifier', '@value': {'value': '5bs3p-1xk8-dg5-og7a0', '@class': 'java.util.HashMap'}}][90152-route->41066712],\n",
       " e[{'@type': 'janusgraph:RelationIdentifier', '@value': {'value': '5bshx-1xk8-dg5-ogafs', '@class': 'java.util.HashMap'}}][90152-route->41070808],\n",
       " e[{'@type': 'janusgraph:RelationIdentifier', '@value': {'value': '5brph-1xk8-dg5-ogdi0', '@class': 'java.util.HashMap'}}][90152-route->41074776],\n",
       " e[{'@type': 'janusgraph:RelationIdentifier', '@value': {'value': '5bsw5-1xk8-dg5-oggr4', '@class': 'java.util.HashMap'}}][90152-route->41078992],\n",
       " e[{'@type': 'janusgraph:RelationIdentifier', '@value': {'value': '5btad-1xk8-dg5-ohffc', '@class': 'java.util.HashMap'}}][90152-route->41123928],\n",
       " e[{'@type': 'janusgraph:RelationIdentifier', '@value': {'value': '5btol-1xk8-dg5-ohiog', '@class': 'java.util.HashMap'}}][90152-route->41128144],\n",
       " e[{'@type': 'janusgraph:RelationIdentifier', '@value': {'value': '5bu2t-1xk8-dg5-oieag', '@class': 'java.util.HashMap'}}][90152-route->41169112],\n",
       " e[{'@type': 'janusgraph:RelationIdentifier', '@value': {'value': '5bwg5-1xk8-dg5-olqag', '@class': 'java.util.HashMap'}}][90152-route->41324632],\n",
       " e[{'@type': 'janusgraph:RelationIdentifier', '@value': {'value': '5c6px-1xk8-dg5-om314', '@class': 'java.util.HashMap'}}][90152-route->41341144],\n",
       " e[{'@type': 'janusgraph:RelationIdentifier', '@value': {'value': '5c9vp-1xk8-dg5-om66w', '@class': 'java.util.HashMap'}}][90152-route->41345240],\n",
       " e[{'@type': 'janusgraph:RelationIdentifier', '@value': {'value': '5bz7p-1xk8-dg5-omcew', '@class': 'java.util.HashMap'}}][90152-route->41353304],\n",
       " e[{'@type': 'janusgraph:RelationIdentifier', '@value': {'value': '5c005-1xk8-dg5-omfko', '@class': 'java.util.HashMap'}}][90152-route->41357400],\n",
       " e[{'@type': 'janusgraph:RelationIdentifier', '@value': {'value': '5c4cl-1xk8-dg5-omiqg', '@class': 'java.util.HashMap'}}][90152-route->41361496],\n",
       " e[{'@type': 'janusgraph:RelationIdentifier', '@value': {'value': '5c551-1xk8-dg5-omlw8', '@class': 'java.util.HashMap'}}][90152-route->41365592],\n",
       " e[{'@type': 'janusgraph:RelationIdentifier', '@value': {'value': '5cbgl-1xk8-dg5-omp20', '@class': 'java.util.HashMap'}}][90152-route->41369688],\n",
       " e[{'@type': 'janusgraph:RelationIdentifier', '@value': {'value': '5by11-1xk8-dg5-omp5c', '@class': 'java.util.HashMap'}}][90152-route->41369808],\n",
       " e[{'@type': 'janusgraph:RelationIdentifier', '@value': {'value': '5c0sl-1xk8-dg5-omsb4', '@class': 'java.util.HashMap'}}][90152-route->41373904],\n",
       " e[{'@type': 'janusgraph:RelationIdentifier', '@value': {'value': '5c3yd-1xk8-dg5-omvgw', '@class': 'java.util.HashMap'}}][90152-route->41378000],\n",
       " e[{'@type': 'janusgraph:RelationIdentifier', '@value': {'value': '5c8p1-1xk8-dg5-omymo', '@class': 'java.util.HashMap'}}][90152-route->41382096],\n",
       " e[{'@type': 'janusgraph:RelationIdentifier', '@value': {'value': '5ca9x-1xk8-dg5-on1sg', '@class': 'java.util.HashMap'}}][90152-route->41386192],\n",
       " e[{'@type': 'janusgraph:RelationIdentifier', '@value': {'value': 'qm423-omp20-dg5-1xk8', '@class': 'java.util.HashMap'}}][41369688-route->90152],\n",
       " e[{'@type': 'janusgraph:RelationIdentifier', '@value': {'value': 'qm4gb-omp20-dg5-q5vc', '@class': 'java.util.HashMap'}}][41369688-route->1220664],\n",
       " e[{'@type': 'janusgraph:RelationIdentifier', '@value': {'value': '7zrb9-ray0-dg5-vnc', '@class': 'java.util.HashMap'}}][1273896-route->41016],\n",
       " e[{'@type': 'janusgraph:RelationIdentifier', '@value': {'value': '7zqit-ray0-dg5-1xk8', '@class': 'java.util.HashMap'}}][1273896-route->90152],\n",
       " e[{'@type': 'janusgraph:RelationIdentifier', '@value': {'value': '7zrph-ray0-dg5-2jt4', '@class': 'java.util.HashMap'}}][1273896-route->118984],\n",
       " e[{'@type': 'janusgraph:RelationIdentifier', '@value': {'value': '7zs3p-ray0-dg5-fgeg', '@class': 'java.util.HashMap'}}][1273896-route->721096],\n",
       " e[{'@type': 'janusgraph:RelationIdentifier', '@value': {'value': '7zshx-ray0-dg5-r7s8', '@class': 'java.util.HashMap'}}][1273896-route->1269800],\n",
       " e[{'@type': 'janusgraph:RelationIdentifier', '@value': {'value': '7zqx1-ray0-dg5-oe6l4', '@class': 'java.util.HashMap'}}][1273896-route->40972504],\n",
       " e[{'@type': 'janusgraph:RelationIdentifier', '@value': {'value': 'qmnff-om66w-dg5-vnc', '@class': 'java.util.HashMap'}}][41345240-route->41016],\n",
       " e[{'@type': 'janusgraph:RelationIdentifier', '@value': {'value': 'qmn17-om66w-dg5-1xk8', '@class': 'java.util.HashMap'}}][41345240-route->90152],\n",
       " e[{'@type': 'janusgraph:RelationIdentifier', '@value': {'value': 'qmo7v-om66w-dg5-2ha94', '@class': 'java.util.HashMap'}}][41345240-route->4165672],\n",
       " e[{'@type': 'janusgraph:RelationIdentifier', '@value': {'value': 'qmntn-om66w-dg5-omcew', '@class': 'java.util.HashMap'}}][41345240-route->41353304],\n",
       " e[{'@type': 'janusgraph:RelationIdentifier', '@value': {'value': 'qyk2i-omymo-dg5-1xk8', '@class': 'java.util.HashMap'}}][41382096-route->90152],\n",
       " e[{'@type': 'janusgraph:RelationIdentifier', '@value': {'value': 'qykgq-omymo-dg5-qlns', '@class': 'java.util.HashMap'}}][41382096-route->1241128],\n",
       " e[{'@type': 'janusgraph:RelationIdentifier', '@value': {'value': '31p1j-q5vc-dg5-omp20', '@class': 'java.util.HashMap'}}][1220664-route->41369688],\n",
       " e[{'@type': 'janusgraph:RelationIdentifier', '@value': {'value': '4tsm1-fd8o-dg5-vnc', '@class': 'java.util.HashMap'}}][717000-route->41016],\n",
       " e[{'@type': 'janusgraph:RelationIdentifier', '@value': {'value': '4ts7t-fd8o-dg5-1xk8', '@class': 'java.util.HashMap'}}][717000-route->90152],\n",
       " e[{'@type': 'janusgraph:RelationIdentifier', '@value': {'value': '7zgn9-qlns-dg5-1xk8', '@class': 'java.util.HashMap'}}][1241128-route->90152],\n",
       " e[{'@type': 'janusgraph:RelationIdentifier', '@value': {'value': '7zh1h-qlns-dg5-omymo', '@class': 'java.util.HashMap'}}][1241128-route->41382096],\n",
       " e[{'@type': 'janusgraph:RelationIdentifier', '@value': {'value': '5dezd-1lbyg-dg5-vnc', '@class': 'java.util.HashMap'}}][2674888-route->41016],\n",
       " e[{'@type': 'janusgraph:RelationIdentifier', '@value': {'value': '5del5-1lbyg-dg5-1xk8', '@class': 'java.util.HashMap'}}][2674888-route->90152],\n",
       " e[{'@type': 'janusgraph:RelationIdentifier', '@value': {'value': '5dfdl-1lbyg-dg5-om314', '@class': 'java.util.HashMap'}}][2674888-route->41341144],\n",
       " e[{'@type': 'janusgraph:RelationIdentifier', '@value': {'value': 'qlyiz-omcew-dg5-1xk8', '@class': 'java.util.HashMap'}}][41353304-route->90152],\n",
       " e[{'@type': 'janusgraph:RelationIdentifier', '@value': {'value': 'qlyx7-omcew-dg5-6eqw', '@class': 'java.util.HashMap'}}][41353304-route->299048],\n",
       " e[{'@type': 'janusgraph:RelationIdentifier', '@value': {'value': 'qlzbf-omcew-dg5-ft1k', '@class': 'java.util.HashMap'}}][41353304-route->737480],\n",
       " e[{'@type': 'janusgraph:RelationIdentifier', '@value': {'value': 'qlzpn-omcew-dg5-om66w', '@class': 'java.util.HashMap'}}][41353304-route->41345240],\n",
       " e[{'@type': 'janusgraph:RelationIdentifier', '@value': {'value': '7zpqd-r7s8-dg5-vnc', '@class': 'java.util.HashMap'}}][1269800-route->41016],\n",
       " e[{'@type': 'janusgraph:RelationIdentifier', '@value': {'value': '7zoxx-r7s8-dg5-1xk8', '@class': 'java.util.HashMap'}}][1269800-route->90152],\n",
       " e[{'@type': 'janusgraph:RelationIdentifier', '@value': {'value': '7zq4l-r7s8-dg5-ray0', '@class': 'java.util.HashMap'}}][1269800-route->1273896],\n",
       " e[{'@type': 'janusgraph:RelationIdentifier', '@value': {'value': '7zpc5-r7s8-dg5-oe6l4', '@class': 'java.util.HashMap'}}][1269800-route->40972504],\n",
       " e[{'@type': 'janusgraph:RelationIdentifier', '@value': {'value': '4u6ft-fzd4-dg5-vnc', '@class': 'java.util.HashMap'}}][745672-route->41016],\n",
       " e[{'@type': 'janusgraph:RelationIdentifier', '@value': {'value': '4u61l-fzd4-dg5-1xk8', '@class': 'java.util.HashMap'}}][745672-route->90152],\n",
       " e[{'@type': 'janusgraph:RelationIdentifier', '@value': {'value': '4u6u1-fzd4-dg5-fpvs', '@class': 'java.util.HashMap'}}][745672-route->733384],\n",
       " e[{'@type': 'janusgraph:RelationIdentifier', '@value': {'value': '4u789-fzd4-dg5-2ha94', '@class': 'java.util.HashMap'}}][745672-route->4165672],\n",
       " e[{'@type': 'janusgraph:RelationIdentifier', '@value': {'value': '2fg9d-8io8-dg5-1xk8', '@class': 'java.util.HashMap'}}][397448-route->90152],\n",
       " e[{'@type': 'janusgraph:RelationIdentifier', '@value': {'value': '2fgnl-8io8-dg5-r4mg', '@class': 'java.util.HashMap'}}][397448-route->1265704],\n",
       " e[{'@type': 'janusgraph:RelationIdentifier', '@value': {'value': '4u2vt-fpvs-dg5-vnc', '@class': 'java.util.HashMap'}}][733384-route->41016],\n",
       " e[{'@type': 'janusgraph:RelationIdentifier', '@value': {'value': '4u2hl-fpvs-dg5-1xk8', '@class': 'java.util.HashMap'}}][733384-route->90152],\n",
       " e[{'@type': 'janusgraph:RelationIdentifier', '@value': {'value': '4u3a1-fpvs-dg5-fzd4', '@class': 'java.util.HashMap'}}][733384-route->745672],\n",
       " e[{'@type': 'janusgraph:RelationIdentifier', '@value': {'value': '7zo5h-r4mg-dg5-1xk8', '@class': 'java.util.HashMap'}}][1265704-route->90152],\n",
       " e[{'@type': 'janusgraph:RelationIdentifier', '@value': {'value': '7zojp-r4mg-dg5-8io8', '@class': 'java.util.HashMap'}}][1265704-route->397448],\n",
       " e[{'@type': 'janusgraph:RelationIdentifier', '@value': {'value': '7zk79-qv54-dg5-vnc', '@class': 'java.util.HashMap'}}][1253416-route->41016],\n",
       " e[{'@type': 'janusgraph:RelationIdentifier', '@value': {'value': '7zjet-qv54-dg5-1xk8', '@class': 'java.util.HashMap'}}][1253416-route->90152],\n",
       " e[{'@type': 'janusgraph:RelationIdentifier', '@value': {'value': '7zjt1-qv54-dg5-oe6l4', '@class': 'java.util.HashMap'}}][1253416-route->40972504],\n",
       " e[{'@type': 'janusgraph:RelationIdentifier', '@value': {'value': 'qyjoa-omvgw-dg5-1xk8', '@class': 'java.util.HashMap'}}][41378000-route->90152],\n",
       " e[{'@type': 'janusgraph:RelationIdentifier', '@value': {'value': '3sqhl-2jt4-dg5-pbs', '@class': 'java.util.HashMap'}}][118984-route->32824],\n",
       " e[{'@type': 'janusgraph:RelationIdentifier', '@value': {'value': '3ssgp-2jt4-dg5-11yw', '@class': 'java.util.HashMap'}}][118984-route->49208],\n",
       " e[{'@type': 'janusgraph:RelationIdentifier', '@value': {'value': '3ssux-2jt4-dg5-1eq0', '@class': 'java.util.HashMap'}}][118984-route->65736],\n",
       " e[{'@type': 'janusgraph:RelationIdentifier', '@value': {'value': '3st95-2jt4-dg5-1hvs', '@class': 'java.util.HashMap'}}][118984-route->69832],\n",
       " e[{'@type': 'janusgraph:RelationIdentifier', '@value': {'value': '3sqvt-2jt4-dg5-1xk8', '@class': 'java.util.HashMap'}}][118984-route->90152],\n",
       " e[{'@type': 'janusgraph:RelationIdentifier', '@value': {'value': '3ss2h-2jt4-dg5-271k', '@class': 'java.util.HashMap'}}][118984-route->102440],\n",
       " e[{'@type': 'janusgraph:RelationIdentifier', '@value': {'value': '3su1l-2jt4-dg5-5pgo', '@class': 'java.util.HashMap'}}][118984-route->266280],\n",
       " e[{'@type': 'janusgraph:RelationIdentifier', '@value': {'value': '3suft-2jt4-dg5-6eqw', '@class': 'java.util.HashMap'}}][118984-route->299048],\n",
       " e[{'@type': 'janusgraph:RelationIdentifier', '@value': {'value': '3sv89-2jt4-dg5-aczc', '@class': 'java.util.HashMap'}}][118984-route->483384],\n",
       " e[{'@type': 'janusgraph:RelationIdentifier', '@value': {'value': '3suu1-2jt4-dg5-ivjc', '@class': 'java.util.HashMap'}}][118984-route->880680],\n",
       " e[{'@type': 'janusgraph:RelationIdentifier', '@value': {'value': '3svmh-2jt4-dg5-ray0', '@class': 'java.util.HashMap'}}][118984-route->1273896],\n",
       " e[{'@type': 'janusgraph:RelationIdentifier', '@value': {'value': '3sw0p-2jt4-dg5-12jhk', '@class': 'java.util.HashMap'}}][118984-route->1798184],\n",
       " e[{'@type': 'janusgraph:RelationIdentifier', '@value': {'value': '3sro9-2jt4-dg5-oe6l4', '@class': 'java.util.HashMap'}}][118984-route->40972504],\n",
       " e[{'@type': 'janusgraph:RelationIdentifier', '@value': {'value': '3sra1-2jt4-dg5-oecwg', '@class': 'java.util.HashMap'}}][118984-route->40980688],\n",
       " e[{'@type': 'janusgraph:RelationIdentifier', '@value': {'value': '3stnd-2jt4-dg5-of26o', '@class': 'java.util.HashMap'}}][118984-route->41013456]]"
      ]
     },
     "execution_count": 7,
     "metadata": {},
     "output_type": "execute_result"
    }
   ],
   "source": [
    "g.V().has('region', 'AU-NSW').outE('route').fold().next()"
   ]
  },
  {
   "cell_type": "markdown",
   "metadata": {},
   "source": [
    "## inE(), outV(), in()\n",
    "\n",
    "__Get places where there is a route to Sydney__"
   ]
  },
  {
   "cell_type": "code",
   "execution_count": 8,
   "metadata": {
    "scrolled": true
   },
   "outputs": [
    {
     "name": "stdout",
     "output_type": "stream",
     "text": [
      "Dallas/Fort Worth International Airport\n",
      "San Francisco International Airport\n",
      "Honolulu International Airport\n",
      "Vancouver\n",
      "Tokyo Narita\n",
      "Brisbane International Airport\n",
      "Beijing Capital International Airport\n",
      "Wellington International Airport\n",
      "Kuala Lumpur International Airport\n",
      "Doha, Hamad International Airport\n",
      "Ayers Rock Connellan Airport\n",
      "Christchurch International Airport\n",
      "Canberra International Airport\n",
      "Johannesburg, OR Tambo International Airport\n",
      "Manila, Ninoy Aquino International Airport\n",
      "Tokyo Haneda International Airport\n",
      "Dubai International Airport\n",
      "Hong Kong - Chek Lap Kok International Airport\n",
      "Auckland International Airport\n",
      "Taiwan Taoyuan International Airport\n",
      "Gold Coast Airport\n",
      "Suvarnabhumi Bangkok International Airport\n",
      "Sunshine Coast Airport\n",
      "Santiago, Comodoro Arturo Merino Benitez International Airport\n",
      "Ho Chi Minh City, Tan Son Nhat International Airport\n",
      "Kunming Wujiaba International Airport\n",
      "Adelaide International Airport\n",
      "Darwin International Airport\n",
      "Guangzhou Baiyun International Airport\n",
      "Changsha Huanghua International Airport\n",
      "La Tontouta International Airport\n",
      "Xi'an Xianyang International Airport\n",
      "Hamilton Island Airport\n",
      "Griffith Airport\n",
      "Moruya Airport\n",
      "Karratha Airport\n",
      "Wagga Wagga City Airport\n",
      "Queenstown International Airport\n",
      "Armidale Airport\n",
      "Ballina Byron Gateway Airport\n",
      "Broome International Airport\n",
      "Townsville Airport\n",
      "Lord Howe Island Airport\n",
      "Mildura Airport\n",
      "Orange Airport\n",
      "Port Macquarie Airport\n",
      "Tamworth Airport\n",
      "Wuhan Tianhe International Airport\n",
      "Chongqing Jiangbei International Airport\n",
      "Nausori International Airport\n",
      "Fua'amotu International Airport\n",
      "Bathurst Airport\n",
      "Gladstone Airport\n",
      "Hervey Bay Airport\n",
      "Albury Airport\n",
      "Hobart International Airport\n",
      "Launceston Airport\n",
      "Narrandera Airport\n",
      "Coffs Harbour Airport\n",
      "Newcastle Airport\n",
      "Narrabri Airport\n",
      "Brisbane West Wellcamp Airport\n",
      "Los Angeles International Airport\n",
      "Melbourne International Airport\n",
      "Perth International Airport\n",
      "Singapore, Changi International Airport\n",
      "Shanghai - Pudong International Airport\n",
      "Indira Gandhi International Airport\n",
      "Seoul, Incheon International Airport\n",
      "Cairns International Airport\n",
      "Abu Dhabi International Airport\n",
      "Alice Springs Airport\n",
      "Soekarno-Hatta International Airport\n",
      "Bali - Ngurah Rai International Airport\n",
      "Fiji, Nadi International Airport\n",
      "Nanjing Lukou Airport\n",
      "Phuket International Airport\n",
      "Chengdu Shuangliu International Airport\n",
      "Port Moresby Jacksons International Airport\n",
      "Noi Bai International Airport\n",
      "Hangzhou Xiaoshan International Airport\n",
      "Rarotonga International Airport\n",
      "Moree Airport\n",
      "Dubbo City Regional Airport\n",
      "Broken Hill Airport\n",
      "Mackay Airport\n",
      "Avalon Airport\n",
      "Merimbula Airport\n",
      "Taree Airport\n",
      "Port Vila Bauerfield Airport\n",
      "Proserpine Whitsunday Coast Airport\n",
      "Lismore Airport\n",
      "Parkes Airport\n",
      "Norfolk Island International Airport\n"
     ]
    }
   ],
   "source": [
    "r = g.V(sydneyVertexId).inE('route').outV().values('desc')\n",
    "x1 = g.V(sydneyVertexId).inE('route').outV().count().next()\n",
    "for u in range(x1):\n",
    "    print(r.next())"
   ]
  },
  {
   "cell_type": "markdown",
   "metadata": {},
   "source": [
    "__\"in()\" is the same as calling \"inE().outV()\"__"
   ]
  },
  {
   "cell_type": "code",
   "execution_count": 9,
   "metadata": {
    "scrolled": true
   },
   "outputs": [],
   "source": [
    "x2 = g.V(sydneyVertexId).in_('route').count().next()\n",
    "assert x1 == x2"
   ]
  },
  {
   "cell_type": "markdown",
   "metadata": {},
   "source": [
    "__Getting the outgoing vertex of the route that comes out of Sydney is Sydney itself__"
   ]
  },
  {
   "cell_type": "code",
   "execution_count": 10,
   "metadata": {},
   "outputs": [
    {
     "data": {
      "text/plain": [
       "'Sydney Kingsford Smith'"
      ]
     },
     "execution_count": 10,
     "metadata": {},
     "output_type": "execute_result"
    }
   ],
   "source": [
    "g.V(sydneyVertexId).outE('route').outV().values('desc').next()"
   ]
  },
  {
   "cell_type": "markdown",
   "metadata": {},
   "source": [
    "## hasNext()\n",
    "True if there is a route from Sydney to Hong Kong"
   ]
  },
  {
   "cell_type": "code",
   "execution_count": 11,
   "metadata": {},
   "outputs": [],
   "source": [
    "#r = g.V(sydneyVertexId).out('route').has('code','HKG')\n",
    "#r.hasNext()"
   ]
  }
 ],
 "metadata": {
  "kernelspec": {
   "display_name": "Python 3",
   "language": "python",
   "name": "python3"
  },
  "language_info": {
   "codemirror_mode": {
    "name": "ipython",
    "version": 3
   },
   "file_extension": ".py",
   "mimetype": "text/x-python",
   "name": "python",
   "nbconvert_exporter": "python",
   "pygments_lexer": "ipython3",
   "version": "3.6.5"
  }
 },
 "nbformat": 4,
 "nbformat_minor": 2
}
