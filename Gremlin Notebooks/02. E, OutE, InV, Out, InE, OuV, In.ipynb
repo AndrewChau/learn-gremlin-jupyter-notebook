{
 "cells": [
  {
   "cell_type": "markdown",
   "metadata": {},
   "source": [
    "# 2. E, OutE, InV, Out, InE, OuV, In\n",
    "#### By Kwan Yin Andrew Chau"
   ]
  },
  {
   "cell_type": "code",
   "execution_count": 1,
   "metadata": {},
   "outputs": [],
   "source": [
    "import nbfinder\n",
    "from loader import g\n",
    "from loader import sydneyVertexId"
   ]
  },
  {
   "cell_type": "markdown",
   "metadata": {},
   "source": [
    "__Count of edges with the label \"route\"__"
   ]
  },
  {
   "cell_type": "code",
   "execution_count": 2,
   "metadata": {},
   "outputs": [
    {
     "data": {
      "text/plain": [
       "43400"
      ]
     },
     "execution_count": 2,
     "metadata": {},
     "output_type": "execute_result"
    }
   ],
   "source": [
    "g.E().hasLabel('route').count().next()"
   ]
  },
  {
   "cell_type": "markdown",
   "metadata": {},
   "source": [
    "__Count of edges that is coming out of vertices with the label \"airport\"__"
   ]
  },
  {
   "cell_type": "code",
   "execution_count": 3,
   "metadata": {},
   "outputs": [
    {
     "data": {
      "text/plain": [
       "43400"
      ]
     },
     "execution_count": 3,
     "metadata": {},
     "output_type": "execute_result"
    }
   ],
   "source": [
    "g.V().hasLabel('airport').outE().count().next()"
   ]
  },
  {
   "cell_type": "markdown",
   "metadata": {},
   "source": [
    "## outE(), inV(), out()\n",
    "\n",
    "__Count of edges with the label \"route\" that is coming out of a vertex__"
   ]
  },
  {
   "cell_type": "code",
   "execution_count": 4,
   "metadata": {},
   "outputs": [
    {
     "data": {
      "text/plain": [
       "43400"
      ]
     },
     "execution_count": 4,
     "metadata": {},
     "output_type": "execute_result"
    }
   ],
   "source": [
    "g.V().outE('route').valueMap().count().next()"
   ]
  },
  {
   "cell_type": "markdown",
   "metadata": {},
   "source": [
    "__Get destinations where there is a route from Sydney__"
   ]
  },
  {
   "cell_type": "code",
   "execution_count": 5,
   "metadata": {
    "scrolled": true
   },
   "outputs": [
    {
     "name": "stdout",
     "output_type": "stream",
     "text": [
      "Los Angeles International Airport\n",
      "Dallas/Fort Worth International Airport\n",
      "Tokyo Narita\n",
      "Brisbane International Airport\n",
      "San Francisco International Airport\n",
      "Melbourne International Airport\n",
      "Suvarnabhumi Bangkok International Airport\n",
      "Dubai International Airport\n",
      "Wellington International Airport\n",
      "Seoul, Incheon International Airport\n",
      "Honolulu International Airport\n",
      "Hong Kong - Chek Lap Kok International Airport\n",
      "Singapore, Changi International Airport\n",
      "Auckland International Airport\n",
      "Beijing Capital International Airport\n",
      "Perth International Airport\n",
      "Christchurch International Airport\n",
      "Canberra International Airport\n",
      "Kuala Lumpur International Airport\n",
      "Vancouver\n",
      "Indira Gandhi International Airport\n",
      "Shanghai - Pudong International Airport\n",
      "Tokyo Haneda International Airport\n",
      "Darwin International Airport\n",
      "Santiago, Comodoro Arturo Merino Benitez International Airport\n",
      "Gold Coast Airport\n",
      "Johannesburg, OR Tambo International Airport\n",
      "Ho Chi Minh City, Tan Son Nhat International Airport\n",
      "Ayers Rock Connellan Airport\n",
      "Bali - Ngurah Rai International Airport\n",
      "Manila, Ninoy Aquino International Airport\n",
      "Doha, Hamad International Airport\n",
      "Adelaide International Airport\n",
      "Abu Dhabi International Airport\n",
      "Soekarno-Hatta International Airport\n",
      "Nanjing Lukou Airport\n",
      "Fiji, Nadi International Airport\n",
      "Alice Springs Airport\n",
      "Noi Bai International Airport\n",
      "Cairns International Airport\n",
      "Sunshine Coast Airport\n",
      "Taiwan Taoyuan International Airport\n",
      "Port Moresby Jacksons International Airport\n",
      "Guangzhou Baiyun International Airport\n",
      "Hangzhou Xiaoshan International Airport\n",
      "Phuket International Airport\n",
      "Changsha Huanghua International Airport\n",
      "Chongqing Jiangbei International Airport\n",
      "Chengdu Shuangliu International Airport\n",
      "Kunming Wujiaba International Airport\n",
      "Rarotonga International Airport\n",
      "Orange Airport\n",
      "La Tontouta International Airport\n",
      "Coffs Harbour Airport\n",
      "Armidale Airport\n",
      "Ballina Byron Gateway Airport\n",
      "Townsville Airport\n",
      "Lord Howe Island Airport\n",
      "Queenstown International Airport\n",
      "Broome International Airport\n",
      "Merimbula Airport\n",
      "Broken Hill Airport\n",
      "Avalon Airport\n",
      "Wagga Wagga City Airport\n",
      "Proserpine Whitsunday Coast Airport\n",
      "Lismore Airport\n",
      "Parkes Airport\n",
      "Taree Airport\n",
      "Bathurst Airport\n",
      "Moruya Airport\n",
      "Moree Airport\n",
      "Dubbo City Regional Airport\n",
      "Xi'an Xianyang International Airport\n",
      "Port Macquarie Airport\n",
      "Wuhan Tianhe International Airport\n",
      "Fua'amotu International Airport\n",
      "Port Vila Bauerfield Airport\n",
      "Gladstone Airport\n",
      "Hervey Bay Airport\n",
      "Albury Airport\n",
      "Launceston Airport\n",
      "Narrandera Airport\n",
      "Karratha Airport\n",
      "Nausori International Airport\n",
      "Hamilton Island Airport\n",
      "Mackay Airport\n",
      "Griffith Airport\n",
      "Hobart International Airport\n",
      "Mildura Airport\n",
      "Norfolk Island International Airport\n",
      "Tamworth Airport\n",
      "Newcastle Airport\n",
      "Narrabri Airport\n",
      "Brisbane West Wellcamp Airport\n"
     ]
    }
   ],
   "source": [
    "results = g.V(sydneyVertexId).outE('route').inV().values('desc')\n",
    "count = g.V(sydneyVertexId).outE('route').inV().count().next()\n",
    "for c in range(count):\n",
    "    print(results.next())"
   ]
  },
  {
   "cell_type": "markdown",
   "metadata": {},
   "source": [
    "__\"out()\" is the same as calling \"outE()\" and then \"inV()\"__"
   ]
  },
  {
   "cell_type": "code",
   "execution_count": 6,
   "metadata": {},
   "outputs": [],
   "source": [
    "sameCount = g.V(sydneyVertexId).out('route').count().next()\n",
    "assert sameCount == count"
   ]
  },
  {
   "cell_type": "markdown",
   "metadata": {},
   "source": [
    "__Get routes from airports that have the region \"AU-NSW\"__"
   ]
  },
  {
   "cell_type": "code",
   "execution_count": 7,
   "metadata": {},
   "outputs": [
    {
     "data": {
      "text/plain": [
       "[e[{'@type': 'janusgraph:RelationIdentifier', '@value': {'relationId': '1nqpx-m5k-dg5-3bs'}}][28712-route->4312],\n",
       " e[{'@type': 'janusgraph:RelationIdentifier', '@value': {'relationId': '1nqbp-m5k-dg5-6fs'}}][28712-route->8344],\n",
       " e[{'@type': 'janusgraph:RelationIdentifier', '@value': {'relationId': '1nsat-m5k-dg5-9j4'}}][28712-route->12352],\n",
       " e[{'@type': 'janusgraph:RelationIdentifier', '@value': {'relationId': '1nw91-m5k-dg5-cow'}}][28712-route->16448],\n",
       " e[{'@type': 'janusgraph:RelationIdentifier', '@value': {'relationId': '1nr45-m5k-dg5-cqg'}}][28712-route->16504],\n",
       " e[{'@type': 'janusgraph:RelationIdentifier', '@value': {'relationId': '1nt39-m5k-dg5-ct4'}}][28712-route->16600],\n",
       " e[{'@type': 'janusgraph:RelationIdentifier', '@value': {'relationId': '1nymd-m5k-dg5-fuo'}}][28712-route->20544],\n",
       " e[{'@type': 'janusgraph:RelationIdentifier', '@value': {'relationId': '1nthh-m5k-dg5-fyw'}}][28712-route->20696],\n",
       " e[{'@type': 'janusgraph:RelationIdentifier', '@value': {'relationId': '1nvut-m5k-dg5-j4o'}}][28712-route->24792],\n",
       " e[{'@type': 'janusgraph:RelationIdentifier', '@value': {'relationId': '1nzt1-m5k-dg5-m68'}}][28712-route->28736],\n",
       " e[{'@type': 'janusgraph:RelationIdentifier', '@value': {'relationId': '1nrid-m5k-dg5-m8o'}}][28712-route->28824],\n",
       " e[{'@type': 'janusgraph:RelationIdentifier', '@value': {'relationId': '1nu9x-m5k-dg5-pag'}}][28712-route->32776],\n",
       " e[{'@type': 'janusgraph:RelationIdentifier', '@value': {'relationId': '1nsp1-m5k-dg5-pbc'}}][28712-route->32808],\n",
       " e[{'@type': 'janusgraph:RelationIdentifier', '@value': {'relationId': '1nv2d-m5k-dg5-pdk'}}][28712-route->32888],\n",
       " e[{'@type': 'janusgraph:RelationIdentifier', '@value': {'relationId': '1nvgl-m5k-dg5-sh4'}}][28712-route->36904],\n",
       " e[{'@type': 'janusgraph:RelationIdentifier', '@value': {'relationId': '1nuo5-m5k-dg5-sk8'}}][28712-route->37016],\n",
       " e[{'@type': 'janusgraph:RelationIdentifier', '@value': {'relationId': '1nxfp-m5k-dg5-vp4'}}][28712-route->41080],\n",
       " e[{'@type': 'janusgraph:RelationIdentifier', '@value': {'relationId': '1nxtx-m5k-dg5-yuw'}}][28712-route->45176],\n",
       " e[{'@type': 'janusgraph:RelationIdentifier', '@value': {'relationId': '1nx1h-m5k-dg5-ywo'}}][28712-route->45240],\n",
       " e[{'@type': 'janusgraph:RelationIdentifier', '@value': {'relationId': '1nrwl-m5k-dg5-11yo'}}][28712-route->49200],\n",
       " e[{'@type': 'janusgraph:RelationIdentifier', '@value': {'relationId': '1ntvp-m5k-dg5-154g'}}][28712-route->53296],\n",
       " e[{'@type': 'janusgraph:RelationIdentifier', '@value': {'relationId': '1nwn9-m5k-dg5-18a8'}}][28712-route->57392],\n",
       " e[{'@type': 'janusgraph:RelationIdentifier', '@value': {'relationId': '1nz0l-m5k-dg5-18d4'}}][28712-route->57496],\n",
       " e[{'@type': 'janusgraph:RelationIdentifier', '@value': {'relationId': '1o4jp-m5k-dg5-1bgg'}}][28712-route->61504],\n",
       " e[{'@type': 'janusgraph:RelationIdentifier', '@value': {'relationId': '1o0lh-m5k-dg5-1hug'}}][28712-route->69784],\n",
       " e[{'@type': 'janusgraph:RelationIdentifier', '@value': {'relationId': '1o1s5-m5k-dg5-1hw8'}}][28712-route->69848],\n",
       " e[{'@type': 'janusgraph:RelationIdentifier', '@value': {'relationId': '1o079-m5k-dg5-1o54'}}][28712-route->77944],\n",
       " e[{'@type': 'janusgraph:RelationIdentifier', '@value': {'relationId': '1o2yt-m5k-dg5-1r8o'}}][28712-route->81960],\n",
       " e[{'@type': 'janusgraph:RelationIdentifier', '@value': {'relationId': '1o0zp-m5k-dg5-1xo8'}}][28712-route->90296],\n",
       " e[{'@type': 'janusgraph:RelationIdentifier', '@value': {'relationId': '1o4xx-m5k-dg5-20p4'}}][28712-route->94216],\n",
       " e[{'@type': 'janusgraph:RelationIdentifier', '@value': {'relationId': '1ny85-m5k-dg5-20q8'}}][28712-route->94256],\n",
       " e[{'@type': 'janusgraph:RelationIdentifier', '@value': {'relationId': '1nzet-m5k-dg5-271s'}}][28712-route->102448],\n",
       " e[{'@type': 'janusgraph:RelationIdentifier', '@value': {'relationId': '1o45h-m5k-dg5-2giw'}}][28712-route->114728],\n",
       " e[{'@type': 'janusgraph:RelationIdentifier', '@value': {'relationId': '1o2kl-m5k-dg5-2gl4'}}][28712-route->114808],\n",
       " e[{'@type': 'janusgraph:RelationIdentifier', '@value': {'relationId': '1o5c5-m5k-dg5-2jso'}}][28712-route->118968],\n",
       " e[{'@type': 'janusgraph:RelationIdentifier', '@value': {'relationId': '1o6x1-m5k-dg5-2q48'}}][28712-route->127160],\n",
       " e[{'@type': 'janusgraph:RelationIdentifier', '@value': {'relationId': '1o6it-m5k-dg5-2q54'}}][28712-route->127192],\n",
       " e[{'@type': 'janusgraph:RelationIdentifier', '@value': {'relationId': '1o1dx-m5k-dg5-32nk'}}][28712-route->143408],\n",
       " e[{'@type': 'janusgraph:RelationIdentifier', '@value': {'relationId': '1o83p-m5k-dg5-32o0'}}][28712-route->143424],\n",
       " e[{'@type': 'janusgraph:RelationIdentifier', '@value': {'relationId': '1o26d-m5k-dg5-38z4'}}][28712-route->151600],\n",
       " e[{'@type': 'janusgraph:RelationIdentifier', '@value': {'relationId': '1o3d1-m5k-dg5-3os0'}}][28712-route->172080],\n",
       " e[{'@type': 'janusgraph:RelationIdentifier', '@value': {'relationId': '1o3r9-m5k-dg5-3v3k'}}][28712-route->180272],\n",
       " e[{'@type': 'janusgraph:RelationIdentifier', '@value': {'relationId': '1o7ph-m5k-dg5-47tk'}}][28712-route->196760],\n",
       " e[{'@type': 'janusgraph:RelationIdentifier', '@value': {'relationId': '1o5qd-m5k-dg5-4ha0'}}][28712-route->209016],\n",
       " e[{'@type': 'janusgraph:RelationIdentifier', '@value': {'relationId': '1o8hx-m5k-dg5-53fc'}}][28712-route->237720],\n",
       " e[{'@type': 'janusgraph:RelationIdentifier', '@value': {'relationId': '1o64l-m5k-dg5-5j7c'}}][28712-route->258168],\n",
       " e[{'@type': 'janusgraph:RelationIdentifier', '@value': {'relationId': '1o8w5-m5k-dg5-5plk'}}][28712-route->266456],\n",
       " e[{'@type': 'janusgraph:RelationIdentifier', '@value': {'relationId': '1oa2t-m5k-dg5-5spk'}}][28712-route->270488],\n",
       " e[{'@type': 'janusgraph:RelationIdentifier', '@value': {'relationId': '1o7b9-m5k-dg5-6oag'}}][28712-route->311416],\n",
       " e[{'@type': 'janusgraph:RelationIdentifier', '@value': {'relationId': '1o9ol-m5k-dg5-6ujs'}}][28712-route->319528],\n",
       " e[{'@type': 'janusgraph:RelationIdentifier', '@value': {'relationId': '1oav9-m5k-dg5-7myw'}}][28712-route->356360],\n",
       " e[{'@type': 'janusgraph:RelationIdentifier', '@value': {'relationId': '1ombp-m5k-dg5-7n0g'}}][28712-route->356416],\n",
       " e[{'@type': 'janusgraph:RelationIdentifier', '@value': {'relationId': '1oah1-m5k-dg5-7q5k'}}][28712-route->360488],\n",
       " e[{'@type': 'janusgraph:RelationIdentifier', '@value': {'relationId': '1onwl-m5k-dg5-7q68'}}][28712-route->360512],\n",
       " e[{'@type': 'janusgraph:RelationIdentifier', '@value': {'relationId': '1od8l-m5k-dg5-85xk'}}][28712-route->380936],\n",
       " e[{'@type': 'janusgraph:RelationIdentifier', '@value': {'relationId': '1oeth-m5k-dg5-893c'}}][28712-route->385032],\n",
       " e[{'@type': 'janusgraph:RelationIdentifier', '@value': {'relationId': '1oged-m5k-dg5-8c94'}}][28712-route->389128],\n",
       " e[{'@type': 'janusgraph:RelationIdentifier', '@value': {'relationId': '1ohz9-m5k-dg5-8few'}}][28712-route->393224],\n",
       " e[{'@type': 'janusgraph:RelationIdentifier', '@value': {'relationId': '1ocud-m5k-dg5-8fjs'}}][28712-route->393400],\n",
       " e[{'@type': 'janusgraph:RelationIdentifier', '@value': {'relationId': '1oflx-m5k-dg5-8fko'}}][28712-route->393432],\n",
       " e[{'@type': 'janusgraph:RelationIdentifier', '@value': {'relationId': '1ojk5-m5k-dg5-8iko'}}][28712-route->397320],\n",
       " e[{'@type': 'janusgraph:RelationIdentifier', '@value': {'relationId': '1odmt-m5k-dg5-8ipk'}}][28712-route->397496],\n",
       " e[{'@type': 'janusgraph:RelationIdentifier', '@value': {'relationId': '1oirp-m5k-dg5-8iqg'}}][28712-route->397528],\n",
       " e[{'@type': 'janusgraph:RelationIdentifier', '@value': {'relationId': '1ophh-m5k-dg5-8lqg'}}][28712-route->401416],\n",
       " e[{'@type': 'janusgraph:RelationIdentifier', '@value': {'relationId': '1of7p-m5k-dg5-8lug'}}][28712-route->401560],\n",
       " e[{'@type': 'janusgraph:RelationIdentifier', '@value': {'relationId': '1oidh-m5k-dg5-8lvc'}}][28712-route->401592],\n",
       " e[{'@type': 'janusgraph:RelationIdentifier', '@value': {'relationId': '1on45-m5k-dg5-8lw8'}}][28712-route->401624],\n",
       " e[{'@type': 'janusgraph:RelationIdentifier', '@value': {'relationId': '1opvp-m5k-dg5-8ow8'}}][28712-route->405512],\n",
       " e[{'@type': 'janusgraph:RelationIdentifier', '@value': {'relationId': '1og05-m5k-dg5-8p08'}}][28712-route->405656],\n",
       " e[{'@type': 'janusgraph:RelationIdentifier', '@value': {'relationId': '1olj9-m5k-dg5-8p14'}}][28712-route->405688],\n",
       " e[{'@type': 'janusgraph:RelationIdentifier', '@value': {'relationId': '1ol51-m5k-dg5-8s60'}}][28712-route->409752],\n",
       " e[{'@type': 'janusgraph:RelationIdentifier', '@value': {'relationId': '1ooat-m5k-dg5-8s6w'}}][28712-route->409784],\n",
       " e[{'@type': 'janusgraph:RelationIdentifier', '@value': {'relationId': '1ob9h-m5k-dg5-9noo'}}][28712-route->450600],\n",
       " e[{'@type': 'janusgraph:RelationIdentifier', '@value': {'relationId': '1onid-m5k-dg5-a6nc'}}][28712-route->475176],\n",
       " e[{'@type': 'janusgraph:RelationIdentifier', '@value': {'relationId': '1o9ad-m5k-dg5-bi28'}}][28712-route->536624],\n",
       " e[{'@type': 'janusgraph:RelationIdentifier', '@value': {'relationId': '1oc1x-m5k-dg5-gi7k'}}][28712-route->770096],\n",
       " e[{'@type': 'janusgraph:RelationIdentifier', '@value': {'relationId': '1ocg5-m5k-dg5-gldc'}}][28712-route->774192],\n",
       " e[{'@type': 'janusgraph:RelationIdentifier', '@value': {'relationId': '1ogsl-m5k-dg5-goj4'}}][28712-route->778288],\n",
       " e[{'@type': 'janusgraph:RelationIdentifier', '@value': {'relationId': '1ohl1-m5k-dg5-grow'}}][28712-route->782384],\n",
       " e[{'@type': 'janusgraph:RelationIdentifier', '@value': {'relationId': '1oj5x-m5k-dg5-guuo'}}][28712-route->786480],\n",
       " e[{'@type': 'janusgraph:RelationIdentifier', '@value': {'relationId': '1okqt-m5k-dg5-gy0g'}}][28712-route->790576],\n",
       " e[{'@type': 'janusgraph:RelationIdentifier', '@value': {'relationId': '1olxh-m5k-dg5-h168'}}][28712-route->794672],\n",
       " e[{'@type': 'janusgraph:RelationIdentifier', '@value': {'relationId': '1ompx-m5k-dg5-h4c0'}}][28712-route->798768],\n",
       " e[{'@type': 'janusgraph:RelationIdentifier', '@value': {'relationId': '1obnp-m5k-dg5-hzzs'}}][28712-route->839800],\n",
       " e[{'@type': 'janusgraph:RelationIdentifier', '@value': {'relationId': '1oe11-m5k-dg5-i35k'}}][28712-route->843896],\n",
       " e[{'@type': 'janusgraph:RelationIdentifier', '@value': {'relationId': '1oef9-m5k-dg5-i6bc'}}][28712-route->847992],\n",
       " e[{'@type': 'janusgraph:RelationIdentifier', '@value': {'relationId': '1oh6t-m5k-dg5-i9h4'}}][28712-route->852088],\n",
       " e[{'@type': 'janusgraph:RelationIdentifier', '@value': {'relationId': '1ojyd-m5k-dg5-icmw'}}][28712-route->856184],\n",
       " e[{'@type': 'janusgraph:RelationIdentifier', '@value': {'relationId': '1okcl-m5k-dg5-ifso'}}][28712-route->860280],\n",
       " e[{'@type': 'janusgraph:RelationIdentifier', '@value': {'relationId': '1oop1-m5k-dg5-iiyg'}}][28712-route->864376],\n",
       " e[{'@type': 'janusgraph:RelationIdentifier', '@value': {'relationId': '1op39-m5k-dg5-im48'}}][28712-route->868472],\n",
       " e[{'@type': 'janusgraph:RelationIdentifier', '@value': {'relationId': '1oq9x-m5k-dg5-ipa0'}}][28712-route->872568],\n",
       " e[{'@type': 'janusgraph:RelationIdentifier', '@value': {'relationId': '1oqo5-m5k-dg5-ru0o'}}][28712-route->1298616],\n",
       " e[{'@type': 'janusgraph:RelationIdentifier', '@value': {'relationId': '1or2d-m5k-dg5-t8h4'}}][28712-route->1364008],\n",
       " e[{'@type': 'janusgraph:RelationIdentifier', '@value': {'relationId': '53s3q-guuo-dg5-cow'}}][786480-route->16448],\n",
       " e[{'@type': 'janusgraph:RelationIdentifier', '@value': {'relationId': '53rpi-guuo-dg5-ct4'}}][786480-route->16600],\n",
       " e[{'@type': 'janusgraph:RelationIdentifier', '@value': {'relationId': '53rba-guuo-dg5-m5k'}}][786480-route->28712],\n",
       " e[{'@type': 'janusgraph:RelationIdentifier', '@value': {'relationId': '2idqv-8p14-dg5-m5k'}}][405688-route->28712],\n",
       " e[{'@type': 'janusgraph:RelationIdentifier', '@value': {'relationId': '2ie53-8p14-dg5-8iko'}}][405688-route->397320],\n",
       " e[{'@type': 'janusgraph:RelationIdentifier', '@value': {'relationId': '2h9gb-8lw8-dg5-m5k'}}][401624-route->28712],\n",
       " e[{'@type': 'janusgraph:RelationIdentifier', '@value': {'relationId': '2h9uj-8lw8-dg5-8p08'}}][401624-route->405656],\n",
       " e[{'@type': 'janusgraph:RelationIdentifier', '@value': {'relationId': '26sy0-7n0g-dg5-cow'}}][356416-route->16448],\n",
       " e[{'@type': 'janusgraph:RelationIdentifier', '@value': {'relationId': '26sjs-7n0g-dg5-m5k'}}][356416-route->28712],\n",
       " e[{'@type': 'janusgraph:RelationIdentifier', '@value': {'relationId': '53uh2-h168-dg5-m5k'}}][794672-route->28712],\n",
       " e[{'@type': 'janusgraph:RelationIdentifier', '@value': {'relationId': '53uva-h168-dg5-i9h4'}}][794672-route->852088],\n",
       " e[{'@type': 'janusgraph:RelationIdentifier', '@value': {'relationId': '53f2n-i9h4-dg5-m5k'}}][852088-route->28712],\n",
       " e[{'@type': 'janusgraph:RelationIdentifier', '@value': {'relationId': '53fgv-i9h4-dg5-h168'}}][852088-route->794672],\n",
       " e[{'@type': 'janusgraph:RelationIdentifier', '@value': {'relationId': '53lsf-ipa0-dg5-cow'}}][872568-route->16448],\n",
       " e[{'@type': 'janusgraph:RelationIdentifier', '@value': {'relationId': '53le7-ipa0-dg5-ct4'}}][872568-route->16600],\n",
       " e[{'@type': 'janusgraph:RelationIdentifier', '@value': {'relationId': '53kzz-ipa0-dg5-m5k'}}][872568-route->28712],\n",
       " e[{'@type': 'janusgraph:RelationIdentifier', '@value': {'relationId': '53m6n-ipa0-dg5-1hw8'}}][872568-route->69848],\n",
       " e[{'@type': 'janusgraph:RelationIdentifier', '@value': {'relationId': '53mz3-ipa0-dg5-7q68'}}][872568-route->360512],\n",
       " e[{'@type': 'janusgraph:RelationIdentifier', '@value': {'relationId': '53mkv-ipa0-dg5-893c'}}][872568-route->385032],\n",
       " e[{'@type': 'janusgraph:RelationIdentifier', '@value': {'relationId': '2eold-85xk-dg5-cow'}}][380936-route->16448],\n",
       " e[{'@type': 'janusgraph:RelationIdentifier', '@value': {'relationId': '2eo75-85xk-dg5-m5k'}}][380936-route->28712],\n",
       " e[{'@type': 'janusgraph:RelationIdentifier', '@value': {'relationId': '2ey2p-8lqg-dg5-ct4'}}][401416-route->16600],\n",
       " e[{'@type': 'janusgraph:RelationIdentifier', '@value': {'relationId': '2exoh-8lqg-dg5-m5k'}}][401416-route->28712],\n",
       " e[{'@type': 'janusgraph:RelationIdentifier', '@value': {'relationId': '2eygx-8lqg-dg5-1hw8'}}][401416-route->69848],\n",
       " e[{'@type': 'janusgraph:RelationIdentifier', '@value': {'relationId': '2j9cj-8s60-dg5-cow'}}][409752-route->16448],\n",
       " e[{'@type': 'janusgraph:RelationIdentifier', '@value': {'relationId': '2j8yb-8s60-dg5-m5k'}}][409752-route->28712],\n",
       " e[{'@type': 'janusgraph:RelationIdentifier', '@value': {'relationId': '2ibrr-8ipk-dg5-m5k'}}][397496-route->28712],\n",
       " e[{'@type': 'janusgraph:RelationIdentifier', '@value': {'relationId': '2ic5z-8ipk-dg5-2giw'}}][397496-route->114728],\n",
       " e[{'@type': 'janusgraph:RelationIdentifier', '@value': {'relationId': '2icyf-8ipk-dg5-8s6w'}}][397496-route->409784],\n",
       " e[{'@type': 'janusgraph:RelationIdentifier', '@value': {'relationId': '2ick7-8ipk-dg5-ifso'}}][397496-route->860280],\n",
       " e[{'@type': 'janusgraph:RelationIdentifier', '@value': {'relationId': '2idcn-8lvc-dg5-m5k'}}][401592-route->28712],\n",
       " e[{'@type': 'janusgraph:RelationIdentifier', '@value': {'relationId': '2eyv5-8ow8-dg5-m5k'}}][405512-route->28712],\n",
       " e[{'@type': 'janusgraph:RelationIdentifier', '@value': {'relationId': '2ez9d-8ow8-dg5-1h0z4'}}][405512-route->2474032],\n",
       " e[{'@type': 'janusgraph:RelationIdentifier', '@value': {'relationId': '2j85v-8p08-dg5-m5k'}}][405656-route->28712],\n",
       " e[{'@type': 'janusgraph:RelationIdentifier', '@value': {'relationId': '2j8k3-8p08-dg5-8lw8'}}][405656-route->401624],\n",
       " e[{'@type': 'janusgraph:RelationIdentifier', '@value': {'relationId': '2rk0n-ru0o-dg5-cow'}}][1298616-route->16448],\n",
       " e[{'@type': 'janusgraph:RelationIdentifier', '@value': {'relationId': '2rjmf-ru0o-dg5-m5k'}}][1298616-route->28712],\n",
       " e[{'@type': 'janusgraph:RelationIdentifier', '@value': {'relationId': '2rkev-ru0o-dg5-8s60'}}][1298616-route->409752],\n",
       " e[{'@type': 'janusgraph:RelationIdentifier', '@value': {'relationId': '2evpd-8few-dg5-cow'}}][393224-route->16448],\n",
       " e[{'@type': 'janusgraph:RelationIdentifier', '@value': {'relationId': '2evb5-8few-dg5-m5k'}}][393224-route->28712],\n",
       " e[{'@type': 'janusgraph:RelationIdentifier', '@value': {'relationId': '2ew3l-8few-dg5-a6nc'}}][393224-route->475176],\n",
       " e[{'@type': 'janusgraph:RelationIdentifier', '@value': {'relationId': '26u4o-7q68-dg5-cow'}}][360512-route->16448],\n",
       " e[{'@type': 'janusgraph:RelationIdentifier', '@value': {'relationId': '26tqg-7q68-dg5-ct4'}}][360512-route->16600],\n",
       " e[{'@type': 'janusgraph:RelationIdentifier', '@value': {'relationId': '26tc8-7q68-dg5-m5k'}}][360512-route->28712],\n",
       " e[{'@type': 'janusgraph:RelationIdentifier', '@value': {'relationId': '26uiw-7q68-dg5-ipa0'}}][360512-route->872568],\n",
       " e[{'@type': 'janusgraph:RelationIdentifier', '@value': {'relationId': '2epdt-893c-dg5-ct4'}}][385032-route->16600],\n",
       " e[{'@type': 'janusgraph:RelationIdentifier', '@value': {'relationId': '2eozl-893c-dg5-m5k'}}][385032-route->28712],\n",
       " e[{'@type': 'janusgraph:RelationIdentifier', '@value': {'relationId': '2eps1-893c-dg5-ipa0'}}][385032-route->872568],\n",
       " e[{'@type': 'janusgraph:RelationIdentifier', '@value': {'relationId': '5mghy-1h0z4-dg5-8ow8'}}][2474032-route->405512],\n",
       " e[{'@type': 'janusgraph:RelationIdentifier', '@value': {'relationId': '2iexj-8s6w-dg5-cow'}}][409784-route->16448],\n",
       " e[{'@type': 'janusgraph:RelationIdentifier', '@value': {'relationId': '2iejb-8s6w-dg5-m5k'}}][409784-route->28712],\n",
       " e[{'@type': 'janusgraph:RelationIdentifier', '@value': {'relationId': '2ifbr-8s6w-dg5-8ipk'}}][409784-route->397496],\n",
       " e[{'@type': 'janusgraph:RelationIdentifier', '@value': {'relationId': '2ifpz-8s6w-dg5-s6ns'}}][409784-route->1315000],\n",
       " e[{'@type': 'janusgraph:RelationIdentifier', '@value': {'relationId': '1zq57-1hw8-dg5-9j4'}}][69848-route->12352],\n",
       " e[{'@type': 'janusgraph:RelationIdentifier', '@value': {'relationId': '1zrbv-1hw8-dg5-ct4'}}][69848-route->16600],\n",
       " e[{'@type': 'janusgraph:RelationIdentifier', '@value': {'relationId': '1zqjf-1hw8-dg5-m5k'}}][69848-route->28712],\n",
       " e[{'@type': 'janusgraph:RelationIdentifier', '@value': {'relationId': '1zqxn-1hw8-dg5-pbc'}}][69848-route->32808],\n",
       " e[{'@type': 'janusgraph:RelationIdentifier', '@value': {'relationId': '1zrq3-1hw8-dg5-pdk'}}][69848-route->32888],\n",
       " e[{'@type': 'janusgraph:RelationIdentifier', '@value': {'relationId': '1zsij-1hw8-dg5-vp4'}}][69848-route->41080],\n",
       " e[{'@type': 'janusgraph:RelationIdentifier', '@value': {'relationId': '1zswr-1hw8-dg5-yuw'}}][69848-route->45176],\n",
       " e[{'@type': 'janusgraph:RelationIdentifier', '@value': {'relationId': '1zs4b-1hw8-dg5-ywo'}}][69848-route->45240],\n",
       " e[{'@type': 'janusgraph:RelationIdentifier', '@value': {'relationId': '1ztp7-1hw8-dg5-271k'}}][69848-route->102440],\n",
       " e[{'@type': 'janusgraph:RelationIdentifier', '@value': {'relationId': '1zu3f-1hw8-dg5-2giw'}}][69848-route->114728],\n",
       " e[{'@type': 'janusgraph:RelationIdentifier', '@value': {'relationId': '1ztaz-1hw8-dg5-38z4'}}][69848-route->151600],\n",
       " e[{'@type': 'janusgraph:RelationIdentifier', '@value': {'relationId': '1zuvv-1hw8-dg5-8lqg'}}][69848-route->401416],\n",
       " e[{'@type': 'janusgraph:RelationIdentifier', '@value': {'relationId': '1zuhn-1hw8-dg5-bi28'}}][69848-route->536624],\n",
       " e[{'@type': 'janusgraph:RelationIdentifier', '@value': {'relationId': '1zva3-1hw8-dg5-ipa0'}}][69848-route->872568],\n",
       " e[{'@type': 'janusgraph:RelationIdentifier', '@value': {'relationId': '1zvob-1hw8-dg5-pdf4'}}][69848-route->1183792],\n",
       " e[{'@type': 'janusgraph:RelationIdentifier', '@value': {'relationId': '2qxvp-a6nc-dg5-cow'}}][475176-route->16448],\n",
       " e[{'@type': 'janusgraph:RelationIdentifier', '@value': {'relationId': '2qxhh-a6nc-dg5-m5k'}}][475176-route->28712],\n",
       " e[{'@type': 'janusgraph:RelationIdentifier', '@value': {'relationId': '2qy9x-a6nc-dg5-8few'}}][475176-route->393224],\n",
       " e[{'@type': 'janusgraph:RelationIdentifier', '@value': {'relationId': '2qyo5-a6nc-dg5-s6ns'}}][475176-route->1315000],\n",
       " e[{'@type': 'janusgraph:RelationIdentifier', '@value': {'relationId': '2eww1-8iko-dg5-ct4'}}][397320-route->16600],\n",
       " e[{'@type': 'janusgraph:RelationIdentifier', '@value': {'relationId': '2ewht-8iko-dg5-m5k'}}][397320-route->28712],\n",
       " e[{'@type': 'janusgraph:RelationIdentifier', '@value': {'relationId': '2exa9-8iko-dg5-8p14'}}][397320-route->405688],\n",
       " e[{'@type': 'janusgraph:RelationIdentifier', '@value': {'relationId': '53klr-im48-dg5-cow'}}][868472-route->16448],\n",
       " e[{'@type': 'janusgraph:RelationIdentifier', '@value': {'relationId': '53k7j-im48-dg5-m5k'}}][868472-route->28712]]"
      ]
     },
     "execution_count": 7,
     "metadata": {},
     "output_type": "execute_result"
    }
   ],
   "source": [
    "g.V().has('region', 'AU-NSW').outE('route').fold().next()"
   ]
  },
  {
   "cell_type": "markdown",
   "metadata": {},
   "source": [
    "## inE(), outV(), in()\n",
    "\n",
    "__Get places where there is a route to Sydney__"
   ]
  },
  {
   "cell_type": "code",
   "execution_count": 8,
   "metadata": {
    "scrolled": true
   },
   "outputs": [
    {
     "name": "stdout",
     "output_type": "stream",
     "text": [
      "Los Angeles International Airport\n",
      "Dallas/Fort Worth International Airport\n",
      "Tokyo Narita\n",
      "Brisbane International Airport\n",
      "San Francisco International Airport\n",
      "Melbourne International Airport\n",
      "Suvarnabhumi Bangkok International Airport\n",
      "Dubai International Airport\n",
      "Wellington International Airport\n",
      "Seoul, Incheon International Airport\n",
      "Honolulu International Airport\n",
      "Hong Kong - Chek Lap Kok International Airport\n",
      "Singapore, Changi International Airport\n",
      "Auckland International Airport\n",
      "Beijing Capital International Airport\n",
      "Perth International Airport\n",
      "Christchurch International Airport\n",
      "Canberra International Airport\n",
      "Kuala Lumpur International Airport\n",
      "Vancouver\n",
      "Indira Gandhi International Airport\n",
      "Shanghai - Pudong International Airport\n",
      "Tokyo Haneda International Airport\n",
      "Darwin International Airport\n",
      "Santiago, Comodoro Arturo Merino Benitez International Airport\n",
      "Gold Coast Airport\n",
      "Johannesburg, OR Tambo International Airport\n",
      "Ho Chi Minh City, Tan Son Nhat International Airport\n",
      "Ayers Rock Connellan Airport\n",
      "Bali - Ngurah Rai International Airport\n",
      "Manila, Ninoy Aquino International Airport\n",
      "Doha, Hamad International Airport\n",
      "Adelaide International Airport\n",
      "Abu Dhabi International Airport\n",
      "Soekarno-Hatta International Airport\n",
      "Nanjing Lukou Airport\n",
      "Fiji, Nadi International Airport\n",
      "Alice Springs Airport\n",
      "Noi Bai International Airport\n",
      "Cairns International Airport\n",
      "Sunshine Coast Airport\n",
      "Taiwan Taoyuan International Airport\n",
      "Port Moresby Jacksons International Airport\n",
      "Guangzhou Baiyun International Airport\n",
      "Hangzhou Xiaoshan International Airport\n",
      "Phuket International Airport\n",
      "Changsha Huanghua International Airport\n",
      "Chongqing Jiangbei International Airport\n",
      "Chengdu Shuangliu International Airport\n",
      "Kunming Wujiaba International Airport\n",
      "Rarotonga International Airport\n",
      "Orange Airport\n",
      "La Tontouta International Airport\n",
      "Coffs Harbour Airport\n",
      "Armidale Airport\n",
      "Ballina Byron Gateway Airport\n",
      "Townsville Airport\n",
      "Lord Howe Island Airport\n",
      "Queenstown International Airport\n",
      "Broome International Airport\n",
      "Merimbula Airport\n",
      "Broken Hill Airport\n",
      "Avalon Airport\n",
      "Wagga Wagga City Airport\n",
      "Proserpine Whitsunday Coast Airport\n",
      "Lismore Airport\n",
      "Parkes Airport\n",
      "Taree Airport\n",
      "Bathurst Airport\n",
      "Moruya Airport\n",
      "Moree Airport\n",
      "Dubbo City Regional Airport\n",
      "Xi'an Xianyang International Airport\n",
      "Port Macquarie Airport\n",
      "Wuhan Tianhe International Airport\n",
      "Fua'amotu International Airport\n",
      "Port Vila Bauerfield Airport\n",
      "Gladstone Airport\n",
      "Hervey Bay Airport\n",
      "Albury Airport\n",
      "Launceston Airport\n",
      "Narrandera Airport\n",
      "Karratha Airport\n",
      "Nausori International Airport\n",
      "Hamilton Island Airport\n",
      "Mackay Airport\n",
      "Griffith Airport\n",
      "Hobart International Airport\n",
      "Mildura Airport\n",
      "Norfolk Island International Airport\n",
      "Tamworth Airport\n",
      "Newcastle Airport\n",
      "Narrabri Airport\n",
      "Brisbane West Wellcamp Airport\n"
     ]
    }
   ],
   "source": [
    "results = g.V(sydneyVertexId).inE('route').outV().values('desc')\n",
    "count = g.V(sydneyVertexId).inE('route').outV().count().next()\n",
    "for c in range(count):\n",
    "    print(results.next())"
   ]
  },
  {
   "cell_type": "markdown",
   "metadata": {},
   "source": [
    "__\"in()\" is the same as calling \"inE().outV()\"__"
   ]
  },
  {
   "cell_type": "code",
   "execution_count": 9,
   "metadata": {
    "scrolled": true
   },
   "outputs": [],
   "source": [
    "sameCount = g.V(sydneyVertexId).in_('route').count().next()\n",
    "assert sameCount == count"
   ]
  },
  {
   "cell_type": "markdown",
   "metadata": {},
   "source": [
    "__Getting the outgoing vertex of the route that comes out of Sydney is Sydney itself__"
   ]
  },
  {
   "cell_type": "code",
   "execution_count": 10,
   "metadata": {},
   "outputs": [
    {
     "data": {
      "text/plain": [
       "'Sydney Kingsford Smith'"
      ]
     },
     "execution_count": 10,
     "metadata": {},
     "output_type": "execute_result"
    }
   ],
   "source": [
    "g.V(sydneyVertexId).outE('route').outV().values('desc').next()"
   ]
  },
  {
   "cell_type": "markdown",
   "metadata": {},
   "source": [
    "## hasNext()\n",
    "True if there is a route from Sydney to Hong Kong"
   ]
  },
  {
   "cell_type": "code",
   "execution_count": 11,
   "metadata": {},
   "outputs": [],
   "source": [
    "# This is not supported in python gremlin\n",
    "# r = g.V(sydneyVertexId).out('route').has('code','HKG')\n",
    "# r.hasNext()"
   ]
  }
 ],
 "metadata": {
  "kernelspec": {
   "display_name": "Python 3",
   "language": "python",
   "name": "python3"
  },
  "language_info": {
   "codemirror_mode": {
    "name": "ipython",
    "version": 3
   },
   "file_extension": ".py",
   "mimetype": "text/x-python",
   "name": "python",
   "nbconvert_exporter": "python",
   "pygments_lexer": "ipython3",
   "version": "3.6.5"
  }
 },
 "nbformat": 4,
 "nbformat_minor": 2
}
