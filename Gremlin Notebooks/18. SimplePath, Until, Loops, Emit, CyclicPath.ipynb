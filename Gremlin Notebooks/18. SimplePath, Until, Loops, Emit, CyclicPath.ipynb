{
 "cells": [
  {
   "cell_type": "markdown",
   "metadata": {},
   "source": [
    "# 18. SimplePath, Until, Emit, CyclicPath\n",
    "#### By Kwan Yin Andrew Chau"
   ]
  },
  {
   "cell_type": "code",
   "execution_count": 1,
   "metadata": {},
   "outputs": [],
   "source": [
    "import nbfinder\n",
    "import random\n",
    "from loader import g\n",
    "from loader import __\n",
    "from loader import sydneyVertexId\n",
    "from loader import hkVertexId"
   ]
  },
  {
   "cell_type": "markdown",
   "metadata": {},
   "source": [
    "## simplePath(), until()\n",
    "\n",
    "__Get all routes from HK to Taipei without travelling the same path multiple times__"
   ]
  },
  {
   "cell_type": "code",
   "execution_count": 2,
   "metadata": {},
   "outputs": [
    {
     "data": {
      "text/plain": [
       "[['HKG', 'TPE'],\n",
       " ['HKG', 'LAX', 'TPE'],\n",
       " ['HKG', 'JFK', 'TPE'],\n",
       " ['HKG', 'SEA', 'TPE'],\n",
       " ['HKG', 'NRT', 'TPE'],\n",
       " ['HKG', 'BNE', 'TPE'],\n",
       " ['HKG', 'SFO', 'TPE'],\n",
       " ['HKG', 'ORD', 'TPE'],\n",
       " ['HKG', 'MEL', 'TPE'],\n",
       " ['HKG', 'YYZ', 'TPE']]"
      ]
     },
     "execution_count": 2,
     "metadata": {},
     "output_type": "execute_result"
    }
   ],
   "source": [
    "g.V(hkVertexId).repeat(\n",
    "    __.out().simplePath()\n",
    ").until(__.has('code', 'TPE')).path().by('code').limit(10).fold().next()"
   ]
  },
  {
   "cell_type": "markdown",
   "metadata": {},
   "source": [
    "The until() can also come before repeat()"
   ]
  },
  {
   "cell_type": "code",
   "execution_count": 3,
   "metadata": {},
   "outputs": [
    {
     "data": {
      "text/plain": [
       "[['HKG', 'TPE'],\n",
       " ['HKG', 'LAX', 'TPE'],\n",
       " ['HKG', 'JFK', 'TPE'],\n",
       " ['HKG', 'SEA', 'TPE'],\n",
       " ['HKG', 'NRT', 'TPE'],\n",
       " ['HKG', 'BNE', 'TPE'],\n",
       " ['HKG', 'SFO', 'TPE'],\n",
       " ['HKG', 'ORD', 'TPE'],\n",
       " ['HKG', 'MEL', 'TPE'],\n",
       " ['HKG', 'YYZ', 'TPE']]"
      ]
     },
     "execution_count": 3,
     "metadata": {},
     "output_type": "execute_result"
    }
   ],
   "source": [
    "g.V(hkVertexId).until(__.has('code', 'TPE')).repeat(\n",
    "    __.out().simplePath()\n",
    ").path().by('code').limit(10).fold().next()"
   ]
  },
  {
   "cell_type": "markdown",
   "metadata": {},
   "source": [
    "## loops()\n",
    "\n",
    "__Repeat up to 2 times__"
   ]
  },
  {
   "cell_type": "code",
   "execution_count": 4,
   "metadata": {},
   "outputs": [
    {
     "data": {
      "text/plain": [
       "[['HKG', 'LAX', 'TPE'],\n",
       " ['HKG', 'JFK', 'TPE'],\n",
       " ['HKG', 'SEA', 'TPE'],\n",
       " ['HKG', 'NRT', 'TPE'],\n",
       " ['HKG', 'BNE', 'TPE'],\n",
       " ['HKG', 'SFO', 'TPE'],\n",
       " ['HKG', 'ORD', 'TPE'],\n",
       " ['HKG', 'MEL', 'TPE'],\n",
       " ['HKG', 'YYZ', 'TPE'],\n",
       " ['HKG', 'BKK', 'TPE']]"
      ]
     },
     "execution_count": 4,
     "metadata": {},
     "output_type": "execute_result"
    }
   ],
   "source": [
    "a = g.V(hkVertexId).repeat(\n",
    "    __.out()\n",
    ").until(\n",
    "    __.loops().is_(2)\n",
    ").has('code', 'TPE').count().next()\n",
    "g.V(hkVertexId).repeat(\n",
    "    __.out()\n",
    ").until(\n",
    "    __.loops().is_(2)\n",
    ").has('code', 'TPE').path().by('code').limit(10).fold().next()"
   ]
  },
  {
   "cell_type": "markdown",
   "metadata": {},
   "source": [
    "Equivalent to using times()"
   ]
  },
  {
   "cell_type": "code",
   "execution_count": 5,
   "metadata": {},
   "outputs": [],
   "source": [
    "b = g.V(hkVertexId).repeat(\n",
    "    __.out()\n",
    ").times(2).has('code', 'TPE').count().next()\n",
    "assert a == b"
   ]
  },
  {
   "cell_type": "markdown",
   "metadata": {},
   "source": [
    "## emit()\n",
    "\n",
    "__Paths going out from Santa Fe and emitting the paths taken by the traversal__\n",
    "\n",
    "Without the emit, the repeat would have no ending condition and keep running"
   ]
  },
  {
   "cell_type": "code",
   "execution_count": 6,
   "metadata": {},
   "outputs": [
    {
     "data": {
      "text/plain": [
       "[['SAF', 'LAX'],\n",
       " ['SAF', 'DFW'],\n",
       " ['SAF', 'DEN'],\n",
       " ['SAF', 'PHX'],\n",
       " ['SAF', 'LAX', 'MCO'],\n",
       " ['SAF', 'LAX', 'FLL'],\n",
       " ['SAF', 'LAX', 'BWI'],\n",
       " ['SAF', 'LAX', 'ANC'],\n",
       " ['SAF', 'LAX', 'ATL'],\n",
       " ['SAF', 'LAX', 'AUS']]"
      ]
     },
     "execution_count": 6,
     "metadata": {},
     "output_type": "execute_result"
    }
   ],
   "source": [
    "g.V().has('code','SAF').repeat(\n",
    "    __.out()\n",
    ").emit().path().by('code').limit(10).fold().next()"
   ]
  },
  {
   "cell_type": "markdown",
   "metadata": {},
   "source": [
    "Select the entire path of airports that start from HK and connect to Sydney through 3 routes"
   ]
  },
  {
   "cell_type": "code",
   "execution_count": 7,
   "metadata": {},
   "outputs": [
    {
     "data": {
      "text/plain": [
       "[['HKG', 'LAX', 'DFW', 'SYD'],\n",
       " ['HKG', 'LAX', 'NRT', 'SYD'],\n",
       " ['HKG', 'LAX', 'BNE', 'SYD'],\n",
       " ['HKG', 'LAX', 'SFO', 'SYD'],\n",
       " ['HKG', 'LAX', 'MEL', 'SYD'],\n",
       " ['HKG', 'LAX', 'DXB', 'SYD'],\n",
       " ['HKG', 'LAX', 'ICN', 'SYD'],\n",
       " ['HKG', 'LAX', 'HNL', 'SYD'],\n",
       " ['HKG', 'LAX', 'HKG', 'SYD'],\n",
       " ['HKG', 'LAX', 'AKL', 'SYD']]"
      ]
     },
     "execution_count": 7,
     "metadata": {},
     "output_type": "execute_result"
    }
   ],
   "source": [
    "g.V(hkVertexId).repeat(\n",
    "    __.out()\n",
    ").times(3).has('code', 'SYD').path().by('code').limit(10).fold().next()"
   ]
  },
  {
   "cell_type": "markdown",
   "metadata": {},
   "source": [
    "__Select the entire path of airports that start from HK and connect to Sydney through up to 3 routes__"
   ]
  },
  {
   "cell_type": "code",
   "execution_count": 8,
   "metadata": {},
   "outputs": [
    {
     "data": {
      "text/plain": [
       "[['HKG', 'SYD'],\n",
       " ['HKG', 'LAX', 'SYD'],\n",
       " ['HKG', 'DFW', 'SYD'],\n",
       " ['HKG', 'NRT', 'SYD'],\n",
       " ['HKG', 'BNE', 'SYD'],\n",
       " ['HKG', 'SFO', 'SYD'],\n",
       " ['HKG', 'MEL', 'SYD'],\n",
       " ['HKG', 'BKK', 'SYD'],\n",
       " ['HKG', 'DXB', 'SYD'],\n",
       " ['HKG', 'ICN', 'SYD'],\n",
       " ['HKG', 'SIN', 'SYD'],\n",
       " ['HKG', 'AKL', 'SYD'],\n",
       " ['HKG', 'PEK', 'SYD'],\n",
       " ['HKG', 'PER', 'SYD'],\n",
       " ['HKG', 'KUL', 'SYD'],\n",
       " ['HKG', 'YVR', 'SYD'],\n",
       " ['HKG', 'DEL', 'SYD'],\n",
       " ['HKG', 'PVG', 'SYD'],\n",
       " ['HKG', 'HND', 'SYD'],\n",
       " ['HKG', 'JNB', 'SYD'],\n",
       " ['HKG', 'SGN', 'SYD'],\n",
       " ['HKG', 'DPS', 'SYD'],\n",
       " ['HKG', 'MNL', 'SYD'],\n",
       " ['HKG', 'DOH', 'SYD'],\n",
       " ['HKG', 'ADL', 'SYD'],\n",
       " ['HKG', 'AUH', 'SYD'],\n",
       " ['HKG', 'CGK', 'SYD'],\n",
       " ['HKG', 'NKG', 'SYD'],\n",
       " ['HKG', 'NAN', 'SYD'],\n",
       " ['HKG', 'HAN', 'SYD'],\n",
       " ['HKG', 'CNS', 'SYD'],\n",
       " ['HKG', 'TPE', 'SYD'],\n",
       " ['HKG', 'POM', 'SYD'],\n",
       " ['HKG', 'CAN', 'SYD'],\n",
       " ['HKG', 'HGH', 'SYD'],\n",
       " ['HKG', 'HKT', 'SYD'],\n",
       " ['HKG', 'CSX', 'SYD'],\n",
       " ['HKG', 'CKG', 'SYD'],\n",
       " ['HKG', 'CTU', 'SYD'],\n",
       " ['HKG', 'KMG', 'SYD'],\n",
       " ['HKG', 'XIY', 'SYD'],\n",
       " ['HKG', 'WUH', 'SYD'],\n",
       " ['HKG', 'LAX', 'DFW', 'SYD'],\n",
       " ['HKG', 'LAX', 'NRT', 'SYD'],\n",
       " ['HKG', 'LAX', 'BNE', 'SYD'],\n",
       " ['HKG', 'LAX', 'SFO', 'SYD'],\n",
       " ['HKG', 'LAX', 'MEL', 'SYD'],\n",
       " ['HKG', 'LAX', 'DXB', 'SYD'],\n",
       " ['HKG', 'LAX', 'ICN', 'SYD'],\n",
       " ['HKG', 'LAX', 'HNL', 'SYD']]"
      ]
     },
     "execution_count": 8,
     "metadata": {},
     "output_type": "execute_result"
    }
   ],
   "source": [
    "g.V(hkVertexId).repeat(\n",
    "    __.out().simplePath()\n",
    ").emit().times(3).has('code', 'SYD').path().by('code').limit(50).fold().next()"
   ]
  },
  {
   "cell_type": "markdown",
   "metadata": {},
   "source": [
    "Equivalent to"
   ]
  },
  {
   "cell_type": "code",
   "execution_count": 9,
   "metadata": {},
   "outputs": [
    {
     "data": {
      "text/plain": [
       "[['HKG', 'SYD'],\n",
       " ['HKG', 'LAX', 'SYD'],\n",
       " ['HKG', 'DFW', 'SYD'],\n",
       " ['HKG', 'NRT', 'SYD'],\n",
       " ['HKG', 'BNE', 'SYD'],\n",
       " ['HKG', 'SFO', 'SYD'],\n",
       " ['HKG', 'MEL', 'SYD'],\n",
       " ['HKG', 'BKK', 'SYD'],\n",
       " ['HKG', 'DXB', 'SYD'],\n",
       " ['HKG', 'ICN', 'SYD'],\n",
       " ['HKG', 'SIN', 'SYD'],\n",
       " ['HKG', 'AKL', 'SYD'],\n",
       " ['HKG', 'PEK', 'SYD'],\n",
       " ['HKG', 'PER', 'SYD'],\n",
       " ['HKG', 'KUL', 'SYD'],\n",
       " ['HKG', 'YVR', 'SYD'],\n",
       " ['HKG', 'DEL', 'SYD'],\n",
       " ['HKG', 'PVG', 'SYD'],\n",
       " ['HKG', 'HND', 'SYD'],\n",
       " ['HKG', 'JNB', 'SYD'],\n",
       " ['HKG', 'SGN', 'SYD'],\n",
       " ['HKG', 'DPS', 'SYD'],\n",
       " ['HKG', 'MNL', 'SYD'],\n",
       " ['HKG', 'DOH', 'SYD'],\n",
       " ['HKG', 'ADL', 'SYD'],\n",
       " ['HKG', 'AUH', 'SYD'],\n",
       " ['HKG', 'CGK', 'SYD'],\n",
       " ['HKG', 'NKG', 'SYD'],\n",
       " ['HKG', 'NAN', 'SYD'],\n",
       " ['HKG', 'HAN', 'SYD'],\n",
       " ['HKG', 'CNS', 'SYD'],\n",
       " ['HKG', 'TPE', 'SYD'],\n",
       " ['HKG', 'POM', 'SYD'],\n",
       " ['HKG', 'CAN', 'SYD'],\n",
       " ['HKG', 'HGH', 'SYD'],\n",
       " ['HKG', 'HKT', 'SYD'],\n",
       " ['HKG', 'CSX', 'SYD'],\n",
       " ['HKG', 'CKG', 'SYD'],\n",
       " ['HKG', 'CTU', 'SYD'],\n",
       " ['HKG', 'KMG', 'SYD'],\n",
       " ['HKG', 'XIY', 'SYD'],\n",
       " ['HKG', 'WUH', 'SYD'],\n",
       " ['HKG', 'LAX', 'DFW', 'SYD'],\n",
       " ['HKG', 'LAX', 'NRT', 'SYD'],\n",
       " ['HKG', 'LAX', 'BNE', 'SYD'],\n",
       " ['HKG', 'LAX', 'SFO', 'SYD'],\n",
       " ['HKG', 'LAX', 'MEL', 'SYD'],\n",
       " ['HKG', 'LAX', 'DXB', 'SYD'],\n",
       " ['HKG', 'LAX', 'ICN', 'SYD'],\n",
       " ['HKG', 'LAX', 'HNL', 'SYD']]"
      ]
     },
     "execution_count": 9,
     "metadata": {},
     "output_type": "execute_result"
    }
   ],
   "source": [
    "g.V(hkVertexId).repeat(\n",
    "    __.out().simplePath()\n",
    ").until(\n",
    "    __.has('code','SYD').or_().loops().is_(3)\n",
    ").has('code','SYD').path().by('code').limit(50).fold().next()"
   ]
  },
  {
   "cell_type": "markdown",
   "metadata": {},
   "source": [
    "__Only emit if the vertex ends up in Melbourne__"
   ]
  },
  {
   "cell_type": "code",
   "execution_count": 10,
   "metadata": {},
   "outputs": [
    {
     "data": {
      "text/plain": [
       "[['HKG', 'MEL'],\n",
       " ['HKG', 'LAX', 'MEL'],\n",
       " ['HKG', 'NRT', 'MEL'],\n",
       " ['HKG', 'BNE', 'MEL'],\n",
       " ['HKG', 'BKK', 'MEL'],\n",
       " ['HKG', 'DXB', 'MEL'],\n",
       " ['HKG', 'SYD', 'MEL'],\n",
       " ['HKG', 'SIN', 'MEL'],\n",
       " ['HKG', 'AKL', 'MEL'],\n",
       " ['HKG', 'PEK', 'MEL'],\n",
       " ['HKG', 'PER', 'MEL'],\n",
       " ['HKG', 'KUL', 'MEL'],\n",
       " ['HKG', 'DEL', 'MEL'],\n",
       " ['HKG', 'PVG', 'MEL'],\n",
       " ['HKG', 'SGN', 'MEL'],\n",
       " ['HKG', 'DPS', 'MEL'],\n",
       " ['HKG', 'MNL', 'MEL'],\n",
       " ['HKG', 'DOH', 'MEL'],\n",
       " ['HKG', 'ADL', 'MEL'],\n",
       " ['HKG', 'AUH', 'MEL'],\n",
       " ['HKG', 'CGK', 'MEL'],\n",
       " ['HKG', 'NAN', 'MEL'],\n",
       " ['HKG', 'CNS', 'MEL'],\n",
       " ['HKG', 'TPE', 'MEL'],\n",
       " ['HKG', 'CAN', 'MEL'],\n",
       " ['HKG', 'BWN', 'MEL'],\n",
       " ['HKG', 'TAO', 'MEL'],\n",
       " ['HKG', 'HKT', 'MEL'],\n",
       " ['HKG', 'CSX', 'MEL'],\n",
       " ['HKG', 'CTU', 'MEL'],\n",
       " ['HKG', 'XIY', 'MEL'],\n",
       " ['HKG', 'XMN', 'MEL'],\n",
       " ['HKG', 'LAX', 'NRT', 'MEL'],\n",
       " ['HKG', 'LAX', 'BNE', 'MEL'],\n",
       " ['HKG', 'LAX', 'DXB', 'MEL'],\n",
       " ['HKG', 'LAX', 'SYD', 'MEL'],\n",
       " ['HKG', 'LAX', 'HNL', 'MEL'],\n",
       " ['HKG', 'LAX', 'AKL', 'MEL'],\n",
       " ['HKG', 'LAX', 'PEK', 'MEL'],\n",
       " ['HKG', 'LAX', 'PVG', 'MEL'],\n",
       " ['HKG', 'LAX', 'MNL', 'MEL'],\n",
       " ['HKG', 'LAX', 'DOH', 'MEL'],\n",
       " ['HKG', 'LAX', 'AUH', 'MEL'],\n",
       " ['HKG', 'LAX', 'NAN', 'MEL'],\n",
       " ['HKG', 'LAX', 'TPE', 'MEL'],\n",
       " ['HKG', 'LAX', 'CAN', 'MEL'],\n",
       " ['HKG', 'LAX', 'SZX', 'MEL'],\n",
       " ['HKG', 'LAX', 'CSX', 'MEL'],\n",
       " ['HKG', 'LAX', 'CTU', 'MEL'],\n",
       " ['HKG', 'LAX', 'XMN', 'MEL']]"
      ]
     },
     "execution_count": 10,
     "metadata": {},
     "output_type": "execute_result"
    }
   ],
   "source": [
    "g.V(hkVertexId).repeat(\n",
    "    __.out().simplePath()\n",
    ").emit(\n",
    "    __.has('code', 'MEL')\n",
    ").path().by('code').limit(50).fold().next()"
   ]
  },
  {
   "cell_type": "markdown",
   "metadata": {},
   "source": [
    "__The emit can be used in a way similar to until__"
   ]
  },
  {
   "cell_type": "code",
   "execution_count": 11,
   "metadata": {},
   "outputs": [
    {
     "data": {
      "text/plain": [
       "[['HKG', 'TPE'],\n",
       " ['HKG', 'LAX', 'TPE'],\n",
       " ['HKG', 'JFK', 'TPE'],\n",
       " ['HKG', 'SEA', 'TPE'],\n",
       " ['HKG', 'NRT', 'TPE'],\n",
       " ['HKG', 'BNE', 'TPE'],\n",
       " ['HKG', 'SFO', 'TPE'],\n",
       " ['HKG', 'ORD', 'TPE'],\n",
       " ['HKG', 'MEL', 'TPE'],\n",
       " ['HKG', 'YYZ', 'TPE']]"
      ]
     },
     "execution_count": 11,
     "metadata": {},
     "output_type": "execute_result"
    }
   ],
   "source": [
    "g.V(hkVertexId).repeat(\n",
    "    __.out().simplePath()\n",
    ").emit(__.has('code', 'TPE')).path().by('code').limit(10).fold().next()"
   ]
  },
  {
   "cell_type": "markdown",
   "metadata": {},
   "source": [
    "## cyclicPath()\n",
    "\n",
    "__Find paths where we can start in HK and come back directly__"
   ]
  },
  {
   "cell_type": "code",
   "execution_count": 12,
   "metadata": {},
   "outputs": [
    {
     "data": {
      "text/plain": [
       "[['HKG', 'LAX', 'HKG'],\n",
       " ['HKG', 'JFK', 'HKG'],\n",
       " ['HKG', 'DFW', 'HKG'],\n",
       " ['HKG', 'SEA', 'HKG'],\n",
       " ['HKG', 'NRT', 'HKG'],\n",
       " ['HKG', 'BOS', 'HKG'],\n",
       " ['HKG', 'BNE', 'HKG'],\n",
       " ['HKG', 'SFO', 'HKG'],\n",
       " ['HKG', 'ORD', 'HKG'],\n",
       " ['HKG', 'MEL', 'HKG']]"
      ]
     },
     "execution_count": 12,
     "metadata": {},
     "output_type": "execute_result"
    }
   ],
   "source": [
    "g.V(hkVertexId).out().out().cyclicPath().limit(10).path().by('code').fold().next()"
   ]
  },
  {
   "cell_type": "markdown",
   "metadata": {},
   "source": [
    "__Get paths where we end up back in the original airport (HK)__"
   ]
  },
  {
   "cell_type": "code",
   "execution_count": 13,
   "metadata": {},
   "outputs": [
    {
     "data": {
      "text/plain": [
       "[['HKG', 'LAX', 'HKG'],\n",
       " ['HKG', 'JFK', 'HKG'],\n",
       " ['HKG', 'DFW', 'HKG'],\n",
       " ['HKG', 'SEA', 'HKG'],\n",
       " ['HKG', 'NRT', 'HKG'],\n",
       " ['HKG', 'BOS', 'HKG'],\n",
       " ['HKG', 'BNE', 'HKG'],\n",
       " ['HKG', 'SFO', 'HKG'],\n",
       " ['HKG', 'ORD', 'HKG'],\n",
       " ['HKG', 'MEL', 'HKG']]"
      ]
     },
     "execution_count": 13,
     "metadata": {},
     "output_type": "execute_result"
    }
   ],
   "source": [
    "g.V(hkVertexId).repeat(__.out('route')).until(__.cyclicPath()).limit(10).path().by('code').fold().next()"
   ]
  },
  {
   "cell_type": "markdown",
   "metadata": {},
   "source": [
    "__Get paths where we don't end up back in original airport (HK) after two hops__\n",
    "\n",
    "Using not()"
   ]
  },
  {
   "cell_type": "code",
   "execution_count": 14,
   "metadata": {},
   "outputs": [
    {
     "data": {
      "text/plain": [
       "[['HKG', 'LAX', 'MCO'],\n",
       " ['HKG', 'LAX', 'FLL'],\n",
       " ['HKG', 'LAX', 'BWI'],\n",
       " ['HKG', 'LAX', 'ANC'],\n",
       " ['HKG', 'LAX', 'ATL'],\n",
       " ['HKG', 'LAX', 'AUS'],\n",
       " ['HKG', 'LAX', 'IAD'],\n",
       " ['HKG', 'LAX', 'RDU'],\n",
       " ['HKG', 'LAX', 'IAH'],\n",
       " ['HKG', 'LAX', 'MIA']]"
      ]
     },
     "execution_count": 14,
     "metadata": {},
     "output_type": "execute_result"
    }
   ],
   "source": [
    "g.V(hkVertexId).out().out().not_(__.cyclicPath()).limit(10).path().by('code').fold().next()"
   ]
  },
  {
   "cell_type": "markdown",
   "metadata": {},
   "source": [
    "Showing the paths"
   ]
  },
  {
   "cell_type": "code",
   "execution_count": 15,
   "metadata": {},
   "outputs": [
    {
     "data": {
      "text/plain": [
       "[[v[32776], e[{'@type': 'janusgraph:RelationIdentifier', '@value': {'relationId': '1pxq9-pag-dg5-3bs'}}][32776-route->4312], v[4312], e[{'@type': 'janusgraph:RelationIdentifier', '@value': {'relationId': '1hw63-3bs-dg5-pag'}}][4312-route->32776], v[32776]],\n",
       " [v[32776], e[{'@type': 'janusgraph:RelationIdentifier', '@value': {'relationId': '1pxc1-pag-dg5-6ew'}}][32776-route->8312], v[8312], e[{'@type': 'janusgraph:RelationIdentifier', '@value': {'relationId': '33ytr-6ew-dg5-pag'}}][8312-route->32776], v[32776]],\n",
       " [v[32776], e[{'@type': 'janusgraph:RelationIdentifier', '@value': {'relationId': '1pwxt-pag-dg5-6fs'}}][32776-route->8344], v[8344], e[{'@type': 'janusgraph:RelationIdentifier', '@value': {'relationId': '1k2dv-6fs-dg5-pag'}}][8344-route->32776], v[32776]],\n",
       " [v[32776], e[{'@type': 'janusgraph:RelationIdentifier', '@value': {'relationId': '1pyip-pag-dg5-9ig'}}][32776-route->12328], v[12328], e[{'@type': 'janusgraph:RelationIdentifier', '@value': {'relationId': '1l2px-9ig-dg5-pag'}}][12328-route->32776], v[32776]],\n",
       " [v[32776], e[{'@type': 'janusgraph:RelationIdentifier', '@value': {'relationId': '1q2gx-pag-dg5-9j4'}}][32776-route->12352], v[12352], e[{'@type': 'janusgraph:RelationIdentifier', '@value': {'relationId': '1gruw-9j4-dg5-pag'}}][12352-route->32776], v[32776]],\n",
       " [v[32776], e[{'@type': 'janusgraph:RelationIdentifier', '@value': {'relationId': '1pwjl-pag-dg5-9mg'}}][32776-route->12472], v[12472], e[{'@type': 'janusgraph:RelationIdentifier', '@value': {'relationId': '1jac7-9mg-dg5-pag'}}][12472-route->32776], v[32776]],\n",
       " [v[32776], e[{'@type': 'janusgraph:RelationIdentifier', '@value': {'relationId': '1q60x-pag-dg5-cow'}}][32776-route->16448], v[16448], e[{'@type': 'janusgraph:RelationIdentifier', '@value': {'relationId': '1hslk-cow-dg5-pag'}}][16448-route->32776], v[32776]],\n",
       " [v[32776], e[{'@type': 'janusgraph:RelationIdentifier', '@value': {'relationId': '1pywx-pag-dg5-cqg'}}][32776-route->16504], v[16504], e[{'@type': 'janusgraph:RelationIdentifier', '@value': {'relationId': '35r7z-cqg-dg5-pag'}}][16504-route->32776], v[32776]],\n",
       " [v[32776], e[{'@type': 'janusgraph:RelationIdentifier', '@value': {'relationId': '1py4h-pag-dg5-crc'}}][32776-route->16536], v[16536], e[{'@type': 'janusgraph:RelationIdentifier', '@value': {'relationId': '1mm1f-crc-dg5-pag'}}][16536-route->32776], v[32776]],\n",
       " [v[32776], e[{'@type': 'janusgraph:RelationIdentifier', '@value': {'relationId': '1q3nl-pag-dg5-ct4'}}][32776-route->16600], v[16600], e[{'@type': 'janusgraph:RelationIdentifier', '@value': {'relationId': '1mazf-ct4-dg5-pag'}}][16600-route->32776], v[32776]]]"
      ]
     },
     "execution_count": 15,
     "metadata": {},
     "output_type": "execute_result"
    }
   ],
   "source": [
    "g.V(hkVertexId).outE().inV().outE().inV().cyclicPath().path().limit(10).fold().next()"
   ]
  }
 ],
 "metadata": {
  "kernelspec": {
   "display_name": "Python 3",
   "language": "python",
   "name": "python3"
  },
  "language_info": {
   "codemirror_mode": {
    "name": "ipython",
    "version": 3
   },
   "file_extension": ".py",
   "mimetype": "text/x-python",
   "name": "python",
   "nbconvert_exporter": "python",
   "pygments_lexer": "ipython3",
   "version": "3.6.5"
  }
 },
 "nbformat": 4,
 "nbformat_minor": 2
}
