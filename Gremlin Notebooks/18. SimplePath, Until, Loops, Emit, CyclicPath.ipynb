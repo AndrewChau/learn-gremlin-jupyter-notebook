{
 "cells": [
  {
   "cell_type": "markdown",
   "metadata": {},
   "source": [
    "# X2. SimplePath, Until, Emit, CyclicPath\n",
    "#### By Kwan Yin Andrew Chau"
   ]
  },
  {
   "cell_type": "code",
   "execution_count": 1,
   "metadata": {},
   "outputs": [],
   "source": [
    "import nbfinder\n",
    "import random\n",
    "from loader import g\n",
    "from loader import __\n",
    "from loader import Barrier\n",
    "from loader import Column\n",
    "from loader import P\n",
    "from loader import Pick\n",
    "from loader import Pop\n",
    "from loader import sydneyVertexId\n",
    "from loader import hkVertexId"
   ]
  },
  {
   "cell_type": "markdown",
   "metadata": {},
   "source": [
    "## simplePath(), until()\n",
    "\n",
    "__Get all routes from HK to Taipei without travelling the same path multiple times__"
   ]
  },
  {
   "cell_type": "code",
   "execution_count": 2,
   "metadata": {},
   "outputs": [
    {
     "data": {
      "text/plain": [
       "[['HKG', 'TPE'],\n",
       " ['HKG', 'SEA', 'TPE'],\n",
       " ['HKG', 'SFO', 'TPE'],\n",
       " ['HKG', 'YVR', 'TPE'],\n",
       " ['HKG', 'JFK', 'TPE'],\n",
       " ['HKG', 'CDG', 'TPE'],\n",
       " ['HKG', 'NRT', 'TPE'],\n",
       " ['HKG', 'ORD', 'TPE'],\n",
       " ['HKG', 'BNE', 'TPE'],\n",
       " ['HKG', 'PEK', 'TPE']]"
      ]
     },
     "execution_count": 2,
     "metadata": {},
     "output_type": "execute_result"
    }
   ],
   "source": [
    "g.V(hkVertexId).repeat(\n",
    "    __.out().simplePath()\n",
    ").until(__.has('code', 'TPE')).path().by('code').limit(10).fold().next()"
   ]
  },
  {
   "cell_type": "markdown",
   "metadata": {},
   "source": [
    "The until() can also come before repeat()"
   ]
  },
  {
   "cell_type": "code",
   "execution_count": 3,
   "metadata": {},
   "outputs": [
    {
     "data": {
      "text/plain": [
       "[['HKG', 'TPE'],\n",
       " ['HKG', 'SEA', 'TPE'],\n",
       " ['HKG', 'SFO', 'TPE'],\n",
       " ['HKG', 'YVR', 'TPE'],\n",
       " ['HKG', 'JFK', 'TPE'],\n",
       " ['HKG', 'CDG', 'TPE'],\n",
       " ['HKG', 'NRT', 'TPE'],\n",
       " ['HKG', 'ORD', 'TPE'],\n",
       " ['HKG', 'BNE', 'TPE'],\n",
       " ['HKG', 'PEK', 'TPE']]"
      ]
     },
     "execution_count": 3,
     "metadata": {},
     "output_type": "execute_result"
    }
   ],
   "source": [
    "g.V(hkVertexId).until(__.has('code', 'TPE')).repeat(\n",
    "    __.out().simplePath()\n",
    ").path().by('code').limit(10).fold().next()"
   ]
  },
  {
   "cell_type": "markdown",
   "metadata": {},
   "source": [
    "## loops()\n",
    "\n",
    "__Repeat up to 2 times__"
   ]
  },
  {
   "cell_type": "code",
   "execution_count": 4,
   "metadata": {},
   "outputs": [
    {
     "data": {
      "text/plain": [
       "[['HKG', 'SEA', 'TPE'],\n",
       " ['HKG', 'SFO', 'TPE'],\n",
       " ['HKG', 'YVR', 'TPE'],\n",
       " ['HKG', 'JFK', 'TPE'],\n",
       " ['HKG', 'CDG', 'TPE'],\n",
       " ['HKG', 'NRT', 'TPE'],\n",
       " ['HKG', 'ORD', 'TPE'],\n",
       " ['HKG', 'BNE', 'TPE'],\n",
       " ['HKG', 'PEK', 'TPE'],\n",
       " ['HKG', 'KUL', 'TPE']]"
      ]
     },
     "execution_count": 4,
     "metadata": {},
     "output_type": "execute_result"
    }
   ],
   "source": [
    "x1 = g.V(hkVertexId).repeat(\n",
    "    __.out()\n",
    ").until(\n",
    "    __.loops().is_(2)\n",
    ").has('code', 'TPE').count().next()\n",
    "g.V(hkVertexId).repeat(\n",
    "    __.out()\n",
    ").until(\n",
    "    __.loops().is_(2)\n",
    ").has('code', 'TPE').path().by('code').limit(10).fold().next()"
   ]
  },
  {
   "cell_type": "markdown",
   "metadata": {},
   "source": [
    "Equivalent to using times()"
   ]
  },
  {
   "cell_type": "code",
   "execution_count": 5,
   "metadata": {},
   "outputs": [],
   "source": [
    "x2 = g.V(hkVertexId).repeat(\n",
    "    __.out()\n",
    ").times(2).has('code', 'TPE').count().next()\n",
    "assert x1 == x2"
   ]
  },
  {
   "cell_type": "markdown",
   "metadata": {},
   "source": [
    "## emit()\n",
    "\n",
    "__Paths going out from Santa Fe and emitting the paths taken by the traversal__\n",
    "\n",
    "Without the emit, the repeat would have no ending condition and keep running"
   ]
  },
  {
   "cell_type": "code",
   "execution_count": 6,
   "metadata": {},
   "outputs": [
    {
     "data": {
      "text/plain": [
       "[['SAF', 'DFW'],\n",
       " ['SAF', 'DEN'],\n",
       " ['SAF', 'LAX'],\n",
       " ['SAF', 'PHX'],\n",
       " ['SAF', 'DFW', 'FLL'],\n",
       " ['SAF', 'DFW', 'DCA'],\n",
       " ['SAF', 'DFW', 'BOS'],\n",
       " ['SAF', 'DFW', 'ATL'],\n",
       " ['SAF', 'DFW', 'PBI'],\n",
       " ['SAF', 'DFW', 'BWI']]"
      ]
     },
     "execution_count": 6,
     "metadata": {},
     "output_type": "execute_result"
    }
   ],
   "source": [
    " g.V().has('code','SAF').repeat(\n",
    "     __.out()\n",
    " ).emit().path().by('code').limit(10).fold().next()"
   ]
  },
  {
   "cell_type": "markdown",
   "metadata": {},
   "source": [
    "Select the entire path of airports that start from HK and connect to Sydney through 3 routes"
   ]
  },
  {
   "cell_type": "code",
   "execution_count": 7,
   "metadata": {},
   "outputs": [
    {
     "data": {
      "text/plain": [
       "[['HKG', 'BOS', 'DFW', 'SYD'],\n",
       " ['HKG', 'BOS', 'SFO', 'SYD'],\n",
       " ['HKG', 'BOS', 'YVR', 'SYD'],\n",
       " ['HKG', 'BOS', 'NRT', 'SYD'],\n",
       " ['HKG', 'BOS', 'PEK', 'SYD'],\n",
       " ['HKG', 'BOS', 'DOH', 'SYD'],\n",
       " ['HKG', 'BOS', 'DXB', 'SYD'],\n",
       " ['HKG', 'BOS', 'HKG', 'SYD'],\n",
       " ['HKG', 'BOS', 'LAX', 'SYD'],\n",
       " ['HKG', 'BOS', 'PVG', 'SYD']]"
      ]
     },
     "execution_count": 7,
     "metadata": {},
     "output_type": "execute_result"
    }
   ],
   "source": [
    "g.V(hkVertexId).repeat(\n",
    "    __.out()\n",
    ").times(3).has('code', 'SYD').path().by('code').limit(10).fold().next()"
   ]
  },
  {
   "cell_type": "markdown",
   "metadata": {},
   "source": [
    "__Select the entire path of airports that start from HK and connect to Sydney through up to 3 routes__"
   ]
  },
  {
   "cell_type": "code",
   "execution_count": 8,
   "metadata": {},
   "outputs": [
    {
     "data": {
      "text/plain": [
       "[['HKG', 'SYD'],\n",
       " ['HKG', 'DFW', 'SYD'],\n",
       " ['HKG', 'SFO', 'SYD'],\n",
       " ['HKG', 'YVR', 'SYD'],\n",
       " ['HKG', 'NRT', 'SYD'],\n",
       " ['HKG', 'BNE', 'SYD'],\n",
       " ['HKG', 'PEK', 'SYD'],\n",
       " ['HKG', 'KUL', 'SYD'],\n",
       " ['HKG', 'DOH', 'SYD'],\n",
       " ['HKG', 'JNB', 'SYD'],\n",
       " ['HKG', 'MNL', 'SYD'],\n",
       " ['HKG', 'HND', 'SYD'],\n",
       " ['HKG', 'DXB', 'SYD'],\n",
       " ['HKG', 'AKL', 'SYD'],\n",
       " ['HKG', 'TPE', 'SYD'],\n",
       " ['HKG', 'BKK', 'SYD'],\n",
       " ['HKG', 'SGN', 'SYD'],\n",
       " ['HKG', 'KMG', 'SYD'],\n",
       " ['HKG', 'ADL', 'SYD'],\n",
       " ['HKG', 'CAN', 'SYD'],\n",
       " ['HKG', 'CSX', 'SYD'],\n",
       " ['HKG', 'XIY', 'SYD'],\n",
       " ['HKG', 'WUH', 'SYD'],\n",
       " ['HKG', 'CKG', 'SYD'],\n",
       " ['HKG', 'LAX', 'SYD'],\n",
       " ['HKG', 'MEL', 'SYD'],\n",
       " ['HKG', 'PER', 'SYD'],\n",
       " ['HKG', 'SIN', 'SYD'],\n",
       " ['HKG', 'PVG', 'SYD'],\n",
       " ['HKG', 'DEL', 'SYD'],\n",
       " ['HKG', 'ICN', 'SYD'],\n",
       " ['HKG', 'CNS', 'SYD'],\n",
       " ['HKG', 'AUH', 'SYD'],\n",
       " ['HKG', 'CGK', 'SYD'],\n",
       " ['HKG', 'DPS', 'SYD'],\n",
       " ['HKG', 'NAN', 'SYD'],\n",
       " ['HKG', 'NKG', 'SYD'],\n",
       " ['HKG', 'HKT', 'SYD'],\n",
       " ['HKG', 'CTU', 'SYD'],\n",
       " ['HKG', 'POM', 'SYD'],\n",
       " ['HKG', 'HAN', 'SYD'],\n",
       " ['HKG', 'HGH', 'SYD'],\n",
       " ['HKG', 'BOS', 'DFW', 'SYD'],\n",
       " ['HKG', 'BOS', 'SFO', 'SYD'],\n",
       " ['HKG', 'BOS', 'YVR', 'SYD'],\n",
       " ['HKG', 'BOS', 'NRT', 'SYD'],\n",
       " ['HKG', 'BOS', 'PEK', 'SYD'],\n",
       " ['HKG', 'BOS', 'DOH', 'SYD'],\n",
       " ['HKG', 'BOS', 'DXB', 'SYD'],\n",
       " ['HKG', 'BOS', 'LAX', 'SYD']]"
      ]
     },
     "execution_count": 8,
     "metadata": {},
     "output_type": "execute_result"
    }
   ],
   "source": [
    "g.V(hkVertexId).repeat(\n",
    "    __.out().simplePath()\n",
    ").emit().times(3).has('code', 'SYD').path().by('code').limit(50).fold().next()"
   ]
  },
  {
   "cell_type": "markdown",
   "metadata": {},
   "source": [
    "Equivalent to"
   ]
  },
  {
   "cell_type": "code",
   "execution_count": 9,
   "metadata": {},
   "outputs": [
    {
     "data": {
      "text/plain": [
       "[['HKG', 'SYD'],\n",
       " ['HKG', 'DFW', 'SYD'],\n",
       " ['HKG', 'SFO', 'SYD'],\n",
       " ['HKG', 'YVR', 'SYD'],\n",
       " ['HKG', 'NRT', 'SYD'],\n",
       " ['HKG', 'BNE', 'SYD'],\n",
       " ['HKG', 'PEK', 'SYD'],\n",
       " ['HKG', 'KUL', 'SYD'],\n",
       " ['HKG', 'DOH', 'SYD'],\n",
       " ['HKG', 'JNB', 'SYD'],\n",
       " ['HKG', 'MNL', 'SYD'],\n",
       " ['HKG', 'HND', 'SYD'],\n",
       " ['HKG', 'DXB', 'SYD'],\n",
       " ['HKG', 'AKL', 'SYD'],\n",
       " ['HKG', 'TPE', 'SYD'],\n",
       " ['HKG', 'BKK', 'SYD'],\n",
       " ['HKG', 'SGN', 'SYD'],\n",
       " ['HKG', 'KMG', 'SYD'],\n",
       " ['HKG', 'ADL', 'SYD'],\n",
       " ['HKG', 'CAN', 'SYD'],\n",
       " ['HKG', 'CSX', 'SYD'],\n",
       " ['HKG', 'XIY', 'SYD'],\n",
       " ['HKG', 'WUH', 'SYD'],\n",
       " ['HKG', 'CKG', 'SYD'],\n",
       " ['HKG', 'LAX', 'SYD'],\n",
       " ['HKG', 'MEL', 'SYD'],\n",
       " ['HKG', 'PER', 'SYD'],\n",
       " ['HKG', 'SIN', 'SYD'],\n",
       " ['HKG', 'PVG', 'SYD'],\n",
       " ['HKG', 'DEL', 'SYD'],\n",
       " ['HKG', 'ICN', 'SYD'],\n",
       " ['HKG', 'CNS', 'SYD'],\n",
       " ['HKG', 'AUH', 'SYD'],\n",
       " ['HKG', 'CGK', 'SYD'],\n",
       " ['HKG', 'DPS', 'SYD'],\n",
       " ['HKG', 'NAN', 'SYD'],\n",
       " ['HKG', 'NKG', 'SYD'],\n",
       " ['HKG', 'HKT', 'SYD'],\n",
       " ['HKG', 'CTU', 'SYD'],\n",
       " ['HKG', 'POM', 'SYD'],\n",
       " ['HKG', 'HAN', 'SYD'],\n",
       " ['HKG', 'HGH', 'SYD'],\n",
       " ['HKG', 'BOS', 'DFW', 'SYD'],\n",
       " ['HKG', 'BOS', 'SFO', 'SYD'],\n",
       " ['HKG', 'BOS', 'YVR', 'SYD'],\n",
       " ['HKG', 'BOS', 'NRT', 'SYD'],\n",
       " ['HKG', 'BOS', 'PEK', 'SYD'],\n",
       " ['HKG', 'BOS', 'DOH', 'SYD'],\n",
       " ['HKG', 'BOS', 'DXB', 'SYD'],\n",
       " ['HKG', 'BOS', 'LAX', 'SYD']]"
      ]
     },
     "execution_count": 9,
     "metadata": {},
     "output_type": "execute_result"
    }
   ],
   "source": [
    "g.V(hkVertexId).repeat(\n",
    "    __.out().simplePath()\n",
    ").until(\n",
    "    __.has('code','SYD').or_().loops().is_(3)\n",
    ").has('code','SYD').path().by('code').limit(50).fold().next()"
   ]
  },
  {
   "cell_type": "markdown",
   "metadata": {},
   "source": [
    "__Only emit if the vertex ends up in Melbourne__"
   ]
  },
  {
   "cell_type": "code",
   "execution_count": 10,
   "metadata": {},
   "outputs": [
    {
     "data": {
      "text/plain": [
       "[['HKG', 'MEL'],\n",
       " ['HKG', 'NRT', 'MEL'],\n",
       " ['HKG', 'BNE', 'MEL'],\n",
       " ['HKG', 'PEK', 'MEL'],\n",
       " ['HKG', 'KUL', 'MEL'],\n",
       " ['HKG', 'DOH', 'MEL'],\n",
       " ['HKG', 'MNL', 'MEL'],\n",
       " ['HKG', 'SYD', 'MEL'],\n",
       " ['HKG', 'DXB', 'MEL'],\n",
       " ['HKG', 'AKL', 'MEL'],\n",
       " ['HKG', 'TPE', 'MEL'],\n",
       " ['HKG', 'BKK', 'MEL'],\n",
       " ['HKG', 'SGN', 'MEL'],\n",
       " ['HKG', 'TAO', 'MEL'],\n",
       " ['HKG', 'ADL', 'MEL'],\n",
       " ['HKG', 'CAN', 'MEL'],\n",
       " ['HKG', 'CSX', 'MEL'],\n",
       " ['HKG', 'XIY', 'MEL'],\n",
       " ['HKG', 'BWN', 'MEL'],\n",
       " ['HKG', 'XMN', 'MEL'],\n",
       " ['HKG', 'LAX', 'MEL'],\n",
       " ['HKG', 'PER', 'MEL'],\n",
       " ['HKG', 'SIN', 'MEL'],\n",
       " ['HKG', 'PVG', 'MEL'],\n",
       " ['HKG', 'DEL', 'MEL'],\n",
       " ['HKG', 'CNS', 'MEL'],\n",
       " ['HKG', 'AUH', 'MEL'],\n",
       " ['HKG', 'CGK', 'MEL'],\n",
       " ['HKG', 'DPS', 'MEL'],\n",
       " ['HKG', 'NAN', 'MEL'],\n",
       " ['HKG', 'HKT', 'MEL'],\n",
       " ['HKG', 'CTU', 'MEL'],\n",
       " ['HKG', 'BOS', 'NRT', 'MEL'],\n",
       " ['HKG', 'BOS', 'PEK', 'MEL'],\n",
       " ['HKG', 'BOS', 'DOH', 'MEL'],\n",
       " ['HKG', 'BOS', 'DXB', 'MEL'],\n",
       " ['HKG', 'BOS', 'LAX', 'MEL'],\n",
       " ['HKG', 'BOS', 'PVG', 'MEL'],\n",
       " ['HKG', 'DFW', 'HNL', 'MEL'],\n",
       " ['HKG', 'DFW', 'NRT', 'MEL'],\n",
       " ['HKG', 'DFW', 'PEK', 'MEL'],\n",
       " ['HKG', 'DFW', 'DOH', 'MEL'],\n",
       " ['HKG', 'DFW', 'SYD', 'MEL'],\n",
       " ['HKG', 'DFW', 'DXB', 'MEL'],\n",
       " ['HKG', 'DFW', 'LAX', 'MEL'],\n",
       " ['HKG', 'DFW', 'PVG', 'MEL'],\n",
       " ['HKG', 'DFW', 'AUH', 'MEL'],\n",
       " ['HKG', 'SEA', 'HNL', 'MEL'],\n",
       " ['HKG', 'SEA', 'NRT', 'MEL'],\n",
       " ['HKG', 'SEA', 'PEK', 'MEL']]"
      ]
     },
     "execution_count": 10,
     "metadata": {},
     "output_type": "execute_result"
    }
   ],
   "source": [
    "g.V(hkVertexId).repeat(\n",
    "    __.out().simplePath()\n",
    ").emit(\n",
    "    __.has('code', 'MEL')\n",
    ").path().by('code').limit(50).fold().next()"
   ]
  },
  {
   "cell_type": "markdown",
   "metadata": {},
   "source": [
    "__The emit can be used in a way similar to until__"
   ]
  },
  {
   "cell_type": "code",
   "execution_count": 11,
   "metadata": {},
   "outputs": [
    {
     "data": {
      "text/plain": [
       "[['HKG', 'TPE'],\n",
       " ['HKG', 'SEA', 'TPE'],\n",
       " ['HKG', 'SFO', 'TPE'],\n",
       " ['HKG', 'YVR', 'TPE'],\n",
       " ['HKG', 'JFK', 'TPE'],\n",
       " ['HKG', 'CDG', 'TPE'],\n",
       " ['HKG', 'NRT', 'TPE'],\n",
       " ['HKG', 'ORD', 'TPE'],\n",
       " ['HKG', 'BNE', 'TPE'],\n",
       " ['HKG', 'PEK', 'TPE']]"
      ]
     },
     "execution_count": 11,
     "metadata": {},
     "output_type": "execute_result"
    }
   ],
   "source": [
    "g.V(hkVertexId).repeat(\n",
    "    __.out().simplePath()\n",
    ").emit(__.has('code', 'TPE')).path().by('code').limit(10).fold().next()"
   ]
  },
  {
   "cell_type": "markdown",
   "metadata": {},
   "source": [
    "## cyclicPath()\n",
    "\n",
    "__Find paths where we can start in HK and come back directly__"
   ]
  },
  {
   "cell_type": "code",
   "execution_count": 12,
   "metadata": {},
   "outputs": [
    {
     "data": {
      "text/plain": [
       "[['HKG', 'BOS', 'HKG'],\n",
       " ['HKG', 'DFW', 'HKG'],\n",
       " ['HKG', 'SEA', 'HKG'],\n",
       " ['HKG', 'SFO', 'HKG'],\n",
       " ['HKG', 'YVR', 'HKG'],\n",
       " ['HKG', 'JFK', 'HKG'],\n",
       " ['HKG', 'CDG', 'HKG'],\n",
       " ['HKG', 'LHR', 'HKG'],\n",
       " ['HKG', 'NRT', 'HKG'],\n",
       " ['HKG', 'DME', 'HKG']]"
      ]
     },
     "execution_count": 12,
     "metadata": {},
     "output_type": "execute_result"
    }
   ],
   "source": [
    "g.V(hkVertexId).out().out().cyclicPath().limit(10).path().by('code').fold().next()"
   ]
  },
  {
   "cell_type": "markdown",
   "metadata": {},
   "source": [
    "__Get paths where we end up back in the original airport (HK)__"
   ]
  },
  {
   "cell_type": "code",
   "execution_count": 13,
   "metadata": {},
   "outputs": [
    {
     "data": {
      "text/plain": [
       "[['HKG', 'BOS', 'HKG'],\n",
       " ['HKG', 'DFW', 'HKG'],\n",
       " ['HKG', 'SEA', 'HKG'],\n",
       " ['HKG', 'SFO', 'HKG'],\n",
       " ['HKG', 'YVR', 'HKG'],\n",
       " ['HKG', 'JFK', 'HKG'],\n",
       " ['HKG', 'CDG', 'HKG'],\n",
       " ['HKG', 'LHR', 'HKG'],\n",
       " ['HKG', 'NRT', 'HKG'],\n",
       " ['HKG', 'DME', 'HKG'],\n",
       " ['HKG', 'LGW', 'HKG'],\n",
       " ['HKG', 'ORD', 'HKG'],\n",
       " ['HKG', 'HEL', 'HKG'],\n",
       " ['HKG', 'BNE', 'HKG'],\n",
       " ['HKG', 'PEK', 'HKG'],\n",
       " ['HKG', 'BOM', 'HKG'],\n",
       " ['HKG', 'KUL', 'HKG'],\n",
       " ['HKG', 'AMS', 'HKG'],\n",
       " ['HKG', 'BCN', 'HKG'],\n",
       " ['HKG', 'VIE', 'HKG'],\n",
       " ['HKG', 'EWR', 'HKG'],\n",
       " ['HKG', 'DOH', 'HKG'],\n",
       " ['HKG', 'MAA', 'HKG'],\n",
       " ['HKG', 'JNB', 'HKG'],\n",
       " ['HKG', 'GUM', 'HKG'],\n",
       " ['HKG', 'YYZ', 'HKG'],\n",
       " ['HKG', 'MNL', 'HKG'],\n",
       " ['HKG', 'FRA', 'HKG'],\n",
       " ['HKG', 'SVO', 'HKG'],\n",
       " ['HKG', 'SYD', 'HKG'],\n",
       " ['HKG', 'ADD', 'HKG'],\n",
       " ['HKG', 'HND', 'HKG'],\n",
       " ['HKG', 'DXB', 'HKG'],\n",
       " ['HKG', 'AKL', 'HKG'],\n",
       " ['HKG', 'FCO', 'HKG'],\n",
       " ['HKG', 'MAD', 'HKG'],\n",
       " ['HKG', 'TPE', 'HKG'],\n",
       " ['HKG', 'CTS', 'HKG'],\n",
       " ['HKG', 'MUC', 'HKG'],\n",
       " ['HKG', 'MAN', 'HKG'],\n",
       " ['HKG', 'BKK', 'HKG'],\n",
       " ['HKG', 'HYD', 'HKG'],\n",
       " ['HKG', 'CCU', 'HKG'],\n",
       " ['HKG', 'FUK', 'HKG'],\n",
       " ['HKG', 'TLV', 'HKG'],\n",
       " ['HKG', 'RUH', 'HKG'],\n",
       " ['HKG', 'PNH', 'HKG'],\n",
       " ['HKG', 'IST', 'HKG'],\n",
       " ['HKG', 'SGN', 'HKG'],\n",
       " ['HKG', 'ALA', 'HKG'],\n",
       " ['HKG', 'KMG', 'HKG'],\n",
       " ['HKG', 'TAO', 'HKG'],\n",
       " ['HKG', 'DAC', 'HKG'],\n",
       " ['HKG', 'KIX', 'HKG'],\n",
       " ['HKG', 'YGJ', 'HKG'],\n",
       " ['HKG', 'DMK', 'HKG'],\n",
       " ['HKG', 'SHE', 'HKG'],\n",
       " ['HKG', 'ADL', 'HKG'],\n",
       " ['HKG', 'CAN', 'HKG'],\n",
       " ['HKG', 'CSX', 'HKG'],\n",
       " ['HKG', 'KHV', 'HKG'],\n",
       " ['HKG', 'MLE', 'HKG'],\n",
       " ['HKG', 'TNN', 'HKG'],\n",
       " ['HKG', 'XIY', 'HKG'],\n",
       " ['HKG', 'KHN', 'HKG'],\n",
       " ['HKG', 'LJG', 'HKG'],\n",
       " ['HKG', 'MRU', 'HKG'],\n",
       " ['HKG', 'KWE', 'HKG'],\n",
       " ['HKG', 'USM', 'HKG'],\n",
       " ['HKG', 'BWN', 'HKG'],\n",
       " ['HKG', 'ULN', 'HKG'],\n",
       " ['HKG', 'SUB', 'HKG'],\n",
       " ['HKG', 'OVB', 'HKG'],\n",
       " ['HKG', 'YCU', 'HKG'],\n",
       " ['HKG', 'CGO', 'HKG'],\n",
       " ['HKG', 'XUZ', 'HKG'],\n",
       " ['HKG', 'WNZ', 'HKG'],\n",
       " ['HKG', 'XMN', 'HKG'],\n",
       " ['HKG', 'WUH', 'HKG'],\n",
       " ['HKG', 'HAK', 'HKG'],\n",
       " ['HKG', 'FOC', 'HKG'],\n",
       " ['HKG', 'CKG', 'HKG'],\n",
       " ['HKG', 'KOJ', 'HKG'],\n",
       " ['HKG', 'PUS', 'HKG'],\n",
       " ['HKG', 'OKA', 'HKG'],\n",
       " ['HKG', 'RGN', 'HKG'],\n",
       " ['HKG', 'CNX', 'HKG'],\n",
       " ['HKG', 'CRK', 'HKG'],\n",
       " ['HKG', 'REP', 'HKG'],\n",
       " ['HKG', 'TNA', 'HKG'],\n",
       " ['HKG', 'INC', 'HKG'],\n",
       " ['HKG', 'YNT', 'HKG'],\n",
       " ['HKG', 'CXR', 'HKG'],\n",
       " ['HKG', 'WUS', 'HKG'],\n",
       " ['HKG', 'WUX', 'HKG'],\n",
       " ['HKG', 'ZHA', 'HKG'],\n",
       " ['HKG', 'JJN', 'HKG'],\n",
       " ['HKG', 'MXZ', 'HKG'],\n",
       " ['HKG', 'HUN', 'HKG'],\n",
       " ['HKG', 'CEI', 'HKG'],\n",
       " ['HKG', 'MDL', 'HKG'],\n",
       " ['HKG', 'LAX', 'HKG'],\n",
       " ['HKG', 'MEL', 'HKG'],\n",
       " ['HKG', 'PER', 'HKG'],\n",
       " ['HKG', 'SIN', 'HKG'],\n",
       " ['HKG', 'PVG', 'HKG'],\n",
       " ['HKG', 'ZRH', 'HKG'],\n",
       " ['HKG', 'DEL', 'HKG'],\n",
       " ['HKG', 'BLR', 'HKG'],\n",
       " ['HKG', 'MXP', 'HKG'],\n",
       " ['HKG', 'ICN', 'HKG'],\n",
       " ['HKG', 'CNS', 'HKG'],\n",
       " ['HKG', 'AUH', 'HKG'],\n",
       " ['HKG', 'CGK', 'HKG'],\n",
       " ['HKG', 'DPS', 'HKG'],\n",
       " ['HKG', 'KTM', 'HKG'],\n",
       " ['HKG', 'NAN', 'HKG'],\n",
       " ['HKG', 'NKG', 'HKG'],\n",
       " ['HKG', 'HKT', 'HKG'],\n",
       " ['HKG', 'CTU', 'HKG'],\n",
       " ['HKG', 'POM', 'HKG'],\n",
       " ['HKG', 'HAN', 'HKG'],\n",
       " ['HKG', 'KHH', 'HKG'],\n",
       " ['HKG', 'NGO', 'HKG'],\n",
       " ['HKG', 'HGH', 'HKG'],\n",
       " ['HKG', 'VVO', 'HKG'],\n",
       " ['HKG', 'NNG', 'HKG'],\n",
       " ['HKG', 'DAD', 'HKG'],\n",
       " ['HKG', 'BKI', 'HKG'],\n",
       " ['HKG', 'KCH', 'HKG'],\n",
       " ['HKG', 'TSN', 'HKG'],\n",
       " ['HKG', 'CJU', 'HKG'],\n",
       " ['HKG', 'PEN', 'HKG'],\n",
       " ['HKG', 'CEB', 'HKG'],\n",
       " ['HKG', 'NGB', 'HKG'],\n",
       " ['HKG', 'SPN', 'HKG'],\n",
       " ['HKG', 'ILO', 'HKG'],\n",
       " ['HKG', 'DLC', 'HKG'],\n",
       " ['HKG', 'SHA', 'HKG'],\n",
       " ['HKG', 'TYN', 'HKG'],\n",
       " ['HKG', 'RMQ', 'HKG'],\n",
       " ['HKG', 'SYX', 'HKG'],\n",
       " ['HKG', 'HRB', 'HKG'],\n",
       " ['HKG', 'TAE', 'HKG'],\n",
       " ['HKG', 'SWA', 'HKG'],\n",
       " ['HKG', 'KWL', 'HKG'],\n",
       " ['HKG', 'HIA', 'HKG'],\n",
       " ['HKG', 'YIH', 'HKG'],\n",
       " ['HKG', 'YNZ', 'HKG'],\n",
       " ['HKG', 'LYG', 'HKG'],\n",
       " ['HKG', 'HFE', 'HKG'],\n",
       " ['HKG', 'BOS', 'FLL', 'BOS'],\n",
       " ['HKG', 'BOS', 'DCA', 'BOS'],\n",
       " ['HKG', 'BOS', 'ATL', 'BOS'],\n",
       " ['HKG', 'BOS', 'PBI', 'BOS'],\n",
       " ['HKG', 'BOS', 'DFW', 'BOS'],\n",
       " ['HKG', 'BOS', 'DFW', 'HKG'],\n",
       " ['HKG', 'BOS', 'BWI', 'BOS'],\n",
       " ['HKG', 'BOS', 'RDU', 'BOS'],\n",
       " ['HKG', 'BOS', 'MCO', 'BOS'],\n",
       " ['HKG', 'BOS', 'SEA', 'BOS'],\n",
       " ['HKG', 'BOS', 'SEA', 'HKG'],\n",
       " ['HKG', 'BOS', 'AUS', 'BOS'],\n",
       " ['HKG', 'BOS', 'SFO', 'BOS'],\n",
       " ['HKG', 'BOS', 'SFO', 'HKG'],\n",
       " ['HKG', 'BOS', 'TPA', 'BOS'],\n",
       " ['HKG', 'BOS', 'IAD', 'BOS'],\n",
       " ['HKG', 'BOS', 'SJC', 'BOS'],\n",
       " ['HKG', 'BOS', 'HOU', 'BOS'],\n",
       " ['HKG', 'BOS', 'LAS', 'BOS'],\n",
       " ['HKG', 'BOS', 'IAH', 'BOS'],\n",
       " ['HKG', 'BOS', 'CLE', 'BOS'],\n",
       " ['HKG', 'BOS', 'YVR', 'BOS'],\n",
       " ['HKG', 'BOS', 'YVR', 'HKG'],\n",
       " ['HKG', 'BOS', 'MSY', 'BOS'],\n",
       " ['HKG', 'BOS', 'JFK', 'BOS'],\n",
       " ['HKG', 'BOS', 'JFK', 'HKG'],\n",
       " ['HKG', 'BOS', 'CDG', 'BOS'],\n",
       " ['HKG', 'BOS', 'CDG', 'HKG'],\n",
       " ['HKG', 'BOS', 'LHR', 'BOS'],\n",
       " ['HKG', 'BOS', 'LHR', 'HKG'],\n",
       " ['HKG', 'BOS', 'MIA', 'BOS'],\n",
       " ['HKG', 'BOS', 'NRT', 'BOS'],\n",
       " ['HKG', 'BOS', 'NRT', 'HKG'],\n",
       " ['HKG', 'BOS', 'LGW', 'BOS'],\n",
       " ['HKG', 'BOS', 'LGW', 'HKG'],\n",
       " ['HKG', 'BOS', 'ORD', 'BOS'],\n",
       " ['HKG', 'BOS', 'ORD', 'HKG'],\n",
       " ['HKG', 'BOS', 'DUB', 'BOS'],\n",
       " ['HKG', 'BOS', 'SAN', 'BOS'],\n",
       " ['HKG', 'BOS', 'PEK', 'BOS'],\n",
       " ['HKG', 'BOS', 'PEK', 'HKG'],\n",
       " ['HKG', 'BOS', 'LGB', 'BOS'],\n",
       " ['HKG', 'BOS', 'AMS', 'BOS'],\n",
       " ['HKG', 'BOS', 'AMS', 'HKG'],\n",
       " ['HKG', 'BOS', 'DEN', 'BOS'],\n",
       " ['HKG', 'BOS', 'BCN', 'BOS'],\n",
       " ['HKG', 'BOS', 'BCN', 'HKG'],\n",
       " ['HKG', 'BOS', 'EWR', 'BOS'],\n",
       " ['HKG', 'BOS', 'EWR', 'HKG']]"
      ]
     },
     "execution_count": 13,
     "metadata": {},
     "output_type": "execute_result"
    }
   ],
   "source": [
    "g.V(hkVertexId).repeat(__.out('route')).until(__.cyclicPath()).limit(200).path().by('code').fold().next()"
   ]
  },
  {
   "cell_type": "markdown",
   "metadata": {},
   "source": [
    "__Get paths where we don't end up back in original airport (HK) after two hops__\n",
    "\n",
    "Using not()"
   ]
  },
  {
   "cell_type": "code",
   "execution_count": 14,
   "metadata": {},
   "outputs": [
    {
     "data": {
      "text/plain": [
       "[['HKG', 'BOS', 'FLL'],\n",
       " ['HKG', 'BOS', 'DCA'],\n",
       " ['HKG', 'BOS', 'ATL'],\n",
       " ['HKG', 'BOS', 'PBI'],\n",
       " ['HKG', 'BOS', 'DFW'],\n",
       " ['HKG', 'BOS', 'BWI'],\n",
       " ['HKG', 'BOS', 'RDU'],\n",
       " ['HKG', 'BOS', 'MCO'],\n",
       " ['HKG', 'BOS', 'SEA'],\n",
       " ['HKG', 'BOS', 'AUS'],\n",
       " ['HKG', 'BOS', 'SFO'],\n",
       " ['HKG', 'BOS', 'TPA'],\n",
       " ['HKG', 'BOS', 'IAD'],\n",
       " ['HKG', 'BOS', 'SJC'],\n",
       " ['HKG', 'BOS', 'HOU'],\n",
       " ['HKG', 'BOS', 'LAS'],\n",
       " ['HKG', 'BOS', 'IAH'],\n",
       " ['HKG', 'BOS', 'CLE'],\n",
       " ['HKG', 'BOS', 'YVR'],\n",
       " ['HKG', 'BOS', 'MSY'],\n",
       " ['HKG', 'BOS', 'JFK'],\n",
       " ['HKG', 'BOS', 'CDG'],\n",
       " ['HKG', 'BOS', 'LHR'],\n",
       " ['HKG', 'BOS', 'MIA'],\n",
       " ['HKG', 'BOS', 'NRT'],\n",
       " ['HKG', 'BOS', 'LGW'],\n",
       " ['HKG', 'BOS', 'ORD'],\n",
       " ['HKG', 'BOS', 'DUB'],\n",
       " ['HKG', 'BOS', 'SAN'],\n",
       " ['HKG', 'BOS', 'PEK'],\n",
       " ['HKG', 'BOS', 'LGB'],\n",
       " ['HKG', 'BOS', 'AMS'],\n",
       " ['HKG', 'BOS', 'DEN'],\n",
       " ['HKG', 'BOS', 'BCN'],\n",
       " ['HKG', 'BOS', 'EWR'],\n",
       " ['HKG', 'BOS', 'DOH'],\n",
       " ['HKG', 'BOS', 'YOW'],\n",
       " ['HKG', 'BOS', 'OAK'],\n",
       " ['HKG', 'BOS', 'CLT'],\n",
       " ['HKG', 'BOS', 'PHL'],\n",
       " ['HKG', 'BOS', 'RSW'],\n",
       " ['HKG', 'BOS', 'DTW'],\n",
       " ['HKG', 'BOS', 'YYZ'],\n",
       " ['HKG', 'BOS', 'FRA'],\n",
       " ['HKG', 'BOS', 'AUA'],\n",
       " ['HKG', 'BOS', 'DXB'],\n",
       " ['HKG', 'BOS', 'CPH'],\n",
       " ['HKG', 'BOS', 'STL'],\n",
       " ['HKG', 'BOS', 'FCO'],\n",
       " ['HKG', 'BOS', 'MAD'],\n",
       " ['HKG', 'BOS', 'ISP'],\n",
       " ['HKG', 'BOS', 'MUC'],\n",
       " ['HKG', 'BOS', 'YHZ'],\n",
       " ['HKG', 'BOS', 'MAN'],\n",
       " ['HKG', 'BOS', 'CGN'],\n",
       " ['HKG', 'BOS', 'SNN'],\n",
       " ['HKG', 'BOS', 'CUN'],\n",
       " ['HKG', 'BOS', 'DAL'],\n",
       " ['HKG', 'BOS', 'TLV'],\n",
       " ['HKG', 'BOS', 'PDX'],\n",
       " ['HKG', 'BOS', 'IST'],\n",
       " ['HKG', 'BOS', 'SAL'],\n",
       " ['HKG', 'BOS', 'MCI'],\n",
       " ['HKG', 'BOS', 'PTP'],\n",
       " ['HKG', 'BOS', 'SYR'],\n",
       " ['HKG', 'BOS', 'LIS'],\n",
       " ['HKG', 'BOS', 'BOG'],\n",
       " ['HKG', 'BOS', 'KEF'],\n",
       " ['HKG', 'BOS', 'BGI'],\n",
       " ['HKG', 'BOS', 'CHS'],\n",
       " ['HKG', 'BOS', 'STT'],\n",
       " ['HKG', 'BOS', 'MBJ'],\n",
       " ['HKG', 'BOS', 'SDQ'],\n",
       " ['HKG', 'BOS', 'PAP'],\n",
       " ['HKG', 'BOS', 'ORF'],\n",
       " ['HKG', 'BOS', 'JAX'],\n",
       " ['HKG', 'BOS', 'PUJ'],\n",
       " ['HKG', 'BOS', 'CMH'],\n",
       " ['HKG', 'BOS', 'SXM'],\n",
       " ['HKG', 'BOS', 'RIC'],\n",
       " ['HKG', 'BOS', 'RUT'],\n",
       " ['HKG', 'BOS', 'MYR'],\n",
       " ['HKG', 'BOS', 'PTY'],\n",
       " ['HKG', 'BOS', 'SAV'],\n",
       " ['HKG', 'BOS', 'CAK'],\n",
       " ['HKG', 'BOS', 'STI'],\n",
       " ['HKG', 'BOS', 'ACK'],\n",
       " ['HKG', 'BOS', 'AUG'],\n",
       " ['HKG', 'BOS', 'MVY'],\n",
       " ['HKG', 'BOS', 'HYA'],\n",
       " ['HKG', 'BOS', 'LEB'],\n",
       " ['HKG', 'BOS', 'PQI'],\n",
       " ['HKG', 'BOS', 'SLK'],\n",
       " ['HKG', 'BOS', 'HPN'],\n",
       " ['HKG', 'BOS', 'LAX'],\n",
       " ['HKG', 'BOS', 'BNA'],\n",
       " ['HKG', 'BOS', 'LGA'],\n",
       " ['HKG', 'BOS', 'PHX'],\n",
       " ['HKG', 'BOS', 'SJU'],\n",
       " ['HKG', 'BOS', 'MSP'],\n",
       " ['HKG', 'BOS', 'SLC'],\n",
       " ['HKG', 'BOS', 'PVG'],\n",
       " ['HKG', 'BOS', 'ZRH'],\n",
       " ['HKG', 'BOS', 'YUL'],\n",
       " ['HKG', 'BOS', 'OSL'],\n",
       " ['HKG', 'BOS', 'MEX'],\n",
       " ['HKG', 'BOS', 'ROC'],\n",
       " ['HKG', 'BOS', 'CVG'],\n",
       " ['HKG', 'BOS', 'MKE'],\n",
       " ['HKG', 'BOS', 'PIT'],\n",
       " ['HKG', 'BOS', 'IND'],\n",
       " ['HKG', 'BOS', 'DUS'],\n",
       " ['HKG', 'BOS', 'NAS'],\n",
       " ['HKG', 'BOS', 'MDW'],\n",
       " ['HKG', 'BOS', 'MDT'],\n",
       " ['HKG', 'BOS', 'BDA'],\n",
       " ['HKG', 'BOS', 'BUF'],\n",
       " ['HKG', 'BOS', 'ALB'],\n",
       " ['HKG', 'BOS', 'PLS'],\n",
       " ['HKG', 'BOS', 'PDL'],\n",
       " ['HKG', 'BOS', 'FDF'],\n",
       " ['HKG', 'BOS', 'ACY'],\n",
       " ['HKG', 'BOS', 'RAI'],\n",
       " ['HKG', 'BOS', 'PBG'],\n",
       " ['HKG', 'BOS', 'YTZ'],\n",
       " ['HKG', 'BOS', 'PVC'],\n",
       " ['HKG', 'BOS', 'BHB'],\n",
       " ['HKG', 'BOS', 'RKD'],\n",
       " ['HKG', 'BOS', 'TER'],\n",
       " ['HKG', 'DFW', 'FLL'],\n",
       " ['HKG', 'DFW', 'DCA'],\n",
       " ['HKG', 'DFW', 'BOS'],\n",
       " ['HKG', 'DFW', 'ATL'],\n",
       " ['HKG', 'DFW', 'PBI'],\n",
       " ['HKG', 'DFW', 'BWI'],\n",
       " ['HKG', 'DFW', 'ANC'],\n",
       " ['HKG', 'DFW', 'RDU'],\n",
       " ['HKG', 'DFW', 'MCO'],\n",
       " ['HKG', 'DFW', 'SEA'],\n",
       " ['HKG', 'DFW', 'AUS'],\n",
       " ['HKG', 'DFW', 'SFO'],\n",
       " ['HKG', 'DFW', 'HNL'],\n",
       " ['HKG', 'DFW', 'TPA'],\n",
       " ['HKG', 'DFW', 'IAD'],\n",
       " ['HKG', 'DFW', 'SJC'],\n",
       " ['HKG', 'DFW', 'HOU'],\n",
       " ['HKG', 'DFW', 'LAS'],\n",
       " ['HKG', 'DFW', 'IAH'],\n",
       " ['HKG', 'DFW', 'CLE'],\n",
       " ['HKG', 'DFW', 'YVR'],\n",
       " ['HKG', 'DFW', 'MSY'],\n",
       " ['HKG', 'DFW', 'JFK'],\n",
       " ['HKG', 'DFW', 'CDG'],\n",
       " ['HKG', 'DFW', 'LHR'],\n",
       " ['HKG', 'DFW', 'MIA'],\n",
       " ['HKG', 'DFW', 'NRT'],\n",
       " ['HKG', 'DFW', 'ORD'],\n",
       " ['HKG', 'DFW', 'SAN'],\n",
       " ['HKG', 'DFW', 'PEK'],\n",
       " ['HKG', 'DFW', 'SNA'],\n",
       " ['HKG', 'DFW', 'AMS'],\n",
       " ['HKG', 'DFW', 'DEN'],\n",
       " ['HKG', 'DFW', 'SAT'],\n",
       " ['HKG', 'DFW', 'EWR'],\n",
       " ['HKG', 'DFW', 'DOH'],\n",
       " ['HKG', 'DFW', 'CID'],\n",
       " ['HKG', 'DFW', 'OAK'],\n",
       " ['HKG', 'DFW', 'CLT'],\n",
       " ['HKG', 'DFW', 'PHL'],\n",
       " ['HKG', 'DFW', 'RSW'],\n",
       " ['HKG', 'DFW', 'DTW'],\n",
       " ['HKG', 'DFW', 'LIM'],\n",
       " ['HKG', 'DFW', 'YYZ'],\n",
       " ['HKG', 'DFW', 'TLH'],\n",
       " ['HKG', 'DFW', 'FRA'],\n",
       " ['HKG', 'DFW', 'SYD'],\n",
       " ['HKG', 'DFW', 'DXB'],\n",
       " ['HKG', 'DFW', 'COS'],\n",
       " ['HKG', 'DFW', 'STL'],\n",
       " ['HKG', 'DFW', 'FCO'],\n",
       " ['HKG', 'DFW', 'OMA'],\n",
       " ['HKG', 'DFW', 'MAD'],\n",
       " ['HKG', 'DFW', 'LIT'],\n",
       " ['HKG', 'DFW', 'AEX'],\n",
       " ['HKG', 'DFW', 'YYC'],\n",
       " ['HKG', 'DFW', 'AMA'],\n",
       " ['HKG', 'DFW', 'CUN'],\n",
       " ['HKG', 'DFW', 'ICT'],\n",
       " ['HKG', 'DFW', 'BRO'],\n",
       " ['HKG', 'DFW', 'PSP'],\n",
       " ['HKG', 'DFW', 'DAY'],\n",
       " ['HKG', 'DFW', 'GRK'],\n",
       " ['HKG', 'DFW', 'LIR'],\n",
       " ['HKG', 'DFW', 'MLU'],\n",
       " ['HKG', 'DFW', 'MOB'],\n",
       " ['HKG', 'DFW', 'XNA'],\n",
       " ['HKG', 'DFW', 'GIG'],\n",
       " ['HKG', 'DFW', 'ACT'],\n",
       " ['HKG', 'DFW', 'SJO'],\n",
       " ['HKG', 'DFW', 'SCL']]"
      ]
     },
     "execution_count": 14,
     "metadata": {},
     "output_type": "execute_result"
    }
   ],
   "source": [
    "g.V(hkVertexId).out().out().not_(__.cyclicPath()).limit(200).path().by('code').fold().next()"
   ]
  },
  {
   "cell_type": "markdown",
   "metadata": {},
   "source": [
    "Showing the paths"
   ]
  },
  {
   "cell_type": "code",
   "execution_count": 15,
   "metadata": {},
   "outputs": [
    {
     "data": {
      "text/plain": [
       "[[v[98344], e[{'@type': 'janusgraph:RelationIdentifier', '@value': {'value': '5evid-23vs-dg5-3bc', '@class': 'java.util.HashMap'}}][98344-route->4296], v[4296], e[{'@type': 'janusgraph:RelationIdentifier', '@value': {'value': '30eu1-3bc-dg5-23vs', '@class': 'java.util.HashMap'}}][4296-route->98344], v[98344]],\n",
       " [v[98344], e[{'@type': 'janusgraph:RelationIdentifier', '@value': {'value': '5evwl-23vs-dg5-6fc', '@class': 'java.util.HashMap'}}][98344-route->8328], v[8328], e[{'@type': 'janusgraph:RelationIdentifier', '@value': {'value': '1hrtd-6fc-dg5-23vs', '@class': 'java.util.HashMap'}}][8328-route->98344], v[98344]],\n",
       " [v[98344], e[{'@type': 'janusgraph:RelationIdentifier', '@value': {'value': '5exhh-23vs-dg5-9mw', '@class': 'java.util.HashMap'}}][98344-route->12488], v[12488], e[{'@type': 'janusgraph:RelationIdentifier', '@value': {'value': '321ax-9mw-dg5-23vs', '@class': 'java.util.HashMap'}}][12488-route->98344], v[98344]],\n",
       " [v[98344], e[{'@type': 'janusgraph:RelationIdentifier', '@value': {'value': '5exvp-23vs-dg5-coo', '@class': 'java.util.HashMap'}}][98344-route->16440], v[16440], e[{'@type': 'janusgraph:RelationIdentifier', '@value': {'value': '1l5vr-coo-dg5-23vs', '@class': 'java.util.HashMap'}}][16440-route->98344], v[98344]],\n",
       " [v[98344], e[{'@type': 'janusgraph:RelationIdentifier', '@value': {'value': '5ez2d-23vs-dg5-j2g', '@class': 'java.util.HashMap'}}][98344-route->24712], v[24712], e[{'@type': 'janusgraph:RelationIdentifier', '@value': {'value': '1lmvl-j2g-dg5-23vs', '@class': 'java.util.HashMap'}}][24712-route->98344], v[98344]],\n",
       " [v[98344], e[{'@type': 'janusgraph:RelationIdentifier', '@value': {'value': '5ewat-23vs-dg5-m5k', '@class': 'java.util.HashMap'}}][98344-route->28712], v[28712], e[{'@type': 'janusgraph:RelationIdentifier', '@value': {'value': '4uozp-m5k-dg5-23vs', '@class': 'java.util.HashMap'}}][28712-route->98344], v[98344]],\n",
       " [v[98344], e[{'@type': 'janusgraph:RelationIdentifier', '@value': {'value': '5f091-23vs-dg5-m60', '@class': 'java.util.HashMap'}}][98344-route->28728], v[28728], e[{'@type': 'janusgraph:RelationIdentifier', '@value': {'value': '1n4zr-m60-dg5-23vs', '@class': 'java.util.HashMap'}}][28728-route->98344], v[98344]],\n",
       " [v[98344], e[{'@type': 'janusgraph:RelationIdentifier', '@value': {'value': '5ezgl-23vs-dg5-ma0', '@class': 'java.util.HashMap'}}][98344-route->28872], v[28872], e[{'@type': 'janusgraph:RelationIdentifier', '@value': {'value': '353ix-ma0-dg5-23vs', '@class': 'java.util.HashMap'}}][28872-route->98344], v[98344]],\n",
       " [v[98344], e[{'@type': 'janusgraph:RelationIdentifier', '@value': {'value': '5f1fp-23vs-dg5-pbs', '@class': 'java.util.HashMap'}}][98344-route->32824], v[32824], e[{'@type': 'janusgraph:RelationIdentifier', '@value': {'value': '1pzpj-pbs-dg5-23vs', '@class': 'java.util.HashMap'}}][32824-route->98344], v[98344]],\n",
       " [v[98344], e[{'@type': 'janusgraph:RelationIdentifier', '@value': {'value': '5fait-23vs-dg5-pe0', '@class': 'java.util.HashMap'}}][98344-route->32904], v[32904], e[{'@type': 'janusgraph:RelationIdentifier', '@value': {'value': '1n66p-pe0-dg5-23vs', '@class': 'java.util.HashMap'}}][32904-route->98344], v[98344]]]"
      ]
     },
     "execution_count": 15,
     "metadata": {},
     "output_type": "execute_result"
    }
   ],
   "source": [
    "g.V(hkVertexId).outE().inV().outE().inV().cyclicPath().path().limit(10).fold().next()"
   ]
  }
 ],
 "metadata": {
  "kernelspec": {
   "display_name": "Python 3",
   "language": "python",
   "name": "python3"
  },
  "language_info": {
   "codemirror_mode": {
    "name": "ipython",
    "version": 3
   },
   "file_extension": ".py",
   "mimetype": "text/x-python",
   "name": "python",
   "nbconvert_exporter": "python",
   "pygments_lexer": "ipython3",
   "version": "3.6.5"
  }
 },
 "nbformat": 4,
 "nbformat_minor": 2
}
