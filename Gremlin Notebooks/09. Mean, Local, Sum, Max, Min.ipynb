{
 "cells": [
  {
   "cell_type": "markdown",
   "metadata": {},
   "source": [
    "# 9. Mean, Local, Sum, Max, Min\n",
    "#### By Kwan Yin Andrew Chau"
   ]
  },
  {
   "cell_type": "code",
   "execution_count": 1,
   "metadata": {},
   "outputs": [],
   "source": [
    "import nbfinder\n",
    "from loader import g\n",
    "from loader import __"
   ]
  },
  {
   "cell_type": "markdown",
   "metadata": {},
   "source": [
    "## mean(), local()\n",
    "__To get the average number of routes from an airport, the following is wrong because it does not keep track of the number of airports (it divided by 1)__"
   ]
  },
  {
   "cell_type": "code",
   "execution_count": 2,
   "metadata": {},
   "outputs": [
    {
     "data": {
      "text/plain": [
       "43400.0"
      ]
     },
     "execution_count": 2,
     "metadata": {},
     "output_type": "execute_result"
    }
   ],
   "source": [
    "g.V().hasLabel('airport').out('route').count().mean().next()"
   ]
  },
  {
   "cell_type": "markdown",
   "metadata": {},
   "source": [
    "We want to create a collection of values where each value is the route count for just one airport by putting the count inside a local step"
   ]
  },
  {
   "cell_type": "code",
   "execution_count": 3,
   "metadata": {
    "scrolled": true
   },
   "outputs": [
    {
     "data": {
      "text/plain": [
       "12.863070539419088"
      ]
     },
     "execution_count": 3,
     "metadata": {},
     "output_type": "execute_result"
    }
   ],
   "source": [
    "g.V().hasLabel('airport').local(__.out('route').count()).mean().next()"
   ]
  },
  {
   "cell_type": "markdown",
   "metadata": {},
   "source": [
    "What it did is we got a list of counts per airport rather than a count of all airports"
   ]
  },
  {
   "cell_type": "code",
   "execution_count": 4,
   "metadata": {},
   "outputs": [
    {
     "data": {
      "text/plain": [
       "[1, 39, 2, 1, 20, 48, 37, 10, 2, 1]"
      ]
     },
     "execution_count": 4,
     "metadata": {},
     "output_type": "execute_result"
    }
   ],
   "source": [
    "g.V().hasLabel('airport').local(__.out('route').count()).limit(10).fold().next()"
   ]
  },
  {
   "cell_type": "markdown",
   "metadata": {},
   "source": [
    "__List of all airports' code an city in NSW__"
   ]
  },
  {
   "cell_type": "code",
   "execution_count": 5,
   "metadata": {},
   "outputs": [
    {
     "data": {
      "text/plain": [
       "['ABX',\n",
       " 'Albury',\n",
       " 'ARM',\n",
       " 'Armidale',\n",
       " 'BHQ',\n",
       " 'Broken Hill',\n",
       " 'BHS',\n",
       " 'Bathurst',\n",
       " 'BNK',\n",
       " 'Ballina',\n",
       " 'BWU',\n",
       " 'Sydney',\n",
       " 'CFS',\n",
       " 'Coffs Harbour',\n",
       " 'DBO',\n",
       " 'Dubbo',\n",
       " 'GFF',\n",
       " 'Griffith',\n",
       " 'GFN',\n",
       " 'Grafton',\n",
       " 'LDH',\n",
       " 'Lord Howe Island',\n",
       " 'LSY',\n",
       " 'Lismore',\n",
       " 'MIM',\n",
       " 'Merimbula',\n",
       " 'MRZ',\n",
       " 'Moree',\n",
       " 'MYA',\n",
       " 'Moruya',\n",
       " 'NAA',\n",
       " 'Narrabri',\n",
       " 'NRA',\n",
       " 'Narrandera',\n",
       " 'NTL',\n",
       " 'Williamtown',\n",
       " 'OAG',\n",
       " 'Orange',\n",
       " 'OOL',\n",
       " 'Gold Coast',\n",
       " 'PKE',\n",
       " 'Parkes',\n",
       " 'PQQ',\n",
       " 'Port Macquarie',\n",
       " 'SYD',\n",
       " 'Sydney',\n",
       " 'TMW',\n",
       " 'Tamworth',\n",
       " 'TRO',\n",
       " 'Taree',\n",
       " 'WGA',\n",
       " 'Wagga Wagga']"
      ]
     },
     "execution_count": 5,
     "metadata": {},
     "output_type": "execute_result"
    }
   ],
   "source": [
    "g.V().has('region','AU-NSW').order().by('code').values('code','city').fold().next()"
   ]
  },
  {
   "cell_type": "markdown",
   "metadata": {},
   "source": [
    "It is better to group each airport with the code and city together"
   ]
  },
  {
   "cell_type": "code",
   "execution_count": 6,
   "metadata": {},
   "outputs": [
    {
     "data": {
      "text/plain": [
       "[['ABZ', 'Aberdeen'],\n",
       " ['BEB', 'Balivanich'],\n",
       " ['BRR', 'Eoligarry'],\n",
       " ['CAL', 'Campbeltown'],\n",
       " ['DND', 'Dundee'],\n",
       " ['EDI', 'Edinburgh'],\n",
       " ['EOI', 'Eday'],\n",
       " ['FIE', 'Fair Isle'],\n",
       " ['FOA', 'Foula'],\n",
       " ['GLA', 'Glasgow'],\n",
       " ['ILY', 'Port Ellen'],\n",
       " ['INV', 'Inverness'],\n",
       " ['KOI', 'Orkney Islands'],\n",
       " ['LSI', 'Lerwick'],\n",
       " ['LWK', 'Lerwick'],\n",
       " ['NDY', 'Sanday'],\n",
       " ['NRL', 'North Ronaldsay'],\n",
       " ['PIK', 'Glasgow'],\n",
       " ['PPW', 'Papa Westray'],\n",
       " ['PSV', 'Papa Stour Island'],\n",
       " ['SOY', 'Stronsay'],\n",
       " ['SYY', 'Stornoway'],\n",
       " ['TRE', 'Balemartine'],\n",
       " ['WIC', 'Wick'],\n",
       " ['WRY', 'Westray']]"
      ]
     },
     "execution_count": 6,
     "metadata": {},
     "output_type": "execute_result"
    }
   ],
   "source": [
    "g.V().has('region','GB-SCT').order().by('code').local(__.values('code','city').fold()).fold().next()"
   ]
  },
  {
   "cell_type": "markdown",
   "metadata": {},
   "source": [
    "__Average number of routes to and from an airport__"
   ]
  },
  {
   "cell_type": "code",
   "execution_count": 7,
   "metadata": {},
   "outputs": [
    {
     "data": {
      "text/plain": [
       "25.726141078838175"
      ]
     },
     "execution_count": 7,
     "metadata": {},
     "output_type": "execute_result"
    }
   ],
   "source": [
    "g.V().hasLabel('airport').local(__.both('route').count()).mean().next()"
   ]
  },
  {
   "cell_type": "markdown",
   "metadata": {},
   "source": [
    "## sum(), max(), min()\n",
    "__Sum of all the runways of all the airports__"
   ]
  },
  {
   "cell_type": "code",
   "execution_count": 8,
   "metadata": {},
   "outputs": [
    {
     "data": {
      "text/plain": [
       "4828"
      ]
     },
     "execution_count": 8,
     "metadata": {},
     "output_type": "execute_result"
    }
   ],
   "source": [
    "g.V().hasLabel('airport').values('runways').sum().next()"
   ]
  },
  {
   "cell_type": "markdown",
   "metadata": {},
   "source": [
    "__Longest runway__"
   ]
  },
  {
   "cell_type": "code",
   "execution_count": 9,
   "metadata": {},
   "outputs": [
    {
     "data": {
      "text/plain": [
       "18045"
      ]
     },
     "execution_count": 9,
     "metadata": {},
     "output_type": "execute_result"
    }
   ],
   "source": [
    "g.V().hasLabel('airport').values('longest').max().next()"
   ]
  },
  {
   "cell_type": "markdown",
   "metadata": {},
   "source": [
    "__Shortest runway__"
   ]
  },
  {
   "cell_type": "code",
   "execution_count": 10,
   "metadata": {},
   "outputs": [
    {
     "data": {
      "text/plain": [
       "1300"
      ]
     },
     "execution_count": 10,
     "metadata": {},
     "output_type": "execute_result"
    }
   ],
   "source": [
    "g.V().hasLabel('airport').values('longest').min().next()"
   ]
  }
 ],
 "metadata": {
  "kernelspec": {
   "display_name": "Python 3",
   "language": "python",
   "name": "python3"
  },
  "language_info": {
   "codemirror_mode": {
    "name": "ipython",
    "version": 3
   },
   "file_extension": ".py",
   "mimetype": "text/x-python",
   "name": "python",
   "nbconvert_exporter": "python",
   "pygments_lexer": "ipython3",
   "version": "3.6.5"
  }
 },
 "nbformat": 4,
 "nbformat_minor": 2
}
