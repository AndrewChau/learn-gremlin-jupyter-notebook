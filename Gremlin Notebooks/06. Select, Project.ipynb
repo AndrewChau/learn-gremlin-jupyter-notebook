{
 "cells": [
  {
   "cell_type": "markdown",
   "metadata": {},
   "source": [
    "# 6. Select, Project\n",
    "#### By Kwan Yin Andrew Chau"
   ]
  },
  {
   "cell_type": "code",
   "execution_count": 1,
   "metadata": {},
   "outputs": [],
   "source": [
    "import nbfinder\n",
    "from loader import g\n",
    "from loader import __\n",
    "from loader import Pop\n",
    "from loader import hkVertexId\n",
    "from loader import sydneyVertexId"
   ]
  },
  {
   "cell_type": "markdown",
   "metadata": {},
   "source": [
    "## select()\n",
    "__Select the traversal of airports from HK that are 2 flights away__"
   ]
  },
  {
   "cell_type": "code",
   "execution_count": 2,
   "metadata": {},
   "outputs": [
    {
     "data": {
      "text/plain": [
       "[{'a': v[32776], 'b': v[4312], 'c': v[4136]},\n",
       " {'a': v[32776], 'b': v[4312], 'c': v[4144]},\n",
       " {'a': v[32776], 'b': v[4312], 'c': v[4160]},\n",
       " {'a': v[32776], 'b': v[4312], 'c': v[4216]},\n",
       " {'a': v[32776], 'b': v[4312], 'c': v[4248]},\n",
       " {'a': v[32776], 'b': v[4312], 'c': v[4280]},\n",
       " {'a': v[32776], 'b': v[4312], 'c': v[8200]},\n",
       " {'a': v[32776], 'b': v[4312], 'c': v[8232]},\n",
       " {'a': v[32776], 'b': v[4312], 'c': v[8240]},\n",
       " {'a': v[32776], 'b': v[4312], 'c': v[8256]}]"
      ]
     },
     "execution_count": 2,
     "metadata": {},
     "output_type": "execute_result"
    }
   ],
   "source": [
    "g.V(hkVertexId).as_('a').out().as_('b').out().as_('c').\\\n",
    "    select('a', 'b', 'c').limit(10).fold().next()"
   ]
  },
  {
   "cell_type": "markdown",
   "metadata": {},
   "source": [
    "__Give vertices multiple aliases__"
   ]
  },
  {
   "cell_type": "code",
   "execution_count": 3,
   "metadata": {},
   "outputs": [
    {
     "data": {
      "text/plain": [
       "[{'a': 'BOY', 'b': 'BF-HOU', 'c': 2},\n",
       " {'a': 'LIN', 'b': 'IT-25', 'c': 36},\n",
       " {'a': 'KSQ', 'b': 'UZ-QA', 'c': 3},\n",
       " {'a': 'ZRJ', 'b': 'CA-ON', 'c': 2},\n",
       " {'a': 'YIH', 'b': 'CN-42', 'c': 15},\n",
       " {'a': 'ERN', 'b': 'BR-AM', 'c': 1},\n",
       " {'a': 'SAN', 'b': 'US-CA', 'c': 74},\n",
       " {'a': 'NAJ', 'b': 'AZ-NX', 'c': 1},\n",
       " {'a': 'SLA', 'b': 'AR-A', 'c': 4},\n",
       " {'a': 'BZK', 'b': 'RU-BRY', 'c': 1}]"
      ]
     },
     "execution_count": 3,
     "metadata": {},
     "output_type": "execute_result"
    }
   ],
   "source": [
    "a = g.V().has('type','airport').limit(10).as_('a','b','c').\\\n",
    "    select('a','b','c').by('code').by('region').by(__.out().count()).fold().next()\n",
    "a"
   ]
  },
  {
   "cell_type": "markdown",
   "metadata": {},
   "source": [
    "## project()\n",
    "Equivalent done by using project() instead of as() and select()"
   ]
  },
  {
   "cell_type": "code",
   "execution_count": 4,
   "metadata": {},
   "outputs": [],
   "source": [
    "b = g.V().has('type','airport').limit(10).project('a','b','c').\\\n",
    "    by('code').by('region').by(__.out().count()).fold().next()\n",
    "assert a == b"
   ]
  },
  {
   "cell_type": "markdown",
   "metadata": {},
   "source": [
    "__Use the same alias for different vertices__\n",
    "\n",
    "Select the first"
   ]
  },
  {
   "cell_type": "code",
   "execution_count": 5,
   "metadata": {},
   "outputs": [
    {
     "data": {
      "text/plain": [
       "32776"
      ]
     },
     "execution_count": 5,
     "metadata": {},
     "output_type": "execute_result"
    }
   ],
   "source": [
    "x = g.V(hkVertexId).as_('a').V(sydneyVertexId).as_('a').\\\n",
    "    select(Pop.first, 'a').id().next()\n",
    "assert x == hkVertexId\n",
    "x"
   ]
  },
  {
   "cell_type": "markdown",
   "metadata": {},
   "source": [
    "Select the last"
   ]
  },
  {
   "cell_type": "code",
   "execution_count": 6,
   "metadata": {},
   "outputs": [
    {
     "data": {
      "text/plain": [
       "28712"
      ]
     },
     "execution_count": 6,
     "metadata": {},
     "output_type": "execute_result"
    }
   ],
   "source": [
    "x = g.V(hkVertexId).as_('a').V(sydneyVertexId).as_('a').\\\n",
    "    select(Pop.last, 'a').id().next()\n",
    "assert x == sydneyVertexId\n",
    "x"
   ]
  },
  {
   "cell_type": "markdown",
   "metadata": {},
   "source": [
    "__\"all\" (produces list) cannot be used with by modulator__"
   ]
  },
  {
   "cell_type": "code",
   "execution_count": 7,
   "metadata": {},
   "outputs": [
    {
     "data": {
      "text/plain": [
       "[v[32776], v[28712]]"
      ]
     },
     "execution_count": 7,
     "metadata": {},
     "output_type": "execute_result"
    }
   ],
   "source": [
    "g.V(hkVertexId).as_('a').V(sydneyVertexId).as_('a').\\\n",
    "    select(Pop.all_, 'a').next()"
   ]
  },
  {
   "cell_type": "code",
   "execution_count": 8,
   "metadata": {},
   "outputs": [
    {
     "name": "stdout",
     "output_type": "stream",
     "text": [
      "Hong Kong - Chek Lap Kok International Airport\n",
      "Sydney Kingsford Smith\n"
     ]
    }
   ],
   "source": [
    "results = g.V(hkVertexId).as_('a').V(sydneyVertexId).as_('a').select(Pop.all_, 'a').unfold().values('desc')\n",
    "count = g.V(hkVertexId).as_('a').V(sydneyVertexId).as_('a').select(Pop.all_, 'a').unfold().count().next()\n",
    "for c in range(count):\n",
    "    print(results.next())"
   ]
  },
  {
   "cell_type": "markdown",
   "metadata": {},
   "source": [
    "__Select the edge between HK and Sydney, and the distance property on it__"
   ]
  },
  {
   "cell_type": "code",
   "execution_count": 9,
   "metadata": {},
   "outputs": [
    {
     "data": {
      "text/plain": [
       "4591"
      ]
     },
     "execution_count": 9,
     "metadata": {},
     "output_type": "execute_result"
    }
   ],
   "source": [
    "g.V(hkVertexId).outE().as_('e').inV().has('code','SYD').select('e').values('dist').next()"
   ]
  },
  {
   "cell_type": "markdown",
   "metadata": {},
   "source": [
    "__Select certain properties in the map values__"
   ]
  },
  {
   "cell_type": "code",
   "execution_count": 10,
   "metadata": {},
   "outputs": [
    {
     "data": {
      "text/plain": [
       "{'code': ['HKG'],\n",
       " 'icao': ['VHHH'],\n",
       " 'desc': ['Hong Kong - Chek Lap Kok International Airport']}"
      ]
     },
     "execution_count": 10,
     "metadata": {},
     "output_type": "execute_result"
    }
   ],
   "source": [
    "g.V(hkVertexId).valueMap().select('code','icao','desc').next()"
   ]
  }
 ],
 "metadata": {
  "kernelspec": {
   "display_name": "Python 3",
   "language": "python",
   "name": "python3"
  },
  "language_info": {
   "codemirror_mode": {
    "name": "ipython",
    "version": 3
   },
   "file_extension": ".py",
   "mimetype": "text/x-python",
   "name": "python",
   "nbconvert_exporter": "python",
   "pygments_lexer": "ipython3",
   "version": "3.6.5"
  }
 },
 "nbformat": 4,
 "nbformat_minor": 2
}
