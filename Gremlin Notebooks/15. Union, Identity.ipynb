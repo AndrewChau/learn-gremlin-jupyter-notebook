{
 "cells": [
  {
   "cell_type": "markdown",
   "metadata": {},
   "source": [
    "# 15. Union, Identity\n",
    "#### By Kwan Yin Andrew Chau"
   ]
  },
  {
   "cell_type": "code",
   "execution_count": 1,
   "metadata": {},
   "outputs": [],
   "source": [
    "import nbfinder\n",
    "from loader import g\n",
    "from loader import __\n",
    "from loader import P\n",
    "from loader import T\n",
    "from loader import sydneyVertexId\n",
    "from loader import hkVertexId"
   ]
  },
  {
   "cell_type": "markdown",
   "metadata": {},
   "source": [
    "## union()\n",
    "\n",
    "__Combine the Hong Kong airport vertex with the number of destinations__\n",
    "\n",
    "The output from the prior step is available to the steps inside the union - the out step starts from the vertex that was found immediately before the union step"
   ]
  },
  {
   "cell_type": "code",
   "execution_count": 2,
   "metadata": {},
   "outputs": [
    {
     "data": {
      "text/plain": [
       "[v[98344], 151]"
      ]
     },
     "execution_count": 2,
     "metadata": {},
     "output_type": "execute_result"
    }
   ],
   "source": [
    "g.V(hkVertexId).as_('a').union(__.select('a'), __.out().count()).fold().next()"
   ]
  },
  {
   "cell_type": "markdown",
   "metadata": {},
   "source": [
    "Equivalent to"
   ]
  },
  {
   "cell_type": "code",
   "execution_count": 3,
   "metadata": {},
   "outputs": [
    {
     "data": {
      "text/plain": [
       "[v[98344], 151]"
      ]
     },
     "execution_count": 3,
     "metadata": {},
     "output_type": "execute_result"
    }
   ],
   "source": [
    "g.V().union(__.has('airport', 'code', 'HKG'), __.has('airport', 'code', 'HKG').out().count()).fold().next()"
   ]
  },
  {
   "cell_type": "markdown",
   "metadata": {},
   "source": [
    "__This can also be done by grouping into a map__"
   ]
  },
  {
   "cell_type": "code",
   "execution_count": 4,
   "metadata": {},
   "outputs": [
    {
     "data": {
      "text/plain": [
       "{'98344': 151}"
      ]
     },
     "execution_count": 4,
     "metadata": {},
     "output_type": "execute_result"
    }
   ],
   "source": [
    "g.V().has('airport', 'code', 'HKG').group().by().by(__.out().count()).next()"
   ]
  },
  {
   "cell_type": "markdown",
   "metadata": {},
   "source": [
    "__We can output the desc and code instead of the actual vertex__"
   ]
  },
  {
   "cell_type": "code",
   "execution_count": 5,
   "metadata": {},
   "outputs": [
    {
     "data": {
      "text/plain": [
       "['Hong Kong - Chek Lap Kok International Airport', 'HKG', 151]"
      ]
     },
     "execution_count": 5,
     "metadata": {},
     "output_type": "execute_result"
    }
   ],
   "source": [
    "g.V(hkVertexId).as_('a').union(__.select('a').by('desc'), __.select('a').by('code'), __.out().count()).fold().next()"
   ]
  },
  {
   "cell_type": "markdown",
   "metadata": {},
   "source": [
    "## identity()\n",
    "\n",
    "__Using identity returns the Hong Kong airport vertex passed into the current step (the union)__"
   ]
  },
  {
   "cell_type": "code",
   "execution_count": 6,
   "metadata": {},
   "outputs": [
    {
     "data": {
      "text/plain": [
       "[v[98344], 'Hong Kong - Chek Lap Kok International Airport', 151]"
      ]
     },
     "execution_count": 6,
     "metadata": {},
     "output_type": "execute_result"
    }
   ],
   "source": [
    "g.V(hkVertexId).union(__.identity(), __.identity().values('desc'), __.out().count()).fold().next()"
   ]
  },
  {
   "cell_type": "markdown",
   "metadata": {},
   "source": [
    "__We do not need to use identity to retrieve values in this case because we have the output from the previous step__\n",
    "\n",
    "Equivalent to"
   ]
  },
  {
   "cell_type": "code",
   "execution_count": 7,
   "metadata": {},
   "outputs": [
    {
     "data": {
      "text/plain": [
       "[v[98344], 'Hong Kong - Chek Lap Kok International Airport', 151]"
      ]
     },
     "execution_count": 7,
     "metadata": {},
     "output_type": "execute_result"
    }
   ],
   "source": [
    "g.V(hkVertexId).union(__.identity(), __.values('desc'), __.out().count()).fold().next()"
   ]
  },
  {
   "cell_type": "markdown",
   "metadata": {},
   "source": [
    "__A constant can also be used__"
   ]
  },
  {
   "cell_type": "code",
   "execution_count": 8,
   "metadata": {},
   "outputs": [
    {
     "data": {
      "text/plain": [
       "['Description', 'Hong Kong - Chek Lap Kok International Airport']"
      ]
     },
     "execution_count": 8,
     "metadata": {},
     "output_type": "execute_result"
    }
   ],
   "source": [
    "g.V(hkVertexId).union(__.constant('Description'), __.values('desc')).fold().next()"
   ]
  },
  {
   "cell_type": "markdown",
   "metadata": {},
   "source": [
    "__Results from a collection of airports in a local step where each collection has everything in the union folded__"
   ]
  },
  {
   "cell_type": "code",
   "execution_count": 9,
   "metadata": {},
   "outputs": [
    {
     "data": {
      "text/plain": [
       "[['GUW', 'Atyrau Airport', 'KZ'],\n",
       " ['JAN', 'Jackson-Medgar Wiley Evers International Airport', 'US'],\n",
       " ['OMC', 'Ormoc Airport', 'PH'],\n",
       " ['BHD', 'George Best Belfast City Airport', 'UK'],\n",
       " ['NAG', 'Dr. Babasaheb Ambedkar International Airport', 'IN'],\n",
       " ['MUX', 'Multan International Airport', 'PK'],\n",
       " ['SDQ', 'Las Américas International Airport', 'DO'],\n",
       " ['SMK', 'St Michael Airport', 'US'],\n",
       " ['ILG', 'New Castle Airport', 'US'],\n",
       " ['QSF', 'Ain Arnat Airport', 'DZ']]"
      ]
     },
     "execution_count": 9,
     "metadata": {},
     "output_type": "execute_result"
    }
   ],
   "source": [
    "g.V().hasLabel('airport').sample(10).local(\n",
    "    __.union(__.values('code'), __.values('desc', 'country')).fold()\n",
    ").fold().next()"
   ]
  },
  {
   "cell_type": "markdown",
   "metadata": {},
   "source": [
    "Things inside the union do not have to be directly related\n",
    "\n",
    "__Union of airports from the UK that can directly reach HK or airports in the US that HK can reach directly__"
   ]
  },
  {
   "cell_type": "code",
   "execution_count": 10,
   "metadata": {},
   "outputs": [
    {
     "data": {
      "text/plain": [
       "[['Hong Kong - Chek Lap Kok International Airport', 'London Heathrow'],\n",
       " ['Hong Kong - Chek Lap Kok International Airport', 'London Gatwick'],\n",
       " ['Hong Kong - Chek Lap Kok International Airport', 'Manchester Airport'],\n",
       " ['Hong Kong - Chek Lap Kok International Airport', 'Boston Logan'],\n",
       " ['Hong Kong - Chek Lap Kok International Airport', 'Dallas/Fort Worth International Airport'],\n",
       " ['Hong Kong - Chek Lap Kok International Airport', 'Seattle-Tacoma'],\n",
       " ['Hong Kong - Chek Lap Kok International Airport', 'San Francisco International Airport'],\n",
       " ['Hong Kong - Chek Lap Kok International Airport', 'New York John F. Kennedy International Airport'],\n",
       " ['Hong Kong - Chek Lap Kok International Airport', \"Chicago O'Hare International Airport\"],\n",
       " ['Hong Kong - Chek Lap Kok International Airport', 'Newark, Liberty'],\n",
       " ['Hong Kong - Chek Lap Kok International Airport', 'Los Angeles International Airport']]"
      ]
     },
     "execution_count": 10,
     "metadata": {},
     "output_type": "execute_result"
    }
   ],
   "source": [
    "g.V(hkVertexId).union(\n",
    "    __.in_().has('country','UK'), __.out().has('country','US')\n",
    ").path().by('desc').fold().next()"
   ]
  },
  {
   "cell_type": "markdown",
   "metadata": {},
   "source": [
    "Union of airports in the US or Russia that HK can directly reach"
   ]
  },
  {
   "cell_type": "code",
   "execution_count": 11,
   "metadata": {},
   "outputs": [
    {
     "data": {
      "text/plain": [
       "[['Hong Kong - Chek Lap Kok International Airport', 'Boston Logan'],\n",
       " ['Hong Kong - Chek Lap Kok International Airport', 'Dallas/Fort Worth International Airport'],\n",
       " ['Hong Kong - Chek Lap Kok International Airport', 'Seattle-Tacoma'],\n",
       " ['Hong Kong - Chek Lap Kok International Airport', 'San Francisco International Airport'],\n",
       " ['Hong Kong - Chek Lap Kok International Airport', 'New York John F. Kennedy International Airport'],\n",
       " ['Hong Kong - Chek Lap Kok International Airport', \"Chicago O'Hare International Airport\"],\n",
       " ['Hong Kong - Chek Lap Kok International Airport', 'Newark, Liberty'],\n",
       " ['Hong Kong - Chek Lap Kok International Airport', 'Los Angeles International Airport'],\n",
       " ['Hong Kong - Chek Lap Kok International Airport', 'Moscow, Domodedovo International Airport'],\n",
       " ['Hong Kong - Chek Lap Kok International Airport', 'Moscow, Sheremetyevo International Airport'],\n",
       " ['Hong Kong - Chek Lap Kok International Airport', 'Khabarovsk-Novy Airport'],\n",
       " ['Hong Kong - Chek Lap Kok International Airport', 'Tolmachevo Airport'],\n",
       " ['Hong Kong - Chek Lap Kok International Airport', 'Vladivostok International Airport']]"
      ]
     },
     "execution_count": 11,
     "metadata": {},
     "output_type": "execute_result"
    }
   ],
   "source": [
    "g.V(hkVertexId).union(\n",
    "    __.out().has('country','US'), __.out().has('country','RU')\n",
    ").path().by('desc').fold().next()"
   ]
  },
  {
   "cell_type": "markdown",
   "metadata": {},
   "source": [
    "Equivalent to"
   ]
  },
  {
   "cell_type": "code",
   "execution_count": 12,
   "metadata": {},
   "outputs": [
    {
     "data": {
      "text/plain": [
       "[['Hong Kong - Chek Lap Kok International Airport', 'Boston Logan'],\n",
       " ['Hong Kong - Chek Lap Kok International Airport', 'Dallas/Fort Worth International Airport'],\n",
       " ['Hong Kong - Chek Lap Kok International Airport', 'Seattle-Tacoma'],\n",
       " ['Hong Kong - Chek Lap Kok International Airport', 'San Francisco International Airport'],\n",
       " ['Hong Kong - Chek Lap Kok International Airport', 'New York John F. Kennedy International Airport'],\n",
       " ['Hong Kong - Chek Lap Kok International Airport', 'Moscow, Domodedovo International Airport'],\n",
       " ['Hong Kong - Chek Lap Kok International Airport', \"Chicago O'Hare International Airport\"],\n",
       " ['Hong Kong - Chek Lap Kok International Airport', 'Newark, Liberty'],\n",
       " ['Hong Kong - Chek Lap Kok International Airport', 'Moscow, Sheremetyevo International Airport'],\n",
       " ['Hong Kong - Chek Lap Kok International Airport', 'Khabarovsk-Novy Airport'],\n",
       " ['Hong Kong - Chek Lap Kok International Airport', 'Tolmachevo Airport'],\n",
       " ['Hong Kong - Chek Lap Kok International Airport', 'Los Angeles International Airport'],\n",
       " ['Hong Kong - Chek Lap Kok International Airport', 'Vladivostok International Airport']]"
      ]
     },
     "execution_count": 12,
     "metadata": {},
     "output_type": "execute_result"
    }
   ],
   "source": [
    "g.V(hkVertexId).out('route').has(\n",
    "    'country', P.within('US','RU')\n",
    ").path().by('desc').fold().next()"
   ]
  },
  {
   "cell_type": "markdown",
   "metadata": {},
   "source": [
    "__Union of airports in US or China that each airport in NSW can reach__"
   ]
  },
  {
   "cell_type": "code",
   "execution_count": 13,
   "metadata": {},
   "outputs": [
    {
     "data": {
      "text/plain": [
       "[['Orange Airport'],\n",
       " ['Moruya Airport'],\n",
       " ['Merimbula Airport'],\n",
       " ['Tamworth Airport'],\n",
       " ['Moree Airport'],\n",
       " ['Ballina Byron Gateway Airport'],\n",
       " ['Wagga Wagga City Airport'],\n",
       " ['Sydney Kingsford Smith',\n",
       "  'Dallas/Fort Worth International Airport',\n",
       "  'San Francisco International Airport',\n",
       "  'Honolulu International Airport',\n",
       "  'Los Angeles International Airport',\n",
       "  'Beijing Capital International Airport',\n",
       "  'Kunming Wujiaba International Airport',\n",
       "  'Guangzhou Baiyun International Airport',\n",
       "  'Changsha Huanghua International Airport',\n",
       "  \"Xi'an Xianyang International Airport\",\n",
       "  'Wuhan Tianhe International Airport',\n",
       "  'Chongqing Jiangbei International Airport',\n",
       "  'Shanghai - Pudong International Airport',\n",
       "  'Nanjing Lukou Airport',\n",
       "  'Chengdu Shuangliu International Airport',\n",
       "  'Hangzhou Xiaoshan International Airport'],\n",
       " ['Taree Airport'],\n",
       " ['Newcastle Airport'],\n",
       " ['Dubbo City Regional Airport'],\n",
       " ['Parkes Airport'],\n",
       " ['Grafton Airport'],\n",
       " ['Armidale Airport'],\n",
       " ['Bathurst Airport'],\n",
       " ['Narrabri Airport'],\n",
       " ['Broken Hill Airport'],\n",
       " ['Sydney Bankstown Airport'],\n",
       " ['Coffs Harbour Airport'],\n",
       " ['Port Macquarie Airport'],\n",
       " ['Griffith Airport'],\n",
       " ['Lord Howe Island Airport'],\n",
       " ['Narrandera Airport'],\n",
       " ['Albury Airport'],\n",
       " ['Lismore Airport'],\n",
       " ['Gold Coast Airport', 'Wuhan Tianhe International Airport']]"
      ]
     },
     "execution_count": 13,
     "metadata": {},
     "output_type": "execute_result"
    }
   ],
   "source": [
    "g.V().has('region', 'AU-NSW').local(__.union(\n",
    "    __.values('desc'),\n",
    "    __.out('route').has('country', 'US').values('desc'),\n",
    "    __.out('route').has('country', 'CN').values('desc')\n",
    ").fold()).fold().next()"
   ]
  },
  {
   "cell_type": "markdown",
   "metadata": {},
   "source": [
    "__Path of airports and their distances between each airport from:__\n",
    "- Any airport from London to any airport in Berlin to any airport in Lisbon\n",
    "- Any airport from London to any airport in Paris to any airport in Barcelona\n",
    "- Any airport from London to any airport in Edinburgh to any airport in Rome\n",
    "\n",
    "Note that we use outE().inV() instead of out() so that we can get the distance between each route"
   ]
  },
  {
   "cell_type": "code",
   "execution_count": 14,
   "metadata": {},
   "outputs": [
    {
     "data": {
      "text/plain": [
       "[['LCY', 204, 'CDG', 533, 'BCN'],\n",
       " ['LCY', 217, 'ORY', 513, 'BCN'],\n",
       " ['STN', 563, 'SXF', 1432, 'LIS'],\n",
       " ['LGW', 591, 'SXF', 1432, 'LIS'],\n",
       " ['LGW', 191, 'CDG', 533, 'BCN'],\n",
       " ['LHR', 216, 'CDG', 533, 'BCN'],\n",
       " ['LHR', 227, 'ORY', 513, 'BCN'],\n",
       " ['LTN', 589, 'SXF', 1432, 'LIS'],\n",
       " ['LTN', 236, 'CDG', 533, 'BCN']]"
      ]
     },
     "execution_count": 14,
     "metadata": {},
     "output_type": "execute_result"
    }
   ],
   "source": [
    "g.V().has('city','London').union(\n",
    "    __.outE().inV().has('city','Berlin').outE('route').inV().has('city','Lisbon').path().by('code').by('dist').by('code').by('dist'),\n",
    "    __.outE().inV().has('city','Paris').outE('route').inV().has('city','Barcelona').path().by('code').by('dist').by('code').by('dist'),\n",
    "    __.outE().inV().has('city','Edinburgh').outE('route').inV().has('city','Rome').path().by('code').by('dist').by('code').by('dist')\n",
    ").fold().next()"
   ]
  },
  {
   "cell_type": "markdown",
   "metadata": {},
   "source": [
    "__Get the sum of the distance of routes out of Hong Kong along with the sum when excluding the route to Sydney__"
   ]
  },
  {
   "cell_type": "code",
   "execution_count": 15,
   "metadata": {},
   "outputs": [
    {
     "data": {
      "text/plain": [
       "[367122, 362531]"
      ]
     },
     "execution_count": 15,
     "metadata": {},
     "output_type": "execute_result"
    }
   ],
   "source": [
    "g.V(hkVertexId).outE('route').union(\n",
    "    __.values('dist').sum(),\n",
    "    __.filter(__.inV().has(T.id, P.neq(sydneyVertexId))).values('dist').sum()\n",
    ").fold().next()"
   ]
  },
  {
   "cell_type": "markdown",
   "metadata": {},
   "source": [
    "__Not every union step needs to return something__"
   ]
  },
  {
   "cell_type": "code",
   "execution_count": 16,
   "metadata": {},
   "outputs": [
    {
     "data": {
      "text/plain": [
       "['Sydney Kingsford Smith', 'Manchester Airport']"
      ]
     },
     "execution_count": 16,
     "metadata": {},
     "output_type": "execute_result"
    }
   ],
   "source": [
    "g.V(hkVertexId).union(\n",
    "    __.out().has('code','SYD'),\n",
    "    __.out().has('code','LPL'),\n",
    "    __.out().has('code','MAN')\n",
    ").values('desc').fold().next()"
   ]
  },
  {
   "cell_type": "markdown",
   "metadata": {},
   "source": [
    "Equivalent to"
   ]
  },
  {
   "cell_type": "code",
   "execution_count": 17,
   "metadata": {},
   "outputs": [
    {
     "data": {
      "text/plain": [
       "['Sydney Kingsford Smith', 'Manchester Airport']"
      ]
     },
     "execution_count": 17,
     "metadata": {},
     "output_type": "execute_result"
    }
   ],
   "source": [
    "g.V(hkVertexId).out().has('code', P.within(['SYD', 'LPL', 'MAN'])).values('desc').fold().next()"
   ]
  }
 ],
 "metadata": {
  "kernelspec": {
   "display_name": "Python 3",
   "language": "python",
   "name": "python3"
  },
  "language_info": {
   "codemirror_mode": {
    "name": "ipython",
    "version": 3
   },
   "file_extension": ".py",
   "mimetype": "text/x-python",
   "name": "python",
   "nbconvert_exporter": "python",
   "pygments_lexer": "ipython3",
   "version": "3.6.5"
  }
 },
 "nbformat": 4,
 "nbformat_minor": 2
}
