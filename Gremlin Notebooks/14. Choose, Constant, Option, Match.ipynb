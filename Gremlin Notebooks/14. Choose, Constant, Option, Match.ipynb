{
 "cells": [
  {
   "cell_type": "markdown",
   "metadata": {},
   "source": [
    "# 14. Choose, Constant, Option, Match\n",
    "#### By Kwan Yin Andrew Chau"
   ]
  },
  {
   "cell_type": "code",
   "execution_count": 1,
   "metadata": {},
   "outputs": [],
   "source": [
    "import nbfinder\n",
    "import random\n",
    "from loader import g\n",
    "from loader import __\n",
    "from loader import Barrier\n",
    "from loader import Column\n",
    "from loader import P\n",
    "from loader import Pick\n",
    "from loader import Pop\n",
    "from loader import sydneyVertexId\n",
    "from loader import hkVertexId"
   ]
  },
  {
   "cell_type": "markdown",
   "metadata": {},
   "source": [
    "## choose()\n",
    "\n",
    "__If an airport in NSW has a runway > 12,000 feet return its code else return its description__"
   ]
  },
  {
   "cell_type": "code",
   "execution_count": 2,
   "metadata": {},
   "outputs": [
    {
     "data": {
      "text/plain": [
       "['Lismore Airport',\n",
       " 'Albury Airport',\n",
       " 'Narrabri Airport',\n",
       " 'Narrandera Airport',\n",
       " 'Ballina Byron Gateway Airport',\n",
       " 'Taree Airport',\n",
       " 'Newcastle Airport',\n",
       " 'Coffs Harbour Airport',\n",
       " 'SYD',\n",
       " 'Armidale Airport',\n",
       " 'Broken Hill Airport',\n",
       " 'SYD',\n",
       " 'Moruya Airport',\n",
       " 'Merimbula Airport',\n",
       " 'Dubbo City Regional Airport',\n",
       " 'Moree Airport',\n",
       " 'Orange Airport',\n",
       " 'Newcastle Airport',\n",
       " 'Griffith Airport',\n",
       " 'Sydney Bankstown Airport',\n",
       " 'Grafton Airport',\n",
       " 'Grafton Airport',\n",
       " 'Taree Airport',\n",
       " 'Narrandera Airport',\n",
       " 'Orange Airport',\n",
       " 'Bathurst Airport',\n",
       " 'Albury Airport',\n",
       " 'Gold Coast Airport',\n",
       " 'Tamworth Airport',\n",
       " 'Armidale Airport',\n",
       " 'Lord Howe Island Airport',\n",
       " 'Sydney Bankstown Airport',\n",
       " 'Parkes Airport',\n",
       " 'Tamworth Airport',\n",
       " 'Wagga Wagga City Airport',\n",
       " 'Lord Howe Island Airport',\n",
       " 'Gold Coast Airport',\n",
       " 'Dubbo City Regional Airport',\n",
       " 'Merimbula Airport',\n",
       " 'Moruya Airport',\n",
       " 'Lismore Airport',\n",
       " 'Broken Hill Airport',\n",
       " 'Narrabri Airport',\n",
       " 'Port Macquarie Airport',\n",
       " 'Wagga Wagga City Airport',\n",
       " 'Port Macquarie Airport',\n",
       " 'Griffith Airport',\n",
       " 'Parkes Airport',\n",
       " 'Moree Airport',\n",
       " 'Bathurst Airport',\n",
       " 'Ballina Byron Gateway Airport',\n",
       " 'Coffs Harbour Airport']"
      ]
     },
     "execution_count": 2,
     "metadata": {},
     "output_type": "execute_result"
    }
   ],
   "source": [
    "g.V().hasLabel('airport').has('region','AU-NSW').choose(\n",
    "    __.values('longest').is_(P.gt(12000)),\n",
    "    # if greater than 12000\n",
    "    __.values('code'),\n",
    "    # else\n",
    "    __.values('desc')\n",
    ").fold().next()"
   ]
  },
  {
   "cell_type": "markdown",
   "metadata": {},
   "source": [
    "__If an airport in NSW has a code of SYD or BWU report its desc else report its code__"
   ]
  },
  {
   "cell_type": "code",
   "execution_count": 3,
   "metadata": {},
   "outputs": [
    {
     "data": {
      "text/plain": [
       "['LSY',\n",
       " 'ABX',\n",
       " 'NAA',\n",
       " 'NRA',\n",
       " 'BNK',\n",
       " 'TRO',\n",
       " 'NTL',\n",
       " 'CFS',\n",
       " 'Sydney Kingsford Smith',\n",
       " 'ARM',\n",
       " 'BHQ',\n",
       " 'Sydney Kingsford Smith',\n",
       " 'MYA',\n",
       " 'MIM',\n",
       " 'DBO',\n",
       " 'MRZ',\n",
       " 'OAG',\n",
       " 'NTL',\n",
       " 'GFF',\n",
       " 'Sydney Bankstown Airport',\n",
       " 'GFN',\n",
       " 'GFN',\n",
       " 'TRO',\n",
       " 'NRA',\n",
       " 'OAG',\n",
       " 'BHS',\n",
       " 'ABX',\n",
       " 'OOL',\n",
       " 'TMW',\n",
       " 'ARM',\n",
       " 'LDH',\n",
       " 'Sydney Bankstown Airport',\n",
       " 'PKE',\n",
       " 'TMW',\n",
       " 'WGA',\n",
       " 'LDH',\n",
       " 'OOL',\n",
       " 'DBO',\n",
       " 'MIM',\n",
       " 'MYA',\n",
       " 'LSY',\n",
       " 'BHQ',\n",
       " 'NAA',\n",
       " 'PQQ',\n",
       " 'WGA',\n",
       " 'PQQ',\n",
       " 'GFF',\n",
       " 'PKE',\n",
       " 'MRZ',\n",
       " 'BHS',\n",
       " 'BNK',\n",
       " 'CFS']"
      ]
     },
     "execution_count": 3,
     "metadata": {},
     "output_type": "execute_result"
    }
   ],
   "source": [
    "g.V().hasLabel('airport').has('region','AU-NSW').choose(\n",
    "    __.values('code').is_(P.within('SYD','BWU')),\n",
    "    # if code is SYD or BWU\n",
    "    __.values('desc'),\n",
    "    __.values('code')\n",
    ").fold().next()"
   ]
  },
  {
   "cell_type": "markdown",
   "metadata": {},
   "source": [
    "## constant()\n",
    "\n",
    "__Return \"some\" if the airport has less than 4 runways and \"lots\" if more__"
   ]
  },
  {
   "cell_type": "code",
   "execution_count": 4,
   "metadata": {},
   "outputs": [
    {
     "data": {
      "text/plain": [
       "['some',\n",
       " 'some',\n",
       " 'some',\n",
       " 'some',\n",
       " 'some',\n",
       " 'some',\n",
       " 'some',\n",
       " 'some',\n",
       " 'some',\n",
       " 'some']"
      ]
     },
     "execution_count": 4,
     "metadata": {},
     "output_type": "execute_result"
    }
   ],
   "source": [
    "g.V().hasLabel('airport').limit(10).choose(\n",
    "    __.values('runways').is_(P.lt(4)),\n",
    "    # constant values\n",
    "    __.constant('some'), __.constant('lots')\n",
    ").fold().next()"
   ]
  },
  {
   "cell_type": "markdown",
   "metadata": {},
   "source": [
    "__Return \"some\" or \"lots\" depending on whether the airport has more than 50 routes out of it__"
   ]
  },
  {
   "cell_type": "code",
   "execution_count": 5,
   "metadata": {},
   "outputs": [
    {
     "data": {
      "text/plain": [
       "[{'airport': 'Enfidha - Hammamet International Airport',\n",
       "  'routes': 25,\n",
       "  'lotsOrSome': 'some'},\n",
       " {'airport': 'San Luis Airport', 'routes': 1, 'lotsOrSome': 'some'},\n",
       " {'airport': 'Lima, Jorge Chavez International Airport',\n",
       "  'routes': 63,\n",
       "  'lotsOrSome': 'lots'},\n",
       " {'airport': 'Bilbao Airport', 'routes': 38, 'lotsOrSome': 'some'},\n",
       " {'airport': \"Bangui M'Poko International Airport\",\n",
       "  'routes': 4,\n",
       "  'lotsOrSome': 'some'},\n",
       " {'airport': 'Golovin Airport', 'routes': 3, 'lotsOrSome': 'some'},\n",
       " {'airport': 'Afonso Pena Airport', 'routes': 23, 'lotsOrSome': 'some'},\n",
       " {'airport': 'Ambler Airport', 'routes': 3, 'lotsOrSome': 'some'},\n",
       " {'airport': 'Victoria Regional Airport', 'routes': 1, 'lotsOrSome': 'some'},\n",
       " {'airport': 'Valladolid Airport', 'routes': 3, 'lotsOrSome': 'some'}]"
      ]
     },
     "execution_count": 5,
     "metadata": {},
     "output_type": "execute_result"
    }
   ],
   "source": [
    "g.V().hasLabel('airport').sample(10).as_('airport','routes').choose(\n",
    "    __.out('route').count().is_(P.gt(50)),\n",
    "    __.constant('lots'),\n",
    "    __.constant('some')\n",
    ").as_('lotsOrSome').select(\n",
    "    'airport','routes','lotsOrSome'\n",
    ").by('desc').by(__.out('route').count()).by().fold().next()"
   ]
  },
  {
   "cell_type": "markdown",
   "metadata": {},
   "source": [
    "_.select(values) is able to remove the keys of the results and only keep the values_"
   ]
  },
  {
   "cell_type": "code",
   "execution_count": 6,
   "metadata": {},
   "outputs": [
    {
     "data": {
      "text/plain": [
       "[['Waskaganish Airport', 6, 'some'],\n",
       " ['Tallahassee Regional Airport', 8, 'some'],\n",
       " ['Chengdu Shuangliu International Airport', 124, 'lots'],\n",
       " ['Sibiu International Airport', 3, 'some'],\n",
       " ['Mariana Grajales Airport', 1, 'some'],\n",
       " [\"Cox's Bazar Airport\", 1, 'some'],\n",
       " ['San Diego Lindbergh', 74, 'lots'],\n",
       " ['Chinchilla Airport', 1, 'some'],\n",
       " ['Wilwal International Airport', 3, 'some'],\n",
       " ['Jining Qufu Airport', 11, 'some'],\n",
       " ['Port Sudan New International Airport', 3, 'some'],\n",
       " ['Orange County/Santa Ana, John Wayne', 32, 'some'],\n",
       " ['Natuashish Airport', 2, 'some'],\n",
       " ['Rovaniemi Airport', 3, 'some'],\n",
       " ['Show Low Regional Airport', 2, 'some'],\n",
       " ['Juan Mendoza Airport', 2, 'some'],\n",
       " ['Kyzyl Airport', 1, 'some'],\n",
       " ['Naha Airport', 1, 'some'],\n",
       " ['Khoy Airport', 1, 'some'],\n",
       " ['Mazar I Sharif Airport', 3, 'some']]"
      ]
     },
     "execution_count": 6,
     "metadata": {},
     "output_type": "execute_result"
    }
   ],
   "source": [
    "g.V().hasLabel('airport').limit(20).as_('a', 'b').choose(\n",
    "    __.out('route').count().is_(P.gt(50)), __.constant('lots'), __.constant('some')\n",
    ").as_('c').select(\n",
    "    'a','b','c'\n",
    ").by('desc').by(__.out('route').count()).by().select(\n",
    "    # Just the values and no a,b,c\n",
    "    Column.values\n",
    ").fold().next()"
   ]
  },
  {
   "cell_type": "markdown",
   "metadata": {},
   "source": [
    "## option()\n",
    "\n",
    "__Switch like queries__"
   ]
  },
  {
   "cell_type": "code",
   "execution_count": 7,
   "metadata": {},
   "outputs": [
    {
     "data": {
      "text/plain": [
       "['Lindu Airport',\n",
       " 'Dushanbe Airport',\n",
       " 'Two runways',\n",
       " 'Jumandy Airport',\n",
       " 'Surigao Airport',\n",
       " 'Dongying Shengli Airport',\n",
       " 'Two runways',\n",
       " 'Lar Airport',\n",
       " 'Tsushima Airport',\n",
       " 'Two runways']"
      ]
     },
     "execution_count": 7,
     "metadata": {},
     "output_type": "execute_result"
    }
   ],
   "source": [
    "g.V().hasLabel('airport').sample(10).choose(\n",
    "    __.values('runways')\n",
    ").option(\n",
    "    1, __.values('desc')\n",
    ").option(\n",
    "    2, __.constant('Two runways')\n",
    ").option(\n",
    "    # default case\n",
    "    Pick.none, __.values('runways')\n",
    ").fold().next()"
   ]
  },
  {
   "cell_type": "markdown",
   "metadata": {},
   "source": [
    "## match()\n",
    "\n",
    "__Find airports where there is a direct flight to the destination but not when returning__"
   ]
  },
  {
   "cell_type": "code",
   "execution_count": 8,
   "metadata": {},
   "outputs": [
    {
     "data": {
      "text/plain": [
       "476"
      ]
     },
     "execution_count": 8,
     "metadata": {},
     "output_type": "execute_result"
    }
   ],
   "source": [
    "g.V().hasLabel('airport').match(\n",
    "    __.as_('origin').out().as_('destination'),\n",
    "    __.not_(__.as_('destination').out().as_('origin'))\n",
    ").count().next()"
   ]
  },
  {
   "cell_type": "markdown",
   "metadata": {},
   "source": [
    "_Find airports where you can go from A→B→C but not A→C and A→B→A_"
   ]
  },
  {
   "cell_type": "code",
   "execution_count": 9,
   "metadata": {},
   "outputs": [
    {
     "data": {
      "text/plain": [
       "[{'a': 'YKQ', 'b': 'YVO', 'c': 'YHU'},\n",
       " {'a': 'YKQ', 'b': 'YVO', 'c': 'YUY'},\n",
       " {'a': 'YKQ', 'b': 'YVO', 'c': 'YUL'},\n",
       " {'a': 'YKQ', 'b': 'YMO', 'c': 'YTS'},\n",
       " {'a': 'YKQ', 'b': 'YMO', 'c': 'YFA'},\n",
       " {'a': 'YKQ', 'b': 'YKU', 'c': 'YGW'},\n",
       " {'a': 'YKQ', 'b': 'YKU', 'c': 'YNC'},\n",
       " {'a': 'YKQ', 'b': 'YMT', 'c': 'YUL'},\n",
       " {'a': 'YKQ', 'b': 'ZEM', 'c': 'YNC'},\n",
       " {'a': 'TLH', 'b': 'ATL', 'c': 'AUS'}]"
      ]
     },
     "execution_count": 9,
     "metadata": {},
     "output_type": "execute_result"
    }
   ],
   "source": [
    "g.V().hasLabel('airport').match(\n",
    "    __.as_('a').out().as_('b'),\n",
    "    __.as_('b').out().where(P.neq('a')).as_('c'),\n",
    "    __.not_(__.as_('a').out().as_('c'))\n",
    ").select('a','b','c').by('code').limit(10).fold().next()"
   ]
  },
  {
   "cell_type": "markdown",
   "metadata": {},
   "source": [
    "_Find destinations from Sydney that have the same amount of runways_"
   ]
  },
  {
   "cell_type": "code",
   "execution_count": 10,
   "metadata": {},
   "outputs": [
    {
     "data": {
      "text/plain": [
       "[{'code': ['YVR'], 'runways': [3]},\n",
       " {'code': ['KUL'], 'runways': [3]},\n",
       " {'code': ['SIN'], 'runways': [3]},\n",
       " {'code': ['CHC'], 'runways': [3]},\n",
       " {'code': ['DEL'], 'runways': [3]},\n",
       " {'code': ['ICN'], 'runways': [3]},\n",
       " {'code': ['LST'], 'runways': [3]},\n",
       " {'code': ['PEK'], 'runways': [3]},\n",
       " {'code': ['YVR'], 'runways': [3]},\n",
       " {'code': ['SIN'], 'runways': [3]},\n",
       " {'code': ['PEK'], 'runways': [3]},\n",
       " {'code': ['KUL'], 'runways': [3]},\n",
       " {'code': ['DEL'], 'runways': [3]},\n",
       " {'code': ['CHC'], 'runways': [3]},\n",
       " {'code': ['ICN'], 'runways': [3]},\n",
       " {'code': ['LST'], 'runways': [3]}]"
      ]
     },
     "execution_count": 10,
     "metadata": {},
     "output_type": "execute_result"
    }
   ],
   "source": [
    "g.V().has('code','SYD').match(\n",
    "    __.as_('sydney').values('runways').as_('sydneyRunways'),\n",
    "    __.as_('sydney').out('route').as_('destination').values('runways').as_('destinationRunways').where(\n",
    "        'sydneyRunways', P.eq('destinationRunways')\n",
    "    )\n",
    ").select('destination').valueMap().select('code','runways').fold().next()"
   ]
  },
  {
   "cell_type": "markdown",
   "metadata": {},
   "source": [
    "_The same can be done with multiple selects()_"
   ]
  },
  {
   "cell_type": "code",
   "execution_count": 12,
   "metadata": {},
   "outputs": [
    {
     "data": {
      "text/plain": [
       "[{'code': ['YVR'], 'runways': [3]},\n",
       " {'code': ['KUL'], 'runways': [3]},\n",
       " {'code': ['SIN'], 'runways': [3]},\n",
       " {'code': ['CHC'], 'runways': [3]},\n",
       " {'code': ['DEL'], 'runways': [3]},\n",
       " {'code': ['ICN'], 'runways': [3]},\n",
       " {'code': ['LST'], 'runways': [3]},\n",
       " {'code': ['PEK'], 'runways': [3]},\n",
       " {'code': ['YVR'], 'runways': [3]},\n",
       " {'code': ['SIN'], 'runways': [3]},\n",
       " {'code': ['PEK'], 'runways': [3]},\n",
       " {'code': ['KUL'], 'runways': [3]},\n",
       " {'code': ['DEL'], 'runways': [3]},\n",
       " {'code': ['CHC'], 'runways': [3]},\n",
       " {'code': ['ICN'], 'runways': [3]},\n",
       " {'code': ['LST'], 'runways': [3]}]"
      ]
     },
     "execution_count": 12,
     "metadata": {},
     "output_type": "execute_result"
    }
   ],
   "source": [
    "g.V().has('code','SYD').as_('sydney').values('runways').as_('sydneyRunways').select(\n",
    "    'sydney'\n",
    ").out().as_('destination').values('runways').as_('destinationRunways').where(\n",
    "    'sydneyRunways', P.eq('destinationRunways')\n",
    ").select('destination').valueMap().select('code','runways').fold().next()"
   ]
  },
  {
   "cell_type": "markdown",
   "metadata": {},
   "source": [
    "_Both the previous ways however are not as good as using a filter_"
   ]
  },
  {
   "cell_type": "code",
   "execution_count": 19,
   "metadata": {},
   "outputs": [
    {
     "data": {
      "text/plain": [
       "[{'runways': [3], 'code': ['YVR']},\n",
       " {'runways': [3], 'code': ['KUL']},\n",
       " {'runways': [3], 'code': ['SIN']},\n",
       " {'runways': [3], 'code': ['CHC']},\n",
       " {'runways': [3], 'code': ['DEL']},\n",
       " {'runways': [3], 'code': ['ICN']},\n",
       " {'runways': [3], 'code': ['LST']},\n",
       " {'runways': [3], 'code': ['PEK']},\n",
       " {'runways': [3], 'code': ['YVR']},\n",
       " {'runways': [3], 'code': ['SIN']},\n",
       " {'runways': [3], 'code': ['PEK']},\n",
       " {'runways': [3], 'code': ['KUL']},\n",
       " {'runways': [3], 'code': ['DEL']},\n",
       " {'runways': [3], 'code': ['CHC']},\n",
       " {'runways': [3], 'code': ['ICN']},\n",
       " {'runways': [3], 'code': ['LST']}]"
      ]
     },
     "execution_count": 19,
     "metadata": {},
     "output_type": "execute_result"
    }
   ],
   "source": [
    "g.V().has('code','SYD').as_('sydney').out().as_('destination').filter(\n",
    "    __.select('sydney','destination').by('runways').where('sydney', P.eq('destination'))\n",
    ").valueMap('code','runways').fold().next()"
   ]
  },
  {
   "cell_type": "markdown",
   "metadata": {},
   "source": [
    "_In fact you can just use where() with by()_"
   ]
  },
  {
   "cell_type": "code",
   "execution_count": 22,
   "metadata": {},
   "outputs": [
    {
     "data": {
      "text/plain": [
       "[{'runways': [3], 'code': ['YVR']},\n",
       " {'runways': [3], 'code': ['KUL']},\n",
       " {'runways': [3], 'code': ['SIN']},\n",
       " {'runways': [3], 'code': ['CHC']},\n",
       " {'runways': [3], 'code': ['DEL']},\n",
       " {'runways': [3], 'code': ['ICN']},\n",
       " {'runways': [3], 'code': ['LST']},\n",
       " {'runways': [3], 'code': ['PEK']},\n",
       " {'runways': [3], 'code': ['YVR']},\n",
       " {'runways': [3], 'code': ['SIN']},\n",
       " {'runways': [3], 'code': ['PEK']},\n",
       " {'runways': [3], 'code': ['KUL']},\n",
       " {'runways': [3], 'code': ['DEL']},\n",
       " {'runways': [3], 'code': ['CHC']},\n",
       " {'runways': [3], 'code': ['ICN']},\n",
       " {'runways': [3], 'code': ['LST']}]"
      ]
     },
     "execution_count": 22,
     "metadata": {},
     "output_type": "execute_result"
    }
   ],
   "source": [
    "g.V().has('code', 'SYD').as_('sydney').out().where(\n",
    "    P.eq('sydney')\n",
    ").by('runways').valueMap('code','runways').fold().next()"
   ]
  },
  {
   "cell_type": "code",
   "execution_count": null,
   "metadata": {},
   "outputs": [],
   "source": []
  }
 ],
 "metadata": {
  "kernelspec": {
   "display_name": "Python 3",
   "language": "python",
   "name": "python3"
  },
  "language_info": {
   "codemirror_mode": {
    "name": "ipython",
    "version": 3
   },
   "file_extension": ".py",
   "mimetype": "text/x-python",
   "name": "python",
   "nbconvert_exporter": "python",
   "pygments_lexer": "ipython3",
   "version": "3.6.5"
  }
 },
 "nbformat": 4,
 "nbformat_minor": 2
}
