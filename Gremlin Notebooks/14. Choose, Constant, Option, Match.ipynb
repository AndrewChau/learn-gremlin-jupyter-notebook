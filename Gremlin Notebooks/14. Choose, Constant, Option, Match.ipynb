{
 "cells": [
  {
   "cell_type": "markdown",
   "metadata": {},
   "source": [
    "# 14. Choose, Constant, Option, Match\n",
    "#### By Kwan Yin Andrew Chau"
   ]
  },
  {
   "cell_type": "code",
   "execution_count": 1,
   "metadata": {},
   "outputs": [],
   "source": [
    "import nbfinder\n",
    "import random\n",
    "from loader import g\n",
    "from loader import __\n",
    "from loader import Barrier\n",
    "from loader import Column\n",
    "from loader import P\n",
    "from loader import Pick\n",
    "from loader import Pop\n",
    "from loader import sydneyVertexId\n",
    "from loader import hkVertexId"
   ]
  },
  {
   "cell_type": "markdown",
   "metadata": {},
   "source": [
    "## choose()\n",
    "\n",
    "__If an airport in NSW has a runway > 12,000 feet return its code else return its description__"
   ]
  },
  {
   "cell_type": "code",
   "execution_count": 2,
   "metadata": {},
   "outputs": [
    {
     "data": {
      "text/plain": [
       "['Orange Airport',\n",
       " 'Moruya Airport',\n",
       " 'Merimbula Airport',\n",
       " 'Tamworth Airport',\n",
       " 'Moree Airport',\n",
       " 'Ballina Byron Gateway Airport',\n",
       " 'Wagga Wagga City Airport',\n",
       " 'SYD',\n",
       " 'Taree Airport',\n",
       " 'Newcastle Airport',\n",
       " 'Dubbo City Regional Airport',\n",
       " 'Parkes Airport',\n",
       " 'Grafton Airport',\n",
       " 'Armidale Airport',\n",
       " 'Bathurst Airport',\n",
       " 'Narrabri Airport',\n",
       " 'Broken Hill Airport',\n",
       " 'Sydney Bankstown Airport',\n",
       " 'Coffs Harbour Airport',\n",
       " 'Port Macquarie Airport',\n",
       " 'Griffith Airport',\n",
       " 'Lord Howe Island Airport',\n",
       " 'Narrandera Airport',\n",
       " 'Albury Airport',\n",
       " 'Lismore Airport',\n",
       " 'Gold Coast Airport']"
      ]
     },
     "execution_count": 2,
     "metadata": {},
     "output_type": "execute_result"
    }
   ],
   "source": [
    "g.V().hasLabel('airport').has('region','AU-NSW').choose(\n",
    "    __.values('longest').is_(P.gt(12000)),\n",
    "    # if greater than 12000\n",
    "    __.values('code'),\n",
    "    # else\n",
    "    __.values('desc')\n",
    ").fold().next()"
   ]
  },
  {
   "cell_type": "markdown",
   "metadata": {},
   "source": [
    "__If an airport in NSW has a code of SYD or BWU report its desc else report its code__"
   ]
  },
  {
   "cell_type": "code",
   "execution_count": 3,
   "metadata": {},
   "outputs": [
    {
     "data": {
      "text/plain": [
       "['OAG',\n",
       " 'MYA',\n",
       " 'MIM',\n",
       " 'TMW',\n",
       " 'MRZ',\n",
       " 'BNK',\n",
       " 'WGA',\n",
       " 'Sydney Kingsford Smith',\n",
       " 'TRO',\n",
       " 'NTL',\n",
       " 'DBO',\n",
       " 'PKE',\n",
       " 'GFN',\n",
       " 'ARM',\n",
       " 'BHS',\n",
       " 'NAA',\n",
       " 'BHQ',\n",
       " 'Sydney Bankstown Airport',\n",
       " 'CFS',\n",
       " 'PQQ',\n",
       " 'GFF',\n",
       " 'LDH',\n",
       " 'NRA',\n",
       " 'ABX',\n",
       " 'LSY',\n",
       " 'OOL']"
      ]
     },
     "execution_count": 3,
     "metadata": {},
     "output_type": "execute_result"
    }
   ],
   "source": [
    "g.V().hasLabel('airport').has('region','AU-NSW').choose(\n",
    "    __.values('code').is_(P.within('SYD','BWU')),\n",
    "    # if code is SYD or BWU\n",
    "    __.values('desc'),\n",
    "    __.values('code')\n",
    ").fold().next()"
   ]
  },
  {
   "cell_type": "markdown",
   "metadata": {},
   "source": [
    "## constant()\n",
    "\n",
    "__Return \"some\" if the airport has less than 4 runways and \"lots\" if more__"
   ]
  },
  {
   "cell_type": "code",
   "execution_count": 4,
   "metadata": {},
   "outputs": [
    {
     "data": {
      "text/plain": [
       "['lots',\n",
       " 'some',\n",
       " 'some',\n",
       " 'some',\n",
       " 'some',\n",
       " 'some',\n",
       " 'some',\n",
       " 'some',\n",
       " 'lots',\n",
       " 'some']"
      ]
     },
     "execution_count": 4,
     "metadata": {},
     "output_type": "execute_result"
    }
   ],
   "source": [
    "g.V().hasLabel('airport').limit(10).choose(\n",
    "    __.values('runways').is_(P.lt(4)),\n",
    "    # constant values\n",
    "    __.constant('some'), __.constant('lots')\n",
    ").fold().next()"
   ]
  },
  {
   "cell_type": "markdown",
   "metadata": {},
   "source": [
    "__Return \"some\" or \"lots\" depending on whether the airport has more than 50 routes out of it__"
   ]
  },
  {
   "cell_type": "code",
   "execution_count": 5,
   "metadata": {},
   "outputs": [
    {
     "data": {
      "text/plain": [
       "[{'airport': 'Cengiz Topel Airport', 'routes': 1, 'lotsOrSome': 'some'},\n",
       " {'airport': 'Goroka Airport', 'routes': 4, 'lotsOrSome': 'some'},\n",
       " {'airport': 'Rafha Domestic Airport', 'routes': 1, 'lotsOrSome': 'some'},\n",
       " {'airport': 'Fukuoka Airport', 'routes': 39, 'lotsOrSome': 'some'},\n",
       " {'airport': 'Siem Reap International Airport',\n",
       "  'routes': 24,\n",
       "  'lotsOrSome': 'some'},\n",
       " {'airport': 'Victoria Falls International Airport',\n",
       "  'routes': 7,\n",
       "  'lotsOrSome': 'some'},\n",
       " {'airport': 'Orlando Sanford International Airport',\n",
       "  'routes': 81,\n",
       "  'lotsOrSome': 'lots'},\n",
       " {'airport': 'Diqing Airport', 'routes': 5, 'lotsOrSome': 'some'},\n",
       " {'airport': 'Craig Cove Airport', 'routes': 2, 'lotsOrSome': 'some'},\n",
       " {'airport': 'Orange Airport', 'routes': 2, 'lotsOrSome': 'some'}]"
      ]
     },
     "execution_count": 5,
     "metadata": {},
     "output_type": "execute_result"
    }
   ],
   "source": [
    "g.V().hasLabel('airport').sample(10).as_('airport','routes').choose(\n",
    "    __.out('route').count().is_(P.gt(50)),\n",
    "    __.constant('lots'),\n",
    "    __.constant('some')\n",
    ").as_('lotsOrSome').select(\n",
    "    'airport','routes','lotsOrSome'\n",
    ").by('desc').by(__.out('route').count()).by().fold().next()"
   ]
  },
  {
   "cell_type": "markdown",
   "metadata": {},
   "source": [
    "_.select(values) is able to remove the keys of the results and only keep the values_"
   ]
  },
  {
   "cell_type": "code",
   "execution_count": 6,
   "metadata": {},
   "outputs": [
    {
     "data": {
      "text/plain": [
       "[['Nelson Airport', 4, 'some'],\n",
       " ['Saurimo Airport', 2, 'some'],\n",
       " ['Chico Municipal Airport', 1, 'some'],\n",
       " ['Yakubu Gowon Airport', 1, 'some'],\n",
       " ['Santos Dumont Airport', 18, 'some'],\n",
       " ['Kelowna International Airport', 12, 'some'],\n",
       " ['Show Low Regional Airport', 2, 'some'],\n",
       " ['Esenboğa International Airport', 55, 'lots'],\n",
       " ['Kerikeri Airport', 1, 'some'],\n",
       " ['La Chorrera Airport', 2, 'some'],\n",
       " ['Block Island State Airport', 0, 'some'],\n",
       " ['New York John F. Kennedy International Airport', 187, 'lots'],\n",
       " ['Victoria Falls International Airport', 7, 'some'],\n",
       " ['Vinnytsia/Gavyryshivka Airport', 2, 'some'],\n",
       " ['Longjia Airport', 31, 'some'],\n",
       " ['Burketown Airport', 2, 'some'],\n",
       " ['Maya-Maya Airport', 13, 'some'],\n",
       " ['Lampedusa Airport', 4, 'some'],\n",
       " ['Hasanuddin International Airport', 27, 'some'],\n",
       " ['Whatì Airport', 1, 'some']]"
      ]
     },
     "execution_count": 6,
     "metadata": {},
     "output_type": "execute_result"
    }
   ],
   "source": [
    "g.V().hasLabel('airport').limit(20).as_('a', 'b').choose(\n",
    "    __.out('route').count().is_(P.gt(50)), __.constant('lots'), __.constant('some')\n",
    ").as_('c').select(\n",
    "    'a','b','c'\n",
    ").by('desc').by(__.out('route').count()).by().select(\n",
    "    # Just the values and no a,b,c\n",
    "    Column.values\n",
    ").fold().next()"
   ]
  },
  {
   "cell_type": "markdown",
   "metadata": {},
   "source": [
    "## option()\n",
    "\n",
    "__Switch like queries__"
   ]
  },
  {
   "cell_type": "code",
   "execution_count": 7,
   "metadata": {},
   "outputs": [
    {
     "data": {
      "text/plain": [
       "['Ain Arnat Airport',\n",
       " 'Ban Huoeisay Airport',\n",
       " 'Port Augusta Airport',\n",
       " 'Two runways',\n",
       " 'Douala International Airport',\n",
       " 'Ormoc Airport',\n",
       " 4,\n",
       " 'Eek Airport',\n",
       " 'Southwest Florida International Airport',\n",
       " 'Two runways']"
      ]
     },
     "execution_count": 7,
     "metadata": {},
     "output_type": "execute_result"
    }
   ],
   "source": [
    "g.V().hasLabel('airport').sample(10).choose(\n",
    "    __.values('runways')\n",
    ").option(\n",
    "    1, __.values('desc')\n",
    ").option(\n",
    "    2, __.constant('Two runways')\n",
    ").option(\n",
    "    # default case\n",
    "    Pick.none, __.values('runways')\n",
    ").fold().next()"
   ]
  },
  {
   "cell_type": "markdown",
   "metadata": {},
   "source": [
    "## match()\n",
    "\n",
    "__Find airports where there is a direct flight to the destination but not when returning__"
   ]
  },
  {
   "cell_type": "code",
   "execution_count": 8,
   "metadata": {},
   "outputs": [
    {
     "data": {
      "text/plain": [
       "238"
      ]
     },
     "execution_count": 8,
     "metadata": {},
     "output_type": "execute_result"
    }
   ],
   "source": [
    "g.V().hasLabel('airport').match(\n",
    "    __.as_('origin').out().as_('destination'),\n",
    "    __.not_(__.as_('destination').out().as_('origin'))\n",
    ").count().next()"
   ]
  },
  {
   "cell_type": "markdown",
   "metadata": {},
   "source": [
    "_Find airports where you can go from A→B→C but not A→C and A→B→A_"
   ]
  },
  {
   "cell_type": "code",
   "execution_count": 9,
   "metadata": {},
   "outputs": [
    {
     "data": {
      "text/plain": [
       "[{'a': 'NSN', 'b': 'WLG', 'c': 'BNE'},\n",
       " {'a': 'NSN', 'b': 'WLG', 'c': 'CBR'},\n",
       " {'a': 'NSN', 'b': 'WLG', 'c': 'SYD'},\n",
       " {'a': 'NSN', 'b': 'WLG', 'c': 'HLZ'},\n",
       " {'a': 'NSN', 'b': 'WLG', 'c': 'NPE'},\n",
       " {'a': 'NSN', 'b': 'WLG', 'c': 'TIU'},\n",
       " {'a': 'NSN', 'b': 'WLG', 'c': 'ZQN'},\n",
       " {'a': 'NSN', 'b': 'WLG', 'c': 'TRG'},\n",
       " {'a': 'NSN', 'b': 'WLG', 'c': 'WRE'},\n",
       " {'a': 'NSN', 'b': 'WLG', 'c': 'IVC'}]"
      ]
     },
     "execution_count": 9,
     "metadata": {},
     "output_type": "execute_result"
    }
   ],
   "source": [
    "g.V().hasLabel('airport').match(\n",
    "    __.as_('a').out().as_('b'),\n",
    "    __.as_('b').out().where(P.neq('a')).as_('c'),\n",
    "    __.not_(__.as_('a').out().as_('c'))\n",
    ").select('a','b','c').by('code').limit(10).fold().next()"
   ]
  },
  {
   "cell_type": "markdown",
   "metadata": {},
   "source": [
    "_Find destinations from Sydney that have the same amount of runways_"
   ]
  },
  {
   "cell_type": "code",
   "execution_count": 10,
   "metadata": {},
   "outputs": [
    {
     "data": {
      "text/plain": [
       "[{'code': ['YVR'], 'runways': [3]},\n",
       " {'code': ['PEK'], 'runways': [3]},\n",
       " {'code': ['KUL'], 'runways': [3]},\n",
       " {'code': ['CHC'], 'runways': [3]},\n",
       " {'code': ['LST'], 'runways': [3]},\n",
       " {'code': ['SIN'], 'runways': [3]},\n",
       " {'code': ['DEL'], 'runways': [3]},\n",
       " {'code': ['ICN'], 'runways': [3]}]"
      ]
     },
     "execution_count": 10,
     "metadata": {},
     "output_type": "execute_result"
    }
   ],
   "source": [
    "g.V().has('code','SYD').match(\n",
    "    __.as_('sydney').values('runways').as_('sydneyRunways'),\n",
    "    __.as_('sydney').out('route').as_('destination').values('runways').as_('destinationRunways').where(\n",
    "        'sydneyRunways', P.eq('destinationRunways')\n",
    "    )\n",
    ").select('destination').valueMap().select('code','runways').fold().next()"
   ]
  },
  {
   "cell_type": "markdown",
   "metadata": {},
   "source": [
    "_The same can be done with multiple selects()_"
   ]
  },
  {
   "cell_type": "code",
   "execution_count": 11,
   "metadata": {},
   "outputs": [
    {
     "data": {
      "text/plain": [
       "[{'code': ['YVR'], 'runways': [3]},\n",
       " {'code': ['PEK'], 'runways': [3]},\n",
       " {'code': ['KUL'], 'runways': [3]},\n",
       " {'code': ['CHC'], 'runways': [3]},\n",
       " {'code': ['LST'], 'runways': [3]},\n",
       " {'code': ['SIN'], 'runways': [3]},\n",
       " {'code': ['DEL'], 'runways': [3]},\n",
       " {'code': ['ICN'], 'runways': [3]}]"
      ]
     },
     "execution_count": 11,
     "metadata": {},
     "output_type": "execute_result"
    }
   ],
   "source": [
    "g.V().has('code','SYD').as_('sydney').values('runways').as_('sydneyRunways').select(\n",
    "    'sydney'\n",
    ").out().as_('destination').values('runways').as_('destinationRunways').where(\n",
    "    'sydneyRunways', P.eq('destinationRunways')\n",
    ").select('destination').valueMap().select('code','runways').fold().next()"
   ]
  },
  {
   "cell_type": "markdown",
   "metadata": {},
   "source": [
    "_Both the previous ways however are not as good as using a filter_"
   ]
  },
  {
   "cell_type": "code",
   "execution_count": 12,
   "metadata": {},
   "outputs": [
    {
     "data": {
      "text/plain": [
       "[{'runways': [3], 'code': ['YVR']},\n",
       " {'runways': [3], 'code': ['PEK']},\n",
       " {'runways': [3], 'code': ['KUL']},\n",
       " {'runways': [3], 'code': ['CHC']},\n",
       " {'runways': [3], 'code': ['LST']},\n",
       " {'runways': [3], 'code': ['SIN']},\n",
       " {'runways': [3], 'code': ['DEL']},\n",
       " {'runways': [3], 'code': ['ICN']}]"
      ]
     },
     "execution_count": 12,
     "metadata": {},
     "output_type": "execute_result"
    }
   ],
   "source": [
    "g.V().has('code','SYD').as_('sydney').out().as_('destination').filter(\n",
    "    __.select('sydney','destination').by('runways').where('sydney', P.eq('destination'))\n",
    ").valueMap('code','runways').fold().next()"
   ]
  },
  {
   "cell_type": "markdown",
   "metadata": {},
   "source": [
    "_In fact you can just use where() with by()_"
   ]
  },
  {
   "cell_type": "code",
   "execution_count": 13,
   "metadata": {},
   "outputs": [
    {
     "data": {
      "text/plain": [
       "[{'runways': [3], 'code': ['YVR']},\n",
       " {'runways': [3], 'code': ['PEK']},\n",
       " {'runways': [3], 'code': ['KUL']},\n",
       " {'runways': [3], 'code': ['CHC']},\n",
       " {'runways': [3], 'code': ['LST']},\n",
       " {'runways': [3], 'code': ['SIN']},\n",
       " {'runways': [3], 'code': ['DEL']},\n",
       " {'runways': [3], 'code': ['ICN']}]"
      ]
     },
     "execution_count": 13,
     "metadata": {},
     "output_type": "execute_result"
    }
   ],
   "source": [
    "g.V().has('code', 'SYD').as_('sydney').out().where(\n",
    "    P.eq('sydney')\n",
    ").by('runways').valueMap('code','runways').fold().next()"
   ]
  }
 ],
 "metadata": {
  "kernelspec": {
   "display_name": "Python 3",
   "language": "python",
   "name": "python3"
  },
  "language_info": {
   "codemirror_mode": {
    "name": "ipython",
    "version": 3
   },
   "file_extension": ".py",
   "mimetype": "text/x-python",
   "name": "python",
   "nbconvert_exporter": "python",
   "pygments_lexer": "ipython3",
   "version": "3.6.5"
  }
 },
 "nbformat": 4,
 "nbformat_minor": 2
}
