{
 "cells": [
  {
   "cell_type": "markdown",
   "metadata": {},
   "source": [
    "# 10. Eq, Neq, Not, And, Or, Gt, Gte, Lt, Lte, Inside, Outside, Within, Without, Between\n",
    "#### By Kwan Yin Andrew Chau"
   ]
  },
  {
   "cell_type": "code",
   "execution_count": 1,
   "metadata": {},
   "outputs": [],
   "source": [
    "import nbfinder\n",
    "from loader import g\n",
    "from loader import P\n",
    "from loader import __\n",
    "from loader import hkVertexId\n",
    "from loader import sydneyVertexId"
   ]
  },
  {
   "cell_type": "markdown",
   "metadata": {},
   "source": [
    "## eq()\n",
    "__Airports that have 5 runways__"
   ]
  },
  {
   "cell_type": "code",
   "execution_count": 2,
   "metadata": {},
   "outputs": [
    {
     "data": {
      "text/plain": [
       "['Gisborne Airport',\n",
       " 'Napier Airport',\n",
       " 'Tauranga Airport',\n",
       " 'Paraparaumu Airport',\n",
       " 'General Mitchell International Airport',\n",
       " 'Ufa International Airport',\n",
       " 'Nelson Airport',\n",
       " 'Chicago Midway International Airport',\n",
       " 'George Bush Intercontinental',\n",
       " 'Karup Airport',\n",
       " 'Hartsfield - Jackson Atlanta International Airport',\n",
       " 'Shannon Airport',\n",
       " 'Hamilton International Airport',\n",
       " 'Toronto Pearson International Airport']"
      ]
     },
     "execution_count": 2,
     "metadata": {},
     "output_type": "execute_result"
    }
   ],
   "source": [
    "g.V().has('runways', P.eq(5)).values('desc').fold().next()"
   ]
  },
  {
   "cell_type": "markdown",
   "metadata": {},
   "source": [
    "## neq()\n",
    "__Airports that do not have 4 runways__"
   ]
  },
  {
   "cell_type": "code",
   "execution_count": 3,
   "metadata": {
    "scrolled": true
   },
   "outputs": [
    {
     "data": {
      "text/plain": [
       "['Bobo Dioulasso Airport',\n",
       " 'Romania',\n",
       " 'Linate Airport',\n",
       " 'Karshi Khanabad Airport',\n",
       " 'Round Lake (Weagamow Lake) Airport',\n",
       " 'Yichang Airport',\n",
       " 'Eirunepé Airport',\n",
       " 'San Diego Lindbergh',\n",
       " 'Nakhchivan Airport',\n",
       " 'Martin Miguel De Guemes International Airport']"
      ]
     },
     "execution_count": 3,
     "metadata": {},
     "output_type": "execute_result"
    }
   ],
   "source": [
    "a = g.V().has('runways', P.neq(4)).count().next()\n",
    "g.V().has('runways', P.neq(4)).limit(10).values('desc').fold().next()"
   ]
  },
  {
   "cell_type": "markdown",
   "metadata": {},
   "source": [
    "## not()\n",
    "__Can also achieve the same thing__"
   ]
  },
  {
   "cell_type": "code",
   "execution_count": 4,
   "metadata": {},
   "outputs": [],
   "source": [
    "b = g.V().not_(__.values('runways').is_(4)).count().next()\n",
    "assert a == b"
   ]
  },
  {
   "cell_type": "markdown",
   "metadata": {},
   "source": [
    "## and()\n",
    "__To add another condition__"
   ]
  },
  {
   "cell_type": "code",
   "execution_count": 5,
   "metadata": {},
   "outputs": [
    {
     "data": {
      "text/plain": [
       "[{'runways': [1], 'code': ['BOY']},\n",
       " {'code': ['RO']},\n",
       " {'runways': [2], 'code': ['LIN']},\n",
       " {'runways': [1], 'code': ['KSQ']},\n",
       " {'runways': [1], 'code': ['ZRJ']},\n",
       " {'runways': [1], 'code': ['YIH']},\n",
       " {'runways': [1], 'code': ['ERN']},\n",
       " {'runways': [1], 'code': ['SAN']},\n",
       " {'runways': [2], 'code': ['NAJ']},\n",
       " {'runways': [2], 'code': ['SLA']}]"
      ]
     },
     "execution_count": 5,
     "metadata": {},
     "output_type": "execute_result"
    }
   ],
   "source": [
    "g.V().and_(__.has('runways', P.neq(4)), __.has('runways', P.neq(3))).limit(10).valueMap('code', 'runways').fold().next()"
   ]
  },
  {
   "cell_type": "markdown",
   "metadata": {},
   "source": [
    "## or()"
   ]
  },
  {
   "cell_type": "code",
   "execution_count": 6,
   "metadata": {},
   "outputs": [
    {
     "data": {
      "text/plain": [
       "['Sydney Kingsford Smith', 'Hong Kong - Chek Lap Kok International Airport']"
      ]
     },
     "execution_count": 6,
     "metadata": {},
     "output_type": "execute_result"
    }
   ],
   "source": [
    "g.V().or_(__.has('code', 'SYD'), __.has('code', 'HKG')).values('desc').fold().next()"
   ]
  },
  {
   "cell_type": "markdown",
   "metadata": {},
   "source": [
    "The and(), or() operators can a lot of times be avoided using within() or without()"
   ]
  },
  {
   "cell_type": "markdown",
   "metadata": {},
   "source": [
    "## gt()\n",
    "__Airports that have more than 5 runways__"
   ]
  },
  {
   "cell_type": "code",
   "execution_count": 7,
   "metadata": {},
   "outputs": [
    {
     "data": {
      "text/plain": [
       "6"
      ]
     },
     "execution_count": 7,
     "metadata": {},
     "output_type": "execute_result"
    }
   ],
   "source": [
    "a = g.V().has('runways', P.gt(5)).count().next()\n",
    "a"
   ]
  },
  {
   "cell_type": "markdown",
   "metadata": {},
   "source": [
    "## gte()\n",
    "__Airports that have 6 or more runways__"
   ]
  },
  {
   "cell_type": "code",
   "execution_count": 8,
   "metadata": {},
   "outputs": [],
   "source": [
    "b = g.V().has('runways', P.gte(6)).count().next()\n",
    "assert a == b"
   ]
  },
  {
   "cell_type": "markdown",
   "metadata": {},
   "source": [
    "## lt()\n",
    "__Airports that have less than 3 runways__"
   ]
  },
  {
   "cell_type": "code",
   "execution_count": 9,
   "metadata": {},
   "outputs": [
    {
     "data": {
      "text/plain": [
       "3078"
      ]
     },
     "execution_count": 9,
     "metadata": {},
     "output_type": "execute_result"
    }
   ],
   "source": [
    "a = g.V().has('runways', P.lt(3)).count().next()\n",
    "a"
   ]
  },
  {
   "cell_type": "markdown",
   "metadata": {},
   "source": [
    "## lte()\n",
    "__Airports that have 2 or less runways__"
   ]
  },
  {
   "cell_type": "code",
   "execution_count": 10,
   "metadata": {},
   "outputs": [],
   "source": [
    "b = g.V().has('runways', P.lte(2)).count().next()\n",
    "assert a == b"
   ]
  },
  {
   "cell_type": "markdown",
   "metadata": {},
   "source": [
    "## inside()\n",
    "__Airports that have more than 2 but less than 6 runways__\n",
    "\n",
    "_There is an issue with this Python implementation of inside, 2 should not be inclusive_"
   ]
  },
  {
   "cell_type": "code",
   "execution_count": 11,
   "metadata": {
    "scrolled": true
   },
   "outputs": [
    {
     "data": {
      "text/plain": [
       "[{'runways': [3], 'code': ['SYD']},\n",
       " {'runways': [3], 'code': ['VRB']},\n",
       " {'runways': [3], 'code': ['CLE']},\n",
       " {'runways': [3], 'code': ['BRO']},\n",
       " {'runways': [4], 'code': ['IVC']},\n",
       " {'runways': [3], 'code': ['CHC']},\n",
       " {'runways': [3], 'code': ['ENA']},\n",
       " {'runways': [4], 'code': ['ABQ']},\n",
       " {'runways': [3], 'code': ['NRL']},\n",
       " {'runways': [3], 'code': ['TGZ']}]"
      ]
     },
     "execution_count": 11,
     "metadata": {},
     "output_type": "execute_result"
    }
   ],
   "source": [
    " g.V().has('runways', P.inside(2, 6)).limit(10).valueMap('code', 'runways').fold().next()"
   ]
  },
  {
   "cell_type": "code",
   "execution_count": 12,
   "metadata": {},
   "outputs": [
    {
     "data": {
      "text/plain": [
       "290"
      ]
     },
     "execution_count": 12,
     "metadata": {},
     "output_type": "execute_result"
    }
   ],
   "source": [
    "a = g.V().has('runways', P.inside(2, 6)).count().next()\n",
    "a"
   ]
  },
  {
   "cell_type": "markdown",
   "metadata": {},
   "source": [
    "## within()\n",
    "__Airports that have 3 or more but 5 or less runways__"
   ]
  },
  {
   "cell_type": "code",
   "execution_count": 13,
   "metadata": {},
   "outputs": [],
   "source": [
    "# This is not supported in python gremlin\n",
    "# b = g.V().has('runways', P.within(3..5)).count().next()\n",
    "# assert a == b"
   ]
  },
  {
   "cell_type": "markdown",
   "metadata": {},
   "source": [
    "__Airports with 3, 4 or 5 runways__"
   ]
  },
  {
   "cell_type": "code",
   "execution_count": 14,
   "metadata": {},
   "outputs": [],
   "source": [
    "c = g.V().has('runways', P.within([3,4,5])).count().next()\n",
    "assert a == c"
   ]
  },
  {
   "cell_type": "markdown",
   "metadata": {},
   "source": [
    "## between()\n",
    "__Airports that have 3 or more but less than 6 runways__"
   ]
  },
  {
   "cell_type": "code",
   "execution_count": 15,
   "metadata": {},
   "outputs": [],
   "source": [
    "d = g.V().has('runways', P.between(3, 6)).count().next()\n",
    "assert a == d"
   ]
  },
  {
   "cell_type": "markdown",
   "metadata": {},
   "source": [
    "## outside()\n",
    "__Airports that have less than 3 or more than 5 runways__"
   ]
  },
  {
   "cell_type": "code",
   "execution_count": 16,
   "metadata": {},
   "outputs": [
    {
     "data": {
      "text/plain": [
       "3084"
      ]
     },
     "execution_count": 16,
     "metadata": {},
     "output_type": "execute_result"
    }
   ],
   "source": [
    "a = g.V().has('airport', 'runways', P.outside(3, 5)).count().next()\n",
    "a"
   ]
  },
  {
   "cell_type": "markdown",
   "metadata": {},
   "source": [
    "## without()\n",
    "__Airports that have less than 3 or more than 5 runways__"
   ]
  },
  {
   "cell_type": "code",
   "execution_count": 17,
   "metadata": {},
   "outputs": [],
   "source": [
    "# b = g.V().has('runways', P.without(3..5)).count().next()\n",
    "# assert a == b"
   ]
  },
  {
   "cell_type": "markdown",
   "metadata": {},
   "source": [
    "__Airports that do not have 3, 4 or 5 runways__"
   ]
  },
  {
   "cell_type": "code",
   "execution_count": 18,
   "metadata": {},
   "outputs": [],
   "source": [
    "c = g.V().has('airport', 'runways', P.without([3,4,5])).count().next()\n",
    "assert a == c"
   ]
  },
  {
   "cell_type": "markdown",
   "metadata": {},
   "source": [
    "__Has vertex ID within Sydney's and Hong Kong's__"
   ]
  },
  {
   "cell_type": "code",
   "execution_count": 19,
   "metadata": {},
   "outputs": [
    {
     "data": {
      "text/plain": [
       "['SYD', 'HKG']"
      ]
     },
     "execution_count": 19,
     "metadata": {},
     "output_type": "execute_result"
    }
   ],
   "source": [
    "g.V().hasId(P.within([sydneyVertexId, hkVertexId])).values('code').fold().next()"
   ]
  },
  {
   "cell_type": "markdown",
   "metadata": {},
   "source": [
    "__Airports in NSW that do not have the city \"Sydney\"__"
   ]
  },
  {
   "cell_type": "code",
   "execution_count": 20,
   "metadata": {},
   "outputs": [
    {
     "data": {
      "text/plain": [
       "['Albury',\n",
       " 'Moruya',\n",
       " 'Parkes',\n",
       " 'Orange',\n",
       " 'Narrandera',\n",
       " 'Griffith',\n",
       " 'Williamtown',\n",
       " 'Armidale',\n",
       " 'Wagga Wagga',\n",
       " 'Moree',\n",
       " 'Broken Hill',\n",
       " 'Lismore',\n",
       " 'Taree',\n",
       " 'Bathurst',\n",
       " 'Narrabri',\n",
       " 'Lord Howe Island',\n",
       " 'Coffs Harbour',\n",
       " 'Ballina',\n",
       " 'Grafton',\n",
       " 'Dubbo',\n",
       " 'Gold Coast',\n",
       " 'Port Macquarie',\n",
       " 'Merimbula',\n",
       " 'Tamworth']"
      ]
     },
     "execution_count": 20,
     "metadata": {},
     "output_type": "execute_result"
    }
   ],
   "source": [
    "g.V().has('airport','region','AU-NSW').has('city', P.neq('Sydney')).values('city').fold().next()"
   ]
  },
  {
   "cell_type": "markdown",
   "metadata": {},
   "source": [
    "__Path of flights from Hong Kong to Sydney which have 1 stop in Australia__"
   ]
  },
  {
   "cell_type": "code",
   "execution_count": 21,
   "metadata": {},
   "outputs": [
    {
     "data": {
      "text/plain": [
       "['HKG', 'BNE', 'SYD']"
      ]
     },
     "execution_count": 21,
     "metadata": {},
     "output_type": "execute_result"
    }
   ],
   "source": [
    "g.V().has('airport','code','HKG').out().has(\n",
    "    'country', P.within(['AU'])\n",
    ").out().has('code','SYD').path().by('code').next()"
   ]
  },
  {
   "cell_type": "markdown",
   "metadata": {},
   "source": [
    "__Path of flights from Hong Kong to Sydney which do not have 1 stop in Australia, Japan or China__"
   ]
  },
  {
   "cell_type": "code",
   "execution_count": 22,
   "metadata": {},
   "outputs": [
    {
     "data": {
      "text/plain": [
       "[['HK', 'US', 'AU'],\n",
       " ['HK', 'US', 'AU'],\n",
       " ['HK', 'US', 'AU'],\n",
       " ['HK', 'TH', 'AU'],\n",
       " ['HK', 'AE', 'AU'],\n",
       " ['HK', 'KR', 'AU'],\n",
       " ['HK', 'SG', 'AU'],\n",
       " ['HK', 'NZ', 'AU'],\n",
       " ['HK', 'MY', 'AU'],\n",
       " ['HK', 'CA', 'AU']]"
      ]
     },
     "execution_count": 22,
     "metadata": {},
     "output_type": "execute_result"
    }
   ],
   "source": [
    "g.V().has('airport','code','HKG').out().has(\n",
    "    'country', P.without(['AU', 'JP', 'CN'])\n",
    ").out().has('code','SYD').limit(10).path().by('country').fold().next()"
   ]
  },
  {
   "cell_type": "markdown",
   "metadata": {},
   "source": [
    "__Between can also be used to simulate \"starts with\"__\n",
    "\n",
    "All airports that have a city name starting with \"Dal\" or \"Dam\""
   ]
  },
  {
   "cell_type": "code",
   "execution_count": 23,
   "metadata": {},
   "outputs": [
    {
     "data": {
      "text/plain": [
       "['Dalanzadgad', 'Dallas', 'Dalat', 'Dalian', 'Dalcahue', 'Dalaman']"
      ]
     },
     "execution_count": 23,
     "metadata": {},
     "output_type": "execute_result"
    }
   ],
   "source": [
    "g.V().has('city', P.between('Dal', 'Dam')).values('city').dedup().fold().next()"
   ]
  },
  {
   "cell_type": "markdown",
   "metadata": {},
   "source": [
    "__Trick to find strings that begin with a single character (S)__"
   ]
  },
  {
   "cell_type": "code",
   "execution_count": 24,
   "metadata": {},
   "outputs": [
    {
     "data": {
      "text/plain": [
       "['SAN', 'SLA', 'SYD', 'SJI', 'SVK', 'SJJ', 'SEZ', 'STN', 'SDN', 'SFJ']"
      ]
     },
     "execution_count": 24,
     "metadata": {},
     "output_type": "execute_result"
    }
   ],
   "source": [
    "g.V().has('airport','code',P.between('S','Sa')).limit(10).values('code').fold().next()"
   ]
  }
 ],
 "metadata": {
  "kernelspec": {
   "display_name": "Python 3",
   "language": "python",
   "name": "python3"
  },
  "language_info": {
   "codemirror_mode": {
    "name": "ipython",
    "version": 3
   },
   "file_extension": ".py",
   "mimetype": "text/x-python",
   "name": "python",
   "nbconvert_exporter": "python",
   "pygments_lexer": "ipython3",
   "version": "3.6.5"
  }
 },
 "nbformat": 4,
 "nbformat_minor": 2
}
