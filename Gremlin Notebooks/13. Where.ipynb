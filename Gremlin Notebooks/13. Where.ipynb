{
 "cells": [
  {
   "cell_type": "markdown",
   "metadata": {},
   "source": [
    "# 13. Where\n",
    "#### By Kwan Yin Andrew Chau"
   ]
  },
  {
   "cell_type": "code",
   "execution_count": 1,
   "metadata": {},
   "outputs": [],
   "source": [
    "import nbfinder\n",
    "import random\n",
    "from loader import g\n",
    "from loader import __\n",
    "from loader import P\n",
    "from loader import sydneyVertexId\n",
    "from loader import hkVertexId"
   ]
  },
  {
   "cell_type": "markdown",
   "metadata": {},
   "source": [
    "## where()\n",
    "\n",
    "__Same as simple has cases__"
   ]
  },
  {
   "cell_type": "code",
   "execution_count": 2,
   "metadata": {},
   "outputs": [],
   "source": [
    "x1 = g.V().where(__.values('runways').is_(P.gt(5))).fold().next()\n",
    "x2 = g.V().has('runways',P.gt(5)).fold().next()\n",
    "assert x1 == x2"
   ]
  },
  {
   "cell_type": "markdown",
   "metadata": {},
   "source": [
    "__Airports with more than 60 unique routes from them__"
   ]
  },
  {
   "cell_type": "code",
   "execution_count": 3,
   "metadata": {},
   "outputs": [
    {
     "data": {
      "text/plain": [
       "181"
      ]
     },
     "execution_count": 3,
     "metadata": {},
     "output_type": "execute_result"
    }
   ],
   "source": [
    "g.V().hasLabel('airport').where(__.out('route').count().is_(P.gt(60))).count().next()"
   ]
  },
  {
   "cell_type": "markdown",
   "metadata": {},
   "source": [
    "__Paths from Sydney where the destination has more than 3 runways and the distance is more than 4000__"
   ]
  },
  {
   "cell_type": "code",
   "execution_count": 4,
   "metadata": {
    "scrolled": true
   },
   "outputs": [
    {
     "data": {
      "text/plain": [
       "[['SYD', 7420, 'SFO'],\n",
       " ['SYD', 5073, 'HNL'],\n",
       " ['SYD', 7489, 'LAX'],\n",
       " ['SYD', 8574, 'DFW'],\n",
       " ['SYD', 4855, 'HND']]"
      ]
     },
     "execution_count": 4,
     "metadata": {},
     "output_type": "execute_result"
    }
   ],
   "source": [
    "g.V(sydneyVertexId).outE().and_(__.where(__.inV().has('runways', P.gt(3))), __.values('dist').is_(P.gt(4000))).inV().path().by('code').by('dist').by('code').fold().next()"
   ]
  },
  {
   "cell_type": "markdown",
   "metadata": {},
   "source": [
    "__All the destinations from Sydney airport outside Australia__"
   ]
  },
  {
   "cell_type": "code",
   "execution_count": 5,
   "metadata": {
    "scrolled": true
   },
   "outputs": [
    {
     "data": {
      "text/plain": [
       "[{'country': ['US'], 'city': ['San Francisco'], 'code': ['SFO']},\n",
       " {'country': ['US'], 'city': ['Honolulu'], 'code': ['HNL']},\n",
       " {'country': ['US'], 'city': ['Los Angeles'], 'code': ['LAX']},\n",
       " {'country': ['US'], 'city': ['Dallas'], 'code': ['DFW']},\n",
       " {'country': ['CN'], 'city': ['Beijing'], 'code': ['PEK']},\n",
       " {'country': ['QA'], 'city': ['Doha'], 'code': ['DOH']},\n",
       " {'country': ['HK'], 'city': ['Hong Kong'], 'code': ['HKG']},\n",
       " {'country': ['NZ'], 'city': ['Auckland'], 'code': ['AKL']},\n",
       " {'country': ['TH'], 'city': ['Bankok'], 'code': ['BKK']},\n",
       " {'country': ['CN'], 'city': ['Shanghai'], 'code': ['PVG']},\n",
       " {'country': ['MY'], 'city': ['Kuala Lumpur'], 'code': ['KUL']},\n",
       " {'country': ['JP'], 'city': ['Tokyo'], 'code': ['NRT']},\n",
       " {'country': ['NZ'], 'city': ['Christchurch'], 'code': ['CHC']},\n",
       " {'country': ['VN'], 'city': ['Ho Chi Minh City'], 'code': ['SGN']},\n",
       " {'country': ['CL'], 'city': ['Santiago'], 'code': ['SCL']},\n",
       " {'country': ['ID'], 'city': ['Denpasar'], 'code': ['DPS']},\n",
       " {'country': ['KR'], 'city': ['Seoul'], 'code': ['ICN']},\n",
       " {'country': ['ZA'], 'city': ['Johannesburg'], 'code': ['JNB']},\n",
       " {'country': ['JP'], 'city': ['Tokyo'], 'code': ['HND']},\n",
       " {'country': ['ID'], 'city': ['Jakarta'], 'code': ['CGK']},\n",
       " {'country': ['CN'], 'city': ['Nanjing'], 'code': ['NKG']},\n",
       " {'country': ['CN'], 'city': ['Guangzhou'], 'code': ['CAN']},\n",
       " {'country': ['CA'], 'city': ['Vancouver'], 'code': ['YVR']},\n",
       " {'country': ['AE'], 'city': ['Abu Dhabi'], 'code': ['AUH']},\n",
       " {'country': ['SG'], 'city': ['Singapore'], 'code': ['SIN']},\n",
       " {'country': ['AE'], 'city': ['Dubai'], 'code': ['DXB']},\n",
       " {'country': ['IN'], 'city': ['New Delhi'], 'code': ['DEL']},\n",
       " {'country': ['NZ'], 'city': ['Wellington'], 'code': ['WLG']},\n",
       " {'country': ['PH'], 'city': ['Manila'], 'code': ['MNL']},\n",
       " {'country': ['PG'], 'city': ['Port Moresby'], 'code': ['POM']},\n",
       " {'country': ['TH'], 'city': ['Phuket'], 'code': ['HKT']},\n",
       " {'country': ['VN'], 'city': ['Hanoi'], 'code': ['HAN']},\n",
       " {'country': ['FJ'], 'city': ['Nadi'], 'code': ['NAN']},\n",
       " {'country': ['CN'], 'city': ['Chengdu'], 'code': ['CTU']},\n",
       " {'country': ['TW'], 'city': ['Taipei'], 'code': ['TPE']},\n",
       " {'country': ['CN'], 'city': ['Wuhan'], 'code': ['WUH']},\n",
       " {'country': ['CK'], 'city': ['Avarua'], 'code': ['RAR']},\n",
       " {'country': ['CN'], 'city': ['Xianyang'], 'code': ['XIY']},\n",
       " {'country': ['NC'], 'city': ['Nouméa'], 'code': ['NOU']},\n",
       " {'country': ['TO'], 'city': [\"Nuku'alofa\"], 'code': ['TBU']},\n",
       " {'country': ['VU'], 'city': ['Port Vila'], 'code': ['VLI']},\n",
       " {'country': ['NZ'], 'city': ['Queenstown'], 'code': ['ZQN']},\n",
       " {'country': ['FJ'], 'city': ['Nausori'], 'code': ['SUV']},\n",
       " {'country': ['CN'], 'city': ['Hangzhou'], 'code': ['HGH']},\n",
       " {'country': ['CN'], 'city': ['Changsha'], 'code': ['CSX']},\n",
       " {'country': ['CN'], 'city': ['Kunming'], 'code': ['KMG']},\n",
       " {'country': ['CN'], 'city': ['Chongqing'], 'code': ['CKG']},\n",
       " {'country': ['NF'], 'city': ['Burnt Pine'], 'code': ['NLK']}]"
      ]
     },
     "execution_count": 5,
     "metadata": {},
     "output_type": "execute_result"
    }
   ],
   "source": [
    "x1 = g.V(sydneyVertexId).out().not_(__.where(__.in_('contains').has('code','AU'))).count().next()\n",
    "g.V(sydneyVertexId).out().not_(__.where(__.in_('contains').has('code','AU'))).valueMap('code','city', 'country').fold().next()"
   ]
  },
  {
   "cell_type": "markdown",
   "metadata": {},
   "source": [
    "Could have been done using has neq"
   ]
  },
  {
   "cell_type": "code",
   "execution_count": 6,
   "metadata": {},
   "outputs": [],
   "source": [
    "x2 = g.V(sydneyVertexId).out().has('country', P.neq('AU')).count().next()\n",
    "assert x1 ==  x2"
   ]
  },
  {
   "cell_type": "markdown",
   "metadata": {},
   "source": [
    "And using not has"
   ]
  },
  {
   "cell_type": "code",
   "execution_count": 7,
   "metadata": {},
   "outputs": [],
   "source": [
    "x3 = g.V(sydneyVertexId).out().not_(__.has('country', 'AU')).count().next()\n",
    "assert x2 ==  x3"
   ]
  },
  {
   "cell_type": "markdown",
   "metadata": {},
   "source": [
    "__You can use a special form of \"and\", \"or\" inside where__\n",
    "\n",
    "Destinations out of HK that have more than 4 runways but not 6"
   ]
  },
  {
   "cell_type": "code",
   "execution_count": 8,
   "metadata": {},
   "outputs": [
    {
     "data": {
      "text/plain": [
       "[{'runways': [5], 'code': ['YYZ']},\n",
       " {'runways': [7], 'code': ['DFW']},\n",
       " {'runways': [8], 'code': ['ORD']}]"
      ]
     },
     "execution_count": 8,
     "metadata": {},
     "output_type": "execute_result"
    }
   ],
   "source": [
    "g.V(hkVertexId).out().where(__.values('runways').is_(P.gt(4).and_(P.neq(6)))).valueMap('code','runways').fold().next()"
   ]
  },
  {
   "cell_type": "markdown",
   "metadata": {},
   "source": [
    "Destinations out of HK that have 5 or 6 runways"
   ]
  },
  {
   "cell_type": "code",
   "execution_count": 9,
   "metadata": {},
   "outputs": [
    {
     "data": {
      "text/plain": [
       "[{'runways': [6], 'code': ['BOS']},\n",
       " {'runways': [5], 'code': ['YYZ']},\n",
       " {'runways': [6], 'code': ['AMS']}]"
      ]
     },
     "execution_count": 9,
     "metadata": {},
     "output_type": "execute_result"
    }
   ],
   "source": [
    "g.V(hkVertexId).out().where(__.values('runways').is_(P.eq(5).or_(P.eq(6)))).valueMap('code','runways').fold().next()"
   ]
  },
  {
   "cell_type": "markdown",
   "metadata": {},
   "source": [
    "__Destinations two flights away from HK that do not end up back in HK__"
   ]
  },
  {
   "cell_type": "code",
   "execution_count": 10,
   "metadata": {},
   "outputs": [
    {
     "data": {
      "text/plain": [
       "[['HKG', 'SFO', 'SLC'],\n",
       " ['HKG', 'SFO', 'BWI'],\n",
       " ['HKG', 'SFO', 'ANC'],\n",
       " ['HKG', 'SFO', 'MCO'],\n",
       " ['HKG', 'SFO', 'AUS'],\n",
       " ['HKG', 'SFO', 'BOS'],\n",
       " ['HKG', 'SFO', 'MSP'],\n",
       " ['HKG', 'SFO', 'ATL'],\n",
       " ['HKG', 'SFO', 'BNA'],\n",
       " ['HKG', 'SFO', 'LAS']]"
      ]
     },
     "execution_count": 10,
     "metadata": {},
     "output_type": "execute_result"
    }
   ],
   "source": [
    "g.V(hkVertexId).as_('a').out().out().where(P.neq('a')).path().by('code').limit(10).fold().next()"
   ]
  },
  {
   "cell_type": "markdown",
   "metadata": {},
   "source": [
    "__Using where() and by() together__\n",
    "\n",
    "Find all the destinations you can fly to from Sydney that have the same number of runways Sydney does"
   ]
  },
  {
   "cell_type": "code",
   "execution_count": 17,
   "metadata": {},
   "outputs": [
    {
     "data": {
      "text/plain": [
       "[{'runways': [3], 'code': ['PEK']},\n",
       " {'runways': [3], 'code': ['KUL']},\n",
       " {'runways': [3], 'code': ['CHC']},\n",
       " {'runways': [3], 'code': ['ICN']},\n",
       " {'runways': [3], 'code': ['YVR']},\n",
       " {'runways': [3], 'code': ['SIN']},\n",
       " {'runways': [3], 'code': ['DEL']},\n",
       " {'runways': [3], 'code': ['LST']}]"
      ]
     },
     "execution_count": 17,
     "metadata": {},
     "output_type": "execute_result"
    }
   ],
   "source": [
    "g.V(sydneyVertexId).as_('a').out().where(P.eq('a')).by('runways').valueMap('code','runways').fold().next()"
   ]
  },
  {
   "cell_type": "markdown",
   "metadata": {},
   "source": [
    "Equivalent to"
   ]
  },
  {
   "cell_type": "code",
   "execution_count": 21,
   "metadata": {},
   "outputs": [
    {
     "data": {
      "text/plain": [
       "[{'runways': [3], 'code': ['PEK']},\n",
       " {'runways': [3], 'code': ['KUL']},\n",
       " {'runways': [3], 'code': ['CHC']},\n",
       " {'runways': [3], 'code': ['ICN']},\n",
       " {'runways': [3], 'code': ['YVR']},\n",
       " {'runways': [3], 'code': ['SIN']},\n",
       " {'runways': [3], 'code': ['DEL']},\n",
       " {'runways': [3], 'code': ['LST']}]"
      ]
     },
     "execution_count": 21,
     "metadata": {},
     "output_type": "execute_result"
    }
   ],
   "source": [
    "g.V(sydneyVertexId).as_('a').out().as_('b').filter(__.select('a','b').by('runways').where('a',P.eq('b'))).valueMap('code','runways').fold().next()"
   ]
  },
  {
   "cell_type": "markdown",
   "metadata": {},
   "source": [
    "__Find all the destinations you can fly to from Sydney that have less runways than Sydney does__"
   ]
  },
  {
   "cell_type": "code",
   "execution_count": 24,
   "metadata": {
    "scrolled": true
   },
   "outputs": [
    {
     "data": {
      "text/plain": [
       "[{'runways': [2], 'code': ['BNE']},\n",
       " {'runways': [2], 'code': ['MEL']},\n",
       " {'runways': [2], 'code': ['DOH']},\n",
       " {'runways': [2], 'code': ['HKG']},\n",
       " {'runways': [2], 'code': ['AKL']},\n",
       " {'runways': [2], 'code': ['BKK']},\n",
       " {'runways': [2], 'code': ['PVG']},\n",
       " {'runways': [2], 'code': ['NRT']},\n",
       " {'runways': [2], 'code': ['ASP']},\n",
       " {'runways': [2], 'code': ['SGN']},\n",
       " {'runways': [2], 'code': ['DRW']},\n",
       " {'runways': [2], 'code': ['SCL']},\n",
       " {'runways': [2], 'code': ['DPS']},\n",
       " {'runways': [2], 'code': ['OOL']},\n",
       " {'runways': [2], 'code': ['CBR']},\n",
       " {'runways': [2], 'code': ['JNB']},\n",
       " {'runways': [2], 'code': ['CGK']},\n",
       " {'runways': [1], 'code': ['NKG']},\n",
       " {'runways': [2], 'code': ['CAN']},\n",
       " {'runways': [2], 'code': ['CNS']},\n",
       " {'runways': [2], 'code': ['AUH']},\n",
       " {'runways': [2], 'code': ['DXB']},\n",
       " {'runways': [2], 'code': ['PER']},\n",
       " {'runways': [1], 'code': ['WLG']},\n",
       " {'runways': [2], 'code': ['MCY']},\n",
       " {'runways': [2], 'code': ['ADL']},\n",
       " {'runways': [2], 'code': ['MNL']},\n",
       " {'runways': [2], 'code': ['POM']},\n",
       " {'runways': [1], 'code': ['HKT']},\n",
       " {'runways': [2], 'code': ['HAN']},\n",
       " {'runways': [2], 'code': ['NAN']},\n",
       " {'runways': [1], 'code': ['CTU']},\n",
       " {'runways': [1], 'code': ['AYQ']},\n",
       " {'runways': [2], 'code': ['TPE']},\n",
       " {'runways': [1], 'code': ['WUH']},\n",
       " {'runways': [1], 'code': ['RAR']},\n",
       " {'runways': [1], 'code': ['XIY']},\n",
       " {'runways': [1], 'code': ['NOU']},\n",
       " {'runways': [2], 'code': ['TSV']},\n",
       " {'runways': [1], 'code': ['HVB']},\n",
       " {'runways': [2], 'code': ['TBU']},\n",
       " {'runways': [1], 'code': ['GLT']},\n",
       " {'runways': [1], 'code': ['AVV']},\n",
       " {'runways': [2], 'code': ['VLI']},\n",
       " {'runways': [1], 'code': ['KTA']},\n",
       " {'runways': [2], 'code': ['MYA']},\n",
       " {'runways': [2], 'code': ['BHQ']},\n",
       " {'runways': [2], 'code': ['NRA']},\n",
       " {'runways': [2], 'code': ['MKY']},\n",
       " {'runways': [2], 'code': ['OAG']},\n",
       " {'runways': [2], 'code': ['BHS']},\n",
       " {'runways': [1], 'code': ['BME']},\n",
       " {'runways': [1], 'code': ['LDH']},\n",
       " {'runways': [2], 'code': ['GFF']},\n",
       " {'runways': [2], 'code': ['WGA']},\n",
       " {'runways': [2], 'code': ['MRZ']},\n",
       " {'runways': [2], 'code': ['TRO']},\n",
       " {'runways': [2], 'code': ['PQQ']},\n",
       " {'runways': [1], 'code': ['SUV']},\n",
       " {'runways': [1], 'code': ['LSY']},\n",
       " {'runways': [2], 'code': ['MQL']},\n",
       " {'runways': [1], 'code': ['NTL']},\n",
       " {'runways': [2], 'code': ['PKE']},\n",
       " {'runways': [2], 'code': ['PPP']},\n",
       " {'runways': [1], 'code': ['MIM']},\n",
       " {'runways': [2], 'code': ['CFS']},\n",
       " {'runways': [1], 'code': ['HGH']},\n",
       " {'runways': [1], 'code': ['CSX']},\n",
       " {'runways': [1], 'code': ['KMG']},\n",
       " {'runways': [1], 'code': ['CKG']},\n",
       " {'runways': [2], 'code': ['ARM']},\n",
       " {'runways': [1], 'code': ['HTI']},\n",
       " {'runways': [1], 'code': ['BNK']},\n",
       " {'runways': [1], 'code': ['ABX']},\n",
       " {'runways': [1], 'code': ['HBA']},\n",
       " {'runways': [2], 'code': ['DBO']},\n",
       " {'runways': [2], 'code': ['NLK']},\n",
       " {'runways': [1], 'code': ['WTB']},\n",
       " {'runways': [2], 'code': ['NAA']}]"
      ]
     },
     "execution_count": 24,
     "metadata": {},
     "output_type": "execute_result"
    }
   ],
   "source": [
    "g.V(sydneyVertexId).as_('a').out().as_('b').where('a',P.gt('b')).by('runways').valueMap('code','runways').fold().next()"
   ]
  },
  {
   "cell_type": "markdown",
   "metadata": {},
   "source": [
    "__Compare two different properties by adding a second \"by\" after \"where__"
   ]
  },
  {
   "cell_type": "markdown",
   "metadata": {},
   "source": [
    "Countries that have a contains edge into Sydney"
   ]
  },
  {
   "cell_type": "code",
   "execution_count": 35,
   "metadata": {},
   "outputs": [
    {
     "data": {
      "text/plain": [
       "[{'type': ['country'], 'code': ['AU'], 'desc': ['Australia']}]"
      ]
     },
     "execution_count": 35,
     "metadata": {},
     "output_type": "execute_result"
    }
   ],
   "source": [
    "g.V(sydneyVertexId).in_('contains').has('type', 'country').valueMap().fold().next()"
   ]
  },
  {
   "cell_type": "markdown",
   "metadata": {},
   "source": [
    "We match the country from Airport, Sydney (a) with the code from the Country, Australia (b)"
   ]
  },
  {
   "cell_type": "code",
   "execution_count": 27,
   "metadata": {},
   "outputs": [
    {
     "data": {
      "text/plain": [
       "[{'a': 'SYD', 'r': 'AU-NSW', 'b': 'AU'}]"
      ]
     },
     "execution_count": 27,
     "metadata": {},
     "output_type": "execute_result"
    }
   ],
   "source": [
    "g.V(sydneyVertexId).as_('a','r').in_('contains').as_('b').where('a',P.eq('b')).by('country').by('code').select('a','r','b').by('code').by('region').fold().next()"
   ]
  },
  {
   "cell_type": "markdown",
   "metadata": {},
   "source": [
    "Get the airports that are in the same region as Sydney is in"
   ]
  },
  {
   "cell_type": "code",
   "execution_count": 40,
   "metadata": {},
   "outputs": [
    {
     "data": {
      "text/plain": [
       "[['TMW', 'Tamworth', 'AU-NSW'],\n",
       " ['PQQ', 'Port Macquarie', 'AU-NSW'],\n",
       " ['LSY', 'Lismore', 'AU-NSW'],\n",
       " ['WGA', 'Wagga Wagga', 'AU-NSW'],\n",
       " ['MYA', 'Moruya', 'AU-NSW'],\n",
       " ['ABX', 'Albury', 'AU-NSW'],\n",
       " ['TRO', 'Taree', 'AU-NSW'],\n",
       " ['MIM', 'Merimbula', 'AU-NSW'],\n",
       " ['PKE', 'Parkes', 'AU-NSW'],\n",
       " ['CFS', 'Coffs Harbour', 'AU-NSW'],\n",
       " ['NRA', 'Narrandera', 'AU-NSW'],\n",
       " ['GFF', 'Griffith', 'AU-NSW'],\n",
       " ['SYD', 'Sydney', 'AU-NSW'],\n",
       " ['NAA', 'Narrabri', 'AU-NSW'],\n",
       " ['LDH', 'Lord Howe Island', 'AU-NSW'],\n",
       " ['BWU', 'Sydney', 'AU-NSW'],\n",
       " ['BHS', 'Bathurst', 'AU-NSW'],\n",
       " ['OAG', 'Orange', 'AU-NSW'],\n",
       " ['OOL', 'Gold Coast', 'AU-NSW'],\n",
       " ['GFN', 'Grafton', 'AU-NSW'],\n",
       " ['BNK', 'Ballina', 'AU-NSW'],\n",
       " ['NTL', 'Williamtown', 'AU-NSW'],\n",
       " ['MRZ', 'Moree', 'AU-NSW'],\n",
       " ['BHQ', 'Broken Hill', 'AU-NSW'],\n",
       " ['DBO', 'Dubbo', 'AU-NSW'],\n",
       " ['ARM', 'Armidale', 'AU-NSW']]"
      ]
     },
     "execution_count": 40,
     "metadata": {},
     "output_type": "execute_result"
    }
   ],
   "source": [
    "g.V(sydneyVertexId).values('region').as_('r').V().hasLabel('airport').as_('a').values('region').where(P.eq('r')).by().local(__.select('a').values('city','code','region').fold()).fold().next()"
   ]
  },
  {
   "cell_type": "code",
   "execution_count": null,
   "metadata": {},
   "outputs": [],
   "source": []
  }
 ],
 "metadata": {
  "kernelspec": {
   "display_name": "Python 3",
   "language": "python",
   "name": "python3"
  },
  "language_info": {
   "codemirror_mode": {
    "name": "ipython",
    "version": 3
   },
   "file_extension": ".py",
   "mimetype": "text/x-python",
   "name": "python",
   "nbconvert_exporter": "python",
   "pygments_lexer": "ipython3",
   "version": "3.6.5"
  }
 },
 "nbformat": 4,
 "nbformat_minor": 2
}
