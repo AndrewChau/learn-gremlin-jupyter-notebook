{
 "cells": [
  {
   "cell_type": "markdown",
   "metadata": {},
   "source": [
    "# 13. Where\n",
    "#### By Kwan Yin Andrew Chau"
   ]
  },
  {
   "cell_type": "code",
   "execution_count": 1,
   "metadata": {},
   "outputs": [],
   "source": [
    "import nbfinder\n",
    "import random\n",
    "from loader import g\n",
    "from loader import __\n",
    "from loader import P\n",
    "from loader import sydneyVertexId\n",
    "from loader import hkVertexId"
   ]
  },
  {
   "cell_type": "markdown",
   "metadata": {},
   "source": [
    "## where()\n",
    "\n",
    "__Same as simple has cases__"
   ]
  },
  {
   "cell_type": "code",
   "execution_count": 2,
   "metadata": {},
   "outputs": [],
   "source": [
    "x1 = g.V().where(__.values('runways').is_(P.gt(5))).fold().next()\n",
    "x2 = g.V().has('runways',P.gt(5)).fold().next()\n",
    "assert x1 == x2"
   ]
  },
  {
   "cell_type": "markdown",
   "metadata": {},
   "source": [
    "__Airports with more than 60 unique routes from them__"
   ]
  },
  {
   "cell_type": "code",
   "execution_count": 3,
   "metadata": {},
   "outputs": [
    {
     "data": {
      "text/plain": [
       "181"
      ]
     },
     "execution_count": 3,
     "metadata": {},
     "output_type": "execute_result"
    }
   ],
   "source": [
    "g.V().hasLabel('airport').where(__.out('route').count().is_(P.gt(60))).count().next()"
   ]
  },
  {
   "cell_type": "markdown",
   "metadata": {},
   "source": [
    "__Paths from Sydney where the destination has more than 3 runways and the distance is more than 4000__"
   ]
  },
  {
   "cell_type": "code",
   "execution_count": 4,
   "metadata": {
    "scrolled": true
   },
   "outputs": [
    {
     "data": {
      "text/plain": [
       "[['SYD', 7420, 'SFO'],\n",
       " ['SYD', 5073, 'HNL'],\n",
       " ['SYD', 7489, 'LAX'],\n",
       " ['SYD', 8574, 'DFW'],\n",
       " ['SYD', 4855, 'HND']]"
      ]
     },
     "execution_count": 4,
     "metadata": {},
     "output_type": "execute_result"
    }
   ],
   "source": [
    "g.V(sydneyVertexId).outE().and_(__.where(__.inV().has('runways', P.gt(3))), __.values('dist').is_(P.gt(4000))).inV().path().by('code').by('dist').by('code').fold().next()"
   ]
  },
  {
   "cell_type": "markdown",
   "metadata": {},
   "source": [
    "__All the destinations from Sydney airport outside Australia__"
   ]
  },
  {
   "cell_type": "code",
   "execution_count": 5,
   "metadata": {
    "scrolled": true
   },
   "outputs": [
    {
     "data": {
      "text/plain": [
       "[{'country': ['US'], 'city': ['San Francisco'], 'code': ['SFO']},\n",
       " {'country': ['US'], 'city': ['Honolulu'], 'code': ['HNL']},\n",
       " {'country': ['US'], 'city': ['Los Angeles'], 'code': ['LAX']},\n",
       " {'country': ['US'], 'city': ['Dallas'], 'code': ['DFW']},\n",
       " {'country': ['CN'], 'city': ['Beijing'], 'code': ['PEK']},\n",
       " {'country': ['QA'], 'city': ['Doha'], 'code': ['DOH']},\n",
       " {'country': ['HK'], 'city': ['Hong Kong'], 'code': ['HKG']},\n",
       " {'country': ['NZ'], 'city': ['Auckland'], 'code': ['AKL']},\n",
       " {'country': ['TH'], 'city': ['Bankok'], 'code': ['BKK']},\n",
       " {'country': ['CN'], 'city': ['Shanghai'], 'code': ['PVG']},\n",
       " {'country': ['MY'], 'city': ['Kuala Lumpur'], 'code': ['KUL']},\n",
       " {'country': ['JP'], 'city': ['Tokyo'], 'code': ['NRT']},\n",
       " {'country': ['NZ'], 'city': ['Christchurch'], 'code': ['CHC']},\n",
       " {'country': ['VN'], 'city': ['Ho Chi Minh City'], 'code': ['SGN']},\n",
       " {'country': ['CL'], 'city': ['Santiago'], 'code': ['SCL']},\n",
       " {'country': ['ID'], 'city': ['Denpasar'], 'code': ['DPS']},\n",
       " {'country': ['KR'], 'city': ['Seoul'], 'code': ['ICN']},\n",
       " {'country': ['ZA'], 'city': ['Johannesburg'], 'code': ['JNB']},\n",
       " {'country': ['JP'], 'city': ['Tokyo'], 'code': ['HND']},\n",
       " {'country': ['ID'], 'city': ['Jakarta'], 'code': ['CGK']},\n",
       " {'country': ['CN'], 'city': ['Nanjing'], 'code': ['NKG']},\n",
       " {'country': ['CN'], 'city': ['Guangzhou'], 'code': ['CAN']},\n",
       " {'country': ['CA'], 'city': ['Vancouver'], 'code': ['YVR']},\n",
       " {'country': ['AE'], 'city': ['Abu Dhabi'], 'code': ['AUH']},\n",
       " {'country': ['SG'], 'city': ['Singapore'], 'code': ['SIN']},\n",
       " {'country': ['AE'], 'city': ['Dubai'], 'code': ['DXB']},\n",
       " {'country': ['IN'], 'city': ['New Delhi'], 'code': ['DEL']},\n",
       " {'country': ['NZ'], 'city': ['Wellington'], 'code': ['WLG']},\n",
       " {'country': ['PH'], 'city': ['Manila'], 'code': ['MNL']},\n",
       " {'country': ['PG'], 'city': ['Port Moresby'], 'code': ['POM']},\n",
       " {'country': ['TH'], 'city': ['Phuket'], 'code': ['HKT']},\n",
       " {'country': ['VN'], 'city': ['Hanoi'], 'code': ['HAN']},\n",
       " {'country': ['FJ'], 'city': ['Nadi'], 'code': ['NAN']},\n",
       " {'country': ['CN'], 'city': ['Chengdu'], 'code': ['CTU']},\n",
       " {'country': ['TW'], 'city': ['Taipei'], 'code': ['TPE']},\n",
       " {'country': ['CN'], 'city': ['Wuhan'], 'code': ['WUH']},\n",
       " {'country': ['CK'], 'city': ['Avarua'], 'code': ['RAR']},\n",
       " {'country': ['CN'], 'city': ['Xianyang'], 'code': ['XIY']},\n",
       " {'country': ['NC'], 'city': ['Nouméa'], 'code': ['NOU']},\n",
       " {'country': ['TO'], 'city': [\"Nuku'alofa\"], 'code': ['TBU']},\n",
       " {'country': ['VU'], 'city': ['Port Vila'], 'code': ['VLI']},\n",
       " {'country': ['NZ'], 'city': ['Queenstown'], 'code': ['ZQN']},\n",
       " {'country': ['FJ'], 'city': ['Nausori'], 'code': ['SUV']},\n",
       " {'country': ['CN'], 'city': ['Hangzhou'], 'code': ['HGH']},\n",
       " {'country': ['CN'], 'city': ['Changsha'], 'code': ['CSX']},\n",
       " {'country': ['CN'], 'city': ['Kunming'], 'code': ['KMG']},\n",
       " {'country': ['CN'], 'city': ['Chongqing'], 'code': ['CKG']},\n",
       " {'country': ['NF'], 'city': ['Burnt Pine'], 'code': ['NLK']}]"
      ]
     },
     "execution_count": 5,
     "metadata": {},
     "output_type": "execute_result"
    }
   ],
   "source": [
    "x1 = g.V(sydneyVertexId).out().not_(__.where(__.in_('contains').has('code','AU'))).count().next()\n",
    "g.V(sydneyVertexId).out().not_(__.where(__.in_('contains').has('code','AU'))).valueMap('code','city', 'country').fold().next()"
   ]
  },
  {
   "cell_type": "markdown",
   "metadata": {},
   "source": [
    "Could have been done using has neq"
   ]
  },
  {
   "cell_type": "code",
   "execution_count": 6,
   "metadata": {},
   "outputs": [],
   "source": [
    "x2 = g.V(sydneyVertexId).out().has('country', P.neq('AU')).count().next()\n",
    "assert x1 ==  x2"
   ]
  },
  {
   "cell_type": "markdown",
   "metadata": {},
   "source": [
    "And using not has"
   ]
  },
  {
   "cell_type": "code",
   "execution_count": 7,
   "metadata": {},
   "outputs": [],
   "source": [
    "x3 = g.V(sydneyVertexId).out().not_(__.has('country', 'AU')).count().next()\n",
    "assert x2 ==  x3"
   ]
  },
  {
   "cell_type": "markdown",
   "metadata": {},
   "source": [
    "__You can use a special form of \"and\", \"or\" inside where__\n",
    "\n",
    "Destinations out of HK that have more than 4 runways but not 6"
   ]
  },
  {
   "cell_type": "code",
   "execution_count": 8,
   "metadata": {},
   "outputs": [
    {
     "data": {
      "text/plain": [
       "[{'runways': [5], 'code': ['YYZ']},\n",
       " {'runways': [7], 'code': ['DFW']},\n",
       " {'runways': [8], 'code': ['ORD']}]"
      ]
     },
     "execution_count": 8,
     "metadata": {},
     "output_type": "execute_result"
    }
   ],
   "source": [
    "g.V(hkVertexId).out().where(__.values('runways').is_(P.gt(4).and_(P.neq(6)))).valueMap('code','runways').fold().next()"
   ]
  },
  {
   "cell_type": "markdown",
   "metadata": {},
   "source": [
    "Destinations out of HK that have 5 or 6 runways"
   ]
  },
  {
   "cell_type": "code",
   "execution_count": 9,
   "metadata": {},
   "outputs": [
    {
     "data": {
      "text/plain": [
       "[{'runways': [6], 'code': ['BOS']},\n",
       " {'runways': [5], 'code': ['YYZ']},\n",
       " {'runways': [6], 'code': ['AMS']}]"
      ]
     },
     "execution_count": 9,
     "metadata": {},
     "output_type": "execute_result"
    }
   ],
   "source": [
    "g.V(hkVertexId).out().where(__.values('runways').is_(P.eq(5).or_(P.eq(6)))).valueMap('code','runways').fold().next()"
   ]
  },
  {
   "cell_type": "markdown",
   "metadata": {},
   "source": [
    "__Destinations two flights away from HK that do not end up back in HK__"
   ]
  },
  {
   "cell_type": "code",
   "execution_count": 10,
   "metadata": {},
   "outputs": [
    {
     "data": {
      "text/plain": [
       "[['HKG', 'SFO', 'SLC'],\n",
       " ['HKG', 'SFO', 'BWI'],\n",
       " ['HKG', 'SFO', 'ANC'],\n",
       " ['HKG', 'SFO', 'MCO'],\n",
       " ['HKG', 'SFO', 'AUS'],\n",
       " ['HKG', 'SFO', 'BOS'],\n",
       " ['HKG', 'SFO', 'MSP'],\n",
       " ['HKG', 'SFO', 'ATL'],\n",
       " ['HKG', 'SFO', 'BNA'],\n",
       " ['HKG', 'SFO', 'LAS']]"
      ]
     },
     "execution_count": 10,
     "metadata": {},
     "output_type": "execute_result"
    }
   ],
   "source": [
    "g.V(hkVertexId).as_('a').out().out().where(P.neq('a')).path().by('code').limit(10).fold().next()"
   ]
  },
  {
   "cell_type": "code",
   "execution_count": null,
   "metadata": {},
   "outputs": [],
   "source": []
  }
 ],
 "metadata": {
  "kernelspec": {
   "display_name": "Python 3",
   "language": "python",
   "name": "python3"
  },
  "language_info": {
   "codemirror_mode": {
    "name": "ipython",
    "version": 3
   },
   "file_extension": ".py",
   "mimetype": "text/x-python",
   "name": "python",
   "nbconvert_exporter": "python",
   "pygments_lexer": "ipython3",
   "version": "3.6.5"
  }
 },
 "nbformat": 4,
 "nbformat_minor": 2
}
