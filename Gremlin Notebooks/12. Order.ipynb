{
 "cells": [
  {
   "cell_type": "markdown",
   "metadata": {},
   "source": [
    "# 12. Order\n",
    "#### By Kwan Yin Andrew Chau"
   ]
  },
  {
   "cell_type": "code",
   "execution_count": 1,
   "metadata": {},
   "outputs": [],
   "source": [
    "import nbfinder\n",
    "from loader import g\n",
    "from loader import Order\n",
    "from loader import Column\n",
    "from loader import Scope"
   ]
  },
  {
   "cell_type": "markdown",
   "metadata": {},
   "source": [
    "## order()\n",
    "\n",
    "__Get first 20 airports and order them__"
   ]
  },
  {
   "cell_type": "code",
   "execution_count": 2,
   "metadata": {},
   "outputs": [
    {
     "data": {
      "text/plain": [
       "['BID',\n",
       " 'BUC',\n",
       " 'BZV',\n",
       " 'CGQ',\n",
       " 'CIC',\n",
       " 'ESB',\n",
       " 'JFK',\n",
       " 'JOS',\n",
       " 'KKE',\n",
       " 'LCR',\n",
       " 'LMP',\n",
       " 'NSN',\n",
       " 'SDU',\n",
       " 'SOW',\n",
       " 'UPG',\n",
       " 'VFA',\n",
       " 'VHC',\n",
       " 'VIN',\n",
       " 'YLE',\n",
       " 'YLW']"
      ]
     },
     "execution_count": 2,
     "metadata": {},
     "output_type": "execute_result"
    }
   ],
   "source": [
    "g.V().hasLabel('airport').limit(20).values('code').order().fold().next()"
   ]
  },
  {
   "cell_type": "markdown",
   "metadata": {},
   "source": [
    "__Order all airports and then get the first 20__"
   ]
  },
  {
   "cell_type": "code",
   "execution_count": 3,
   "metadata": {},
   "outputs": [
    {
     "data": {
      "text/plain": [
       "['AAE',\n",
       " 'AAL',\n",
       " 'AAN',\n",
       " 'AAQ',\n",
       " 'AAR',\n",
       " 'AAT',\n",
       " 'AAX',\n",
       " 'AAY',\n",
       " 'ABA',\n",
       " 'ABB',\n",
       " 'ABD',\n",
       " 'ABE',\n",
       " 'ABI',\n",
       " 'ABJ',\n",
       " 'ABL',\n",
       " 'ABM',\n",
       " 'ABQ',\n",
       " 'ABR',\n",
       " 'ABS',\n",
       " 'ABT']"
      ]
     },
     "execution_count": 3,
     "metadata": {},
     "output_type": "execute_result"
    }
   ],
   "source": [
    "g.V().hasLabel('airport').order().by('code').limit(20).values('code').fold().next()"
   ]
  },
  {
   "cell_type": "markdown",
   "metadata": {},
   "source": [
    "__The default is ascending order but we can set it to descending__"
   ]
  },
  {
   "cell_type": "code",
   "execution_count": 4,
   "metadata": {
    "scrolled": true
   },
   "outputs": [
    {
     "data": {
      "text/plain": [
       "['ZYL',\n",
       " 'ZYI',\n",
       " 'ZVK',\n",
       " 'ZUM',\n",
       " 'ZUH',\n",
       " 'ZTH',\n",
       " 'ZTB',\n",
       " 'ZSJ',\n",
       " 'ZSE',\n",
       " 'ZSA',\n",
       " 'ZRJ',\n",
       " 'ZRH',\n",
       " 'ZQZ',\n",
       " 'ZQW',\n",
       " 'ZQN',\n",
       " 'ZPB',\n",
       " 'ZOS',\n",
       " 'ZNZ',\n",
       " 'ZNE',\n",
       " 'ZMT']"
      ]
     },
     "execution_count": 4,
     "metadata": {},
     "output_type": "execute_result"
    }
   ],
   "source": [
    "g.V().hasLabel('airport').values('code').order().by(Order.decr).limit(20).fold().next()"
   ]
  },
  {
   "cell_type": "markdown",
   "metadata": {},
   "source": [
    "__Order can also be random__"
   ]
  },
  {
   "cell_type": "code",
   "execution_count": 5,
   "metadata": {},
   "outputs": [
    {
     "data": {
      "text/plain": [
       "['SRX',\n",
       " 'SVK',\n",
       " 'LFT',\n",
       " 'OSS',\n",
       " 'YCS',\n",
       " 'TLN',\n",
       " 'BMI',\n",
       " 'BRR',\n",
       " 'PDT',\n",
       " 'QUO',\n",
       " 'AVV',\n",
       " 'GRR',\n",
       " 'ERL',\n",
       " 'NBW',\n",
       " 'PET',\n",
       " 'YNG',\n",
       " 'RVV',\n",
       " 'AZI',\n",
       " 'HTI',\n",
       " 'LZY']"
      ]
     },
     "execution_count": 5,
     "metadata": {},
     "output_type": "execute_result"
    }
   ],
   "source": [
    "g.V().hasLabel('airport').values('code').order().by(Order.shuffle).limit(20).fold().next()"
   ]
  },
  {
   "cell_type": "markdown",
   "metadata": {},
   "source": [
    "Airports with the most runways in descending order"
   ]
  },
  {
   "cell_type": "code",
   "execution_count": 6,
   "metadata": {},
   "outputs": [
    {
     "data": {
      "text/plain": [
       "[{'code': ['ORD'], 'runways': [8]},\n",
       " {'code': ['DFW'], 'runways': [7]},\n",
       " {'code': ['AMS'], 'runways': [6]},\n",
       " {'code': ['BOS'], 'runways': [6]},\n",
       " {'code': ['DEN'], 'runways': [6]},\n",
       " {'code': ['DTW'], 'runways': [6]},\n",
       " {'code': ['NSN'], 'runways': [5]},\n",
       " {'code': ['GIS'], 'runways': [5]},\n",
       " {'code': ['NPE'], 'runways': [5]},\n",
       " {'code': ['HLZ'], 'runways': [5]}]"
      ]
     },
     "execution_count": 6,
     "metadata": {},
     "output_type": "execute_result"
    }
   ],
   "source": [
    "g.V().hasLabel('airport').order().by('runways',Order.decr).valueMap().select('code','runways').limit(10).fold().next()"
   ]
  },
  {
   "cell_type": "markdown",
   "metadata": {},
   "source": [
    "__Order by the key field in a key:value pair__\n",
    "\n",
    "\"local\" orders the list as it is constructed instead of the final result (which is treated as a single entity)"
   ]
  },
  {
   "cell_type": "code",
   "execution_count": 7,
   "metadata": {},
   "outputs": [
    {
     "data": {
      "text/plain": [
       "{'CIC': [2], 'JOS': [1], 'NSN': [5], 'SDU': [2], 'VHC': [1]}"
      ]
     },
     "execution_count": 7,
     "metadata": {},
     "output_type": "execute_result"
    }
   ],
   "source": [
    "g.V().hasLabel('airport').limit(5).group().by('code').by('runways').order(Scope.local).by(Column.keys,Order.incr).next()"
   ]
  },
  {
   "cell_type": "markdown",
   "metadata": {},
   "source": [
    "Without \"local\""
   ]
  },
  {
   "cell_type": "code",
   "execution_count": 8,
   "metadata": {},
   "outputs": [
    {
     "data": {
      "text/plain": [
       "{'VHC': [1], 'NSN': [5], 'CIC': [2], 'SDU': [2], 'JOS': [1]}"
      ]
     },
     "execution_count": 8,
     "metadata": {},
     "output_type": "execute_result"
    }
   ],
   "source": [
    "g.V().hasLabel('airport').limit(5).group().by('code').by('runways').order().by(Column.keys,Order.incr).next()"
   ]
  },
  {
   "cell_type": "markdown",
   "metadata": {},
   "source": [
    "Without \"group\""
   ]
  },
  {
   "cell_type": "code",
   "execution_count": 9,
   "metadata": {},
   "outputs": [
    {
     "data": {
      "text/plain": [
       "{'VHC': [1], 'NSN': [5], 'CIC': [2], 'SDU': [2], 'JOS': [1]}"
      ]
     },
     "execution_count": 9,
     "metadata": {},
     "output_type": "execute_result"
    }
   ],
   "source": [
    "g.V().hasLabel('airport').limit(5).group().by('code').by('runways').next()"
   ]
  }
 ],
 "metadata": {
  "kernelspec": {
   "display_name": "Python 3",
   "language": "python",
   "name": "python3"
  },
  "language_info": {
   "codemirror_mode": {
    "name": "ipython",
    "version": 3
   },
   "file_extension": ".py",
   "mimetype": "text/x-python",
   "name": "python",
   "nbconvert_exporter": "python",
   "pygments_lexer": "ipython3",
   "version": "3.6.5"
  }
 },
 "nbformat": 4,
 "nbformat_minor": 2
}
