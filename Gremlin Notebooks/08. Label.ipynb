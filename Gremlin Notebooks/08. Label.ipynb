{
 "cells": [
  {
   "cell_type": "markdown",
   "metadata": {},
   "source": [
    "# 8. Label\n",
    "#### By Kwan Yin Andrew Chau"
   ]
  },
  {
   "cell_type": "code",
   "execution_count": 1,
   "metadata": {},
   "outputs": [],
   "source": [
    "import nbfinder\n",
    "from loader import g\n",
    "from loader import T\n",
    "from loader import P\n",
    "from loader import __\n",
    "from loader import hkVertexId"
   ]
  },
  {
   "cell_type": "markdown",
   "metadata": {},
   "source": [
    "Note that it is better to query with an actual property in large graphs. It is faster and search indexes may not index the label.\n",
    "\n",
    "## label()\n",
    "__Get the vertex or edge label__"
   ]
  },
  {
   "cell_type": "code",
   "execution_count": 2,
   "metadata": {},
   "outputs": [
    {
     "data": {
      "text/plain": [
       "'airport'"
      ]
     },
     "execution_count": 2,
     "metadata": {},
     "output_type": "execute_result"
    }
   ],
   "source": [
    "g.V(hkVertexId).label().next()"
   ]
  },
  {
   "cell_type": "markdown",
   "metadata": {},
   "source": [
    "__Get the airport vertices that the country vertex Australia has a \"contain\" route for__"
   ]
  },
  {
   "cell_type": "code",
   "execution_count": 3,
   "metadata": {
    "scrolled": true
   },
   "outputs": [
    {
     "data": {
      "text/plain": [
       "['Brisbane International Airport',\n",
       " 'Melbourne International Airport',\n",
       " 'Sydney Kingsford Smith',\n",
       " 'Perth International Airport',\n",
       " 'Canberra International Airport',\n",
       " 'Darwin International Airport',\n",
       " 'Gold Coast Airport',\n",
       " 'Ayers Rock Connellan Airport',\n",
       " 'Adelaide International Airport',\n",
       " 'Alice Springs Airport']"
      ]
     },
     "execution_count": 3,
     "metadata": {},
     "output_type": "execute_result"
    }
   ],
   "source": [
    "a = g.V().hasLabel('country').has('code','AU').out('contains').limit(10).\\\n",
    "    values('desc').fold().next()\n",
    "a"
   ]
  },
  {
   "cell_type": "markdown",
   "metadata": {},
   "source": [
    "Equivalent to"
   ]
  },
  {
   "cell_type": "code",
   "execution_count": 4,
   "metadata": {},
   "outputs": [],
   "source": [
    "b = g.V().has('country','code','AU').out('contains').limit(10).\\\n",
    "    values('desc').fold().next()\n",
    "assert a == b"
   ]
  },
  {
   "cell_type": "markdown",
   "metadata": {},
   "source": [
    "__Checking the label is equal to airport__"
   ]
  },
  {
   "cell_type": "code",
   "execution_count": 5,
   "metadata": {},
   "outputs": [
    {
     "data": {
      "text/plain": [
       "3374"
      ]
     },
     "execution_count": 5,
     "metadata": {},
     "output_type": "execute_result"
    }
   ],
   "source": [
    "a = g.V().where(__.label().is_(P.eq('airport'))).count().next()\n",
    "b = g.V().hasLabel('airport').count().next()\n",
    "assert a == b\n",
    "a"
   ]
  },
  {
   "cell_type": "markdown",
   "metadata": {},
   "source": [
    "__Checking how many non-airport vertices there are__"
   ]
  },
  {
   "cell_type": "code",
   "execution_count": 6,
   "metadata": {},
   "outputs": [
    {
     "data": {
      "text/plain": [
       "245"
      ]
     },
     "execution_count": 6,
     "metadata": {},
     "output_type": "execute_result"
    }
   ],
   "source": [
    "a = g.V().has(T.label, P.neq('airport')).count().next()\n",
    "b = g.V().where(__.label().is_(P.neq('airport'))).count().next()\n",
    "c = g.V().not_(__.hasLabel('airport')).count()\n",
    "a == b\n",
    "b == c\n",
    "a"
   ]
  },
  {
   "cell_type": "markdown",
   "metadata": {},
   "source": [
    "__The same concepts apply to edges__"
   ]
  },
  {
   "cell_type": "code",
   "execution_count": 7,
   "metadata": {},
   "outputs": [
    {
     "data": {
      "text/plain": [
       "6748"
      ]
     },
     "execution_count": 7,
     "metadata": {},
     "output_type": "execute_result"
    }
   ],
   "source": [
    "a = g.E().has(T.label, P.neq('route')).count().next()\n",
    "b = g.E().where(__.label().is_(P.neq('route'))).count().next()\n",
    "c = g.E().not_(__.hasLabel('route')).count()\n",
    "a == b\n",
    "b == c\n",
    "a"
   ]
  },
  {
   "cell_type": "markdown",
   "metadata": {},
   "source": [
    "__Provide more than one label in a step__"
   ]
  },
  {
   "cell_type": "code",
   "execution_count": 8,
   "metadata": {},
   "outputs": [
    {
     "data": {
      "text/plain": [
       "[e[{'@type': 'janusgraph:RelationIdentifier', '@value': {'relationId': '5hdlb-ztko-dg5-7460'}}][1671288-route->331992],\n",
       " e[{'@type': 'janusgraph:RelationIdentifier', '@value': {'relationId': '5hdzj-ztko-dg5-e1ps'}}][1671288-route->655408],\n",
       " e[{'@type': 'janusgraph:RelationIdentifier', '@value': {'relationId': '5p24m-1s01c-f11-5pgw'}}][2986032-contains->266288],\n",
       " e[{'@type': 'janusgraph:RelationIdentifier', '@value': {'relationId': '5qhhi-1s01c-f11-aj9k'}}][2986032-contains->491528],\n",
       " e[{'@type': 'janusgraph:RelationIdentifier', '@value': {'relationId': '5qj2e-1s01c-f11-aw0o'}}][2986032-contains->508056],\n",
       " e[{'@type': 'janusgraph:RelationIdentifier', '@value': {'relationId': '5qio6-1s01c-f11-b8oo'}}][2986032-contains->524472],\n",
       " e[{'@type': 'janusgraph:RelationIdentifier', '@value': {'relationId': '5sgli-1s01c-f11-hdts'}}][2986032-contains->811072],\n",
       " e[{'@type': 'janusgraph:RelationIdentifier', '@value': {'relationId': '5sg7a-1s01c-f11-hwuw'}}][2986032-contains->835736],\n",
       " e[{'@type': 'janusgraph:RelationIdentifier', '@value': {'relationId': '5shdy-1s01c-f11-i02g'}}][2986032-contains->839896],\n",
       " e[{'@type': 'janusgraph:RelationIdentifier', '@value': {'relationId': '5sft2-1s01c-f11-j1u0'}}][2986032-contains->888840]]"
      ]
     },
     "execution_count": 8,
     "metadata": {},
     "output_type": "execute_result"
    }
   ],
   "source": [
    "g.E().hasLabel('route','contains').limit(10).fold().next()"
   ]
  }
 ],
 "metadata": {
  "kernelspec": {
   "display_name": "Python 3",
   "language": "python",
   "name": "python3"
  },
  "language_info": {
   "codemirror_mode": {
    "name": "ipython",
    "version": 3
   },
   "file_extension": ".py",
   "mimetype": "text/x-python",
   "name": "python",
   "nbconvert_exporter": "python",
   "pygments_lexer": "ipython3",
   "version": "3.6.5"
  }
 },
 "nbformat": 4,
 "nbformat_minor": 2
}
