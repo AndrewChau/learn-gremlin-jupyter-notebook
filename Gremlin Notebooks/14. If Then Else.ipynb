{
 "cells": [
  {
   "cell_type": "markdown",
   "metadata": {},
   "source": [
    "# 14. If Then Else\n",
    "#### By Kwan Yin Andrew Chau"
   ]
  },
  {
   "cell_type": "code",
   "execution_count": 1,
   "metadata": {},
   "outputs": [],
   "source": [
    "import nbfinder\n",
    "import random\n",
    "from loader import g\n",
    "from loader import __\n",
    "from loader import P\n",
    "from loader import Column\n",
    "from loader import sydneyVertexId\n",
    "from loader import hkVertexId"
   ]
  },
  {
   "cell_type": "markdown",
   "metadata": {},
   "source": [
    "## choose()\n",
    "\n",
    "__If an airport in NSW has a runway > 12,000 feet return its code else return its description__"
   ]
  },
  {
   "cell_type": "code",
   "execution_count": 2,
   "metadata": {},
   "outputs": [
    {
     "data": {
      "text/plain": [
       "['Tamworth Airport',\n",
       " 'Port Macquarie Airport',\n",
       " 'Lismore Airport',\n",
       " 'Wagga Wagga City Airport',\n",
       " 'Moruya Airport',\n",
       " 'Albury Airport',\n",
       " 'Taree Airport',\n",
       " 'Merimbula Airport',\n",
       " 'Parkes Airport',\n",
       " 'Coffs Harbour Airport',\n",
       " 'Narrandera Airport',\n",
       " 'Griffith Airport',\n",
       " 'SYD',\n",
       " 'Narrabri Airport',\n",
       " 'Lord Howe Island Airport',\n",
       " 'Sydney Bankstown Airport',\n",
       " 'Bathurst Airport',\n",
       " 'Orange Airport',\n",
       " 'Gold Coast Airport',\n",
       " 'Grafton Airport',\n",
       " 'Ballina Byron Gateway Airport',\n",
       " 'Newcastle Airport',\n",
       " 'Moree Airport',\n",
       " 'Broken Hill Airport',\n",
       " 'Dubbo City Regional Airport',\n",
       " 'Armidale Airport']"
      ]
     },
     "execution_count": 2,
     "metadata": {},
     "output_type": "execute_result"
    }
   ],
   "source": [
    "g.V().hasLabel('airport').has('region','AU-NSW').choose(__.values('longest').is_(P.gt(12000)), __.values('code'), __.values('desc')).fold().next()"
   ]
  },
  {
   "cell_type": "markdown",
   "metadata": {},
   "source": [
    "__If an airport in NSW has a code of SYD or BWU report its desc else report its code__"
   ]
  },
  {
   "cell_type": "code",
   "execution_count": 27,
   "metadata": {},
   "outputs": [
    {
     "data": {
      "text/plain": [
       "['TMW',\n",
       " 'PQQ',\n",
       " 'LSY',\n",
       " 'WGA',\n",
       " 'MYA',\n",
       " 'ABX',\n",
       " 'TRO',\n",
       " 'MIM',\n",
       " 'PKE',\n",
       " 'CFS',\n",
       " 'NRA',\n",
       " 'GFF',\n",
       " 'Sydney Kingsford Smith',\n",
       " 'NAA',\n",
       " 'LDH',\n",
       " 'Sydney Bankstown Airport',\n",
       " 'BHS',\n",
       " 'OAG',\n",
       " 'OOL',\n",
       " 'GFN',\n",
       " 'BNK',\n",
       " 'NTL',\n",
       " 'MRZ',\n",
       " 'BHQ',\n",
       " 'DBO',\n",
       " 'ARM']"
      ]
     },
     "execution_count": 27,
     "metadata": {},
     "output_type": "execute_result"
    }
   ],
   "source": [
    "g.V().hasLabel('airport').has('region','AU-NSW').choose(__.values('code').is_(P.within('SYD','BWU')), __.values('desc'), __.values('code')).fold().next()"
   ]
  },
  {
   "cell_type": "markdown",
   "metadata": {},
   "source": [
    "## constant()\n",
    "\n",
    "__Return \"some\" if the airport has less than 4 runways and \"lots\" if more__"
   ]
  },
  {
   "cell_type": "code",
   "execution_count": 4,
   "metadata": {},
   "outputs": [
    {
     "data": {
      "text/plain": [
       "['lots',\n",
       " 'some',\n",
       " 'some',\n",
       " 'some',\n",
       " 'some',\n",
       " 'some',\n",
       " 'some',\n",
       " 'some',\n",
       " 'some',\n",
       " 'some']"
      ]
     },
     "execution_count": 4,
     "metadata": {},
     "output_type": "execute_result"
    }
   ],
   "source": [
    "g.V().hasLabel('airport').limit(10).choose(__.values('runways').is_(P.lt(4)), __.constant('some'), __.constant('lots')).fold().next()"
   ]
  },
  {
   "cell_type": "markdown",
   "metadata": {},
   "source": [
    "__Return \"some\" or \"lots\" depending on whether the airport has more than 50 routes out of it__"
   ]
  },
  {
   "cell_type": "code",
   "execution_count": 18,
   "metadata": {},
   "outputs": [
    {
     "data": {
      "text/plain": [
       "[{'a': 'Makemo Airport', 'b': 1, 'c': 'some'},\n",
       " {'a': 'Chernivtsi International Airport', 'b': 2, 'c': 'some'},\n",
       " {'a': 'Kangirsuk Airport', 'b': 3, 'c': 'some'},\n",
       " {'a': 'Gainesville Regional Airport', 'b': 5, 'c': 'some'},\n",
       " {'a': 'Almirante Marco Andres Zar Airport', 'b': 7, 'c': 'some'},\n",
       " {'a': 'Batticaloa Airport', 'b': 1, 'c': 'some'},\n",
       " {'a': 'Baltimore/Washington International Airport', 'b': 89, 'c': 'lots'},\n",
       " {'a': 'Erie International Tom Ridge Field', 'b': 4, 'c': 'some'},\n",
       " {'a': 'Jersey Airport', 'b': 30, 'c': 'some'},\n",
       " {'a': 'Ouzinkie Airport', 'b': 2, 'c': 'some'}]"
      ]
     },
     "execution_count": 18,
     "metadata": {},
     "output_type": "execute_result"
    }
   ],
   "source": [
    "g.V().hasLabel('airport').sample(10).as_('a', 'b').choose(__.out('route').count().is_(P.gt(50)), __.constant('lots'), __.constant('some')).as_('c').select('a','b','c').by('desc').by(__.out('route').count()).by().fold().next()"
   ]
  },
  {
   "cell_type": "markdown",
   "metadata": {},
   "source": [
    ".select(values) is able to remove the \"a\" and \"b\" keys of the results"
   ]
  },
  {
   "cell_type": "code",
   "execution_count": 15,
   "metadata": {},
   "outputs": [
    {
     "data": {
      "text/plain": [
       "[{'a': 1, 'c': 'some'},\n",
       " {'a': 39, 'c': 'some'},\n",
       " {'a': 2, 'c': 'some'},\n",
       " {'a': 1, 'c': 'some'},\n",
       " {'a': 20, 'c': 'some'},\n",
       " {'a': 48, 'c': 'some'},\n",
       " {'a': 37, 'c': 'some'},\n",
       " {'a': 10, 'c': 'some'},\n",
       " {'a': 2, 'c': 'some'},\n",
       " {'a': 1, 'c': 'some'},\n",
       " {'a': 91, 'c': 'lots'},\n",
       " {'a': 2, 'c': 'some'},\n",
       " {'a': 5, 'c': 'some'},\n",
       " {'a': 2, 'c': 'some'},\n",
       " {'a': 63, 'c': 'lots'},\n",
       " {'a': 2, 'c': 'some'},\n",
       " {'a': 7, 'c': 'some'},\n",
       " {'a': 1, 'c': 'some'},\n",
       " {'a': 14, 'c': 'some'},\n",
       " {'a': 1, 'c': 'some'}]"
      ]
     },
     "execution_count": 15,
     "metadata": {},
     "output_type": "execute_result"
    }
   ],
   "source": [
    "g.V().hasLabel('airport').limit(20).as_('a', 'b').choose(__.out('route').count().is_(P.gt(50)), __.constant('lots'), __.constant('some')).as_('c').select('a','b','c').by('desc').by(__.out('route').count()).by().fold().next()"
   ]
  },
  {
   "cell_type": "code",
   "execution_count": null,
   "metadata": {},
   "outputs": [],
   "source": [
    "3.16"
   ]
  }
 ],
 "metadata": {
  "kernelspec": {
   "display_name": "Python 3",
   "language": "python",
   "name": "python3"
  },
  "language_info": {
   "codemirror_mode": {
    "name": "ipython",
    "version": 3
   },
   "file_extension": ".py",
   "mimetype": "text/x-python",
   "name": "python",
   "nbconvert_exporter": "python",
   "pygments_lexer": "ipython3",
   "version": "3.6.6"
  }
 },
 "nbformat": 4,
 "nbformat_minor": 2
}
