{
 "cells": [
  {
   "cell_type": "markdown",
   "metadata": {},
   "source": [
    "# 1. V, Has, HasLabel, HasId,ValueMap, Values, Unfold, Fold, HasNot, Not\n",
    "#### By Kwan Yin Andrew Chau"
   ]
  },
  {
   "cell_type": "code",
   "execution_count": 1,
   "metadata": {},
   "outputs": [],
   "source": [
    "import nbfinder\n",
    "from loader import g\n",
    "from loader import T\n",
    "from loader import __\n",
    "from loader import hkVertexId\n",
    "from loader import sydneyVertexId"
   ]
  },
  {
   "cell_type": "markdown",
   "metadata": {},
   "source": [
    "## has(), hasLabel()\n",
    "\n",
    "__Vertex that has label airport and code \"DFW\"__"
   ]
  },
  {
   "cell_type": "code",
   "execution_count": 2,
   "metadata": {},
   "outputs": [
    {
     "data": {
      "text/plain": [
       "v[28712]"
      ]
     },
     "execution_count": 2,
     "metadata": {},
     "output_type": "execute_result"
    }
   ],
   "source": [
    "x = g.V().hasLabel('airport').has('code', 'SYD').next()\n",
    "assert x.id == sydneyVertexId\n",
    "x"
   ]
  },
  {
   "cell_type": "markdown",
   "metadata": {},
   "source": [
    "Equivalent to"
   ]
  },
  {
   "cell_type": "code",
   "execution_count": 3,
   "metadata": {},
   "outputs": [],
   "source": [
    "x = g.V().has('airport', 'code', 'SYD').next().id\n",
    "assert x == sydneyVertexId"
   ]
  },
  {
   "cell_type": "markdown",
   "metadata": {},
   "source": [
    "__Access vertex using id__"
   ]
  },
  {
   "cell_type": "code",
   "execution_count": 4,
   "metadata": {},
   "outputs": [
    {
     "data": {
      "text/plain": [
       "v[32776]"
      ]
     },
     "execution_count": 4,
     "metadata": {},
     "output_type": "execute_result"
    }
   ],
   "source": [
    "x = g.V(hkVertexId).next()\n",
    "assert x.id == hkVertexId\n",
    "x"
   ]
  },
  {
   "cell_type": "code",
   "execution_count": 19,
   "metadata": {},
   "outputs": [
    {
     "ename": "StopIteration",
     "evalue": "",
     "output_type": "error",
     "traceback": [
      "\u001b[0;31m---------------------------------------------------------------------------\u001b[0m",
      "\u001b[0;31mStopIteration\u001b[0m                             Traceback (most recent call last)",
      "\u001b[0;32m<ipython-input-19-874f82fb73dc>\u001b[0m in \u001b[0;36m<module>\u001b[0;34m()\u001b[0m\n\u001b[0;32m----> 1\u001b[0;31m \u001b[0mx\u001b[0m \u001b[0;34m=\u001b[0m \u001b[0mg\u001b[0m\u001b[0;34m.\u001b[0m\u001b[0mV\u001b[0m\u001b[0;34m(\u001b[0m\u001b[0;34m)\u001b[0m\u001b[0;34m.\u001b[0m\u001b[0mhas\u001b[0m\u001b[0;34m(\u001b[0m\u001b[0;34m'airport'\u001b[0m\u001b[0;34m,\u001b[0m \u001b[0;34m'code'\u001b[0m\u001b[0;34m,\u001b[0m \u001b[0;34m[\u001b[0m\u001b[0;34m'HKG'\u001b[0m\u001b[0;34m,\u001b[0m\u001b[0;34m'SYD'\u001b[0m\u001b[0;34m]\u001b[0m\u001b[0;34m)\u001b[0m\u001b[0;34m.\u001b[0m\u001b[0mnext\u001b[0m\u001b[0;34m(\u001b[0m\u001b[0;34m)\u001b[0m\u001b[0;34m\u001b[0m\u001b[0m\n\u001b[0m\u001b[1;32m      2\u001b[0m \u001b[0mx\u001b[0m\u001b[0;34m\u001b[0m\u001b[0m\n",
      "\u001b[0;32m/usr/local/lib/python3.6/site-packages/gremlin_python/process/traversal.py\u001b[0m in \u001b[0;36mnext\u001b[0;34m(self, amount)\u001b[0m\n\u001b[1;32m     68\u001b[0m     \u001b[0;32mdef\u001b[0m \u001b[0mnext\u001b[0m\u001b[0;34m(\u001b[0m\u001b[0mself\u001b[0m\u001b[0;34m,\u001b[0m \u001b[0mamount\u001b[0m\u001b[0;34m=\u001b[0m\u001b[0;32mNone\u001b[0m\u001b[0;34m)\u001b[0m\u001b[0;34m:\u001b[0m\u001b[0;34m\u001b[0m\u001b[0m\n\u001b[1;32m     69\u001b[0m         \u001b[0;32mif\u001b[0m \u001b[0mamount\u001b[0m \u001b[0;32mis\u001b[0m \u001b[0;32mNone\u001b[0m\u001b[0;34m:\u001b[0m\u001b[0;34m\u001b[0m\u001b[0m\n\u001b[0;32m---> 70\u001b[0;31m             \u001b[0;32mreturn\u001b[0m \u001b[0mself\u001b[0m\u001b[0;34m.\u001b[0m\u001b[0m__next__\u001b[0m\u001b[0;34m(\u001b[0m\u001b[0;34m)\u001b[0m\u001b[0;34m\u001b[0m\u001b[0m\n\u001b[0m\u001b[1;32m     71\u001b[0m         \u001b[0;32melse\u001b[0m\u001b[0;34m:\u001b[0m\u001b[0;34m\u001b[0m\u001b[0m\n\u001b[1;32m     72\u001b[0m             \u001b[0mcount\u001b[0m \u001b[0;34m=\u001b[0m \u001b[0;36m0\u001b[0m\u001b[0;34m\u001b[0m\u001b[0m\n",
      "\u001b[0;32m/usr/local/lib/python3.6/site-packages/gremlin_python/process/traversal.py\u001b[0m in \u001b[0;36m__next__\u001b[0;34m(self)\u001b[0m\n\u001b[1;32m     43\u001b[0m             \u001b[0mself\u001b[0m\u001b[0;34m.\u001b[0m\u001b[0mtraversal_strategies\u001b[0m\u001b[0;34m.\u001b[0m\u001b[0mapply_strategies\u001b[0m\u001b[0;34m(\u001b[0m\u001b[0mself\u001b[0m\u001b[0;34m)\u001b[0m\u001b[0;34m\u001b[0m\u001b[0m\n\u001b[1;32m     44\u001b[0m         \u001b[0;32mif\u001b[0m \u001b[0mself\u001b[0m\u001b[0;34m.\u001b[0m\u001b[0mlast_traverser\u001b[0m \u001b[0;32mis\u001b[0m \u001b[0;32mNone\u001b[0m\u001b[0;34m:\u001b[0m\u001b[0;34m\u001b[0m\u001b[0m\n\u001b[0;32m---> 45\u001b[0;31m             \u001b[0mself\u001b[0m\u001b[0;34m.\u001b[0m\u001b[0mlast_traverser\u001b[0m \u001b[0;34m=\u001b[0m \u001b[0mnext\u001b[0m\u001b[0;34m(\u001b[0m\u001b[0mself\u001b[0m\u001b[0;34m.\u001b[0m\u001b[0mtraversers\u001b[0m\u001b[0;34m)\u001b[0m\u001b[0;34m\u001b[0m\u001b[0m\n\u001b[0m\u001b[1;32m     46\u001b[0m         \u001b[0mobject\u001b[0m \u001b[0;34m=\u001b[0m \u001b[0mself\u001b[0m\u001b[0;34m.\u001b[0m\u001b[0mlast_traverser\u001b[0m\u001b[0;34m.\u001b[0m\u001b[0mobject\u001b[0m\u001b[0;34m\u001b[0m\u001b[0m\n\u001b[1;32m     47\u001b[0m         \u001b[0mself\u001b[0m\u001b[0;34m.\u001b[0m\u001b[0mlast_traverser\u001b[0m\u001b[0;34m.\u001b[0m\u001b[0mbulk\u001b[0m \u001b[0;34m=\u001b[0m \u001b[0mself\u001b[0m\u001b[0;34m.\u001b[0m\u001b[0mlast_traverser\u001b[0m\u001b[0;34m.\u001b[0m\u001b[0mbulk\u001b[0m \u001b[0;34m-\u001b[0m \u001b[0;36m1\u001b[0m\u001b[0;34m\u001b[0m\u001b[0m\n",
      "\u001b[0;31mStopIteration\u001b[0m: "
     ]
    }
   ],
   "source": [
    "x = g.V().hasLabel('airport').has('code', ['SYD').next()\n",
    "assert x.id == sydneyVertexId\n",
    "x"
   ]
  },
  {
   "cell_type": "markdown",
   "metadata": {},
   "source": [
    "## hasId()\n",
    "__Finding vertex with ID__"
   ]
  },
  {
   "cell_type": "code",
   "execution_count": 5,
   "metadata": {},
   "outputs": [],
   "source": [
    "x = g.V().hasId(hkVertexId).next()\n",
    "assert x.id == hkVertexId"
   ]
  },
  {
   "cell_type": "markdown",
   "metadata": {},
   "source": [
    "Equivalent to"
   ]
  },
  {
   "cell_type": "code",
   "execution_count": 6,
   "metadata": {},
   "outputs": [],
   "source": [
    "x = g.V().has(T.id, hkVertexId).next()\n",
    "assert x.id == hkVertexId"
   ]
  },
  {
   "cell_type": "markdown",
   "metadata": {},
   "source": [
    "## valueMap(), values()\n",
    "\n",
    "__Get a map of all the vertex values__\n",
    "\n",
    "The true parameter is to include the 'id'"
   ]
  },
  {
   "cell_type": "code",
   "execution_count": 7,
   "metadata": {},
   "outputs": [
    {
     "data": {
      "text/plain": [
       "{'country': ['HK'],\n",
       " 'code': ['HKG'],\n",
       " 'longest': [12467],\n",
       " 'city': ['Hong Kong'],\n",
       " <T.id: 1>: 32776,\n",
       " 'lon': [113.915000916],\n",
       " 'type': ['airport'],\n",
       " <T.label: 3>: 'airport',\n",
       " 'elev': [28],\n",
       " 'icao': ['VHHH'],\n",
       " 'region': ['HK'],\n",
       " 'runways': [2],\n",
       " 'lat': [22.3089008331],\n",
       " 'desc': ['Hong Kong - Chek Lap Kok International Airport']}"
      ]
     },
     "execution_count": 7,
     "metadata": {},
     "output_type": "execute_result"
    }
   ],
   "source": [
    "g.V(hkVertexId).valueMap(True).next()"
   ]
  },
  {
   "cell_type": "markdown",
   "metadata": {},
   "source": [
    "## count()\n",
    "\n",
    "__Count of all the airports__"
   ]
  },
  {
   "cell_type": "code",
   "execution_count": 8,
   "metadata": {},
   "outputs": [
    {
     "data": {
      "text/plain": [
       "3374"
      ]
     },
     "execution_count": 8,
     "metadata": {},
     "output_type": "execute_result"
    }
   ],
   "source": [
    "g.V().hasLabel('airport').count().next()"
   ]
  },
  {
   "cell_type": "markdown",
   "metadata": {},
   "source": [
    "## unfold(), fold()\n",
    "\n",
    "__Separate the map__"
   ]
  },
  {
   "cell_type": "code",
   "execution_count": 9,
   "metadata": {},
   "outputs": [
    {
     "name": "stdout",
     "output_type": "stream",
     "text": [
      "{'country': ['HK']}\n",
      "{'code': ['HKG']}\n",
      "{'longest': [12467]}\n",
      "{'city': ['Hong Kong']}\n",
      "{'elev': [28]}\n",
      "{'icao': ['VHHH']}\n",
      "{'lon': [113.915000916]}\n",
      "{'type': ['airport']}\n",
      "{'region': ['HK']}\n",
      "{'runways': [2]}\n",
      "{'lat': [22.3089008331]}\n",
      "{'desc': ['Hong Kong - Chek Lap Kok International Airport']}\n"
     ]
    }
   ],
   "source": [
    "results = g.V(hkVertexId).valueMap().unfold()\n",
    "count = g.V(hkVertexId).values().count().next()\n",
    "for c in range(count):\n",
    "  print(results.next())"
   ]
  },
  {
   "cell_type": "markdown",
   "metadata": {},
   "source": [
    "Fold it back together"
   ]
  },
  {
   "cell_type": "code",
   "execution_count": 10,
   "metadata": {},
   "outputs": [
    {
     "data": {
      "text/plain": [
       "[{'country': ['HK']},\n",
       " {'code': ['HKG']},\n",
       " {'longest': [12467]},\n",
       " {'city': ['Hong Kong']},\n",
       " {'elev': [28]},\n",
       " {'icao': ['VHHH']},\n",
       " {'lon': [113.915000916]},\n",
       " {'type': ['airport']},\n",
       " {'region': ['HK']},\n",
       " {'runways': [2]},\n",
       " {'lat': [22.3089008331]},\n",
       " {'desc': ['Hong Kong - Chek Lap Kok International Airport']}]"
      ]
     },
     "execution_count": 10,
     "metadata": {},
     "output_type": "execute_result"
    }
   ],
   "source": [
    "g.V(hkVertexId).valueMap().unfold().fold().next()"
   ]
  },
  {
   "cell_type": "markdown",
   "metadata": {},
   "source": [
    "__Return the 'desc' and 'runways' property values__"
   ]
  },
  {
   "cell_type": "code",
   "execution_count": 11,
   "metadata": {},
   "outputs": [
    {
     "name": "stdout",
     "output_type": "stream",
     "text": [
      "Hong Kong - Chek Lap Kok International Airport airport has 2 runways...\n"
     ]
    }
   ],
   "source": [
    "x = g.V(hkVertexId).values('desc', 'runways')\n",
    "print(f'{x.next()} airport has {x.next()} runways...')"
   ]
  },
  {
   "cell_type": "markdown",
   "metadata": {},
   "source": [
    "Values on vertex can be a list but not on edge\n",
    "\n",
    "## hasNot(), not()\n",
    "\n",
    "__Get vertices that do not have property 'region'__"
   ]
  },
  {
   "cell_type": "code",
   "execution_count": 12,
   "metadata": {},
   "outputs": [
    {
     "name": "stdout",
     "output_type": "stream",
     "text": [
      "{'type': ['country'], 'code': ['RO'], 'desc': ['Romania']}\n",
      "{'type': ['country'], 'code': ['MG'], 'desc': ['Madagascar']}\n",
      "{'type': ['country'], 'code': ['PY'], 'desc': ['Paraguay']}\n",
      "{'type': ['country'], 'code': ['IQ'], 'desc': ['Iraq']}\n",
      "{'type': ['country'], 'code': ['NF'], 'desc': ['Norfolk Island']}\n",
      "{'type': ['country'], 'code': ['VI'], 'desc': ['Virgin Islands (US)']}\n",
      "{'type': ['country'], 'code': ['CG'], 'desc': ['Congo']}\n",
      "{'type': ['country'], 'code': ['ZM'], 'desc': ['Zambia']}\n",
      "{'type': ['country'], 'code': ['BI'], 'desc': ['Burundi']}\n",
      "{'type': ['country'], 'code': ['KM'], 'desc': ['Comoros']}\n",
      "{'type': ['country'], 'code': ['PT'], 'desc': ['Portugal']}\n",
      "{'type': ['country'], 'code': ['CV'], 'desc': ['Cabo Verde']}\n",
      "{'type': ['country'], 'code': ['KR'], 'desc': ['Republic of Korea']}\n",
      "{'type': ['country'], 'code': ['NG'], 'desc': ['Nigeria']}\n",
      "{'type': ['country'], 'code': ['AM'], 'desc': ['Armenia']}\n",
      "{'type': ['country'], 'code': ['KP'], 'desc': [\"Democratic People's Republic of Korea\"]}\n",
      "{'type': ['version'], 'code': ['0.77'], 'desc': ['Version: 0.77 Generated: 2017-10-06 16:24:40 UTC\\nGraph created by Kelvin R. Lawrence\\nPlease let me know of any errors you find in the graph.']}\n",
      "{'type': ['country'], 'code': ['BR'], 'desc': ['Brazil']}\n",
      "{'type': ['country'], 'code': ['KN'], 'desc': ['Saint Kitts and Nevis']}\n",
      "{'type': ['country'], 'code': ['NI'], 'desc': ['Nicaragua']}\n",
      "{'type': ['country'], 'code': ['EE'], 'desc': ['Estonia']}\n",
      "{'type': ['country'], 'code': ['SA'], 'desc': ['Saudi Arabia']}\n",
      "{'type': ['country'], 'code': ['YE'], 'desc': ['Yemen']}\n",
      "{'type': ['country'], 'code': ['PK'], 'desc': ['Pakistan']}\n",
      "{'type': ['country'], 'code': ['ES'], 'desc': ['Spain']}\n",
      "{'type': ['country'], 'code': ['LI'], 'desc': ['Liechtenstein']}\n",
      "{'type': ['country'], 'code': ['HN'], 'desc': ['Honduras']}\n",
      "{'type': ['country'], 'code': ['LK'], 'desc': ['Sri Lanka']}\n",
      "{'type': ['country'], 'code': ['KW'], 'desc': ['Kuwait']}\n",
      "{'type': ['country'], 'code': ['TD'], 'desc': ['Chad']}\n",
      "{'type': ['country'], 'code': ['CH'], 'desc': ['Switzerland']}\n",
      "{'type': ['country'], 'code': ['AO'], 'desc': ['Angola']}\n",
      "{'type': ['country'], 'code': ['CO'], 'desc': ['Colombia']}\n",
      "{'type': ['country'], 'code': ['AL'], 'desc': ['Albania']}\n",
      "{'type': ['country'], 'code': ['BS'], 'desc': ['Bahamas']}\n",
      "{'type': ['country'], 'code': ['CD'], 'desc': ['Democratic Republic of the Congo']}\n",
      "{'type': ['country'], 'code': ['PE'], 'desc': ['Peru']}\n",
      "{'type': ['country'], 'code': ['CR'], 'desc': ['Costa Rica']}\n",
      "{'type': ['country'], 'code': ['GT'], 'desc': ['Guatemala']}\n",
      "{'type': ['country'], 'code': ['SZ'], 'desc': ['Swaziland']}\n",
      "{'type': ['country'], 'code': ['LT'], 'desc': ['Lithuania']}\n",
      "{'type': ['country'], 'code': ['LA'], 'desc': ['Lao PDR']}\n",
      "{'type': ['country'], 'code': ['AU'], 'desc': ['Australia']}\n",
      "{'type': ['country'], 'code': ['HT'], 'desc': ['Haiti']}\n",
      "{'type': ['country'], 'code': ['CK'], 'desc': ['Cook Islands']}\n",
      "{'type': ['country'], 'code': ['SE'], 'desc': ['Sweden']}\n",
      "{'type': ['country'], 'code': ['PR'], 'desc': ['Puerto Rico']}\n",
      "{'type': ['country'], 'code': ['BZ'], 'desc': ['Belize']}\n",
      "{'type': ['country'], 'code': ['TH'], 'desc': ['Thailand']}\n",
      "{'type': ['country'], 'code': ['MF'], 'desc': ['Saint-Martin (France)']}\n",
      "{'type': ['country'], 'code': ['AR'], 'desc': ['Argentina']}\n",
      "{'type': ['country'], 'code': ['SS'], 'desc': ['South Sudan']}\n",
      "{'type': ['country'], 'code': ['FJ'], 'desc': ['Fiji']}\n",
      "{'type': ['country'], 'code': ['TC'], 'desc': ['Turks and Caicos Islands']}\n",
      "{'type': ['country'], 'code': ['JE'], 'desc': ['Jersey']}\n",
      "{'type': ['country'], 'code': ['IS'], 'desc': ['Iceland']}\n",
      "{'type': ['country'], 'code': ['VN'], 'desc': ['Viet Nam']}\n",
      "{'type': ['country'], 'code': ['MK'], 'desc': ['Macedonia']}\n",
      "{'type': ['country'], 'code': ['VU'], 'desc': ['Vanuatu']}\n",
      "{'type': ['country'], 'code': ['KI'], 'desc': ['Kiribati']}\n",
      "{'type': ['country'], 'code': ['WF'], 'desc': ['Wallis and Futuna Islands']}\n",
      "{'type': ['country'], 'code': ['KE'], 'desc': ['Kenya']}\n",
      "{'type': ['country'], 'code': ['SX'], 'desc': ['Sint Martin']}\n",
      "{'type': ['country'], 'code': ['PG'], 'desc': ['Papua New Guinea']}\n",
      "{'type': ['country'], 'code': ['LU'], 'desc': ['Luxembourg']}\n",
      "{'type': ['continent'], 'code': ['AS'], 'desc': ['Asia']}\n",
      "{'type': ['country'], 'code': ['HU'], 'desc': ['Hungary']}\n",
      "{'type': ['country'], 'code': ['AZ'], 'desc': ['Azerbajan']}\n",
      "{'type': ['country'], 'code': ['LB'], 'desc': ['Lebanon']}\n",
      "{'type': ['country'], 'code': ['VG'], 'desc': ['British Virgin Islands']}\n",
      "{'type': ['country'], 'code': ['MW'], 'desc': ['Malawi']}\n",
      "{'type': ['country'], 'code': ['LR'], 'desc': ['Liberia']}\n",
      "{'type': ['continent'], 'code': ['AF'], 'desc': ['Africa']}\n",
      "{'type': ['country'], 'code': ['UZ'], 'desc': ['Uzbekistan']}\n",
      "{'type': ['country'], 'code': ['MZ'], 'desc': ['Mozambique']}\n",
      "{'type': ['country'], 'code': ['CY'], 'desc': ['Cyprus']}\n",
      "{'type': ['country'], 'code': ['HR'], 'desc': ['Croatia']}\n",
      "{'type': ['continent'], 'code': ['EU'], 'desc': ['Europe']}\n",
      "{'type': ['continent'], 'code': ['OC'], 'desc': ['Oceania']}\n",
      "{'type': ['country'], 'code': ['SL'], 'desc': ['Sierra Leone']}\n",
      "{'type': ['country'], 'code': ['SB'], 'desc': ['Solomon Islands']}\n",
      "{'type': ['country'], 'code': ['SY'], 'desc': ['Syrian Arab Republic']}\n",
      "{'type': ['country'], 'code': ['TM'], 'desc': ['Turkmenistan']}\n",
      "{'type': ['country'], 'code': ['MP'], 'desc': ['Northern Mariana Islands']}\n",
      "{'type': ['country'], 'code': ['TN'], 'desc': ['Tunisia']}\n",
      "{'type': ['country'], 'code': ['QA'], 'desc': ['Qatar']}\n",
      "{'type': ['country'], 'code': ['ST'], 'desc': ['Sao Tome and Principe']}\n",
      "{'type': ['country'], 'code': ['GR'], 'desc': ['Greece']}\n",
      "{'type': ['country'], 'code': ['BY'], 'desc': ['Belarus']}\n",
      "{'type': ['country'], 'code': ['BG'], 'desc': ['Bulgaria']}\n",
      "{'type': ['country'], 'code': ['GE'], 'desc': ['Georgia']}\n",
      "{'type': ['country'], 'code': ['CX'], 'desc': ['Christmas Island']}\n",
      "{'type': ['country'], 'code': ['PW'], 'desc': ['Palau']}\n",
      "{'type': ['country'], 'code': ['SG'], 'desc': ['Singapore']}\n",
      "{'type': ['country'], 'code': ['MS'], 'desc': ['Montserrat']}\n",
      "{'type': ['country'], 'code': ['UG'], 'desc': ['Uganda']}\n",
      "{'type': ['country'], 'code': ['SV'], 'desc': ['El Salvador']}\n",
      "{'type': ['country'], 'code': ['ME'], 'desc': ['Montenegro']}\n",
      "{'type': ['country'], 'code': ['TG'], 'desc': ['Togo']}\n",
      "{'type': ['country'], 'code': ['BN'], 'desc': ['Brunei']}\n",
      "{'type': ['country'], 'code': ['DM'], 'desc': ['Dominica']}\n",
      "{'type': ['country'], 'code': ['LV'], 'desc': ['Latvia']}\n",
      "{'type': ['country'], 'code': ['GG'], 'desc': ['Guernsey']}\n",
      "{'type': ['country'], 'code': ['ZW'], 'desc': ['Zimbabwe']}\n",
      "{'type': ['country'], 'code': ['RU'], 'desc': ['Russian Federation']}\n",
      "{'type': ['country'], 'code': ['SK'], 'desc': ['Slovakia']}\n",
      "{'type': ['continent'], 'code': ['NA'], 'desc': ['North America']}\n",
      "{'type': ['country'], 'code': ['GN'], 'desc': ['Guinea']}\n",
      "{'type': ['country'], 'code': ['NO'], 'desc': ['Norway']}\n",
      "{'type': ['country'], 'code': ['UK'], 'desc': ['United Kingdom']}\n",
      "{'type': ['country'], 'code': ['MR'], 'desc': ['Mauritania']}\n",
      "{'type': ['country'], 'code': ['BB'], 'desc': ['Barbados']}\n",
      "{'type': ['country'], 'code': ['IT'], 'desc': ['Italy']}\n",
      "{'type': ['country'], 'code': ['JO'], 'desc': ['Jordan']}\n",
      "{'type': ['country'], 'code': ['TW'], 'desc': ['Taiwan']}\n",
      "{'type': ['country'], 'code': ['BD'], 'desc': ['Bangladesh']}\n",
      "{'type': ['country'], 'code': ['VC'], 'desc': ['Saint Vincent and Grenadines']}\n",
      "{'type': ['country'], 'code': ['MA'], 'desc': ['Morocco']}\n",
      "{'type': ['country'], 'code': ['EH'], 'desc': ['Western Sahara']}\n",
      "{'type': ['country'], 'code': ['BL'], 'desc': ['Saint-Barthelemy']}\n",
      "{'type': ['country'], 'code': ['ET'], 'desc': ['Ethiopia']}\n",
      "{'type': ['country'], 'code': ['BF'], 'desc': ['Burkina Faso']}\n",
      "{'type': ['country'], 'code': ['BO'], 'desc': ['Bolivia']}\n",
      "{'type': ['country'], 'code': ['MD'], 'desc': ['Moldova']}\n",
      "{'type': ['country'], 'code': ['KS'], 'desc': ['Kosovo']}\n",
      "{'type': ['country'], 'code': ['CZ'], 'desc': ['Czech Republic']}\n",
      "{'type': ['country'], 'code': ['MH'], 'desc': ['Marshall Islands']}\n",
      "{'type': ['country'], 'code': ['KG'], 'desc': ['Kyrgyzstan']}\n",
      "{'type': ['country'], 'code': ['ML'], 'desc': ['Mali']}\n",
      "{'type': ['continent'], 'code': ['AN'], 'desc': ['Antarctica']}\n",
      "{'type': ['country'], 'code': ['BJ'], 'desc': ['Benin']}\n",
      "{'type': ['country'], 'code': ['GH'], 'desc': ['Ghana']}\n",
      "{'type': ['country'], 'code': ['SO'], 'desc': ['Somalia']}\n",
      "{'type': ['country'], 'code': ['DZ'], 'desc': ['Algeria']}\n",
      "{'type': ['country'], 'code': ['MT'], 'desc': ['Malta']}\n",
      "{'type': ['country'], 'code': ['IM'], 'desc': ['Isle of Man']}\n",
      "{'type': ['country'], 'code': ['AW'], 'desc': ['Aruba']}\n",
      "{'type': ['country'], 'code': ['PF'], 'desc': ['French Polynesia']}\n",
      "{'type': ['country'], 'code': ['YT'], 'desc': ['Mayotte']}\n",
      "{'type': ['country'], 'code': ['HK'], 'desc': ['Hong Kong']}\n",
      "{'type': ['country'], 'code': ['CU'], 'desc': ['Cuba']}\n",
      "{'type': ['country'], 'code': ['VE'], 'desc': ['Venezuela']}\n",
      "{'type': ['country'], 'code': ['CN'], 'desc': ['China']}\n",
      "{'type': ['country'], 'code': ['PA'], 'desc': ['Panama']}\n",
      "{'type': ['country'], 'code': ['GU'], 'desc': ['Guam']}\n",
      "{'type': ['country'], 'code': ['FK'], 'desc': ['Falkland Islands']}\n",
      "{'type': ['country'], 'code': ['LC'], 'desc': ['Saint Lucia']}\n",
      "{'type': ['country'], 'code': ['MO'], 'desc': ['Macau']}\n",
      "{'type': ['country'], 'code': ['RS'], 'desc': ['Serbia']}\n",
      "{'type': ['country'], 'code': ['TO'], 'desc': ['Tonga']}\n",
      "{'type': ['country'], 'code': ['MM'], 'desc': ['Myanmar']}\n",
      "{'type': ['country'], 'code': ['TT'], 'desc': ['Trinidad and Tobago']}\n",
      "{'type': ['country'], 'code': ['GF'], 'desc': ['French Guiana']}\n",
      "{'type': ['country'], 'code': ['ZA'], 'desc': ['South Africa']}\n",
      "{'type': ['country'], 'code': ['UA'], 'desc': ['Ukraine']}\n",
      "{'type': ['country'], 'code': ['IN'], 'desc': ['India']}\n",
      "{'type': ['country'], 'code': ['CC'], 'desc': ['Cocos (Keeling) Islands']}\n",
      "{'type': ['country'], 'code': ['GY'], 'desc': ['Guyana']}\n",
      "{'type': ['country'], 'code': ['RE'], 'desc': ['Reunion']}\n",
      "{'type': ['country'], 'code': ['JM'], 'desc': ['Jamaica']}\n",
      "{'type': ['country'], 'code': ['BM'], 'desc': ['Bermuda']}\n",
      "{'type': ['country'], 'code': ['SN'], 'desc': ['Senegal']}\n",
      "{'type': ['country'], 'code': ['CM'], 'desc': ['Cameroon']}\n",
      "{'type': ['country'], 'code': ['MV'], 'desc': ['Maldives']}\n",
      "{'type': ['country'], 'code': ['BE'], 'desc': ['Belgium']}\n",
      "{'type': ['country'], 'code': ['EC'], 'desc': ['Ecuador']}\n",
      "{'type': ['country'], 'code': ['FI'], 'desc': ['Finland']}\n",
      "{'type': ['country'], 'code': ['DE'], 'desc': ['Germany']}\n",
      "{'type': ['country'], 'code': ['GI'], 'desc': ['Gibraltar']}\n",
      "{'type': ['country'], 'code': ['CF'], 'desc': ['Central African Republic']}\n",
      "{'type': ['country'], 'code': ['JP'], 'desc': ['Japan']}\n",
      "{'type': ['country'], 'code': ['LS'], 'desc': ['Lesotho']}\n",
      "{'type': ['country'], 'code': ['AI'], 'desc': ['Anguilla']}\n",
      "{'type': ['country'], 'code': ['CA'], 'desc': ['Canada']}\n",
      "{'type': ['country'], 'code': ['NZ'], 'desc': ['New Zealand']}\n",
      "{'type': ['country'], 'code': ['ID'], 'desc': ['Indonesia']}\n",
      "{'type': ['country'], 'code': ['MU'], 'desc': ['Mauritius']}\n",
      "{'type': ['country'], 'code': ['TL'], 'desc': ['Timor-Leste']}\n",
      "{'type': ['country'], 'code': ['SH'], 'desc': ['Saint Helena']}\n",
      "{'type': ['country'], 'code': ['AD'], 'desc': ['Andorra']}\n",
      "{'type': ['country'], 'code': ['EG'], 'desc': ['Egypt']}\n",
      "{'type': ['country'], 'code': ['FM'], 'desc': ['Federated States of Micronesia']}\n",
      "{'type': ['country'], 'code': ['MX'], 'desc': ['Mexico']}\n",
      "{'type': ['country'], 'code': ['IR'], 'desc': ['Iran']}\n",
      "{'type': ['country'], 'code': ['PN'], 'desc': ['Pitcairn']}\n",
      "{'type': ['country'], 'code': ['AF'], 'desc': ['Afghanistan']}\n",
      "{'type': ['country'], 'code': ['MN'], 'desc': ['Mongolia']}\n",
      "{'type': ['country'], 'code': ['KZ'], 'desc': ['Kazakhstan']}\n",
      "{'type': ['country'], 'code': ['AS'], 'desc': ['American Samoa']}\n",
      "{'type': ['country'], 'code': ['BH'], 'desc': ['Bahrain']}\n",
      "{'type': ['country'], 'code': ['CI'], 'desc': [\"Côte d'Ivoire\"]}\n",
      "{'type': ['country'], 'code': ['UY'], 'desc': ['Uruguay']}\n",
      "{'type': ['country'], 'code': ['TZ'], 'desc': ['Tanzania']}\n",
      "{'type': ['country'], 'code': ['CW'], 'desc': ['Curacao']}\n",
      "{'type': ['country'], 'code': ['PM'], 'desc': ['Saint Pierre and Miquelon']}\n",
      "{'type': ['country'], 'code': ['SI'], 'desc': ['Slovenia']}\n",
      "{'type': ['country'], 'code': ['AE'], 'desc': ['United Arab Emirates']}\n",
      "{'type': ['country'], 'code': ['SD'], 'desc': ['Sudan']}\n",
      "{'type': ['country'], 'code': ['OM'], 'desc': ['Oman']}\n",
      "{'type': ['country'], 'code': ['LY'], 'desc': ['Libya']}\n",
      "{'type': ['country'], 'code': ['US'], 'desc': ['United States']}\n",
      "{'type': ['country'], 'code': ['GA'], 'desc': ['Gabon']}\n",
      "{'type': ['country'], 'code': ['RW'], 'desc': ['Rwanda']}\n",
      "{'type': ['country'], 'code': ['NL'], 'desc': ['Netherlands']}\n",
      "{'type': ['country'], 'code': ['FO'], 'desc': ['Faroe Islands']}\n",
      "{'type': ['country'], 'code': ['KY'], 'desc': ['Cayman Islands']}\n",
      "{'type': ['country'], 'code': ['BA'], 'desc': ['Bosnia and Herzegovina']}\n",
      "{'type': ['country'], 'code': ['MC'], 'desc': ['Monaco']}\n",
      "{'type': ['country'], 'code': ['GQ'], 'desc': ['Equatorial Guinea']}\n",
      "{'type': ['country'], 'code': ['BW'], 'desc': ['Botswana']}\n",
      "{'type': ['country'], 'code': ['IL'], 'desc': ['Israel']}\n",
      "{'type': ['country'], 'code': ['SM'], 'desc': ['San Marino']}\n",
      "{'type': ['country'], 'code': ['NR'], 'desc': ['Nauru']}\n",
      "{'type': ['country'], 'code': ['KH'], 'desc': ['Cambodia']}\n",
      "{'type': ['country'], 'code': ['BT'], 'desc': ['Bhutan']}\n",
      "{'type': ['country'], 'code': ['DO'], 'desc': ['Dominican Republic']}\n",
      "{'type': ['country'], 'code': ['SC'], 'desc': ['Seychelles']}\n",
      "{'type': ['country'], 'code': ['DK'], 'desc': ['Denmark']}\n",
      "{'type': ['country'], 'code': ['TV'], 'desc': ['Tuvalu']}\n",
      "{'type': ['country'], 'code': ['NA'], 'desc': ['Namibia']}\n",
      "{'type': ['country'], 'code': ['GW'], 'desc': ['Guinea-Bissau']}\n",
      "{'type': ['continent'], 'code': ['SA'], 'desc': ['South America']}\n",
      "{'type': ['country'], 'code': ['NE'], 'desc': ['Niger']}\n",
      "{'type': ['country'], 'code': ['DJ'], 'desc': ['Djibouti']}\n",
      "{'type': ['country'], 'code': ['MQ'], 'desc': ['Martinique']}\n",
      "{'type': ['country'], 'code': ['NP'], 'desc': ['Nepal']}\n",
      "{'type': ['country'], 'code': ['PH'], 'desc': ['Philippines']}\n",
      "{'type': ['country'], 'code': ['GM'], 'desc': ['Gambia']}\n",
      "{'type': ['country'], 'code': ['BQ'], 'desc': ['Bonaire - Sint Eustatius and Saba']}\n",
      "{'type': ['country'], 'code': ['AG'], 'desc': ['Antigua and Barbuda']}\n",
      "{'type': ['country'], 'code': ['PL'], 'desc': ['Poland']}\n",
      "{'type': ['country'], 'code': ['ER'], 'desc': ['Eritrea']}\n",
      "{'type': ['country'], 'code': ['AT'], 'desc': ['Austria']}\n",
      "{'type': ['country'], 'code': ['FR'], 'desc': ['France']}\n",
      "{'type': ['country'], 'code': ['MY'], 'desc': ['Malaysia']}\n",
      "{'type': ['country'], 'code': ['TR'], 'desc': ['Turkey']}\n",
      "{'type': ['country'], 'code': ['GD'], 'desc': ['Grenada']}\n",
      "{'type': ['country'], 'code': ['GL'], 'desc': ['Greenland']}\n",
      "{'type': ['country'], 'code': ['NC'], 'desc': ['New Caledonia']}\n",
      "{'type': ['country'], 'code': ['GP'], 'desc': ['Guadeloupe']}\n",
      "{'type': ['country'], 'code': ['WS'], 'desc': ['Samoa']}\n",
      "{'type': ['country'], 'code': ['CL'], 'desc': ['Chile']}\n",
      "{'type': ['country'], 'code': ['SR'], 'desc': ['Suriname']}\n",
      "{'type': ['country'], 'code': ['TJ'], 'desc': ['Tajikistan']}\n",
      "{'type': ['country'], 'code': ['IE'], 'desc': ['Ireland']}\n"
     ]
    }
   ],
   "source": [
    "results = g.V().hasNot('region').valueMap()\n",
    "count = g.V().hasNot('region').count().next()\n",
    "for c in range(count):\n",
    "  print(results.next())"
   ]
  },
  {
   "cell_type": "markdown",
   "metadata": {},
   "source": [
    "Equivalent to"
   ]
  },
  {
   "cell_type": "code",
   "execution_count": 13,
   "metadata": {},
   "outputs": [],
   "source": [
    "same_count = g.V().not_(__.has('region')).count().next()\n",
    "assert same_count == count"
   ]
  },
  {
   "cell_type": "markdown",
   "metadata": {},
   "source": [
    "__Values in vertices are stored as arrays__"
   ]
  },
  {
   "cell_type": "code",
   "execution_count": 14,
   "metadata": {},
   "outputs": [
    {
     "data": {
      "text/plain": [
       "'Hong Kong'"
      ]
     },
     "execution_count": 14,
     "metadata": {},
     "output_type": "execute_result"
    }
   ],
   "source": [
    "hkVertex = g.V(hkVertexId).valueMap().next()\n",
    "hkVertex['city'][0]"
   ]
  },
  {
   "cell_type": "markdown",
   "metadata": {},
   "source": [
    "__Just get the next 3 vertices from query__"
   ]
  },
  {
   "cell_type": "code",
   "execution_count": 15,
   "metadata": {},
   "outputs": [
    {
     "data": {
      "text/plain": [
       "[v[1671288], v[147672], v[1122344]]"
      ]
     },
     "execution_count": 15,
     "metadata": {},
     "output_type": "execute_result"
    }
   ],
   "source": [
    "g.V().hasLabel('airport').next(3)"
   ]
  },
  {
   "cell_type": "markdown",
   "metadata": {},
   "source": [
    "__Pass a list of IDs into the V step__"
   ]
  },
  {
   "cell_type": "code",
   "execution_count": 16,
   "metadata": {},
   "outputs": [
    {
     "data": {
      "text/plain": [
       "['Sydney Kingsford Smith', 'Hong Kong - Chek Lap Kok International Airport']"
      ]
     },
     "execution_count": 16,
     "metadata": {},
     "output_type": "execute_result"
    }
   ],
   "source": [
    "my_list = [sydneyVertexId, hkVertexId]\n",
    "g.V(my_list).values('desc').fold().next()"
   ]
  }
 ],
 "metadata": {
  "kernelspec": {
   "display_name": "Python 3",
   "language": "python",
   "name": "python3"
  },
  "language_info": {
   "codemirror_mode": {
    "name": "ipython",
    "version": 3
   },
   "file_extension": ".py",
   "mimetype": "text/x-python",
   "name": "python",
   "nbconvert_exporter": "python",
   "pygments_lexer": "ipython3",
   "version": "3.6.5"
  }
 },
 "nbformat": 4,
 "nbformat_minor": 2
}
